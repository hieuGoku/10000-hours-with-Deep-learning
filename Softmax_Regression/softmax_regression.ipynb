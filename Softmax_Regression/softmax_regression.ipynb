{
 "cells": [
  {
   "attachments": {},
   "cell_type": "markdown",
   "id": "7b8ab52d-e7cf-4cb5-9b8f-b3af75c76a5a",
   "metadata": {
    "id": "7b8ab52d-e7cf-4cb5-9b8f-b3af75c76a5a"
   },
   "source": [
    "### I. Not onehot encoding"
   ]
  },
  {
   "cell_type": "code",
   "execution_count": 1,
   "id": "26b36887-d26b-4fa5-9090-e3e44ab6e66d",
   "metadata": {
    "id": "26b36887-d26b-4fa5-9090-e3e44ab6e66d"
   },
   "outputs": [],
   "source": [
    "import numpy as np\n",
    "import matplotlib.pyplot as plt"
   ]
  },
  {
   "cell_type": "code",
   "execution_count": 2,
   "id": "02c89985-2e0f-4083-9783-537c098ee490",
   "metadata": {
    "id": "02c89985-2e0f-4083-9783-537c098ee490"
   },
   "outputs": [],
   "source": [
    "data = np.genfromtxt(\"D:\\\\CC\\\\Basic\\\\Softmax\\\\iris_full.csv\", delimiter=\",\", skip_header=True)"
   ]
  },
  {
   "cell_type": "code",
   "execution_count": 3,
   "id": "fb5d5190-67d1-4391-897d-443c1d6b2146",
   "metadata": {
    "id": "fb5d5190-67d1-4391-897d-443c1d6b2146"
   },
   "outputs": [],
   "source": [
    "x = data[:, :-1]\n",
    "y = data[:, -1].astype(int)"
   ]
  },
  {
   "cell_type": "code",
   "execution_count": 9,
   "id": "48137292",
   "metadata": {},
   "outputs": [
    {
     "data": {
      "text/plain": [
       "array([0, 0, 0, 0, 0, 0, 0, 0, 0, 0, 0, 0, 0, 0, 0, 0, 0, 0, 0, 0, 0, 0,\n",
       "       0, 0, 0, 0, 0, 0, 0, 0, 0, 0, 0, 0, 0, 0, 0, 0, 0, 0, 0, 0, 0, 0,\n",
       "       0, 0, 0, 0, 0, 0, 1, 1, 1, 1, 1, 1, 1, 1, 1, 1, 1, 1, 1, 1, 1, 1,\n",
       "       1, 1, 1, 1, 1, 1, 1, 1, 1, 1, 1, 1, 1, 1, 1, 1, 1, 1, 1, 1, 1, 1,\n",
       "       1, 1, 1, 1, 1, 1, 1, 1, 1, 1, 1, 1, 2, 2, 2, 2, 2, 2, 2, 2, 2, 2,\n",
       "       2, 2, 2, 2, 2, 2, 2, 2, 2, 2, 2, 2, 2, 2, 2, 2, 2, 2, 2, 2, 2, 2,\n",
       "       2, 2, 2, 2, 2, 2, 2, 2, 2, 2, 2, 2, 2, 2, 2, 2, 2, 2])"
      ]
     },
     "execution_count": 9,
     "metadata": {},
     "output_type": "execute_result"
    }
   ],
   "source": [
    "y"
   ]
  },
  {
   "cell_type": "code",
   "execution_count": 4,
   "id": "38d96928-d9f3-484c-9321-5eba0a782321",
   "metadata": {
    "id": "38d96928-d9f3-484c-9321-5eba0a782321"
   },
   "outputs": [],
   "source": [
    "n_sample, n_feature = x.shape"
   ]
  },
  {
   "cell_type": "code",
   "execution_count": 5,
   "id": "e840d554-bc72-411d-bbd2-94a4764f5d55",
   "metadata": {
    "id": "e840d554-bc72-411d-bbd2-94a4764f5d55"
   },
   "outputs": [],
   "source": [
    "def add_cot_1(x):\n",
    "    return np.concatenate((x, np.ones((x.shape[0], 1))), axis=1)"
   ]
  },
  {
   "cell_type": "code",
   "execution_count": 6,
   "id": "20e8d49f-0754-49f1-b904-1c63cdf2ced6",
   "metadata": {
    "id": "20e8d49f-0754-49f1-b904-1c63cdf2ced6"
   },
   "outputs": [],
   "source": [
    "x = add_cot_1(x)"
   ]
  },
  {
   "cell_type": "code",
   "execution_count": 10,
   "id": "96416cb5-7c2e-484f-8d6f-7e9a8ece4b88",
   "metadata": {
    "id": "96416cb5-7c2e-484f-8d6f-7e9a8ece4b88"
   },
   "outputs": [],
   "source": [
    "# params\n",
    "w = np.random.rand(n_feature + 1, len(set(y)))\n",
    "n_iter = 1000\n",
    "lr = 0.01\n",
    "bs = n_sample\n",
    "losses = []"
   ]
  },
  {
   "cell_type": "code",
   "execution_count": null,
   "id": "9e232eaa-f1e8-420b-82b1-86861e3ad83b",
   "metadata": {
    "id": "9e232eaa-f1e8-420b-82b1-86861e3ad83b"
   },
   "outputs": [],
   "source": [
    "# find w\n",
    "for _ in range(1):\n",
    "    for i in range(0, n_sample, bs):\n",
    "        \n",
    "        # pick sample\n",
    "        xi = x[i:i+bs, :]\n",
    "        yi = y[i:i+bs]\n",
    "        \n",
    "        # Forward\n",
    "        z = xi @ w\n",
    "        exp_z = np.exp(z)\n",
    "        yp = (exp_z/np.sum(exp_z, axis=1, keepdims=True))\n",
    "        \n",
    "        # Get loss\n",
    "        loss = (-np.log(yp[range(len(yi)), yi])).mean()\n",
    "        losses.append(loss)\n",
    "        \n",
    "        # Backward \n",
    "        dz = yp.copy()\n",
    "        dz[range(len(yi)), yi] -= 1\n",
    "        dw = (xi.T @ dz)/bs\n",
    "\n",
    "        # Update w\n",
    "        w -= lr*dw"
   ]
  },
  {
   "cell_type": "code",
   "execution_count": 9,
   "id": "0c2af46c-cb39-42d4-869d-dd0f9595218c",
   "metadata": {
    "id": "0c2af46c-cb39-42d4-869d-dd0f9595218c",
    "outputId": "250064bc-6b9c-4e48-8f4a-9e8ea2876f9b"
   },
   "outputs": [
    {
     "data": {
      "text/plain": [
       "[<matplotlib.lines.Line2D at 0x24557490130>]"
      ]
     },
     "execution_count": 9,
     "metadata": {},
     "output_type": "execute_result"
    },
    {
     "data": {
      "image/png": "[encoded data removed]",
      "text/plain": [
       "<Figure size 432x288 with 1 Axes>"
      ]
     },
     "metadata": {
      "needs_background": "light"
     },
     "output_type": "display_data"
    }
   ],
   "source": [
    "plt.plot(losses)"
   ]
  },
  {
   "cell_type": "code",
   "execution_count": 11,
   "id": "37209bcb-cbdb-469a-8933-8ca896026005",
   "metadata": {
    "id": "37209bcb-cbdb-469a-8933-8ca896026005"
   },
   "outputs": [],
   "source": [
    "# test\n",
    "z = x @ w\n",
    "exp_z = np.exp(z)\n",
    "yp = (exp_z/np.sum(exp_z, axis=1, keepdims=True))"
   ]
  },
  {
   "cell_type": "code",
   "execution_count": 12,
   "id": "f8f5d87e-749d-481a-a30b-f56655d01a83",
   "metadata": {
    "id": "f8f5d87e-749d-481a-a30b-f56655d01a83",
    "outputId": "e3a5bfca-d7ba-4166-ba2a-fcadc6c1dbca"
   },
   "outputs": [
    {
     "data": {
      "text/plain": [
       "0.9733333333333334"
      ]
     },
     "execution_count": 12,
     "metadata": {},
     "output_type": "execute_result"
    }
   ],
   "source": [
    "#accuracy\n",
    "(yp.argmax(axis=1) == y).mean() "
   ]
  },
  {
   "cell_type": "code",
   "execution_count": null,
   "id": "5fbac237-edad-48d4-8f1e-abd6f236b467",
   "metadata": {
    "id": "5fbac237-edad-48d4-8f1e-abd6f236b467"
   },
   "outputs": [],
   "source": []
  },
  {
   "cell_type": "markdown",
   "id": "8c2ba022-a589-41f3-bcc6-ff7f34fb37ee",
   "metadata": {
    "id": "8c2ba022-a589-41f3-bcc6-ff7f34fb37ee"
   },
   "source": [
    "### II. Onehot encoding"
   ]
  },
  {
   "cell_type": "code",
   "execution_count": 13,
   "id": "190b1b12-2f34-4c99-9a20-0498461fc166",
   "metadata": {
    "id": "190b1b12-2f34-4c99-9a20-0498461fc166"
   },
   "outputs": [],
   "source": [
    "import numpy as np\n",
    "import matplotlib.pyplot as plt"
   ]
  },
  {
   "cell_type": "code",
   "execution_count": 13,
   "id": "b7372e0c-f9ca-48fd-b442-585bf279b847",
   "metadata": {
    "id": "b7372e0c-f9ca-48fd-b442-585bf279b847"
   },
   "outputs": [],
   "source": [
    "data = np.genfromtxt(\"iris_full.csv\", delimiter=\",\", skip_header=True)"
   ]
  },
  {
   "cell_type": "code",
   "execution_count": 14,
   "id": "fa539115-598f-4a8b-a230-2f131d7b307b",
   "metadata": {
    "id": "fa539115-598f-4a8b-a230-2f131d7b307b"
   },
   "outputs": [],
   "source": [
    "x = data[:, :-1]\n",
    "y = data[:, -1].astype(int)"
   ]
  },
  {
   "cell_type": "code",
   "execution_count": 15,
   "id": "a1f00680-9211-4d57-aca3-0eee85264dcc",
   "metadata": {
    "id": "a1f00680-9211-4d57-aca3-0eee85264dcc"
   },
   "outputs": [],
   "source": [
    "n_sample, n_feature = x.shape"
   ]
  },
  {
   "cell_type": "code",
   "execution_count": 16,
   "id": "49e69e67-57d4-4fa7-a112-2303a44447ad",
   "metadata": {
    "id": "49e69e67-57d4-4fa7-a112-2303a44447ad"
   },
   "outputs": [],
   "source": [
    "n_output = len(set(y))"
   ]
  },
  {
   "cell_type": "code",
   "execution_count": 17,
   "id": "5250811d-7378-435d-971a-2589bda997f2",
   "metadata": {
    "id": "5250811d-7378-435d-971a-2589bda997f2"
   },
   "outputs": [],
   "source": [
    "def one_hot(y):\n",
    "    y_onehot = np.zeros(shape = (len(y), len(set(y))), dtype=np.uint8)\n",
    "    y_onehot[range(len(y)), y] = 1\n",
    "    return y_onehot"
   ]
  },
  {
   "cell_type": "code",
   "execution_count": 18,
   "id": "e603eae4-5f97-4c94-91b5-34a7cd3ce363",
   "metadata": {
    "id": "e603eae4-5f97-4c94-91b5-34a7cd3ce363"
   },
   "outputs": [],
   "source": [
    "y = one_hot(y)"
   ]
  },
  {
   "cell_type": "code",
   "execution_count": 19,
   "id": "4023b04f-1a78-4aec-b589-2c339fca66a1",
   "metadata": {
    "id": "4023b04f-1a78-4aec-b589-2c339fca66a1"
   },
   "outputs": [],
   "source": [
    "def add_cot_1(x):\n",
    "    return np.concatenate((x, np.ones((x.shape[0], 1))), axis=1)"
   ]
  },
  {
   "cell_type": "code",
   "execution_count": 20,
   "id": "d907d806-12d4-476c-9352-3669731f5296",
   "metadata": {
    "id": "d907d806-12d4-476c-9352-3669731f5296"
   },
   "outputs": [],
   "source": [
    "x = add_cot_1(x)"
   ]
  },
  {
   "cell_type": "code",
   "execution_count": 25,
   "id": "e2cfa0f6",
   "metadata": {},
   "outputs": [
    {
     "data": {
      "text/plain": [
       "((150, 5), (150, 3))"
      ]
     },
     "execution_count": 25,
     "metadata": {},
     "output_type": "execute_result"
    }
   ],
   "source": [
    "x.shape, y.shape"
   ]
  },
  {
   "cell_type": "code",
   "execution_count": 21,
   "id": "a4678229-79ee-4cbb-b237-33b831e8a4cd",
   "metadata": {
    "id": "a4678229-79ee-4cbb-b237-33b831e8a4cd"
   },
   "outputs": [],
   "source": [
    "# params\n",
    "w = np.random.rand(n_feature + 1, n_output)\n",
    "n_iter = 1000\n",
    "lr = 0.01\n",
    "bs = 50\n",
    "losses = []"
   ]
  },
  {
   "cell_type": "code",
   "execution_count": 24,
   "id": "9ccdc0bd",
   "metadata": {},
   "outputs": [
    {
     "data": {
      "text/plain": [
       "(5, 3)"
      ]
     },
     "execution_count": 24,
     "metadata": {},
     "output_type": "execute_result"
    }
   ],
   "source": [
    "w.shape"
   ]
  },
  {
   "cell_type": "code",
   "execution_count": null,
   "id": "5d1fb661-b9e5-4750-b1d9-f9f5f94140c8",
   "metadata": {
    "id": "5d1fb661-b9e5-4750-b1d9-f9f5f94140c8"
   },
   "outputs": [],
   "source": [
    "# Tìm w\n",
    "for _ in range(1):\n",
    "    for i in range(0, n_sample, n_sample):\n",
    "        \n",
    "        # pick sample\n",
    "        xi = x[i:i+bs, :]\n",
    "        yi = y[i:i+bs, :]\n",
    "        \n",
    "        # Forward\n",
    "        z = xi @ w\n",
    "        exp_z = np.exp(z)\n",
    "        yp = (exp_z/np.sum(exp_z, axis=1, keepdims=True)) # 150x3\n",
    "\n",
    "        # Get loss\n",
    "        loss = (-np.sum(yi*np.log(yp))).mean()\n",
    "        losses.append(loss)\n",
    "\n",
    "        # Backward (tính đạo hàm)\n",
    "        dw = (xi.T @ (yp - yi))/bs\n",
    "\n",
    "        # Update w\n",
    "        w -= lr*dw"
   ]
  },
  {
   "cell_type": "code",
   "execution_count": 24,
   "id": "7a07fcb6-d91d-4a6f-b922-a40b262caf9b",
   "metadata": {
    "id": "7a07fcb6-d91d-4a6f-b922-a40b262caf9b",
    "outputId": "b011d5a2-a357-4292-ffff-63a208f1e31c"
   },
   "outputs": [
    {
     "data": {
      "text/plain": [
       "[<matplotlib.lines.Line2D at 0x2455759af40>]"
      ]
     },
     "execution_count": 24,
     "metadata": {},
     "output_type": "execute_result"
    },
    {
     "data": {
      "image/png": "[encoded data removed]",
      "text/plain": [
       "<Figure size 432x288 with 1 Axes>"
      ]
     },
     "metadata": {
      "needs_background": "light"
     },
     "output_type": "display_data"
    }
   ],
   "source": [
    "plt.plot(losses)"
   ]
  },
  {
   "cell_type": "code",
   "execution_count": 26,
   "id": "e94f2fa7-7f79-4baa-b5bf-de04d008b704",
   "metadata": {
    "id": "e94f2fa7-7f79-4baa-b5bf-de04d008b704"
   },
   "outputs": [],
   "source": [
    "# test\n",
    "z = x @ w\n",
    "exp_z = np.exp(z)\n",
    "yp = (exp_z/np.sum(exp_z, axis=1, keepdims=True))"
   ]
  },
  {
   "cell_type": "code",
   "execution_count": 27,
   "id": "bf06f1c0-b27f-4cb2-b57c-0ee8f67620f4",
   "metadata": {
    "id": "bf06f1c0-b27f-4cb2-b57c-0ee8f67620f4",
    "outputId": "b96f90df-e554-49d6-d074-29daf06a4b58"
   },
   "outputs": [
    {
     "data": {
      "text/plain": [
       "0.9733333333333334"
      ]
     },
     "execution_count": 27,
     "metadata": {},
     "output_type": "execute_result"
    }
   ],
   "source": [
    "#accuracy\n",
    "(yp.argmax(axis=1) == y.argmax(axis=1)).mean()"
   ]
  },
  {
   "cell_type": "code",
   "execution_count": null,
   "id": "b1b93901-cf17-4ce0-be83-a1041f8ce77e",
   "metadata": {
    "id": "b1b93901-cf17-4ce0-be83-a1041f8ce77e"
   },
   "outputs": [],
   "source": []
  }
 ],
 "metadata": {
  "colab": {
   "collapsed_sections": [],
   "name": "[CODE] Softmax.ipynb",
   "provenance": [],
   "toc_visible": true
  },
  "kernelspec": {
   "display_name": "Python 3",
   "language": "python",
   "name": "python3"
  },
  "language_info": {
   "codemirror_mode": {
    "name": "ipython",
    "version": 3
   },
   "file_extension": ".py",
   "mimetype": "text/x-python",
   "name": "python",
   "nbconvert_exporter": "python",
   "pygments_lexer": "ipython3",
   "version": "3.10.3"
  },
  "vscode": {
   "interpreter": {
    "hash": "34bf4f232a0bc14e62be942f1d9c52e9582dc34f446ffe6f098ef90dc3cd9607"
   }
  }
 },
 "nbformat": 4,
 "nbformat_minor": 5
}
