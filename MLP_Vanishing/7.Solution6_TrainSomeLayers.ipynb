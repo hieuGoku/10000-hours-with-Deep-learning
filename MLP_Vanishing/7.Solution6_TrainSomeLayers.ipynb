{
 "cells": [
  {
   "cell_type": "code",
   "execution_count": 1,
   "id": "e175eeac",
   "metadata": {
    "colab": {
     "base_uri": "https://localhost:8080/"
    },
    "executionInfo": {
     "elapsed": 3893,
     "status": "ok",
     "timestamp": 1640496041107,
     "user": {
      "displayName": "nguyen khoa",
      "photoUrl": "https://lh3.googleusercontent.com/a/default-user=s64",
      "userId": "18293071775377392514"
     },
     "user_tz": -420
    },
    "id": "e175eeac",
    "outputId": "741004f3-e80c-446f-e3ae-bfc4aecc2ede"
   },
   "outputs": [
    {
     "name": "stdout",
     "output_type": "stream",
     "text": [
      "Downloading data from https://storage.googleapis.com/tensorflow/tf-keras-datasets/train-labels-idx1-ubyte.gz\n",
      "32768/29515 [=================================] - 0s 0us/step\n",
      "40960/29515 [=========================================] - 0s 0us/step\n",
      "Downloading data from https://storage.googleapis.com/tensorflow/tf-keras-datasets/train-images-idx3-ubyte.gz\n",
      "26427392/26421880 [==============================] - 0s 0us/step\n",
      "26435584/26421880 [==============================] - 0s 0us/step\n",
      "Downloading data from https://storage.googleapis.com/tensorflow/tf-keras-datasets/t10k-labels-idx1-ubyte.gz\n",
      "16384/5148 [===============================================================================================] - 0s 0us/step\n",
      "Downloading data from https://storage.googleapis.com/tensorflow/tf-keras-datasets/t10k-images-idx3-ubyte.gz\n",
      "4423680/4422102 [==============================] - 0s 0us/step\n",
      "4431872/4422102 [==============================] - 0s 0us/step\n",
      "(60000, 28, 28)\n",
      "(60000,)\n",
      "(10000, 28, 28)\n",
      "(10000,)\n"
     ]
    }
   ],
   "source": [
    "# fashion_mnist\n",
    "import tensorflow as tf\n",
    "import tensorflow.keras as keras\n",
    "import numpy as np\n",
    "\n",
    "(X_train, y_train), (X_test, y_test) = keras.datasets.fashion_mnist.load_data()\n",
    "print(X_train.shape)\n",
    "print(y_train.shape)\n",
    "print(X_test.shape)\n",
    "print(y_test.shape)"
   ]
  },
  {
   "cell_type": "code",
   "execution_count": 1,
   "id": "f068e1ea",
   "metadata": {
    "executionInfo": {
     "elapsed": 37,
     "status": "ok",
     "timestamp": 1640496041108,
     "user": {
      "displayName": "nguyen khoa",
      "photoUrl": "https://lh3.googleusercontent.com/a/default-user=s64",
      "userId": "18293071775377392514"
     },
     "user_tz": -420
    },
    "id": "f068e1ea"
   },
   "outputs": [],
   "source": []
  },
  {
   "cell_type": "code",
   "execution_count": 2,
   "id": "8aabf29a",
   "metadata": {
    "colab": {
     "base_uri": "https://localhost:8080/"
    },
    "executionInfo": {
     "elapsed": 32,
     "status": "ok",
     "timestamp": 1640496041110,
     "user": {
      "displayName": "nguyen khoa",
      "photoUrl": "https://lh3.googleusercontent.com/a/default-user=s64",
      "userId": "18293071775377392514"
     },
     "user_tz": -420
    },
    "id": "8aabf29a",
    "outputId": "27f38d13-c775-4723-b716-9b118f6bee33"
   },
   "outputs": [
    {
     "name": "stdout",
     "output_type": "stream",
     "text": [
      "(60000, 784)\n",
      "(60000,)\n",
      "(10000, 784)\n",
      "(10000,)\n"
     ]
    }
   ],
   "source": [
    "X_train = X_train.reshape(60000, -1)\n",
    "X_test  = X_test.reshape(10000, -1)\n",
    "\n",
    "print(X_train.shape)\n",
    "print(y_train.shape)\n",
    "print(X_test.shape)\n",
    "print(y_test.shape)"
   ]
  },
  {
   "cell_type": "code",
   "execution_count": 2,
   "id": "c3167cdb",
   "metadata": {
    "executionInfo": {
     "elapsed": 23,
     "status": "ok",
     "timestamp": 1640496041113,
     "user": {
      "displayName": "nguyen khoa",
      "photoUrl": "https://lh3.googleusercontent.com/a/default-user=s64",
      "userId": "18293071775377392514"
     },
     "user_tz": -420
    },
    "id": "c3167cdb"
   },
   "outputs": [],
   "source": []
  },
  {
   "cell_type": "code",
   "execution_count": 3,
   "id": "c46b65da",
   "metadata": {
    "executionInfo": {
     "elapsed": 2582,
     "status": "ok",
     "timestamp": 1640496043675,
     "user": {
      "displayName": "nguyen khoa",
      "photoUrl": "https://lh3.googleusercontent.com/a/default-user=s64",
      "userId": "18293071775377392514"
     },
     "user_tz": -420
    },
    "id": "c46b65da"
   },
   "outputs": [],
   "source": [
    "# solution 6: Train some layers\n",
    "import tensorflow as tf\n",
    "import tensorflow.keras as keras\n",
    "\n",
    "# set seed\n",
    "tf.random.set_seed(1234)\n",
    "batch_size = 512\n",
    "initializer = tf.keras.initializers.RandomNormal()\n",
    "\n",
    "# create model\n",
    "first = keras.Sequential()\n",
    "first.add(keras.layers.Dense(128, activation='sigmoid',\n",
    "                             kernel_initializer=initializer))\n",
    "first.add(keras.layers.Dense(128, activation='sigmoid',\n",
    "                             kernel_initializer=initializer))\n",
    "\n",
    "second = keras.Sequential()\n",
    "second.add(keras.layers.Dense(128, activation='sigmoid',\n",
    "                              kernel_initializer=initializer))\n",
    "second.add(keras.layers.Dense(128, activation='sigmoid',\n",
    "                              kernel_initializer=initializer))\n",
    "\n",
    "third = keras.Sequential()\n",
    "third.add(keras.layers.Dense(128, activation='sigmoid',\n",
    "                             kernel_initializer=initializer))\n",
    "third.add(keras.layers.Dense(128, activation='sigmoid',\n",
    "                             kernel_initializer=initializer))\n",
    "\n",
    "fourth = keras.Sequential()\n",
    "fourth.add(keras.layers.Dense(128, activation='sigmoid',\n",
    "                             kernel_initializer=initializer))"
   ]
  },
  {
   "cell_type": "code",
   "execution_count": 3,
   "id": "4da831e7",
   "metadata": {
    "executionInfo": {
     "elapsed": 35,
     "status": "ok",
     "timestamp": 1640496043678,
     "user": {
      "displayName": "nguyen khoa",
      "photoUrl": "https://lh3.googleusercontent.com/a/default-user=s64",
      "userId": "18293071775377392514"
     },
     "user_tz": -420
    },
    "id": "4da831e7"
   },
   "outputs": [],
   "source": []
  },
  {
   "cell_type": "code",
   "execution_count": 4,
   "id": "248dd07e",
   "metadata": {
    "colab": {
     "base_uri": "https://localhost:8080/"
    },
    "executionInfo": {
     "elapsed": 83544,
     "status": "ok",
     "timestamp": 1640496127193,
     "user": {
      "displayName": "nguyen khoa",
      "photoUrl": "https://lh3.googleusercontent.com/a/default-user=s64",
      "userId": "18293071775377392514"
     },
     "user_tz": -420
    },
    "id": "248dd07e",
    "outputId": "e4c1ab50-6927-4e3a-b399-9cfadd95a083"
   },
   "outputs": [
    {
     "name": "stdout",
     "output_type": "stream",
     "text": [
      "Epoch 1/100\n",
      "118/118 - 4s - loss: 2.2469 - sparse_categorical_accuracy: 0.3042 - val_loss: 2.1392 - val_sparse_categorical_accuracy: 0.5138 - 4s/epoch - 31ms/step\n",
      "Epoch 2/100\n",
      "118/118 - 1s - loss: 2.0606 - sparse_categorical_accuracy: 0.5608 - val_loss: 1.9824 - val_sparse_categorical_accuracy: 0.5877 - 742ms/epoch - 6ms/step\n",
      "Epoch 3/100\n",
      "118/118 - 1s - loss: 1.9067 - sparse_categorical_accuracy: 0.6000 - val_loss: 1.8331 - val_sparse_categorical_accuracy: 0.5935 - 700ms/epoch - 6ms/step\n",
      "Epoch 4/100\n",
      "118/118 - 1s - loss: 1.7592 - sparse_categorical_accuracy: 0.6124 - val_loss: 1.6910 - val_sparse_categorical_accuracy: 0.6111 - 591ms/epoch - 5ms/step\n",
      "Epoch 5/100\n",
      "118/118 - 1s - loss: 1.6223 - sparse_categorical_accuracy: 0.6268 - val_loss: 1.5620 - val_sparse_categorical_accuracy: 0.6294 - 693ms/epoch - 6ms/step\n",
      "Epoch 6/100\n",
      "118/118 - 1s - loss: 1.5007 - sparse_categorical_accuracy: 0.6453 - val_loss: 1.4492 - val_sparse_categorical_accuracy: 0.6421 - 681ms/epoch - 6ms/step\n",
      "Epoch 7/100\n",
      "118/118 - 1s - loss: 1.3936 - sparse_categorical_accuracy: 0.6601 - val_loss: 1.3500 - val_sparse_categorical_accuracy: 0.6547 - 683ms/epoch - 6ms/step\n",
      "Epoch 8/100\n",
      "118/118 - 1s - loss: 1.3007 - sparse_categorical_accuracy: 0.6751 - val_loss: 1.2654 - val_sparse_categorical_accuracy: 0.6718 - 709ms/epoch - 6ms/step\n",
      "Epoch 9/100\n",
      "118/118 - 1s - loss: 1.2206 - sparse_categorical_accuracy: 0.6851 - val_loss: 1.1920 - val_sparse_categorical_accuracy: 0.6811 - 650ms/epoch - 6ms/step\n",
      "Epoch 10/100\n",
      "118/118 - 1s - loss: 1.1505 - sparse_categorical_accuracy: 0.6966 - val_loss: 1.1274 - val_sparse_categorical_accuracy: 0.6887 - 794ms/epoch - 7ms/step\n",
      "Epoch 11/100\n",
      "118/118 - 1s - loss: 1.0894 - sparse_categorical_accuracy: 0.7042 - val_loss: 1.0719 - val_sparse_categorical_accuracy: 0.6973 - 744ms/epoch - 6ms/step\n",
      "Epoch 12/100\n",
      "118/118 - 1s - loss: 1.0355 - sparse_categorical_accuracy: 0.7133 - val_loss: 1.0224 - val_sparse_categorical_accuracy: 0.7038 - 550ms/epoch - 5ms/step\n",
      "Epoch 13/100\n",
      "118/118 - 1s - loss: 0.9888 - sparse_categorical_accuracy: 0.7200 - val_loss: 0.9808 - val_sparse_categorical_accuracy: 0.7107 - 604ms/epoch - 5ms/step\n",
      "Epoch 14/100\n",
      "118/118 - 1s - loss: 0.9475 - sparse_categorical_accuracy: 0.7267 - val_loss: 0.9418 - val_sparse_categorical_accuracy: 0.7138 - 686ms/epoch - 6ms/step\n",
      "Epoch 15/100\n",
      "118/118 - 1s - loss: 0.9108 - sparse_categorical_accuracy: 0.7342 - val_loss: 0.9100 - val_sparse_categorical_accuracy: 0.7187 - 711ms/epoch - 6ms/step\n",
      "Epoch 16/100\n",
      "118/118 - 1s - loss: 0.8782 - sparse_categorical_accuracy: 0.7407 - val_loss: 0.8785 - val_sparse_categorical_accuracy: 0.7294 - 704ms/epoch - 6ms/step\n",
      "Epoch 17/100\n",
      "118/118 - 1s - loss: 0.8487 - sparse_categorical_accuracy: 0.7493 - val_loss: 0.8521 - val_sparse_categorical_accuracy: 0.7396 - 706ms/epoch - 6ms/step\n",
      "Epoch 18/100\n",
      "118/118 - 1s - loss: 0.8223 - sparse_categorical_accuracy: 0.7571 - val_loss: 0.8295 - val_sparse_categorical_accuracy: 0.7456 - 663ms/epoch - 6ms/step\n",
      "Epoch 19/100\n",
      "118/118 - 1s - loss: 0.7985 - sparse_categorical_accuracy: 0.7614 - val_loss: 0.8048 - val_sparse_categorical_accuracy: 0.7478 - 646ms/epoch - 5ms/step\n",
      "Epoch 20/100\n",
      "118/118 - 1s - loss: 0.7764 - sparse_categorical_accuracy: 0.7661 - val_loss: 0.7854 - val_sparse_categorical_accuracy: 0.7554 - 680ms/epoch - 6ms/step\n",
      "Epoch 21/100\n",
      "118/118 - 1s - loss: 0.7561 - sparse_categorical_accuracy: 0.7717 - val_loss: 0.7667 - val_sparse_categorical_accuracy: 0.7592 - 578ms/epoch - 5ms/step\n",
      "Epoch 22/100\n",
      "118/118 - 1s - loss: 0.7369 - sparse_categorical_accuracy: 0.7769 - val_loss: 0.7503 - val_sparse_categorical_accuracy: 0.7605 - 650ms/epoch - 6ms/step\n",
      "Epoch 23/100\n",
      "118/118 - 1s - loss: 0.7200 - sparse_categorical_accuracy: 0.7810 - val_loss: 0.7337 - val_sparse_categorical_accuracy: 0.7693 - 596ms/epoch - 5ms/step\n",
      "Epoch 24/100\n",
      "118/118 - 1s - loss: 0.7036 - sparse_categorical_accuracy: 0.7851 - val_loss: 0.7194 - val_sparse_categorical_accuracy: 0.7710 - 569ms/epoch - 5ms/step\n",
      "Epoch 25/100\n",
      "118/118 - 1s - loss: 0.6883 - sparse_categorical_accuracy: 0.7893 - val_loss: 0.7044 - val_sparse_categorical_accuracy: 0.7774 - 692ms/epoch - 6ms/step\n",
      "Epoch 26/100\n",
      "118/118 - 1s - loss: 0.6746 - sparse_categorical_accuracy: 0.7934 - val_loss: 0.6918 - val_sparse_categorical_accuracy: 0.7816 - 587ms/epoch - 5ms/step\n",
      "Epoch 27/100\n",
      "118/118 - 1s - loss: 0.6610 - sparse_categorical_accuracy: 0.7965 - val_loss: 0.6797 - val_sparse_categorical_accuracy: 0.7806 - 661ms/epoch - 6ms/step\n",
      "Epoch 28/100\n",
      "118/118 - 1s - loss: 0.6483 - sparse_categorical_accuracy: 0.7997 - val_loss: 0.6685 - val_sparse_categorical_accuracy: 0.7843 - 532ms/epoch - 5ms/step\n",
      "Epoch 29/100\n",
      "118/118 - 1s - loss: 0.6373 - sparse_categorical_accuracy: 0.8018 - val_loss: 0.6596 - val_sparse_categorical_accuracy: 0.7890 - 585ms/epoch - 5ms/step\n",
      "Epoch 30/100\n",
      "118/118 - 1s - loss: 0.6257 - sparse_categorical_accuracy: 0.8042 - val_loss: 0.6471 - val_sparse_categorical_accuracy: 0.7911 - 658ms/epoch - 6ms/step\n",
      "Epoch 31/100\n",
      "118/118 - 1s - loss: 0.6150 - sparse_categorical_accuracy: 0.8074 - val_loss: 0.6378 - val_sparse_categorical_accuracy: 0.7909 - 708ms/epoch - 6ms/step\n",
      "Epoch 32/100\n",
      "118/118 - 1s - loss: 0.6047 - sparse_categorical_accuracy: 0.8096 - val_loss: 0.6292 - val_sparse_categorical_accuracy: 0.7963 - 761ms/epoch - 6ms/step\n",
      "Epoch 33/100\n",
      "118/118 - 1s - loss: 0.5949 - sparse_categorical_accuracy: 0.8123 - val_loss: 0.6204 - val_sparse_categorical_accuracy: 0.7966 - 745ms/epoch - 6ms/step\n",
      "Epoch 34/100\n",
      "118/118 - 1s - loss: 0.5864 - sparse_categorical_accuracy: 0.8144 - val_loss: 0.6112 - val_sparse_categorical_accuracy: 0.8006 - 601ms/epoch - 5ms/step\n",
      "Epoch 35/100\n",
      "118/118 - 1s - loss: 0.5788 - sparse_categorical_accuracy: 0.8154 - val_loss: 0.6032 - val_sparse_categorical_accuracy: 0.8022 - 621ms/epoch - 5ms/step\n",
      "Epoch 36/100\n",
      "118/118 - 0s - loss: 0.5693 - sparse_categorical_accuracy: 0.8170 - val_loss: 0.5973 - val_sparse_categorical_accuracy: 0.8033 - 445ms/epoch - 4ms/step\n",
      "Epoch 37/100\n",
      "118/118 - 0s - loss: 0.5611 - sparse_categorical_accuracy: 0.8204 - val_loss: 0.5897 - val_sparse_categorical_accuracy: 0.8053 - 357ms/epoch - 3ms/step\n",
      "Epoch 38/100\n",
      "118/118 - 0s - loss: 0.5542 - sparse_categorical_accuracy: 0.8213 - val_loss: 0.5865 - val_sparse_categorical_accuracy: 0.8030 - 379ms/epoch - 3ms/step\n",
      "Epoch 39/100\n",
      "118/118 - 0s - loss: 0.5474 - sparse_categorical_accuracy: 0.8223 - val_loss: 0.5756 - val_sparse_categorical_accuracy: 0.8062 - 358ms/epoch - 3ms/step\n",
      "Epoch 40/100\n",
      "118/118 - 0s - loss: 0.5404 - sparse_categorical_accuracy: 0.8240 - val_loss: 0.5675 - val_sparse_categorical_accuracy: 0.8125 - 341ms/epoch - 3ms/step\n",
      "Epoch 41/100\n",
      "118/118 - 0s - loss: 0.5339 - sparse_categorical_accuracy: 0.8272 - val_loss: 0.5654 - val_sparse_categorical_accuracy: 0.8119 - 366ms/epoch - 3ms/step\n",
      "Epoch 42/100\n",
      "118/118 - 0s - loss: 0.5267 - sparse_categorical_accuracy: 0.8291 - val_loss: 0.5591 - val_sparse_categorical_accuracy: 0.8110 - 380ms/epoch - 3ms/step\n",
      "Epoch 43/100\n",
      "118/118 - 0s - loss: 0.5222 - sparse_categorical_accuracy: 0.8293 - val_loss: 0.5523 - val_sparse_categorical_accuracy: 0.8156 - 369ms/epoch - 3ms/step\n",
      "Epoch 44/100\n",
      "118/118 - 0s - loss: 0.5174 - sparse_categorical_accuracy: 0.8296 - val_loss: 0.5523 - val_sparse_categorical_accuracy: 0.8147 - 367ms/epoch - 3ms/step\n",
      "Epoch 45/100\n",
      "118/118 - 0s - loss: 0.5105 - sparse_categorical_accuracy: 0.8314 - val_loss: 0.5433 - val_sparse_categorical_accuracy: 0.8160 - 356ms/epoch - 3ms/step\n",
      "Epoch 46/100\n",
      "118/118 - 0s - loss: 0.5052 - sparse_categorical_accuracy: 0.8322 - val_loss: 0.5381 - val_sparse_categorical_accuracy: 0.8162 - 349ms/epoch - 3ms/step\n",
      "Epoch 47/100\n",
      "118/118 - 0s - loss: 0.5012 - sparse_categorical_accuracy: 0.8343 - val_loss: 0.5384 - val_sparse_categorical_accuracy: 0.8181 - 353ms/epoch - 3ms/step\n",
      "Epoch 48/100\n",
      "118/118 - 0s - loss: 0.4959 - sparse_categorical_accuracy: 0.8349 - val_loss: 0.5356 - val_sparse_categorical_accuracy: 0.8170 - 366ms/epoch - 3ms/step\n",
      "Epoch 49/100\n",
      "118/118 - 0s - loss: 0.4921 - sparse_categorical_accuracy: 0.8354 - val_loss: 0.5318 - val_sparse_categorical_accuracy: 0.8170 - 367ms/epoch - 3ms/step\n",
      "Epoch 50/100\n",
      "118/118 - 0s - loss: 0.4870 - sparse_categorical_accuracy: 0.8366 - val_loss: 0.5247 - val_sparse_categorical_accuracy: 0.8182 - 384ms/epoch - 3ms/step\n",
      "Epoch 51/100\n",
      "118/118 - 0s - loss: 0.4830 - sparse_categorical_accuracy: 0.8376 - val_loss: 0.5242 - val_sparse_categorical_accuracy: 0.8228 - 351ms/epoch - 3ms/step\n",
      "Epoch 52/100\n",
      "118/118 - 0s - loss: 0.4796 - sparse_categorical_accuracy: 0.8389 - val_loss: 0.5193 - val_sparse_categorical_accuracy: 0.8233 - 364ms/epoch - 3ms/step\n",
      "Epoch 53/100\n",
      "118/118 - 0s - loss: 0.4750 - sparse_categorical_accuracy: 0.8409 - val_loss: 0.5169 - val_sparse_categorical_accuracy: 0.8246 - 367ms/epoch - 3ms/step\n",
      "Epoch 54/100\n",
      "118/118 - 0s - loss: 0.4716 - sparse_categorical_accuracy: 0.8410 - val_loss: 0.5109 - val_sparse_categorical_accuracy: 0.8229 - 356ms/epoch - 3ms/step\n",
      "Epoch 55/100\n",
      "118/118 - 0s - loss: 0.4679 - sparse_categorical_accuracy: 0.8422 - val_loss: 0.5109 - val_sparse_categorical_accuracy: 0.8223 - 369ms/epoch - 3ms/step\n",
      "Epoch 56/100\n",
      "118/118 - 0s - loss: 0.4659 - sparse_categorical_accuracy: 0.8423 - val_loss: 0.5069 - val_sparse_categorical_accuracy: 0.8257 - 366ms/epoch - 3ms/step\n",
      "Epoch 57/100\n",
      "118/118 - 0s - loss: 0.4619 - sparse_categorical_accuracy: 0.8439 - val_loss: 0.5045 - val_sparse_categorical_accuracy: 0.8246 - 348ms/epoch - 3ms/step\n",
      "Epoch 58/100\n",
      "118/118 - 0s - loss: 0.4587 - sparse_categorical_accuracy: 0.8452 - val_loss: 0.5046 - val_sparse_categorical_accuracy: 0.8262 - 383ms/epoch - 3ms/step\n",
      "Epoch 59/100\n",
      "118/118 - 0s - loss: 0.4557 - sparse_categorical_accuracy: 0.8452 - val_loss: 0.5072 - val_sparse_categorical_accuracy: 0.8251 - 340ms/epoch - 3ms/step\n",
      "Epoch 60/100\n",
      "118/118 - 0s - loss: 0.4529 - sparse_categorical_accuracy: 0.8466 - val_loss: 0.4989 - val_sparse_categorical_accuracy: 0.8283 - 368ms/epoch - 3ms/step\n",
      "Epoch 61/100\n",
      "118/118 - 0s - loss: 0.4505 - sparse_categorical_accuracy: 0.8473 - val_loss: 0.4949 - val_sparse_categorical_accuracy: 0.8278 - 374ms/epoch - 3ms/step\n",
      "Epoch 62/100\n",
      "118/118 - 0s - loss: 0.4469 - sparse_categorical_accuracy: 0.8483 - val_loss: 0.4927 - val_sparse_categorical_accuracy: 0.8310 - 372ms/epoch - 3ms/step\n",
      "Epoch 63/100\n",
      "118/118 - 0s - loss: 0.4449 - sparse_categorical_accuracy: 0.8479 - val_loss: 0.4940 - val_sparse_categorical_accuracy: 0.8295 - 369ms/epoch - 3ms/step\n",
      "Epoch 64/100\n",
      "118/118 - 0s - loss: 0.4418 - sparse_categorical_accuracy: 0.8493 - val_loss: 0.4902 - val_sparse_categorical_accuracy: 0.8313 - 364ms/epoch - 3ms/step\n",
      "Epoch 65/100\n",
      "118/118 - 0s - loss: 0.4395 - sparse_categorical_accuracy: 0.8498 - val_loss: 0.4849 - val_sparse_categorical_accuracy: 0.8307 - 360ms/epoch - 3ms/step\n",
      "Epoch 66/100\n",
      "118/118 - 0s - loss: 0.4370 - sparse_categorical_accuracy: 0.8512 - val_loss: 0.4860 - val_sparse_categorical_accuracy: 0.8304 - 365ms/epoch - 3ms/step\n",
      "Epoch 67/100\n",
      "118/118 - 0s - loss: 0.4335 - sparse_categorical_accuracy: 0.8524 - val_loss: 0.4878 - val_sparse_categorical_accuracy: 0.8257 - 339ms/epoch - 3ms/step\n",
      "Epoch 68/100\n",
      "118/118 - 0s - loss: 0.4334 - sparse_categorical_accuracy: 0.8509 - val_loss: 0.4836 - val_sparse_categorical_accuracy: 0.8300 - 376ms/epoch - 3ms/step\n",
      "Epoch 69/100\n",
      "118/118 - 0s - loss: 0.4299 - sparse_categorical_accuracy: 0.8520 - val_loss: 0.4912 - val_sparse_categorical_accuracy: 0.8288 - 368ms/epoch - 3ms/step\n",
      "Epoch 70/100\n",
      "118/118 - 0s - loss: 0.4293 - sparse_categorical_accuracy: 0.8534 - val_loss: 0.4848 - val_sparse_categorical_accuracy: 0.8298 - 370ms/epoch - 3ms/step\n",
      "Epoch 71/100\n",
      "118/118 - 0s - loss: 0.4272 - sparse_categorical_accuracy: 0.8543 - val_loss: 0.4795 - val_sparse_categorical_accuracy: 0.8299 - 374ms/epoch - 3ms/step\n",
      "Epoch 72/100\n",
      "118/118 - 0s - loss: 0.4243 - sparse_categorical_accuracy: 0.8542 - val_loss: 0.4782 - val_sparse_categorical_accuracy: 0.8313 - 353ms/epoch - 3ms/step\n",
      "Epoch 73/100\n",
      "118/118 - 0s - loss: 0.4213 - sparse_categorical_accuracy: 0.8555 - val_loss: 0.4766 - val_sparse_categorical_accuracy: 0.8322 - 348ms/epoch - 3ms/step\n",
      "Epoch 74/100\n",
      "118/118 - 0s - loss: 0.4200 - sparse_categorical_accuracy: 0.8558 - val_loss: 0.4737 - val_sparse_categorical_accuracy: 0.8323 - 350ms/epoch - 3ms/step\n",
      "Epoch 75/100\n",
      "118/118 - 0s - loss: 0.4175 - sparse_categorical_accuracy: 0.8564 - val_loss: 0.4743 - val_sparse_categorical_accuracy: 0.8302 - 359ms/epoch - 3ms/step\n",
      "Epoch 76/100\n",
      "118/118 - 0s - loss: 0.4155 - sparse_categorical_accuracy: 0.8573 - val_loss: 0.4678 - val_sparse_categorical_accuracy: 0.8337 - 358ms/epoch - 3ms/step\n",
      "Epoch 77/100\n",
      "118/118 - 0s - loss: 0.4133 - sparse_categorical_accuracy: 0.8572 - val_loss: 0.4702 - val_sparse_categorical_accuracy: 0.8313 - 363ms/epoch - 3ms/step\n",
      "Epoch 78/100\n",
      "118/118 - 0s - loss: 0.4110 - sparse_categorical_accuracy: 0.8584 - val_loss: 0.4656 - val_sparse_categorical_accuracy: 0.8340 - 367ms/epoch - 3ms/step\n",
      "Epoch 79/100\n",
      "118/118 - 0s - loss: 0.4119 - sparse_categorical_accuracy: 0.8585 - val_loss: 0.4721 - val_sparse_categorical_accuracy: 0.8345 - 348ms/epoch - 3ms/step\n",
      "Epoch 80/100\n",
      "118/118 - 0s - loss: 0.4100 - sparse_categorical_accuracy: 0.8583 - val_loss: 0.4692 - val_sparse_categorical_accuracy: 0.8376 - 371ms/epoch - 3ms/step\n",
      "Epoch 81/100\n",
      "118/118 - 0s - loss: 0.4079 - sparse_categorical_accuracy: 0.8593 - val_loss: 0.4653 - val_sparse_categorical_accuracy: 0.8362 - 346ms/epoch - 3ms/step\n",
      "Epoch 82/100\n",
      "118/118 - 0s - loss: 0.4065 - sparse_categorical_accuracy: 0.8593 - val_loss: 0.4647 - val_sparse_categorical_accuracy: 0.8346 - 351ms/epoch - 3ms/step\n",
      "Epoch 83/100\n",
      "118/118 - 0s - loss: 0.4059 - sparse_categorical_accuracy: 0.8591 - val_loss: 0.4608 - val_sparse_categorical_accuracy: 0.8368 - 364ms/epoch - 3ms/step\n",
      "Epoch 84/100\n",
      "118/118 - 0s - loss: 0.4044 - sparse_categorical_accuracy: 0.8593 - val_loss: 0.4652 - val_sparse_categorical_accuracy: 0.8341 - 356ms/epoch - 3ms/step\n",
      "Epoch 85/100\n",
      "118/118 - 0s - loss: 0.4007 - sparse_categorical_accuracy: 0.8617 - val_loss: 0.4688 - val_sparse_categorical_accuracy: 0.8358 - 369ms/epoch - 3ms/step\n",
      "Epoch 86/100\n",
      "118/118 - 0s - loss: 0.3994 - sparse_categorical_accuracy: 0.8612 - val_loss: 0.4652 - val_sparse_categorical_accuracy: 0.8321 - 365ms/epoch - 3ms/step\n",
      "Epoch 87/100\n",
      "118/118 - 0s - loss: 0.3976 - sparse_categorical_accuracy: 0.8618 - val_loss: 0.4581 - val_sparse_categorical_accuracy: 0.8394 - 355ms/epoch - 3ms/step\n",
      "Epoch 88/100\n",
      "118/118 - 0s - loss: 0.3964 - sparse_categorical_accuracy: 0.8627 - val_loss: 0.4557 - val_sparse_categorical_accuracy: 0.8379 - 346ms/epoch - 3ms/step\n",
      "Epoch 89/100\n",
      "118/118 - 0s - loss: 0.3940 - sparse_categorical_accuracy: 0.8642 - val_loss: 0.4575 - val_sparse_categorical_accuracy: 0.8366 - 367ms/epoch - 3ms/step\n",
      "Epoch 90/100\n",
      "118/118 - 0s - loss: 0.3931 - sparse_categorical_accuracy: 0.8642 - val_loss: 0.4551 - val_sparse_categorical_accuracy: 0.8389 - 367ms/epoch - 3ms/step\n",
      "Epoch 91/100\n",
      "118/118 - 0s - loss: 0.3917 - sparse_categorical_accuracy: 0.8644 - val_loss: 0.4602 - val_sparse_categorical_accuracy: 0.8380 - 350ms/epoch - 3ms/step\n",
      "Epoch 92/100\n",
      "118/118 - 0s - loss: 0.3911 - sparse_categorical_accuracy: 0.8641 - val_loss: 0.4547 - val_sparse_categorical_accuracy: 0.8360 - 355ms/epoch - 3ms/step\n",
      "Epoch 93/100\n",
      "118/118 - 0s - loss: 0.3909 - sparse_categorical_accuracy: 0.8640 - val_loss: 0.4559 - val_sparse_categorical_accuracy: 0.8375 - 368ms/epoch - 3ms/step\n",
      "Epoch 94/100\n",
      "118/118 - 0s - loss: 0.3871 - sparse_categorical_accuracy: 0.8658 - val_loss: 0.4530 - val_sparse_categorical_accuracy: 0.8390 - 367ms/epoch - 3ms/step\n",
      "Epoch 95/100\n",
      "118/118 - 0s - loss: 0.3871 - sparse_categorical_accuracy: 0.8656 - val_loss: 0.4545 - val_sparse_categorical_accuracy: 0.8350 - 365ms/epoch - 3ms/step\n",
      "Epoch 96/100\n",
      "118/118 - 0s - loss: 0.3852 - sparse_categorical_accuracy: 0.8658 - val_loss: 0.4518 - val_sparse_categorical_accuracy: 0.8398 - 366ms/epoch - 3ms/step\n",
      "Epoch 97/100\n",
      "118/118 - 0s - loss: 0.3842 - sparse_categorical_accuracy: 0.8665 - val_loss: 0.4490 - val_sparse_categorical_accuracy: 0.8410 - 366ms/epoch - 3ms/step\n",
      "Epoch 98/100\n",
      "118/118 - 0s - loss: 0.3830 - sparse_categorical_accuracy: 0.8671 - val_loss: 0.4496 - val_sparse_categorical_accuracy: 0.8395 - 357ms/epoch - 3ms/step\n",
      "Epoch 99/100\n",
      "118/118 - 0s - loss: 0.3824 - sparse_categorical_accuracy: 0.8673 - val_loss: 0.4540 - val_sparse_categorical_accuracy: 0.8368 - 358ms/epoch - 3ms/step\n",
      "Epoch 100/100\n",
      "118/118 - 0s - loss: 0.3854 - sparse_categorical_accuracy: 0.8665 - val_loss: 0.4459 - val_sparse_categorical_accuracy: 0.8408 - 369ms/epoch - 3ms/step\n"
     ]
    }
   ],
   "source": [
    "# train first\n",
    "first_model = keras.Sequential()\n",
    "first_model.add(keras.Input(shape=(784,)))\n",
    "first_model.add(first)\n",
    "first_model.add(keras.layers.Dense(10, activation='softmax'))\n",
    "\n",
    "first_model.compile(optimizer='sgd', \n",
    "              loss='sparse_categorical_crossentropy', \n",
    "              metrics=['sparse_categorical_accuracy'])\n",
    "\n",
    "history = first_model.fit(X_train, y_train, batch_size,\n",
    "                          validation_data=(X_test, y_test),\n",
    "                          epochs=100, verbose=2)"
   ]
  },
  {
   "cell_type": "code",
   "execution_count": 4,
   "id": "8e35d7eb",
   "metadata": {
    "executionInfo": {
     "elapsed": 48,
     "status": "ok",
     "timestamp": 1640496127201,
     "user": {
      "displayName": "nguyen khoa",
      "photoUrl": "https://lh3.googleusercontent.com/a/default-user=s64",
      "userId": "18293071775377392514"
     },
     "user_tz": -420
    },
    "id": "8e35d7eb"
   },
   "outputs": [],
   "source": []
  },
  {
   "cell_type": "code",
   "execution_count": 5,
   "id": "aIXuw9GyK_ux",
   "metadata": {
    "colab": {
     "base_uri": "https://localhost:8080/",
     "height": 296
    },
    "executionInfo": {
     "elapsed": 46,
     "status": "ok",
     "timestamp": 1640496127204,
     "user": {
      "displayName": "nguyen khoa",
      "photoUrl": "https://lh3.googleusercontent.com/a/default-user=s64",
      "userId": "18293071775377392514"
     },
     "user_tz": -420
    },
    "id": "aIXuw9GyK_ux",
    "outputId": "fd3c5967-5f59-40e1-d369-b9dbe897a437"
   },
   "outputs": [
    {
     "data": {
      "text/plain": [
       "<matplotlib.legend.Legend at 0x7fb7403d5450>"
      ]
     },
     "execution_count": 5,
     "metadata": {},
     "output_type": "execute_result"
    },
    {
     "data": {
      "image/png": "[encoded data removed]",
      "text/plain": [
       "<Figure size 432x288 with 1 Axes>"
      ]
     },
     "metadata": {
      "needs_background": "light"
     },
     "output_type": "display_data"
    }
   ],
   "source": [
    "import matplotlib.pyplot as plt\n",
    "\n",
    "plt.plot(history.history['loss'], label='loss')\n",
    "plt.plot(history.history['val_loss'], label='val_loss')\n",
    "plt.xlabel('iteration')\n",
    "plt.ylabel('Loss')\n",
    "plt.legend()"
   ]
  },
  {
   "cell_type": "code",
   "execution_count": 5,
   "id": "TVjfnDdYK_u0",
   "metadata": {
    "executionInfo": {
     "elapsed": 32,
     "status": "ok",
     "timestamp": 1640496127207,
     "user": {
      "displayName": "nguyen khoa",
      "photoUrl": "https://lh3.googleusercontent.com/a/default-user=s64",
      "userId": "18293071775377392514"
     },
     "user_tz": -420
    },
    "id": "TVjfnDdYK_u0"
   },
   "outputs": [],
   "source": []
  },
  {
   "cell_type": "code",
   "execution_count": 6,
   "id": "X4zt706EK_u1",
   "metadata": {
    "colab": {
     "base_uri": "https://localhost:8080/",
     "height": 296
    },
    "executionInfo": {
     "elapsed": 890,
     "status": "ok",
     "timestamp": 1640496128067,
     "user": {
      "displayName": "nguyen khoa",
      "photoUrl": "https://lh3.googleusercontent.com/a/default-user=s64",
      "userId": "18293071775377392514"
     },
     "user_tz": -420
    },
    "id": "X4zt706EK_u1",
    "outputId": "213a60d3-5e84-4d9c-d313-34d070f7e43f"
   },
   "outputs": [
    {
     "data": {
      "text/plain": [
       "<matplotlib.legend.Legend at 0x7fb6d670b650>"
      ]
     },
     "execution_count": 6,
     "metadata": {},
     "output_type": "execute_result"
    },
    {
     "data": {
      "image/png": "[encoded data removed]",
      "text/plain": [
       "<Figure size 432x288 with 1 Axes>"
      ]
     },
     "metadata": {
      "needs_background": "light"
     },
     "output_type": "display_data"
    }
   ],
   "source": [
    "import matplotlib.pyplot as plt\n",
    "\n",
    "plt.plot(history.history['sparse_categorical_accuracy'], label='train_accuracy')\n",
    "plt.plot(history.history['val_sparse_categorical_accuracy'], label='val_accuracy')\n",
    "plt.xlabel('iteration')\n",
    "plt.ylabel('Accuracy')\n",
    "plt.legend()"
   ]
  },
  {
   "cell_type": "code",
   "execution_count": 6,
   "id": "bgoQGrFALDX0",
   "metadata": {
    "executionInfo": {
     "elapsed": 25,
     "status": "ok",
     "timestamp": 1640496128071,
     "user": {
      "displayName": "nguyen khoa",
      "photoUrl": "https://lh3.googleusercontent.com/a/default-user=s64",
      "userId": "18293071775377392514"
     },
     "user_tz": -420
    },
    "id": "bgoQGrFALDX0"
   },
   "outputs": [],
   "source": []
  },
  {
   "cell_type": "code",
   "execution_count": 7,
   "id": "4b997d5b",
   "metadata": {
    "colab": {
     "base_uri": "https://localhost:8080/"
    },
    "executionInfo": {
     "elapsed": 41170,
     "status": "ok",
     "timestamp": 1640496169219,
     "user": {
      "displayName": "nguyen khoa",
      "photoUrl": "https://lh3.googleusercontent.com/a/default-user=s64",
      "userId": "18293071775377392514"
     },
     "user_tz": -420
    },
    "id": "4b997d5b",
    "outputId": "a62ef9fb-95b3-4265-c397-5f53630a079b"
   },
   "outputs": [
    {
     "name": "stdout",
     "output_type": "stream",
     "text": [
      "Epoch 1/100\n",
      "118/118 - 1s - loss: 2.3058 - sparse_categorical_accuracy: 0.1366 - val_loss: 2.2981 - val_sparse_categorical_accuracy: 0.1024 - 907ms/epoch - 8ms/step\n",
      "Epoch 2/100\n",
      "118/118 - 0s - loss: 2.2968 - sparse_categorical_accuracy: 0.1711 - val_loss: 2.2953 - val_sparse_categorical_accuracy: 0.1350 - 395ms/epoch - 3ms/step\n",
      "Epoch 3/100\n",
      "118/118 - 0s - loss: 2.2939 - sparse_categorical_accuracy: 0.2353 - val_loss: 2.2924 - val_sparse_categorical_accuracy: 0.2728 - 375ms/epoch - 3ms/step\n",
      "Epoch 4/100\n",
      "118/118 - 0s - loss: 2.2909 - sparse_categorical_accuracy: 0.2715 - val_loss: 2.2895 - val_sparse_categorical_accuracy: 0.3332 - 370ms/epoch - 3ms/step\n",
      "Epoch 5/100\n",
      "118/118 - 0s - loss: 2.2879 - sparse_categorical_accuracy: 0.2781 - val_loss: 2.2864 - val_sparse_categorical_accuracy: 0.2937 - 377ms/epoch - 3ms/step\n",
      "Epoch 6/100\n",
      "118/118 - 0s - loss: 2.2848 - sparse_categorical_accuracy: 0.3602 - val_loss: 2.2832 - val_sparse_categorical_accuracy: 0.4547 - 360ms/epoch - 3ms/step\n",
      "Epoch 7/100\n",
      "118/118 - 0s - loss: 2.2814 - sparse_categorical_accuracy: 0.3791 - val_loss: 2.2798 - val_sparse_categorical_accuracy: 0.2796 - 366ms/epoch - 3ms/step\n",
      "Epoch 8/100\n",
      "118/118 - 0s - loss: 2.2779 - sparse_categorical_accuracy: 0.4330 - val_loss: 2.2762 - val_sparse_categorical_accuracy: 0.3653 - 373ms/epoch - 3ms/step\n",
      "Epoch 9/100\n",
      "118/118 - 0s - loss: 2.2741 - sparse_categorical_accuracy: 0.4829 - val_loss: 2.2724 - val_sparse_categorical_accuracy: 0.3442 - 391ms/epoch - 3ms/step\n",
      "Epoch 10/100\n",
      "118/118 - 0s - loss: 2.2701 - sparse_categorical_accuracy: 0.4435 - val_loss: 2.2681 - val_sparse_categorical_accuracy: 0.2096 - 376ms/epoch - 3ms/step\n",
      "Epoch 11/100\n",
      "118/118 - 0s - loss: 2.2656 - sparse_categorical_accuracy: 0.4932 - val_loss: 2.2636 - val_sparse_categorical_accuracy: 0.5023 - 382ms/epoch - 3ms/step\n",
      "Epoch 12/100\n",
      "118/118 - 0s - loss: 2.2608 - sparse_categorical_accuracy: 0.5024 - val_loss: 2.2585 - val_sparse_categorical_accuracy: 0.5254 - 378ms/epoch - 3ms/step\n",
      "Epoch 13/100\n",
      "118/118 - 0s - loss: 2.2555 - sparse_categorical_accuracy: 0.5633 - val_loss: 2.2530 - val_sparse_categorical_accuracy: 0.6128 - 386ms/epoch - 3ms/step\n",
      "Epoch 14/100\n",
      "118/118 - 0s - loss: 2.2496 - sparse_categorical_accuracy: 0.6013 - val_loss: 2.2468 - val_sparse_categorical_accuracy: 0.5394 - 371ms/epoch - 3ms/step\n",
      "Epoch 15/100\n",
      "118/118 - 0s - loss: 2.2431 - sparse_categorical_accuracy: 0.5893 - val_loss: 2.2400 - val_sparse_categorical_accuracy: 0.6257 - 356ms/epoch - 3ms/step\n",
      "Epoch 16/100\n",
      "118/118 - 0s - loss: 2.2358 - sparse_categorical_accuracy: 0.6297 - val_loss: 2.2323 - val_sparse_categorical_accuracy: 0.3450 - 381ms/epoch - 3ms/step\n",
      "Epoch 17/100\n",
      "118/118 - 0s - loss: 2.2276 - sparse_categorical_accuracy: 0.6126 - val_loss: 2.2237 - val_sparse_categorical_accuracy: 0.5335 - 380ms/epoch - 3ms/step\n",
      "Epoch 18/100\n",
      "118/118 - 0s - loss: 2.2183 - sparse_categorical_accuracy: 0.6644 - val_loss: 2.2139 - val_sparse_categorical_accuracy: 0.5033 - 387ms/epoch - 3ms/step\n",
      "Epoch 19/100\n",
      "118/118 - 0s - loss: 2.2078 - sparse_categorical_accuracy: 0.6511 - val_loss: 2.2026 - val_sparse_categorical_accuracy: 0.6170 - 386ms/epoch - 3ms/step\n",
      "Epoch 20/100\n",
      "118/118 - 0s - loss: 2.1958 - sparse_categorical_accuracy: 0.6705 - val_loss: 2.1901 - val_sparse_categorical_accuracy: 0.5004 - 372ms/epoch - 3ms/step\n",
      "Epoch 21/100\n",
      "118/118 - 0s - loss: 2.1822 - sparse_categorical_accuracy: 0.6045 - val_loss: 2.1753 - val_sparse_categorical_accuracy: 0.7630 - 379ms/epoch - 3ms/step\n",
      "Epoch 22/100\n",
      "118/118 - 0s - loss: 2.1664 - sparse_categorical_accuracy: 0.6506 - val_loss: 2.1587 - val_sparse_categorical_accuracy: 0.6218 - 356ms/epoch - 3ms/step\n",
      "Epoch 23/100\n",
      "118/118 - 0s - loss: 2.1486 - sparse_categorical_accuracy: 0.6972 - val_loss: 2.1395 - val_sparse_categorical_accuracy: 0.6531 - 353ms/epoch - 3ms/step\n",
      "Epoch 24/100\n",
      "118/118 - 0s - loss: 2.1280 - sparse_categorical_accuracy: 0.6750 - val_loss: 2.1177 - val_sparse_categorical_accuracy: 0.6205 - 389ms/epoch - 3ms/step\n",
      "Epoch 25/100\n",
      "118/118 - 0s - loss: 2.1046 - sparse_categorical_accuracy: 0.6726 - val_loss: 2.0929 - val_sparse_categorical_accuracy: 0.6070 - 351ms/epoch - 3ms/step\n",
      "Epoch 26/100\n",
      "118/118 - 0s - loss: 2.0780 - sparse_categorical_accuracy: 0.7025 - val_loss: 2.0648 - val_sparse_categorical_accuracy: 0.6143 - 364ms/epoch - 3ms/step\n",
      "Epoch 27/100\n",
      "118/118 - 0s - loss: 2.0481 - sparse_categorical_accuracy: 0.6501 - val_loss: 2.0333 - val_sparse_categorical_accuracy: 0.7070 - 379ms/epoch - 3ms/step\n",
      "Epoch 28/100\n",
      "118/118 - 0s - loss: 2.0149 - sparse_categorical_accuracy: 0.6873 - val_loss: 1.9986 - val_sparse_categorical_accuracy: 0.7056 - 371ms/epoch - 3ms/step\n",
      "Epoch 29/100\n",
      "118/118 - 0s - loss: 1.9786 - sparse_categorical_accuracy: 0.6937 - val_loss: 1.9612 - val_sparse_categorical_accuracy: 0.5997 - 353ms/epoch - 3ms/step\n",
      "Epoch 30/100\n",
      "118/118 - 0s - loss: 1.9396 - sparse_categorical_accuracy: 0.6755 - val_loss: 1.9212 - val_sparse_categorical_accuracy: 0.6928 - 372ms/epoch - 3ms/step\n",
      "Epoch 31/100\n",
      "118/118 - 0s - loss: 1.8987 - sparse_categorical_accuracy: 0.6602 - val_loss: 1.8800 - val_sparse_categorical_accuracy: 0.7233 - 372ms/epoch - 3ms/step\n",
      "Epoch 32/100\n",
      "118/118 - 0s - loss: 1.8567 - sparse_categorical_accuracy: 0.6872 - val_loss: 1.8381 - val_sparse_categorical_accuracy: 0.7333 - 384ms/epoch - 3ms/step\n",
      "Epoch 33/100\n",
      "118/118 - 0s - loss: 1.8146 - sparse_categorical_accuracy: 0.7140 - val_loss: 1.7963 - val_sparse_categorical_accuracy: 0.6273 - 370ms/epoch - 3ms/step\n",
      "Epoch 34/100\n",
      "118/118 - 0s - loss: 1.7729 - sparse_categorical_accuracy: 0.7022 - val_loss: 1.7556 - val_sparse_categorical_accuracy: 0.6534 - 359ms/epoch - 3ms/step\n",
      "Epoch 35/100\n",
      "118/118 - 0s - loss: 1.7325 - sparse_categorical_accuracy: 0.7024 - val_loss: 1.7165 - val_sparse_categorical_accuracy: 0.6172 - 385ms/epoch - 3ms/step\n",
      "Epoch 36/100\n",
      "118/118 - 0s - loss: 1.6936 - sparse_categorical_accuracy: 0.6897 - val_loss: 1.6786 - val_sparse_categorical_accuracy: 0.7084 - 367ms/epoch - 3ms/step\n",
      "Epoch 37/100\n",
      "118/118 - 0s - loss: 1.6562 - sparse_categorical_accuracy: 0.7254 - val_loss: 1.6424 - val_sparse_categorical_accuracy: 0.6486 - 356ms/epoch - 3ms/step\n",
      "Epoch 38/100\n",
      "118/118 - 0s - loss: 1.6204 - sparse_categorical_accuracy: 0.7020 - val_loss: 1.6078 - val_sparse_categorical_accuracy: 0.6909 - 382ms/epoch - 3ms/step\n",
      "Epoch 39/100\n",
      "118/118 - 0s - loss: 1.5860 - sparse_categorical_accuracy: 0.7121 - val_loss: 1.5743 - val_sparse_categorical_accuracy: 0.6982 - 363ms/epoch - 3ms/step\n",
      "Epoch 40/100\n",
      "118/118 - 0s - loss: 1.5526 - sparse_categorical_accuracy: 0.7151 - val_loss: 1.5420 - val_sparse_categorical_accuracy: 0.7180 - 370ms/epoch - 3ms/step\n",
      "Epoch 41/100\n",
      "118/118 - 0s - loss: 1.5202 - sparse_categorical_accuracy: 0.7074 - val_loss: 1.5105 - val_sparse_categorical_accuracy: 0.7261 - 380ms/epoch - 3ms/step\n",
      "Epoch 42/100\n",
      "118/118 - 0s - loss: 1.4884 - sparse_categorical_accuracy: 0.7290 - val_loss: 1.4798 - val_sparse_categorical_accuracy: 0.7081 - 378ms/epoch - 3ms/step\n",
      "Epoch 43/100\n",
      "118/118 - 0s - loss: 1.4575 - sparse_categorical_accuracy: 0.7293 - val_loss: 1.4495 - val_sparse_categorical_accuracy: 0.7447 - 358ms/epoch - 3ms/step\n",
      "Epoch 44/100\n",
      "118/118 - 0s - loss: 1.4270 - sparse_categorical_accuracy: 0.7318 - val_loss: 1.4200 - val_sparse_categorical_accuracy: 0.7234 - 377ms/epoch - 3ms/step\n",
      "Epoch 45/100\n",
      "118/118 - 0s - loss: 1.3972 - sparse_categorical_accuracy: 0.7397 - val_loss: 1.3910 - val_sparse_categorical_accuracy: 0.7446 - 363ms/epoch - 3ms/step\n",
      "Epoch 46/100\n",
      "118/118 - 0s - loss: 1.3680 - sparse_categorical_accuracy: 0.7478 - val_loss: 1.3628 - val_sparse_categorical_accuracy: 0.7254 - 365ms/epoch - 3ms/step\n",
      "Epoch 47/100\n",
      "118/118 - 0s - loss: 1.3397 - sparse_categorical_accuracy: 0.7496 - val_loss: 1.3355 - val_sparse_categorical_accuracy: 0.7475 - 355ms/epoch - 3ms/step\n",
      "Epoch 48/100\n",
      "118/118 - 0s - loss: 1.3121 - sparse_categorical_accuracy: 0.7524 - val_loss: 1.3092 - val_sparse_categorical_accuracy: 0.7412 - 377ms/epoch - 3ms/step\n",
      "Epoch 49/100\n",
      "118/118 - 0s - loss: 1.2855 - sparse_categorical_accuracy: 0.7587 - val_loss: 1.2836 - val_sparse_categorical_accuracy: 0.7424 - 387ms/epoch - 3ms/step\n",
      "Epoch 50/100\n",
      "118/118 - 0s - loss: 1.2598 - sparse_categorical_accuracy: 0.7577 - val_loss: 1.2593 - val_sparse_categorical_accuracy: 0.7682 - 383ms/epoch - 3ms/step\n",
      "Epoch 51/100\n",
      "118/118 - 0s - loss: 1.2353 - sparse_categorical_accuracy: 0.7712 - val_loss: 1.2356 - val_sparse_categorical_accuracy: 0.7635 - 388ms/epoch - 3ms/step\n",
      "Epoch 52/100\n",
      "118/118 - 0s - loss: 1.2117 - sparse_categorical_accuracy: 0.7737 - val_loss: 1.2133 - val_sparse_categorical_accuracy: 0.7566 - 384ms/epoch - 3ms/step\n",
      "Epoch 53/100\n",
      "118/118 - 0s - loss: 1.1891 - sparse_categorical_accuracy: 0.7731 - val_loss: 1.1920 - val_sparse_categorical_accuracy: 0.7552 - 384ms/epoch - 3ms/step\n",
      "Epoch 54/100\n",
      "118/118 - 0s - loss: 1.1676 - sparse_categorical_accuracy: 0.7804 - val_loss: 1.1717 - val_sparse_categorical_accuracy: 0.7458 - 369ms/epoch - 3ms/step\n",
      "Epoch 55/100\n",
      "118/118 - 0s - loss: 1.1471 - sparse_categorical_accuracy: 0.7734 - val_loss: 1.1523 - val_sparse_categorical_accuracy: 0.7744 - 355ms/epoch - 3ms/step\n",
      "Epoch 56/100\n",
      "118/118 - 0s - loss: 1.1274 - sparse_categorical_accuracy: 0.7828 - val_loss: 1.1340 - val_sparse_categorical_accuracy: 0.7482 - 376ms/epoch - 3ms/step\n",
      "Epoch 57/100\n",
      "118/118 - 0s - loss: 1.1087 - sparse_categorical_accuracy: 0.7778 - val_loss: 1.1162 - val_sparse_categorical_accuracy: 0.7726 - 364ms/epoch - 3ms/step\n",
      "Epoch 58/100\n",
      "118/118 - 0s - loss: 1.0908 - sparse_categorical_accuracy: 0.7881 - val_loss: 1.0994 - val_sparse_categorical_accuracy: 0.7507 - 357ms/epoch - 3ms/step\n",
      "Epoch 59/100\n",
      "118/118 - 0s - loss: 1.0737 - sparse_categorical_accuracy: 0.7847 - val_loss: 1.0833 - val_sparse_categorical_accuracy: 0.7643 - 354ms/epoch - 3ms/step\n",
      "Epoch 60/100\n",
      "118/118 - 0s - loss: 1.0572 - sparse_categorical_accuracy: 0.7873 - val_loss: 1.0679 - val_sparse_categorical_accuracy: 0.7740 - 355ms/epoch - 3ms/step\n",
      "Epoch 61/100\n",
      "118/118 - 0s - loss: 1.0414 - sparse_categorical_accuracy: 0.7920 - val_loss: 1.0530 - val_sparse_categorical_accuracy: 0.7817 - 365ms/epoch - 3ms/step\n",
      "Epoch 62/100\n",
      "118/118 - 0s - loss: 1.0262 - sparse_categorical_accuracy: 0.7944 - val_loss: 1.0388 - val_sparse_categorical_accuracy: 0.7559 - 371ms/epoch - 3ms/step\n",
      "Epoch 63/100\n",
      "118/118 - 0s - loss: 1.0115 - sparse_categorical_accuracy: 0.7912 - val_loss: 1.0251 - val_sparse_categorical_accuracy: 0.7722 - 382ms/epoch - 3ms/step\n",
      "Epoch 64/100\n",
      "118/118 - 0s - loss: 0.9974 - sparse_categorical_accuracy: 0.7924 - val_loss: 1.0118 - val_sparse_categorical_accuracy: 0.7797 - 352ms/epoch - 3ms/step\n",
      "Epoch 65/100\n",
      "118/118 - 0s - loss: 0.9837 - sparse_categorical_accuracy: 0.7976 - val_loss: 0.9990 - val_sparse_categorical_accuracy: 0.7809 - 363ms/epoch - 3ms/step\n",
      "Epoch 66/100\n",
      "118/118 - 0s - loss: 0.9704 - sparse_categorical_accuracy: 0.7993 - val_loss: 0.9868 - val_sparse_categorical_accuracy: 0.7725 - 373ms/epoch - 3ms/step\n",
      "Epoch 67/100\n",
      "118/118 - 0s - loss: 0.9576 - sparse_categorical_accuracy: 0.7969 - val_loss: 0.9748 - val_sparse_categorical_accuracy: 0.7618 - 359ms/epoch - 3ms/step\n",
      "Epoch 68/100\n",
      "118/118 - 0s - loss: 0.9451 - sparse_categorical_accuracy: 0.7908 - val_loss: 0.9631 - val_sparse_categorical_accuracy: 0.7829 - 366ms/epoch - 3ms/step\n",
      "Epoch 69/100\n",
      "118/118 - 0s - loss: 0.9330 - sparse_categorical_accuracy: 0.8018 - val_loss: 0.9517 - val_sparse_categorical_accuracy: 0.7651 - 370ms/epoch - 3ms/step\n",
      "Epoch 70/100\n",
      "118/118 - 0s - loss: 0.9211 - sparse_categorical_accuracy: 0.7991 - val_loss: 0.9407 - val_sparse_categorical_accuracy: 0.7830 - 388ms/epoch - 3ms/step\n",
      "Epoch 71/100\n",
      "118/118 - 0s - loss: 0.9095 - sparse_categorical_accuracy: 0.8013 - val_loss: 0.9298 - val_sparse_categorical_accuracy: 0.7777 - 356ms/epoch - 3ms/step\n",
      "Epoch 72/100\n",
      "118/118 - 0s - loss: 0.8981 - sparse_categorical_accuracy: 0.8029 - val_loss: 0.9192 - val_sparse_categorical_accuracy: 0.7801 - 380ms/epoch - 3ms/step\n",
      "Epoch 73/100\n",
      "118/118 - 0s - loss: 0.8870 - sparse_categorical_accuracy: 0.8032 - val_loss: 0.9088 - val_sparse_categorical_accuracy: 0.7848 - 369ms/epoch - 3ms/step\n",
      "Epoch 74/100\n",
      "118/118 - 0s - loss: 0.8761 - sparse_categorical_accuracy: 0.8048 - val_loss: 0.8988 - val_sparse_categorical_accuracy: 0.7791 - 388ms/epoch - 3ms/step\n",
      "Epoch 75/100\n",
      "118/118 - 0s - loss: 0.8654 - sparse_categorical_accuracy: 0.8040 - val_loss: 0.8887 - val_sparse_categorical_accuracy: 0.7883 - 370ms/epoch - 3ms/step\n",
      "Epoch 76/100\n",
      "118/118 - 0s - loss: 0.8549 - sparse_categorical_accuracy: 0.8073 - val_loss: 0.8789 - val_sparse_categorical_accuracy: 0.7870 - 377ms/epoch - 3ms/step\n",
      "Epoch 77/100\n",
      "118/118 - 0s - loss: 0.8446 - sparse_categorical_accuracy: 0.8083 - val_loss: 0.8693 - val_sparse_categorical_accuracy: 0.7784 - 381ms/epoch - 3ms/step\n",
      "Epoch 78/100\n",
      "118/118 - 0s - loss: 0.8344 - sparse_categorical_accuracy: 0.8069 - val_loss: 0.8599 - val_sparse_categorical_accuracy: 0.7795 - 372ms/epoch - 3ms/step\n",
      "Epoch 79/100\n",
      "118/118 - 0s - loss: 0.8243 - sparse_categorical_accuracy: 0.8040 - val_loss: 0.8505 - val_sparse_categorical_accuracy: 0.7922 - 375ms/epoch - 3ms/step\n",
      "Epoch 80/100\n",
      "118/118 - 0s - loss: 0.8144 - sparse_categorical_accuracy: 0.8119 - val_loss: 0.8412 - val_sparse_categorical_accuracy: 0.7840 - 378ms/epoch - 3ms/step\n",
      "Epoch 81/100\n",
      "118/118 - 0s - loss: 0.8046 - sparse_categorical_accuracy: 0.8098 - val_loss: 0.8323 - val_sparse_categorical_accuracy: 0.7918 - 364ms/epoch - 3ms/step\n",
      "Epoch 82/100\n",
      "118/118 - 0s - loss: 0.7950 - sparse_categorical_accuracy: 0.8124 - val_loss: 0.8232 - val_sparse_categorical_accuracy: 0.7913 - 382ms/epoch - 3ms/step\n",
      "Epoch 83/100\n",
      "118/118 - 0s - loss: 0.7856 - sparse_categorical_accuracy: 0.8131 - val_loss: 0.8145 - val_sparse_categorical_accuracy: 0.7874 - 376ms/epoch - 3ms/step\n",
      "Epoch 84/100\n",
      "118/118 - 0s - loss: 0.7762 - sparse_categorical_accuracy: 0.8136 - val_loss: 0.8058 - val_sparse_categorical_accuracy: 0.7868 - 388ms/epoch - 3ms/step\n",
      "Epoch 85/100\n",
      "118/118 - 0s - loss: 0.7670 - sparse_categorical_accuracy: 0.8138 - val_loss: 0.7974 - val_sparse_categorical_accuracy: 0.7897 - 384ms/epoch - 3ms/step\n",
      "Epoch 86/100\n",
      "118/118 - 0s - loss: 0.7578 - sparse_categorical_accuracy: 0.8122 - val_loss: 0.7890 - val_sparse_categorical_accuracy: 0.7942 - 368ms/epoch - 3ms/step\n",
      "Epoch 87/100\n",
      "118/118 - 0s - loss: 0.7490 - sparse_categorical_accuracy: 0.8160 - val_loss: 0.7807 - val_sparse_categorical_accuracy: 0.7916 - 382ms/epoch - 3ms/step\n",
      "Epoch 88/100\n",
      "118/118 - 0s - loss: 0.7402 - sparse_categorical_accuracy: 0.8154 - val_loss: 0.7727 - val_sparse_categorical_accuracy: 0.7881 - 380ms/epoch - 3ms/step\n",
      "Epoch 89/100\n",
      "118/118 - 0s - loss: 0.7316 - sparse_categorical_accuracy: 0.8156 - val_loss: 0.7648 - val_sparse_categorical_accuracy: 0.7918 - 376ms/epoch - 3ms/step\n",
      "Epoch 90/100\n",
      "118/118 - 0s - loss: 0.7232 - sparse_categorical_accuracy: 0.8166 - val_loss: 0.7570 - val_sparse_categorical_accuracy: 0.7967 - 375ms/epoch - 3ms/step\n",
      "Epoch 91/100\n",
      "118/118 - 0s - loss: 0.7149 - sparse_categorical_accuracy: 0.8196 - val_loss: 0.7494 - val_sparse_categorical_accuracy: 0.7890 - 375ms/epoch - 3ms/step\n",
      "Epoch 92/100\n",
      "118/118 - 0s - loss: 0.7068 - sparse_categorical_accuracy: 0.8181 - val_loss: 0.7419 - val_sparse_categorical_accuracy: 0.7935 - 387ms/epoch - 3ms/step\n",
      "Epoch 93/100\n",
      "118/118 - 0s - loss: 0.6988 - sparse_categorical_accuracy: 0.8189 - val_loss: 0.7347 - val_sparse_categorical_accuracy: 0.7963 - 375ms/epoch - 3ms/step\n",
      "Epoch 94/100\n",
      "118/118 - 0s - loss: 0.6911 - sparse_categorical_accuracy: 0.8201 - val_loss: 0.7276 - val_sparse_categorical_accuracy: 0.7967 - 380ms/epoch - 3ms/step\n",
      "Epoch 95/100\n",
      "118/118 - 0s - loss: 0.6836 - sparse_categorical_accuracy: 0.8215 - val_loss: 0.7208 - val_sparse_categorical_accuracy: 0.7895 - 369ms/epoch - 3ms/step\n",
      "Epoch 96/100\n",
      "118/118 - 0s - loss: 0.6762 - sparse_categorical_accuracy: 0.8189 - val_loss: 0.7140 - val_sparse_categorical_accuracy: 0.7971 - 361ms/epoch - 3ms/step\n",
      "Epoch 97/100\n",
      "118/118 - 0s - loss: 0.6690 - sparse_categorical_accuracy: 0.8216 - val_loss: 0.7076 - val_sparse_categorical_accuracy: 0.7980 - 379ms/epoch - 3ms/step\n",
      "Epoch 98/100\n",
      "118/118 - 0s - loss: 0.6620 - sparse_categorical_accuracy: 0.8226 - val_loss: 0.7014 - val_sparse_categorical_accuracy: 0.7988 - 382ms/epoch - 3ms/step\n",
      "Epoch 99/100\n",
      "118/118 - 0s - loss: 0.6552 - sparse_categorical_accuracy: 0.8228 - val_loss: 0.6953 - val_sparse_categorical_accuracy: 0.7973 - 371ms/epoch - 3ms/step\n",
      "Epoch 100/100\n",
      "118/118 - 0s - loss: 0.6487 - sparse_categorical_accuracy: 0.8232 - val_loss: 0.6892 - val_sparse_categorical_accuracy: 0.7995 - 377ms/epoch - 3ms/step\n"
     ]
    }
   ],
   "source": [
    "# Fix first and train second\n",
    "second_model = keras.Sequential()\n",
    "second_model.add(keras.Input(shape=(784,)))\n",
    "second_model.add(first)\n",
    "second_model.add(second)\n",
    "second_model.add(keras.layers.Dense(10, activation='softmax'))\n",
    "\n",
    "# freeze first\n",
    "first.trainable = False\n",
    "\n",
    "second_model.compile(optimizer='sgd', \n",
    "              loss='sparse_categorical_crossentropy', \n",
    "              metrics=['sparse_categorical_accuracy'])\n",
    "\n",
    "history = second_model.fit(X_train, y_train, batch_size,\n",
    "                           validation_data=(X_test, y_test),\n",
    "                           epochs=100, verbose=2)"
   ]
  },
  {
   "cell_type": "code",
   "execution_count": 7,
   "id": "97uC3rrhLKbY",
   "metadata": {
    "executionInfo": {
     "elapsed": 38,
     "status": "ok",
     "timestamp": 1640496169226,
     "user": {
      "displayName": "nguyen khoa",
      "photoUrl": "https://lh3.googleusercontent.com/a/default-user=s64",
      "userId": "18293071775377392514"
     },
     "user_tz": -420
    },
    "id": "97uC3rrhLKbY"
   },
   "outputs": [],
   "source": []
  },
  {
   "cell_type": "code",
   "execution_count": 8,
   "id": "jgy-YB1XLKuE",
   "metadata": {
    "colab": {
     "base_uri": "https://localhost:8080/",
     "height": 296
    },
    "executionInfo": {
     "elapsed": 38,
     "status": "ok",
     "timestamp": 1640496169229,
     "user": {
      "displayName": "nguyen khoa",
      "photoUrl": "https://lh3.googleusercontent.com/a/default-user=s64",
      "userId": "18293071775377392514"
     },
     "user_tz": -420
    },
    "id": "jgy-YB1XLKuE",
    "outputId": "89819348-f04f-4692-aef6-cc4dab87ae52"
   },
   "outputs": [
    {
     "data": {
      "text/plain": [
       "<matplotlib.legend.Legend at 0x7fb6d6063ad0>"
      ]
     },
     "execution_count": 8,
     "metadata": {},
     "output_type": "execute_result"
    },
    {
     "data": {
      "image/png": "[encoded data removed]",
      "text/plain": [
       "<Figure size 432x288 with 1 Axes>"
      ]
     },
     "metadata": {
      "needs_background": "light"
     },
     "output_type": "display_data"
    }
   ],
   "source": [
    "import matplotlib.pyplot as plt\n",
    "\n",
    "plt.plot(history.history['loss'], label='loss')\n",
    "plt.plot(history.history['val_loss'], label='val_loss')\n",
    "plt.xlabel('iteration')\n",
    "plt.ylabel('Loss')\n",
    "plt.legend()"
   ]
  },
  {
   "cell_type": "code",
   "execution_count": 9,
   "id": "6E5M8H8-LKuI",
   "metadata": {
    "colab": {
     "base_uri": "https://localhost:8080/",
     "height": 296
    },
    "executionInfo": {
     "elapsed": 947,
     "status": "ok",
     "timestamp": 1640496170149,
     "user": {
      "displayName": "nguyen khoa",
      "photoUrl": "https://lh3.googleusercontent.com/a/default-user=s64",
      "userId": "18293071775377392514"
     },
     "user_tz": -420
    },
    "id": "6E5M8H8-LKuI",
    "outputId": "de4aae5b-a6ba-44ba-81d6-57d598ce4801"
   },
   "outputs": [
    {
     "data": {
      "text/plain": [
       "<matplotlib.legend.Legend at 0x7fb6c07be090>"
      ]
     },
     "execution_count": 9,
     "metadata": {},
     "output_type": "execute_result"
    },
    {
     "data": {
      "image/png": "[encoded data removed]",
      "text/plain": [
       "<Figure size 432x288 with 1 Axes>"
      ]
     },
     "metadata": {
      "needs_background": "light"
     },
     "output_type": "display_data"
    }
   ],
   "source": [
    "import matplotlib.pyplot as plt\n",
    "\n",
    "plt.plot(history.history['sparse_categorical_accuracy'], label='train_accuracy')\n",
    "plt.plot(history.history['val_sparse_categorical_accuracy'], label='val_accuracy')\n",
    "plt.xlabel('iteration')\n",
    "plt.ylabel('Accuracy')\n",
    "plt.legend()"
   ]
  },
  {
   "cell_type": "code",
   "execution_count": 9,
   "id": "3f4eb957",
   "metadata": {
    "executionInfo": {
     "elapsed": 45,
     "status": "ok",
     "timestamp": 1640496170150,
     "user": {
      "displayName": "nguyen khoa",
      "photoUrl": "https://lh3.googleusercontent.com/a/default-user=s64",
      "userId": "18293071775377392514"
     },
     "user_tz": -420
    },
    "id": "3f4eb957"
   },
   "outputs": [],
   "source": []
  },
  {
   "cell_type": "code",
   "execution_count": 10,
   "id": "267ca2c6",
   "metadata": {
    "colab": {
     "base_uri": "https://localhost:8080/"
    },
    "executionInfo": {
     "elapsed": 40716,
     "status": "ok",
     "timestamp": 1640496210823,
     "user": {
      "displayName": "nguyen khoa",
      "photoUrl": "https://lh3.googleusercontent.com/a/default-user=s64",
      "userId": "18293071775377392514"
     },
     "user_tz": -420
    },
    "id": "267ca2c6",
    "outputId": "8ae48dff-1309-43ff-f493-ed5da7b9b629"
   },
   "outputs": [
    {
     "name": "stdout",
     "output_type": "stream",
     "text": [
      "Epoch 1/100\n",
      "118/118 - 1s - loss: 2.2009 - sparse_categorical_accuracy: 0.3641 - val_loss: 1.9320 - val_sparse_categorical_accuracy: 0.4934 - 978ms/epoch - 8ms/step\n",
      "Epoch 2/100\n",
      "118/118 - 0s - loss: 1.7747 - sparse_categorical_accuracy: 0.5386 - val_loss: 1.6448 - val_sparse_categorical_accuracy: 0.5722 - 399ms/epoch - 3ms/step\n",
      "Epoch 3/100\n",
      "118/118 - 0s - loss: 1.5435 - sparse_categorical_accuracy: 0.5997 - val_loss: 1.4650 - val_sparse_categorical_accuracy: 0.6221 - 386ms/epoch - 3ms/step\n",
      "Epoch 4/100\n",
      "118/118 - 0s - loss: 1.3922 - sparse_categorical_accuracy: 0.6759 - val_loss: 1.3425 - val_sparse_categorical_accuracy: 0.6849 - 392ms/epoch - 3ms/step\n",
      "Epoch 5/100\n",
      "118/118 - 0s - loss: 1.2845 - sparse_categorical_accuracy: 0.7159 - val_loss: 1.2522 - val_sparse_categorical_accuracy: 0.7168 - 385ms/epoch - 3ms/step\n",
      "Epoch 6/100\n",
      "118/118 - 0s - loss: 1.2026 - sparse_categorical_accuracy: 0.7429 - val_loss: 1.1816 - val_sparse_categorical_accuracy: 0.7456 - 371ms/epoch - 3ms/step\n",
      "Epoch 7/100\n",
      "118/118 - 0s - loss: 1.1368 - sparse_categorical_accuracy: 0.7587 - val_loss: 1.1241 - val_sparse_categorical_accuracy: 0.7525 - 362ms/epoch - 3ms/step\n",
      "Epoch 8/100\n",
      "118/118 - 0s - loss: 1.0821 - sparse_categorical_accuracy: 0.7610 - val_loss: 1.0753 - val_sparse_categorical_accuracy: 0.7484 - 374ms/epoch - 3ms/step\n",
      "Epoch 9/100\n",
      "118/118 - 0s - loss: 1.0350 - sparse_categorical_accuracy: 0.7672 - val_loss: 1.0330 - val_sparse_categorical_accuracy: 0.7577 - 378ms/epoch - 3ms/step\n",
      "Epoch 10/100\n",
      "118/118 - 0s - loss: 0.9932 - sparse_categorical_accuracy: 0.7730 - val_loss: 0.9949 - val_sparse_categorical_accuracy: 0.7584 - 393ms/epoch - 3ms/step\n",
      "Epoch 11/100\n",
      "118/118 - 0s - loss: 0.9557 - sparse_categorical_accuracy: 0.7761 - val_loss: 0.9611 - val_sparse_categorical_accuracy: 0.7648 - 389ms/epoch - 3ms/step\n",
      "Epoch 12/100\n",
      "118/118 - 0s - loss: 0.9217 - sparse_categorical_accuracy: 0.7778 - val_loss: 0.9303 - val_sparse_categorical_accuracy: 0.7597 - 390ms/epoch - 3ms/step\n",
      "Epoch 13/100\n",
      "118/118 - 0s - loss: 0.8902 - sparse_categorical_accuracy: 0.7813 - val_loss: 0.9004 - val_sparse_categorical_accuracy: 0.7636 - 390ms/epoch - 3ms/step\n",
      "Epoch 14/100\n",
      "118/118 - 0s - loss: 0.8611 - sparse_categorical_accuracy: 0.7841 - val_loss: 0.8749 - val_sparse_categorical_accuracy: 0.7688 - 391ms/epoch - 3ms/step\n",
      "Epoch 15/100\n",
      "118/118 - 0s - loss: 0.8343 - sparse_categorical_accuracy: 0.7909 - val_loss: 0.8504 - val_sparse_categorical_accuracy: 0.7655 - 391ms/epoch - 3ms/step\n",
      "Epoch 16/100\n",
      "118/118 - 1s - loss: 0.8091 - sparse_categorical_accuracy: 0.7915 - val_loss: 0.8286 - val_sparse_categorical_accuracy: 0.7724 - 749ms/epoch - 6ms/step\n",
      "Epoch 17/100\n",
      "118/118 - 1s - loss: 0.7867 - sparse_categorical_accuracy: 0.7951 - val_loss: 0.8070 - val_sparse_categorical_accuracy: 0.7745 - 626ms/epoch - 5ms/step\n",
      "Epoch 18/100\n",
      "118/118 - 1s - loss: 0.7656 - sparse_categorical_accuracy: 0.7963 - val_loss: 0.7879 - val_sparse_categorical_accuracy: 0.7753 - 500ms/epoch - 4ms/step\n",
      "Epoch 19/100\n",
      "118/118 - 1s - loss: 0.7453 - sparse_categorical_accuracy: 0.7988 - val_loss: 0.7707 - val_sparse_categorical_accuracy: 0.7823 - 809ms/epoch - 7ms/step\n",
      "Epoch 20/100\n",
      "118/118 - 0s - loss: 0.7272 - sparse_categorical_accuracy: 0.8009 - val_loss: 0.7564 - val_sparse_categorical_accuracy: 0.7842 - 460ms/epoch - 4ms/step\n",
      "Epoch 21/100\n",
      "118/118 - 1s - loss: 0.7103 - sparse_categorical_accuracy: 0.8038 - val_loss: 0.7398 - val_sparse_categorical_accuracy: 0.7821 - 723ms/epoch - 6ms/step\n",
      "Epoch 22/100\n",
      "118/118 - 1s - loss: 0.6944 - sparse_categorical_accuracy: 0.8039 - val_loss: 0.7253 - val_sparse_categorical_accuracy: 0.7822 - 614ms/epoch - 5ms/step\n",
      "Epoch 23/100\n",
      "118/118 - 0s - loss: 0.6798 - sparse_categorical_accuracy: 0.8048 - val_loss: 0.7123 - val_sparse_categorical_accuracy: 0.7847 - 392ms/epoch - 3ms/step\n",
      "Epoch 24/100\n",
      "118/118 - 0s - loss: 0.6666 - sparse_categorical_accuracy: 0.8065 - val_loss: 0.7014 - val_sparse_categorical_accuracy: 0.7865 - 385ms/epoch - 3ms/step\n",
      "Epoch 25/100\n",
      "118/118 - 0s - loss: 0.6543 - sparse_categorical_accuracy: 0.8086 - val_loss: 0.6898 - val_sparse_categorical_accuracy: 0.7867 - 374ms/epoch - 3ms/step\n",
      "Epoch 26/100\n",
      "118/118 - 0s - loss: 0.6427 - sparse_categorical_accuracy: 0.8092 - val_loss: 0.6807 - val_sparse_categorical_accuracy: 0.7876 - 382ms/epoch - 3ms/step\n",
      "Epoch 27/100\n",
      "118/118 - 0s - loss: 0.6323 - sparse_categorical_accuracy: 0.8119 - val_loss: 0.6716 - val_sparse_categorical_accuracy: 0.7888 - 373ms/epoch - 3ms/step\n",
      "Epoch 28/100\n",
      "118/118 - 0s - loss: 0.6218 - sparse_categorical_accuracy: 0.8118 - val_loss: 0.6623 - val_sparse_categorical_accuracy: 0.7919 - 384ms/epoch - 3ms/step\n",
      "Epoch 29/100\n",
      "118/118 - 0s - loss: 0.6122 - sparse_categorical_accuracy: 0.8135 - val_loss: 0.6533 - val_sparse_categorical_accuracy: 0.7913 - 399ms/epoch - 3ms/step\n",
      "Epoch 30/100\n",
      "118/118 - 0s - loss: 0.6033 - sparse_categorical_accuracy: 0.8154 - val_loss: 0.6479 - val_sparse_categorical_accuracy: 0.7911 - 395ms/epoch - 3ms/step\n",
      "Epoch 31/100\n",
      "118/118 - 0s - loss: 0.5957 - sparse_categorical_accuracy: 0.8163 - val_loss: 0.6402 - val_sparse_categorical_accuracy: 0.7937 - 393ms/epoch - 3ms/step\n",
      "Epoch 32/100\n",
      "118/118 - 0s - loss: 0.5881 - sparse_categorical_accuracy: 0.8176 - val_loss: 0.6326 - val_sparse_categorical_accuracy: 0.7952 - 396ms/epoch - 3ms/step\n",
      "Epoch 33/100\n",
      "118/118 - 0s - loss: 0.5805 - sparse_categorical_accuracy: 0.8191 - val_loss: 0.6279 - val_sparse_categorical_accuracy: 0.7956 - 373ms/epoch - 3ms/step\n",
      "Epoch 34/100\n",
      "118/118 - 0s - loss: 0.5734 - sparse_categorical_accuracy: 0.8200 - val_loss: 0.6214 - val_sparse_categorical_accuracy: 0.7992 - 374ms/epoch - 3ms/step\n",
      "Epoch 35/100\n",
      "118/118 - 0s - loss: 0.5673 - sparse_categorical_accuracy: 0.8214 - val_loss: 0.6165 - val_sparse_categorical_accuracy: 0.7985 - 378ms/epoch - 3ms/step\n",
      "Epoch 36/100\n",
      "118/118 - 0s - loss: 0.5611 - sparse_categorical_accuracy: 0.8226 - val_loss: 0.6106 - val_sparse_categorical_accuracy: 0.8010 - 381ms/epoch - 3ms/step\n",
      "Epoch 37/100\n",
      "118/118 - 0s - loss: 0.5549 - sparse_categorical_accuracy: 0.8233 - val_loss: 0.6065 - val_sparse_categorical_accuracy: 0.8021 - 389ms/epoch - 3ms/step\n",
      "Epoch 38/100\n",
      "118/118 - 0s - loss: 0.5508 - sparse_categorical_accuracy: 0.8246 - val_loss: 0.6019 - val_sparse_categorical_accuracy: 0.8009 - 382ms/epoch - 3ms/step\n",
      "Epoch 39/100\n",
      "118/118 - 0s - loss: 0.5456 - sparse_categorical_accuracy: 0.8258 - val_loss: 0.5956 - val_sparse_categorical_accuracy: 0.8025 - 367ms/epoch - 3ms/step\n",
      "Epoch 40/100\n",
      "118/118 - 0s - loss: 0.5395 - sparse_categorical_accuracy: 0.8267 - val_loss: 0.5907 - val_sparse_categorical_accuracy: 0.8064 - 381ms/epoch - 3ms/step\n",
      "Epoch 41/100\n",
      "118/118 - 0s - loss: 0.5347 - sparse_categorical_accuracy: 0.8271 - val_loss: 0.5879 - val_sparse_categorical_accuracy: 0.8049 - 371ms/epoch - 3ms/step\n",
      "Epoch 42/100\n",
      "118/118 - 0s - loss: 0.5318 - sparse_categorical_accuracy: 0.8281 - val_loss: 0.5895 - val_sparse_categorical_accuracy: 0.8066 - 393ms/epoch - 3ms/step\n",
      "Epoch 43/100\n",
      "118/118 - 0s - loss: 0.5265 - sparse_categorical_accuracy: 0.8306 - val_loss: 0.5809 - val_sparse_categorical_accuracy: 0.8056 - 358ms/epoch - 3ms/step\n",
      "Epoch 44/100\n",
      "118/118 - 0s - loss: 0.5219 - sparse_categorical_accuracy: 0.8305 - val_loss: 0.5793 - val_sparse_categorical_accuracy: 0.8053 - 413ms/epoch - 4ms/step\n",
      "Epoch 45/100\n",
      "118/118 - 0s - loss: 0.5180 - sparse_categorical_accuracy: 0.8324 - val_loss: 0.5803 - val_sparse_categorical_accuracy: 0.8029 - 397ms/epoch - 3ms/step\n",
      "Epoch 46/100\n",
      "118/118 - 0s - loss: 0.5145 - sparse_categorical_accuracy: 0.8317 - val_loss: 0.5704 - val_sparse_categorical_accuracy: 0.8094 - 386ms/epoch - 3ms/step\n",
      "Epoch 47/100\n",
      "118/118 - 0s - loss: 0.5102 - sparse_categorical_accuracy: 0.8332 - val_loss: 0.5693 - val_sparse_categorical_accuracy: 0.8087 - 387ms/epoch - 3ms/step\n",
      "Epoch 48/100\n",
      "118/118 - 0s - loss: 0.5063 - sparse_categorical_accuracy: 0.8348 - val_loss: 0.5759 - val_sparse_categorical_accuracy: 0.8015 - 398ms/epoch - 3ms/step\n",
      "Epoch 49/100\n",
      "118/118 - 0s - loss: 0.5041 - sparse_categorical_accuracy: 0.8347 - val_loss: 0.5648 - val_sparse_categorical_accuracy: 0.8087 - 389ms/epoch - 3ms/step\n",
      "Epoch 50/100\n",
      "118/118 - 0s - loss: 0.4997 - sparse_categorical_accuracy: 0.8370 - val_loss: 0.5617 - val_sparse_categorical_accuracy: 0.8083 - 375ms/epoch - 3ms/step\n",
      "Epoch 51/100\n",
      "118/118 - 0s - loss: 0.4968 - sparse_categorical_accuracy: 0.8374 - val_loss: 0.5603 - val_sparse_categorical_accuracy: 0.8126 - 368ms/epoch - 3ms/step\n",
      "Epoch 52/100\n",
      "118/118 - 0s - loss: 0.4928 - sparse_categorical_accuracy: 0.8390 - val_loss: 0.5565 - val_sparse_categorical_accuracy: 0.8121 - 366ms/epoch - 3ms/step\n",
      "Epoch 53/100\n",
      "118/118 - 0s - loss: 0.4897 - sparse_categorical_accuracy: 0.8400 - val_loss: 0.5587 - val_sparse_categorical_accuracy: 0.8093 - 396ms/epoch - 3ms/step\n",
      "Epoch 54/100\n",
      "118/118 - 0s - loss: 0.4877 - sparse_categorical_accuracy: 0.8396 - val_loss: 0.5503 - val_sparse_categorical_accuracy: 0.8142 - 367ms/epoch - 3ms/step\n",
      "Epoch 55/100\n",
      "118/118 - 0s - loss: 0.4834 - sparse_categorical_accuracy: 0.8403 - val_loss: 0.5560 - val_sparse_categorical_accuracy: 0.8093 - 400ms/epoch - 3ms/step\n",
      "Epoch 56/100\n",
      "118/118 - 0s - loss: 0.4813 - sparse_categorical_accuracy: 0.8415 - val_loss: 0.5442 - val_sparse_categorical_accuracy: 0.8192 - 371ms/epoch - 3ms/step\n",
      "Epoch 57/100\n",
      "118/118 - 0s - loss: 0.4777 - sparse_categorical_accuracy: 0.8440 - val_loss: 0.5460 - val_sparse_categorical_accuracy: 0.8179 - 381ms/epoch - 3ms/step\n",
      "Epoch 58/100\n",
      "118/118 - 0s - loss: 0.4773 - sparse_categorical_accuracy: 0.8435 - val_loss: 0.5444 - val_sparse_categorical_accuracy: 0.8174 - 401ms/epoch - 3ms/step\n",
      "Epoch 59/100\n",
      "118/118 - 0s - loss: 0.4731 - sparse_categorical_accuracy: 0.8447 - val_loss: 0.5400 - val_sparse_categorical_accuracy: 0.8196 - 369ms/epoch - 3ms/step\n",
      "Epoch 60/100\n",
      "118/118 - 0s - loss: 0.4721 - sparse_categorical_accuracy: 0.8461 - val_loss: 0.5414 - val_sparse_categorical_accuracy: 0.8191 - 384ms/epoch - 3ms/step\n",
      "Epoch 61/100\n",
      "118/118 - 0s - loss: 0.4715 - sparse_categorical_accuracy: 0.8467 - val_loss: 0.5340 - val_sparse_categorical_accuracy: 0.8214 - 391ms/epoch - 3ms/step\n",
      "Epoch 62/100\n",
      "118/118 - 0s - loss: 0.4661 - sparse_categorical_accuracy: 0.8475 - val_loss: 0.5348 - val_sparse_categorical_accuracy: 0.8219 - 372ms/epoch - 3ms/step\n",
      "Epoch 63/100\n",
      "118/118 - 0s - loss: 0.4636 - sparse_categorical_accuracy: 0.8484 - val_loss: 0.5351 - val_sparse_categorical_accuracy: 0.8212 - 401ms/epoch - 3ms/step\n",
      "Epoch 64/100\n",
      "118/118 - 0s - loss: 0.4608 - sparse_categorical_accuracy: 0.8495 - val_loss: 0.5313 - val_sparse_categorical_accuracy: 0.8257 - 372ms/epoch - 3ms/step\n",
      "Epoch 65/100\n",
      "118/118 - 0s - loss: 0.4580 - sparse_categorical_accuracy: 0.8500 - val_loss: 0.5299 - val_sparse_categorical_accuracy: 0.8249 - 369ms/epoch - 3ms/step\n",
      "Epoch 66/100\n",
      "118/118 - 0s - loss: 0.4566 - sparse_categorical_accuracy: 0.8504 - val_loss: 0.5259 - val_sparse_categorical_accuracy: 0.8241 - 393ms/epoch - 3ms/step\n",
      "Epoch 67/100\n",
      "118/118 - 0s - loss: 0.4538 - sparse_categorical_accuracy: 0.8521 - val_loss: 0.5268 - val_sparse_categorical_accuracy: 0.8225 - 377ms/epoch - 3ms/step\n",
      "Epoch 68/100\n",
      "118/118 - 0s - loss: 0.4510 - sparse_categorical_accuracy: 0.8533 - val_loss: 0.5253 - val_sparse_categorical_accuracy: 0.8242 - 395ms/epoch - 3ms/step\n",
      "Epoch 69/100\n",
      "118/118 - 0s - loss: 0.4495 - sparse_categorical_accuracy: 0.8523 - val_loss: 0.5288 - val_sparse_categorical_accuracy: 0.8223 - 379ms/epoch - 3ms/step\n",
      "Epoch 70/100\n",
      "118/118 - 0s - loss: 0.4496 - sparse_categorical_accuracy: 0.8537 - val_loss: 0.5280 - val_sparse_categorical_accuracy: 0.8245 - 378ms/epoch - 3ms/step\n",
      "Epoch 71/100\n",
      "118/118 - 0s - loss: 0.4461 - sparse_categorical_accuracy: 0.8542 - val_loss: 0.5201 - val_sparse_categorical_accuracy: 0.8286 - 425ms/epoch - 4ms/step\n",
      "Epoch 72/100\n",
      "118/118 - 0s - loss: 0.4430 - sparse_categorical_accuracy: 0.8555 - val_loss: 0.5230 - val_sparse_categorical_accuracy: 0.8237 - 387ms/epoch - 3ms/step\n",
      "Epoch 73/100\n",
      "118/118 - 0s - loss: 0.4422 - sparse_categorical_accuracy: 0.8557 - val_loss: 0.5174 - val_sparse_categorical_accuracy: 0.8292 - 375ms/epoch - 3ms/step\n",
      "Epoch 74/100\n",
      "118/118 - 0s - loss: 0.4398 - sparse_categorical_accuracy: 0.8569 - val_loss: 0.5158 - val_sparse_categorical_accuracy: 0.8274 - 392ms/epoch - 3ms/step\n",
      "Epoch 75/100\n",
      "118/118 - 0s - loss: 0.4375 - sparse_categorical_accuracy: 0.8576 - val_loss: 0.5158 - val_sparse_categorical_accuracy: 0.8292 - 381ms/epoch - 3ms/step\n",
      "Epoch 76/100\n",
      "118/118 - 0s - loss: 0.4358 - sparse_categorical_accuracy: 0.8574 - val_loss: 0.5123 - val_sparse_categorical_accuracy: 0.8286 - 385ms/epoch - 3ms/step\n",
      "Epoch 77/100\n",
      "118/118 - 0s - loss: 0.4322 - sparse_categorical_accuracy: 0.8596 - val_loss: 0.5091 - val_sparse_categorical_accuracy: 0.8300 - 374ms/epoch - 3ms/step\n",
      "Epoch 78/100\n",
      "118/118 - 0s - loss: 0.4302 - sparse_categorical_accuracy: 0.8603 - val_loss: 0.5102 - val_sparse_categorical_accuracy: 0.8306 - 392ms/epoch - 3ms/step\n",
      "Epoch 79/100\n",
      "118/118 - 0s - loss: 0.4299 - sparse_categorical_accuracy: 0.8599 - val_loss: 0.5150 - val_sparse_categorical_accuracy: 0.8285 - 383ms/epoch - 3ms/step\n",
      "Epoch 80/100\n",
      "118/118 - 0s - loss: 0.4273 - sparse_categorical_accuracy: 0.8595 - val_loss: 0.5108 - val_sparse_categorical_accuracy: 0.8290 - 395ms/epoch - 3ms/step\n",
      "Epoch 81/100\n",
      "118/118 - 0s - loss: 0.4259 - sparse_categorical_accuracy: 0.8600 - val_loss: 0.5100 - val_sparse_categorical_accuracy: 0.8304 - 378ms/epoch - 3ms/step\n",
      "Epoch 82/100\n",
      "118/118 - 0s - loss: 0.4262 - sparse_categorical_accuracy: 0.8604 - val_loss: 0.5118 - val_sparse_categorical_accuracy: 0.8308 - 375ms/epoch - 3ms/step\n",
      "Epoch 83/100\n",
      "118/118 - 0s - loss: 0.4247 - sparse_categorical_accuracy: 0.8614 - val_loss: 0.5128 - val_sparse_categorical_accuracy: 0.8286 - 365ms/epoch - 3ms/step\n",
      "Epoch 84/100\n",
      "118/118 - 0s - loss: 0.4220 - sparse_categorical_accuracy: 0.8618 - val_loss: 0.5028 - val_sparse_categorical_accuracy: 0.8330 - 373ms/epoch - 3ms/step\n",
      "Epoch 85/100\n",
      "118/118 - 0s - loss: 0.4171 - sparse_categorical_accuracy: 0.8643 - val_loss: 0.5039 - val_sparse_categorical_accuracy: 0.8299 - 392ms/epoch - 3ms/step\n",
      "Epoch 86/100\n",
      "118/118 - 0s - loss: 0.4158 - sparse_categorical_accuracy: 0.8643 - val_loss: 0.5118 - val_sparse_categorical_accuracy: 0.8257 - 396ms/epoch - 3ms/step\n",
      "Epoch 87/100\n",
      "118/118 - 0s - loss: 0.4188 - sparse_categorical_accuracy: 0.8625 - val_loss: 0.5047 - val_sparse_categorical_accuracy: 0.8297 - 392ms/epoch - 3ms/step\n",
      "Epoch 88/100\n",
      "118/118 - 0s - loss: 0.4142 - sparse_categorical_accuracy: 0.8639 - val_loss: 0.4994 - val_sparse_categorical_accuracy: 0.8322 - 396ms/epoch - 3ms/step\n",
      "Epoch 89/100\n",
      "118/118 - 0s - loss: 0.4111 - sparse_categorical_accuracy: 0.8659 - val_loss: 0.5027 - val_sparse_categorical_accuracy: 0.8332 - 405ms/epoch - 3ms/step\n",
      "Epoch 90/100\n",
      "118/118 - 0s - loss: 0.4100 - sparse_categorical_accuracy: 0.8662 - val_loss: 0.4926 - val_sparse_categorical_accuracy: 0.8365 - 400ms/epoch - 3ms/step\n",
      "Epoch 91/100\n",
      "118/118 - 0s - loss: 0.4085 - sparse_categorical_accuracy: 0.8655 - val_loss: 0.4949 - val_sparse_categorical_accuracy: 0.8342 - 373ms/epoch - 3ms/step\n",
      "Epoch 92/100\n",
      "118/118 - 0s - loss: 0.4060 - sparse_categorical_accuracy: 0.8675 - val_loss: 0.4920 - val_sparse_categorical_accuracy: 0.8371 - 400ms/epoch - 3ms/step\n",
      "Epoch 93/100\n",
      "118/118 - 0s - loss: 0.4056 - sparse_categorical_accuracy: 0.8676 - val_loss: 0.4916 - val_sparse_categorical_accuracy: 0.8364 - 370ms/epoch - 3ms/step\n",
      "Epoch 94/100\n",
      "118/118 - 0s - loss: 0.4031 - sparse_categorical_accuracy: 0.8666 - val_loss: 0.4924 - val_sparse_categorical_accuracy: 0.8376 - 369ms/epoch - 3ms/step\n",
      "Epoch 95/100\n",
      "118/118 - 0s - loss: 0.4033 - sparse_categorical_accuracy: 0.8688 - val_loss: 0.5000 - val_sparse_categorical_accuracy: 0.8335 - 382ms/epoch - 3ms/step\n",
      "Epoch 96/100\n",
      "118/118 - 0s - loss: 0.4013 - sparse_categorical_accuracy: 0.8683 - val_loss: 0.4882 - val_sparse_categorical_accuracy: 0.8366 - 369ms/epoch - 3ms/step\n",
      "Epoch 97/100\n",
      "118/118 - 0s - loss: 0.3981 - sparse_categorical_accuracy: 0.8701 - val_loss: 0.4890 - val_sparse_categorical_accuracy: 0.8379 - 372ms/epoch - 3ms/step\n",
      "Epoch 98/100\n",
      "118/118 - 0s - loss: 0.3988 - sparse_categorical_accuracy: 0.8696 - val_loss: 0.4949 - val_sparse_categorical_accuracy: 0.8331 - 395ms/epoch - 3ms/step\n",
      "Epoch 99/100\n",
      "118/118 - 0s - loss: 0.3980 - sparse_categorical_accuracy: 0.8692 - val_loss: 0.4933 - val_sparse_categorical_accuracy: 0.8340 - 359ms/epoch - 3ms/step\n",
      "Epoch 100/100\n",
      "118/118 - 0s - loss: 0.3950 - sparse_categorical_accuracy: 0.8703 - val_loss: 0.4870 - val_sparse_categorical_accuracy: 0.8399 - 396ms/epoch - 3ms/step\n"
     ]
    }
   ],
   "source": [
    "# train first and second\n",
    "third_model = keras.Sequential()\n",
    "third_model.add(keras.Input(shape=(784,)))\n",
    "third_model.add(first)\n",
    "third_model.add(second)\n",
    "third_model.add(keras.layers.Dense(10, activation='softmax'))\n",
    "\n",
    "# unfreeze the first network\n",
    "first.trainable = True\n",
    "\n",
    "third_model.compile(optimizer='sgd', \n",
    "              loss='sparse_categorical_crossentropy', \n",
    "              metrics=['sparse_categorical_accuracy'])\n",
    "\n",
    "history = third_model.fit(X_train, y_train, batch_size,\n",
    "                          validation_data=(X_test, y_test),\n",
    "                          epochs=100, verbose=2)"
   ]
  },
  {
   "cell_type": "code",
   "execution_count": 10,
   "id": "Eca1wNk9LOIt",
   "metadata": {
    "executionInfo": {
     "elapsed": 481,
     "status": "ok",
     "timestamp": 1640496211291,
     "user": {
      "displayName": "nguyen khoa",
      "photoUrl": "https://lh3.googleusercontent.com/a/default-user=s64",
      "userId": "18293071775377392514"
     },
     "user_tz": -420
    },
    "id": "Eca1wNk9LOIt"
   },
   "outputs": [],
   "source": []
  },
  {
   "cell_type": "code",
   "execution_count": 11,
   "id": "2twyTdgsLOXa",
   "metadata": {
    "colab": {
     "base_uri": "https://localhost:8080/",
     "height": 296
    },
    "executionInfo": {
     "elapsed": 42,
     "status": "ok",
     "timestamp": 1640496211294,
     "user": {
      "displayName": "nguyen khoa",
      "photoUrl": "https://lh3.googleusercontent.com/a/default-user=s64",
      "userId": "18293071775377392514"
     },
     "user_tz": -420
    },
    "id": "2twyTdgsLOXa",
    "outputId": "121cf961-a7c0-4def-889c-208abe445cca"
   },
   "outputs": [
    {
     "data": {
      "text/plain": [
       "<matplotlib.legend.Legend at 0x7fb6c05c9d10>"
      ]
     },
     "execution_count": 11,
     "metadata": {},
     "output_type": "execute_result"
    },
    {
     "data": {
      "image/png": "[encoded data removed]",
      "text/plain": [
       "<Figure size 432x288 with 1 Axes>"
      ]
     },
     "metadata": {
      "needs_background": "light"
     },
     "output_type": "display_data"
    }
   ],
   "source": [
    "import matplotlib.pyplot as plt\n",
    "\n",
    "plt.plot(history.history['loss'], label='loss')\n",
    "plt.plot(history.history['val_loss'], label='val_loss')\n",
    "plt.xlabel('iteration')\n",
    "plt.ylabel('Loss')\n",
    "plt.legend()"
   ]
  },
  {
   "cell_type": "code",
   "execution_count": 11,
   "id": "BWrLQlBrLOXe",
   "metadata": {
    "executionInfo": {
     "elapsed": 33,
     "status": "ok",
     "timestamp": 1640496211297,
     "user": {
      "displayName": "nguyen khoa",
      "photoUrl": "https://lh3.googleusercontent.com/a/default-user=s64",
      "userId": "18293071775377392514"
     },
     "user_tz": -420
    },
    "id": "BWrLQlBrLOXe"
   },
   "outputs": [],
   "source": []
  },
  {
   "cell_type": "code",
   "execution_count": 12,
   "id": "VwBoIbt7LOXg",
   "metadata": {
    "colab": {
     "base_uri": "https://localhost:8080/",
     "height": 296
    },
    "executionInfo": {
     "elapsed": 488,
     "status": "ok",
     "timestamp": 1640496211755,
     "user": {
      "displayName": "nguyen khoa",
      "photoUrl": "https://lh3.googleusercontent.com/a/default-user=s64",
      "userId": "18293071775377392514"
     },
     "user_tz": -420
    },
    "id": "VwBoIbt7LOXg",
    "outputId": "a5720b4d-74f8-4280-8610-dcda3edd7d6d"
   },
   "outputs": [
    {
     "data": {
      "text/plain": [
       "<matplotlib.legend.Legend at 0x7fb6c0555910>"
      ]
     },
     "execution_count": 12,
     "metadata": {},
     "output_type": "execute_result"
    },
    {
     "data": {
      "image/png": "[encoded data removed]",
      "text/plain": [
       "<Figure size 432x288 with 1 Axes>"
      ]
     },
     "metadata": {
      "needs_background": "light"
     },
     "output_type": "display_data"
    }
   ],
   "source": [
    "import matplotlib.pyplot as plt\n",
    "\n",
    "plt.plot(history.history['sparse_categorical_accuracy'], label='train_accuracy')\n",
    "plt.plot(history.history['val_sparse_categorical_accuracy'], label='val_accuracy')\n",
    "plt.xlabel('iteration')\n",
    "plt.ylabel('Accuracy')\n",
    "plt.legend()"
   ]
  },
  {
   "cell_type": "code",
   "execution_count": 12,
   "id": "01243d95",
   "metadata": {
    "executionInfo": {
     "elapsed": 28,
     "status": "ok",
     "timestamp": 1640496211758,
     "user": {
      "displayName": "nguyen khoa",
      "photoUrl": "https://lh3.googleusercontent.com/a/default-user=s64",
      "userId": "18293071775377392514"
     },
     "user_tz": -420
    },
    "id": "01243d95"
   },
   "outputs": [],
   "source": []
  },
  {
   "cell_type": "code",
   "execution_count": 13,
   "id": "8e6d4c87",
   "metadata": {
    "colab": {
     "base_uri": "https://localhost:8080/"
    },
    "executionInfo": {
     "elapsed": 41559,
     "status": "ok",
     "timestamp": 1640496253290,
     "user": {
      "displayName": "nguyen khoa",
      "photoUrl": "https://lh3.googleusercontent.com/a/default-user=s64",
      "userId": "18293071775377392514"
     },
     "user_tz": -420
    },
    "id": "8e6d4c87",
    "outputId": "1060f607-e792-4f1b-f73b-268afc315db8"
   },
   "outputs": [
    {
     "name": "stdout",
     "output_type": "stream",
     "text": [
      "Epoch 1/100\n",
      "118/118 - 1s - loss: 2.3204 - sparse_categorical_accuracy: 0.1102 - val_loss: 2.2977 - val_sparse_categorical_accuracy: 0.1000 - 1s/epoch - 10ms/step\n",
      "Epoch 2/100\n",
      "118/118 - 0s - loss: 2.2957 - sparse_categorical_accuracy: 0.2057 - val_loss: 2.2936 - val_sparse_categorical_accuracy: 0.1001 - 381ms/epoch - 3ms/step\n",
      "Epoch 3/100\n",
      "118/118 - 0s - loss: 2.2915 - sparse_categorical_accuracy: 0.2251 - val_loss: 2.2895 - val_sparse_categorical_accuracy: 0.2599 - 381ms/epoch - 3ms/step\n",
      "Epoch 4/100\n",
      "118/118 - 0s - loss: 2.2873 - sparse_categorical_accuracy: 0.2897 - val_loss: 2.2852 - val_sparse_categorical_accuracy: 0.3277 - 382ms/epoch - 3ms/step\n",
      "Epoch 5/100\n",
      "118/118 - 0s - loss: 2.2827 - sparse_categorical_accuracy: 0.3119 - val_loss: 2.2806 - val_sparse_categorical_accuracy: 0.2203 - 396ms/epoch - 3ms/step\n",
      "Epoch 6/100\n",
      "118/118 - 0s - loss: 2.2779 - sparse_categorical_accuracy: 0.4038 - val_loss: 2.2756 - val_sparse_categorical_accuracy: 0.3607 - 383ms/epoch - 3ms/step\n",
      "Epoch 7/100\n",
      "118/118 - 0s - loss: 2.2726 - sparse_categorical_accuracy: 0.3968 - val_loss: 2.2701 - val_sparse_categorical_accuracy: 0.3187 - 375ms/epoch - 3ms/step\n",
      "Epoch 8/100\n",
      "118/118 - 0s - loss: 2.2668 - sparse_categorical_accuracy: 0.4788 - val_loss: 2.2640 - val_sparse_categorical_accuracy: 0.4015 - 371ms/epoch - 3ms/step\n",
      "Epoch 9/100\n",
      "118/118 - 0s - loss: 2.2603 - sparse_categorical_accuracy: 0.5250 - val_loss: 2.2573 - val_sparse_categorical_accuracy: 0.3910 - 386ms/epoch - 3ms/step\n",
      "Epoch 10/100\n",
      "118/118 - 0s - loss: 2.2530 - sparse_categorical_accuracy: 0.4920 - val_loss: 2.2495 - val_sparse_categorical_accuracy: 0.5333 - 382ms/epoch - 3ms/step\n",
      "Epoch 11/100\n",
      "118/118 - 0s - loss: 2.2446 - sparse_categorical_accuracy: 0.5493 - val_loss: 2.2407 - val_sparse_categorical_accuracy: 0.5996 - 372ms/epoch - 3ms/step\n",
      "Epoch 12/100\n",
      "118/118 - 0s - loss: 2.2351 - sparse_categorical_accuracy: 0.5292 - val_loss: 2.2305 - val_sparse_categorical_accuracy: 0.5629 - 394ms/epoch - 3ms/step\n",
      "Epoch 13/100\n",
      "118/118 - 0s - loss: 2.2241 - sparse_categorical_accuracy: 0.6042 - val_loss: 2.2188 - val_sparse_categorical_accuracy: 0.5318 - 397ms/epoch - 3ms/step\n",
      "Epoch 14/100\n",
      "118/118 - 0s - loss: 2.2113 - sparse_categorical_accuracy: 0.6105 - val_loss: 2.2051 - val_sparse_categorical_accuracy: 0.6832 - 387ms/epoch - 3ms/step\n",
      "Epoch 15/100\n",
      "118/118 - 0s - loss: 2.1964 - sparse_categorical_accuracy: 0.6373 - val_loss: 2.1891 - val_sparse_categorical_accuracy: 0.7754 - 377ms/epoch - 3ms/step\n",
      "Epoch 16/100\n",
      "118/118 - 0s - loss: 2.1790 - sparse_categorical_accuracy: 0.6389 - val_loss: 2.1704 - val_sparse_categorical_accuracy: 0.4041 - 365ms/epoch - 3ms/step\n",
      "Epoch 17/100\n",
      "118/118 - 0s - loss: 2.1584 - sparse_categorical_accuracy: 0.5837 - val_loss: 2.1484 - val_sparse_categorical_accuracy: 0.6221 - 395ms/epoch - 3ms/step\n",
      "Epoch 18/100\n",
      "118/118 - 0s - loss: 2.1344 - sparse_categorical_accuracy: 0.6770 - val_loss: 2.1226 - val_sparse_categorical_accuracy: 0.5523 - 389ms/epoch - 3ms/step\n",
      "Epoch 19/100\n",
      "118/118 - 0s - loss: 2.1062 - sparse_categorical_accuracy: 0.6752 - val_loss: 2.0923 - val_sparse_categorical_accuracy: 0.7047 - 382ms/epoch - 3ms/step\n",
      "Epoch 20/100\n",
      "118/118 - 0s - loss: 2.0733 - sparse_categorical_accuracy: 0.7016 - val_loss: 2.0576 - val_sparse_categorical_accuracy: 0.6593 - 377ms/epoch - 3ms/step\n",
      "Epoch 21/100\n",
      "118/118 - 0s - loss: 2.0357 - sparse_categorical_accuracy: 0.6872 - val_loss: 2.0175 - val_sparse_categorical_accuracy: 0.7141 - 399ms/epoch - 3ms/step\n",
      "Epoch 22/100\n",
      "118/118 - 0s - loss: 1.9930 - sparse_categorical_accuracy: 0.6977 - val_loss: 1.9730 - val_sparse_categorical_accuracy: 0.6326 - 374ms/epoch - 3ms/step\n",
      "Epoch 23/100\n",
      "118/118 - 0s - loss: 1.9459 - sparse_categorical_accuracy: 0.7062 - val_loss: 1.9241 - val_sparse_categorical_accuracy: 0.7282 - 369ms/epoch - 3ms/step\n",
      "Epoch 24/100\n",
      "118/118 - 0s - loss: 1.8947 - sparse_categorical_accuracy: 0.7235 - val_loss: 1.8721 - val_sparse_categorical_accuracy: 0.6962 - 389ms/epoch - 3ms/step\n",
      "Epoch 25/100\n",
      "118/118 - 0s - loss: 1.8410 - sparse_categorical_accuracy: 0.7337 - val_loss: 1.8182 - val_sparse_categorical_accuracy: 0.6820 - 404ms/epoch - 3ms/step\n",
      "Epoch 26/100\n",
      "118/118 - 0s - loss: 1.7859 - sparse_categorical_accuracy: 0.7336 - val_loss: 1.7636 - val_sparse_categorical_accuracy: 0.7428 - 372ms/epoch - 3ms/step\n",
      "Epoch 27/100\n",
      "118/118 - 0s - loss: 1.7305 - sparse_categorical_accuracy: 0.7413 - val_loss: 1.7093 - val_sparse_categorical_accuracy: 0.7375 - 356ms/epoch - 3ms/step\n",
      "Epoch 28/100\n",
      "118/118 - 0s - loss: 1.6759 - sparse_categorical_accuracy: 0.7561 - val_loss: 1.6562 - val_sparse_categorical_accuracy: 0.7378 - 376ms/epoch - 3ms/step\n",
      "Epoch 29/100\n",
      "118/118 - 0s - loss: 1.6224 - sparse_categorical_accuracy: 0.7652 - val_loss: 1.6044 - val_sparse_categorical_accuracy: 0.7509 - 371ms/epoch - 3ms/step\n",
      "Epoch 30/100\n",
      "118/118 - 0s - loss: 1.5701 - sparse_categorical_accuracy: 0.7738 - val_loss: 1.5538 - val_sparse_categorical_accuracy: 0.7725 - 385ms/epoch - 3ms/step\n",
      "Epoch 31/100\n",
      "118/118 - 0s - loss: 1.5191 - sparse_categorical_accuracy: 0.7911 - val_loss: 1.5047 - val_sparse_categorical_accuracy: 0.7365 - 390ms/epoch - 3ms/step\n",
      "Epoch 32/100\n",
      "118/118 - 0s - loss: 1.4693 - sparse_categorical_accuracy: 0.7870 - val_loss: 1.4567 - val_sparse_categorical_accuracy: 0.7720 - 370ms/epoch - 3ms/step\n",
      "Epoch 33/100\n",
      "118/118 - 0s - loss: 1.4206 - sparse_categorical_accuracy: 0.7980 - val_loss: 1.4099 - val_sparse_categorical_accuracy: 0.7840 - 371ms/epoch - 3ms/step\n",
      "Epoch 34/100\n",
      "118/118 - 0s - loss: 1.3732 - sparse_categorical_accuracy: 0.8062 - val_loss: 1.3645 - val_sparse_categorical_accuracy: 0.7898 - 380ms/epoch - 3ms/step\n",
      "Epoch 35/100\n",
      "118/118 - 0s - loss: 1.3272 - sparse_categorical_accuracy: 0.8158 - val_loss: 1.3209 - val_sparse_categorical_accuracy: 0.7729 - 388ms/epoch - 3ms/step\n",
      "Epoch 36/100\n",
      "118/118 - 0s - loss: 1.2828 - sparse_categorical_accuracy: 0.8081 - val_loss: 1.2787 - val_sparse_categorical_accuracy: 0.8084 - 378ms/epoch - 3ms/step\n",
      "Epoch 37/100\n",
      "118/118 - 0s - loss: 1.2402 - sparse_categorical_accuracy: 0.8245 - val_loss: 1.2386 - val_sparse_categorical_accuracy: 0.7941 - 382ms/epoch - 3ms/step\n",
      "Epoch 38/100\n",
      "118/118 - 0s - loss: 1.1996 - sparse_categorical_accuracy: 0.8212 - val_loss: 1.2006 - val_sparse_categorical_accuracy: 0.7910 - 374ms/epoch - 3ms/step\n",
      "Epoch 39/100\n",
      "118/118 - 0s - loss: 1.1612 - sparse_categorical_accuracy: 0.8235 - val_loss: 1.1648 - val_sparse_categorical_accuracy: 0.8016 - 371ms/epoch - 3ms/step\n",
      "Epoch 40/100\n",
      "118/118 - 0s - loss: 1.1249 - sparse_categorical_accuracy: 0.8281 - val_loss: 1.1312 - val_sparse_categorical_accuracy: 0.8130 - 389ms/epoch - 3ms/step\n",
      "Epoch 41/100\n",
      "118/118 - 0s - loss: 1.0908 - sparse_categorical_accuracy: 0.8315 - val_loss: 1.0998 - val_sparse_categorical_accuracy: 0.8108 - 406ms/epoch - 3ms/step\n",
      "Epoch 42/100\n",
      "118/118 - 0s - loss: 1.0587 - sparse_categorical_accuracy: 0.8356 - val_loss: 1.0703 - val_sparse_categorical_accuracy: 0.8017 - 390ms/epoch - 3ms/step\n",
      "Epoch 43/100\n",
      "118/118 - 0s - loss: 1.0286 - sparse_categorical_accuracy: 0.8372 - val_loss: 1.0426 - val_sparse_categorical_accuracy: 0.8033 - 384ms/epoch - 3ms/step\n",
      "Epoch 44/100\n",
      "118/118 - 0s - loss: 1.0002 - sparse_categorical_accuracy: 0.8357 - val_loss: 1.0168 - val_sparse_categorical_accuracy: 0.8198 - 395ms/epoch - 3ms/step\n",
      "Epoch 45/100\n",
      "118/118 - 0s - loss: 0.9735 - sparse_categorical_accuracy: 0.8438 - val_loss: 0.9923 - val_sparse_categorical_accuracy: 0.8096 - 393ms/epoch - 3ms/step\n",
      "Epoch 46/100\n",
      "118/118 - 0s - loss: 0.9481 - sparse_categorical_accuracy: 0.8411 - val_loss: 0.9692 - val_sparse_categorical_accuracy: 0.8151 - 387ms/epoch - 3ms/step\n",
      "Epoch 47/100\n",
      "118/118 - 0s - loss: 0.9242 - sparse_categorical_accuracy: 0.8457 - val_loss: 0.9474 - val_sparse_categorical_accuracy: 0.8121 - 375ms/epoch - 3ms/step\n",
      "Epoch 48/100\n",
      "118/118 - 0s - loss: 0.9014 - sparse_categorical_accuracy: 0.8460 - val_loss: 0.9268 - val_sparse_categorical_accuracy: 0.8123 - 385ms/epoch - 3ms/step\n",
      "Epoch 49/100\n",
      "118/118 - 0s - loss: 0.8797 - sparse_categorical_accuracy: 0.8478 - val_loss: 0.9070 - val_sparse_categorical_accuracy: 0.8138 - 372ms/epoch - 3ms/step\n",
      "Epoch 50/100\n",
      "118/118 - 0s - loss: 0.8588 - sparse_categorical_accuracy: 0.8479 - val_loss: 0.8883 - val_sparse_categorical_accuracy: 0.8185 - 380ms/epoch - 3ms/step\n",
      "Epoch 51/100\n",
      "118/118 - 0s - loss: 0.8389 - sparse_categorical_accuracy: 0.8515 - val_loss: 0.8701 - val_sparse_categorical_accuracy: 0.8167 - 361ms/epoch - 3ms/step\n",
      "Epoch 52/100\n",
      "118/118 - 0s - loss: 0.8197 - sparse_categorical_accuracy: 0.8514 - val_loss: 0.8527 - val_sparse_categorical_accuracy: 0.8194 - 388ms/epoch - 3ms/step\n",
      "Epoch 53/100\n",
      "118/118 - 0s - loss: 0.8012 - sparse_categorical_accuracy: 0.8526 - val_loss: 0.8360 - val_sparse_categorical_accuracy: 0.8179 - 371ms/epoch - 3ms/step\n",
      "Epoch 54/100\n",
      "118/118 - 0s - loss: 0.7833 - sparse_categorical_accuracy: 0.8530 - val_loss: 0.8199 - val_sparse_categorical_accuracy: 0.8230 - 384ms/epoch - 3ms/step\n",
      "Epoch 55/100\n",
      "118/118 - 0s - loss: 0.7660 - sparse_categorical_accuracy: 0.8551 - val_loss: 0.8042 - val_sparse_categorical_accuracy: 0.8233 - 373ms/epoch - 3ms/step\n",
      "Epoch 56/100\n",
      "118/118 - 0s - loss: 0.7492 - sparse_categorical_accuracy: 0.8559 - val_loss: 0.7893 - val_sparse_categorical_accuracy: 0.8249 - 364ms/epoch - 3ms/step\n",
      "Epoch 57/100\n",
      "118/118 - 0s - loss: 0.7330 - sparse_categorical_accuracy: 0.8572 - val_loss: 0.7746 - val_sparse_categorical_accuracy: 0.8243 - 387ms/epoch - 3ms/step\n",
      "Epoch 58/100\n",
      "118/118 - 0s - loss: 0.7173 - sparse_categorical_accuracy: 0.8577 - val_loss: 0.7606 - val_sparse_categorical_accuracy: 0.8257 - 367ms/epoch - 3ms/step\n",
      "Epoch 59/100\n",
      "118/118 - 0s - loss: 0.7021 - sparse_categorical_accuracy: 0.8586 - val_loss: 0.7471 - val_sparse_categorical_accuracy: 0.8267 - 370ms/epoch - 3ms/step\n",
      "Epoch 60/100\n",
      "118/118 - 0s - loss: 0.6875 - sparse_categorical_accuracy: 0.8595 - val_loss: 0.7340 - val_sparse_categorical_accuracy: 0.8268 - 374ms/epoch - 3ms/step\n",
      "Epoch 61/100\n",
      "118/118 - 0s - loss: 0.6733 - sparse_categorical_accuracy: 0.8600 - val_loss: 0.7213 - val_sparse_categorical_accuracy: 0.8271 - 400ms/epoch - 3ms/step\n",
      "Epoch 62/100\n",
      "118/118 - 0s - loss: 0.6596 - sparse_categorical_accuracy: 0.8602 - val_loss: 0.7092 - val_sparse_categorical_accuracy: 0.8280 - 394ms/epoch - 3ms/step\n",
      "Epoch 63/100\n",
      "118/118 - 0s - loss: 0.6464 - sparse_categorical_accuracy: 0.8614 - val_loss: 0.6976 - val_sparse_categorical_accuracy: 0.8289 - 390ms/epoch - 3ms/step\n",
      "Epoch 64/100\n",
      "118/118 - 0s - loss: 0.6338 - sparse_categorical_accuracy: 0.8619 - val_loss: 0.6864 - val_sparse_categorical_accuracy: 0.8284 - 364ms/epoch - 3ms/step\n",
      "Epoch 65/100\n",
      "118/118 - 0s - loss: 0.6216 - sparse_categorical_accuracy: 0.8617 - val_loss: 0.6758 - val_sparse_categorical_accuracy: 0.8299 - 398ms/epoch - 3ms/step\n",
      "Epoch 66/100\n",
      "118/118 - 0s - loss: 0.6101 - sparse_categorical_accuracy: 0.8627 - val_loss: 0.6658 - val_sparse_categorical_accuracy: 0.8305 - 378ms/epoch - 3ms/step\n",
      "Epoch 67/100\n",
      "118/118 - 0s - loss: 0.5990 - sparse_categorical_accuracy: 0.8627 - val_loss: 0.6562 - val_sparse_categorical_accuracy: 0.8315 - 390ms/epoch - 3ms/step\n",
      "Epoch 68/100\n",
      "118/118 - 0s - loss: 0.5884 - sparse_categorical_accuracy: 0.8632 - val_loss: 0.6471 - val_sparse_categorical_accuracy: 0.8318 - 390ms/epoch - 3ms/step\n",
      "Epoch 69/100\n",
      "118/118 - 0s - loss: 0.5784 - sparse_categorical_accuracy: 0.8635 - val_loss: 0.6385 - val_sparse_categorical_accuracy: 0.8318 - 391ms/epoch - 3ms/step\n",
      "Epoch 70/100\n",
      "118/118 - 0s - loss: 0.5689 - sparse_categorical_accuracy: 0.8641 - val_loss: 0.6303 - val_sparse_categorical_accuracy: 0.8320 - 398ms/epoch - 3ms/step\n",
      "Epoch 71/100\n",
      "118/118 - 0s - loss: 0.5600 - sparse_categorical_accuracy: 0.8641 - val_loss: 0.6226 - val_sparse_categorical_accuracy: 0.8321 - 379ms/epoch - 3ms/step\n",
      "Epoch 72/100\n",
      "118/118 - 0s - loss: 0.5514 - sparse_categorical_accuracy: 0.8645 - val_loss: 0.6154 - val_sparse_categorical_accuracy: 0.8325 - 381ms/epoch - 3ms/step\n",
      "Epoch 73/100\n",
      "118/118 - 0s - loss: 0.5434 - sparse_categorical_accuracy: 0.8649 - val_loss: 0.6085 - val_sparse_categorical_accuracy: 0.8326 - 385ms/epoch - 3ms/step\n",
      "Epoch 74/100\n",
      "118/118 - 0s - loss: 0.5358 - sparse_categorical_accuracy: 0.8648 - val_loss: 0.6022 - val_sparse_categorical_accuracy: 0.8336 - 370ms/epoch - 3ms/step\n",
      "Epoch 75/100\n",
      "118/118 - 0s - loss: 0.5286 - sparse_categorical_accuracy: 0.8651 - val_loss: 0.5962 - val_sparse_categorical_accuracy: 0.8330 - 425ms/epoch - 4ms/step\n",
      "Epoch 76/100\n",
      "118/118 - 0s - loss: 0.5218 - sparse_categorical_accuracy: 0.8650 - val_loss: 0.5906 - val_sparse_categorical_accuracy: 0.8335 - 376ms/epoch - 3ms/step\n",
      "Epoch 77/100\n",
      "118/118 - 0s - loss: 0.5154 - sparse_categorical_accuracy: 0.8653 - val_loss: 0.5854 - val_sparse_categorical_accuracy: 0.8345 - 368ms/epoch - 3ms/step\n",
      "Epoch 78/100\n",
      "118/118 - 0s - loss: 0.5094 - sparse_categorical_accuracy: 0.8656 - val_loss: 0.5805 - val_sparse_categorical_accuracy: 0.8348 - 384ms/epoch - 3ms/step\n",
      "Epoch 79/100\n",
      "118/118 - 0s - loss: 0.5038 - sparse_categorical_accuracy: 0.8655 - val_loss: 0.5760 - val_sparse_categorical_accuracy: 0.8339 - 365ms/epoch - 3ms/step\n",
      "Epoch 80/100\n",
      "118/118 - 0s - loss: 0.4985 - sparse_categorical_accuracy: 0.8658 - val_loss: 0.5716 - val_sparse_categorical_accuracy: 0.8352 - 386ms/epoch - 3ms/step\n",
      "Epoch 81/100\n",
      "118/118 - 0s - loss: 0.4934 - sparse_categorical_accuracy: 0.8660 - val_loss: 0.5677 - val_sparse_categorical_accuracy: 0.8353 - 370ms/epoch - 3ms/step\n",
      "Epoch 82/100\n",
      "118/118 - 0s - loss: 0.4888 - sparse_categorical_accuracy: 0.8661 - val_loss: 0.5638 - val_sparse_categorical_accuracy: 0.8354 - 367ms/epoch - 3ms/step\n",
      "Epoch 83/100\n",
      "118/118 - 0s - loss: 0.4843 - sparse_categorical_accuracy: 0.8665 - val_loss: 0.5603 - val_sparse_categorical_accuracy: 0.8358 - 403ms/epoch - 3ms/step\n",
      "Epoch 84/100\n",
      "118/118 - 0s - loss: 0.4802 - sparse_categorical_accuracy: 0.8663 - val_loss: 0.5571 - val_sparse_categorical_accuracy: 0.8358 - 388ms/epoch - 3ms/step\n",
      "Epoch 85/100\n",
      "118/118 - 0s - loss: 0.4762 - sparse_categorical_accuracy: 0.8665 - val_loss: 0.5540 - val_sparse_categorical_accuracy: 0.8361 - 374ms/epoch - 3ms/step\n",
      "Epoch 86/100\n",
      "118/118 - 0s - loss: 0.4725 - sparse_categorical_accuracy: 0.8665 - val_loss: 0.5512 - val_sparse_categorical_accuracy: 0.8348 - 377ms/epoch - 3ms/step\n",
      "Epoch 87/100\n",
      "118/118 - 0s - loss: 0.4690 - sparse_categorical_accuracy: 0.8667 - val_loss: 0.5485 - val_sparse_categorical_accuracy: 0.8363 - 383ms/epoch - 3ms/step\n",
      "Epoch 88/100\n",
      "118/118 - 0s - loss: 0.4657 - sparse_categorical_accuracy: 0.8668 - val_loss: 0.5460 - val_sparse_categorical_accuracy: 0.8364 - 400ms/epoch - 3ms/step\n",
      "Epoch 89/100\n",
      "118/118 - 0s - loss: 0.4626 - sparse_categorical_accuracy: 0.8665 - val_loss: 0.5437 - val_sparse_categorical_accuracy: 0.8369 - 366ms/epoch - 3ms/step\n",
      "Epoch 90/100\n",
      "118/118 - 0s - loss: 0.4597 - sparse_categorical_accuracy: 0.8669 - val_loss: 0.5415 - val_sparse_categorical_accuracy: 0.8360 - 373ms/epoch - 3ms/step\n",
      "Epoch 91/100\n",
      "118/118 - 0s - loss: 0.4570 - sparse_categorical_accuracy: 0.8667 - val_loss: 0.5394 - val_sparse_categorical_accuracy: 0.8369 - 372ms/epoch - 3ms/step\n",
      "Epoch 92/100\n",
      "118/118 - 0s - loss: 0.4543 - sparse_categorical_accuracy: 0.8667 - val_loss: 0.5375 - val_sparse_categorical_accuracy: 0.8368 - 361ms/epoch - 3ms/step\n",
      "Epoch 93/100\n",
      "118/118 - 0s - loss: 0.4519 - sparse_categorical_accuracy: 0.8671 - val_loss: 0.5357 - val_sparse_categorical_accuracy: 0.8356 - 388ms/epoch - 3ms/step\n",
      "Epoch 94/100\n",
      "118/118 - 0s - loss: 0.4496 - sparse_categorical_accuracy: 0.8666 - val_loss: 0.5340 - val_sparse_categorical_accuracy: 0.8361 - 386ms/epoch - 3ms/step\n",
      "Epoch 95/100\n",
      "118/118 - 0s - loss: 0.4474 - sparse_categorical_accuracy: 0.8671 - val_loss: 0.5324 - val_sparse_categorical_accuracy: 0.8363 - 406ms/epoch - 3ms/step\n",
      "Epoch 96/100\n",
      "118/118 - 0s - loss: 0.4453 - sparse_categorical_accuracy: 0.8670 - val_loss: 0.5309 - val_sparse_categorical_accuracy: 0.8361 - 383ms/epoch - 3ms/step\n",
      "Epoch 97/100\n",
      "118/118 - 0s - loss: 0.4433 - sparse_categorical_accuracy: 0.8673 - val_loss: 0.5296 - val_sparse_categorical_accuracy: 0.8357 - 389ms/epoch - 3ms/step\n",
      "Epoch 98/100\n",
      "118/118 - 0s - loss: 0.4414 - sparse_categorical_accuracy: 0.8669 - val_loss: 0.5284 - val_sparse_categorical_accuracy: 0.8361 - 375ms/epoch - 3ms/step\n",
      "Epoch 99/100\n",
      "118/118 - 0s - loss: 0.4397 - sparse_categorical_accuracy: 0.8673 - val_loss: 0.5272 - val_sparse_categorical_accuracy: 0.8368 - 377ms/epoch - 3ms/step\n",
      "Epoch 100/100\n",
      "118/118 - 0s - loss: 0.4380 - sparse_categorical_accuracy: 0.8673 - val_loss: 0.5259 - val_sparse_categorical_accuracy: 0.8365 - 360ms/epoch - 3ms/step\n"
     ]
    }
   ],
   "source": [
    "# fix first and second, train third\n",
    "third_model = keras.Sequential()\n",
    "third_model.add(keras.Input(shape=(784,)))\n",
    "third_model.add(first)\n",
    "third_model.add(second)\n",
    "third_model.add(third)\n",
    "third_model.add(keras.layers.Dense(10, activation='softmax'))\n",
    "\n",
    "# freeze first and second\n",
    "first.trainable = False\n",
    "second.trainable = False\n",
    "\n",
    "third_model.compile(optimizer='sgd', \n",
    "              loss='sparse_categorical_crossentropy', \n",
    "              metrics=['sparse_categorical_accuracy'])\n",
    "\n",
    "history = third_model.fit(X_train, y_train, batch_size,\n",
    "                          validation_data=(X_test, y_test),\n",
    "                          epochs=100, verbose=2)"
   ]
  },
  {
   "cell_type": "code",
   "execution_count": 13,
   "id": "sfXVU58oLSV7",
   "metadata": {
    "executionInfo": {
     "elapsed": 38,
     "status": "ok",
     "timestamp": 1640496253294,
     "user": {
      "displayName": "nguyen khoa",
      "photoUrl": "https://lh3.googleusercontent.com/a/default-user=s64",
      "userId": "18293071775377392514"
     },
     "user_tz": -420
    },
    "id": "sfXVU58oLSV7"
   },
   "outputs": [],
   "source": []
  },
  {
   "cell_type": "code",
   "execution_count": 14,
   "id": "LQauDOpjLSoq",
   "metadata": {
    "colab": {
     "base_uri": "https://localhost:8080/",
     "height": 296
    },
    "executionInfo": {
     "elapsed": 33,
     "status": "ok",
     "timestamp": 1640496253297,
     "user": {
      "displayName": "nguyen khoa",
      "photoUrl": "https://lh3.googleusercontent.com/a/default-user=s64",
      "userId": "18293071775377392514"
     },
     "user_tz": -420
    },
    "id": "LQauDOpjLSoq",
    "outputId": "4d03dfb5-25c7-4b1f-fbd6-3c7299416e62"
   },
   "outputs": [
    {
     "data": {
      "text/plain": [
       "<matplotlib.legend.Legend at 0x7fb6c06feb10>"
      ]
     },
     "execution_count": 14,
     "metadata": {},
     "output_type": "execute_result"
    },
    {
     "data": {
      "image/png": "[encoded data removed]",
      "text/plain": [
       "<Figure size 432x288 with 1 Axes>"
      ]
     },
     "metadata": {
      "needs_background": "light"
     },
     "output_type": "display_data"
    }
   ],
   "source": [
    "import matplotlib.pyplot as plt\n",
    "\n",
    "plt.plot(history.history['loss'], label='loss')\n",
    "plt.plot(history.history['val_loss'], label='val_loss')\n",
    "plt.xlabel('iteration')\n",
    "plt.ylabel('Loss')\n",
    "plt.legend()"
   ]
  },
  {
   "cell_type": "code",
   "execution_count": 14,
   "id": "R8oxp78TLSor",
   "metadata": {
    "executionInfo": {
     "elapsed": 29,
     "status": "ok",
     "timestamp": 1640496253301,
     "user": {
      "displayName": "nguyen khoa",
      "photoUrl": "https://lh3.googleusercontent.com/a/default-user=s64",
      "userId": "18293071775377392514"
     },
     "user_tz": -420
    },
    "id": "R8oxp78TLSor"
   },
   "outputs": [],
   "source": []
  },
  {
   "cell_type": "code",
   "execution_count": 15,
   "id": "hJ5dHDh-LSos",
   "metadata": {
    "colab": {
     "base_uri": "https://localhost:8080/",
     "height": 299
    },
    "executionInfo": {
     "elapsed": 686,
     "status": "ok",
     "timestamp": 1640496253959,
     "user": {
      "displayName": "nguyen khoa",
      "photoUrl": "https://lh3.googleusercontent.com/a/default-user=s64",
      "userId": "18293071775377392514"
     },
     "user_tz": -420
    },
    "id": "hJ5dHDh-LSos",
    "outputId": "c8e0a913-2089-4013-94a2-3711446b0f87"
   },
   "outputs": [
    {
     "data": {
      "text/plain": [
       "<matplotlib.legend.Legend at 0x7fb6c053f9d0>"
      ]
     },
     "execution_count": 15,
     "metadata": {},
     "output_type": "execute_result"
    },
    {
     "data": {
      "image/png": "[encoded data removed]",
      "text/plain": [
       "<Figure size 432x288 with 1 Axes>"
      ]
     },
     "metadata": {
      "needs_background": "light"
     },
     "output_type": "display_data"
    }
   ],
   "source": [
    "import matplotlib.pyplot as plt\n",
    "\n",
    "plt.plot(history.history['sparse_categorical_accuracy'], label='train_accuracy')\n",
    "plt.plot(history.history['val_sparse_categorical_accuracy'], label='val_accuracy')\n",
    "plt.xlabel('iteration')\n",
    "plt.ylabel('Accuracy')\n",
    "plt.legend()"
   ]
  },
  {
   "cell_type": "code",
   "execution_count": 15,
   "id": "8623181e",
   "metadata": {
    "executionInfo": {
     "elapsed": 22,
     "status": "ok",
     "timestamp": 1640496253961,
     "user": {
      "displayName": "nguyen khoa",
      "photoUrl": "https://lh3.googleusercontent.com/a/default-user=s64",
      "userId": "18293071775377392514"
     },
     "user_tz": -420
    },
    "id": "8623181e"
   },
   "outputs": [],
   "source": []
  },
  {
   "cell_type": "code",
   "execution_count": 16,
   "id": "c84dafda",
   "metadata": {
    "colab": {
     "base_uri": "https://localhost:8080/"
    },
    "executionInfo": {
     "elapsed": 82423,
     "status": "ok",
     "timestamp": 1640496336364,
     "user": {
      "displayName": "nguyen khoa",
      "photoUrl": "https://lh3.googleusercontent.com/a/default-user=s64",
      "userId": "18293071775377392514"
     },
     "user_tz": -420
    },
    "id": "c84dafda",
    "outputId": "c31473cb-ac83-4a45-8721-874467555efe"
   },
   "outputs": [
    {
     "name": "stdout",
     "output_type": "stream",
     "text": [
      "Epoch 1/100\n",
      "118/118 - 1s - loss: 2.0627 - sparse_categorical_accuracy: 0.3444 - val_loss: 1.7784 - val_sparse_categorical_accuracy: 0.6510 - 1s/epoch - 9ms/step\n",
      "Epoch 2/100\n",
      "118/118 - 0s - loss: 1.6085 - sparse_categorical_accuracy: 0.7376 - val_loss: 1.4800 - val_sparse_categorical_accuracy: 0.7410 - 396ms/epoch - 3ms/step\n",
      "Epoch 3/100\n",
      "118/118 - 0s - loss: 1.3663 - sparse_categorical_accuracy: 0.7657 - val_loss: 1.2914 - val_sparse_categorical_accuracy: 0.7732 - 404ms/epoch - 3ms/step\n",
      "Epoch 4/100\n",
      "118/118 - 0s - loss: 1.2018 - sparse_categorical_accuracy: 0.7942 - val_loss: 1.1567 - val_sparse_categorical_accuracy: 0.7999 - 425ms/epoch - 4ms/step\n",
      "Epoch 5/100\n",
      "118/118 - 0s - loss: 1.0784 - sparse_categorical_accuracy: 0.8260 - val_loss: 1.0526 - val_sparse_categorical_accuracy: 0.8001 - 399ms/epoch - 3ms/step\n",
      "Epoch 6/100\n",
      "118/118 - 0s - loss: 0.9803 - sparse_categorical_accuracy: 0.8435 - val_loss: 0.9688 - val_sparse_categorical_accuracy: 0.8178 - 417ms/epoch - 4ms/step\n",
      "Epoch 7/100\n",
      "118/118 - 0s - loss: 0.9002 - sparse_categorical_accuracy: 0.8525 - val_loss: 0.9018 - val_sparse_categorical_accuracy: 0.8285 - 402ms/epoch - 3ms/step\n",
      "Epoch 8/100\n",
      "118/118 - 0s - loss: 0.8347 - sparse_categorical_accuracy: 0.8600 - val_loss: 0.8458 - val_sparse_categorical_accuracy: 0.8245 - 414ms/epoch - 4ms/step\n",
      "Epoch 9/100\n",
      "118/118 - 0s - loss: 0.7804 - sparse_categorical_accuracy: 0.8604 - val_loss: 0.8004 - val_sparse_categorical_accuracy: 0.8276 - 413ms/epoch - 3ms/step\n",
      "Epoch 10/100\n",
      "118/118 - 0s - loss: 0.7347 - sparse_categorical_accuracy: 0.8627 - val_loss: 0.7630 - val_sparse_categorical_accuracy: 0.8294 - 394ms/epoch - 3ms/step\n",
      "Epoch 11/100\n",
      "118/118 - 0s - loss: 0.6959 - sparse_categorical_accuracy: 0.8648 - val_loss: 0.7318 - val_sparse_categorical_accuracy: 0.8306 - 410ms/epoch - 3ms/step\n",
      "Epoch 12/100\n",
      "118/118 - 0s - loss: 0.6627 - sparse_categorical_accuracy: 0.8655 - val_loss: 0.7029 - val_sparse_categorical_accuracy: 0.8292 - 386ms/epoch - 3ms/step\n",
      "Epoch 13/100\n",
      "118/118 - 0s - loss: 0.6358 - sparse_categorical_accuracy: 0.8640 - val_loss: 0.6792 - val_sparse_categorical_accuracy: 0.8300 - 405ms/epoch - 3ms/step\n",
      "Epoch 14/100\n",
      "118/118 - 0s - loss: 0.6104 - sparse_categorical_accuracy: 0.8656 - val_loss: 0.6588 - val_sparse_categorical_accuracy: 0.8315 - 415ms/epoch - 4ms/step\n",
      "Epoch 15/100\n",
      "118/118 - 0s - loss: 0.5895 - sparse_categorical_accuracy: 0.8667 - val_loss: 0.6464 - val_sparse_categorical_accuracy: 0.8306 - 412ms/epoch - 3ms/step\n",
      "Epoch 16/100\n",
      "118/118 - 0s - loss: 0.5712 - sparse_categorical_accuracy: 0.8673 - val_loss: 0.6278 - val_sparse_categorical_accuracy: 0.8337 - 409ms/epoch - 3ms/step\n",
      "Epoch 17/100\n",
      "118/118 - 0s - loss: 0.5540 - sparse_categorical_accuracy: 0.8680 - val_loss: 0.6149 - val_sparse_categorical_accuracy: 0.8338 - 411ms/epoch - 3ms/step\n",
      "Epoch 18/100\n",
      "118/118 - 0s - loss: 0.5393 - sparse_categorical_accuracy: 0.8690 - val_loss: 0.6031 - val_sparse_categorical_accuracy: 0.8342 - 393ms/epoch - 3ms/step\n",
      "Epoch 19/100\n",
      "118/118 - 0s - loss: 0.5259 - sparse_categorical_accuracy: 0.8698 - val_loss: 0.5926 - val_sparse_categorical_accuracy: 0.8344 - 431ms/epoch - 4ms/step\n",
      "Epoch 20/100\n",
      "118/118 - 0s - loss: 0.5140 - sparse_categorical_accuracy: 0.8703 - val_loss: 0.5853 - val_sparse_categorical_accuracy: 0.8353 - 402ms/epoch - 3ms/step\n",
      "Epoch 21/100\n",
      "118/118 - 0s - loss: 0.5050 - sparse_categorical_accuracy: 0.8699 - val_loss: 0.5742 - val_sparse_categorical_accuracy: 0.8387 - 387ms/epoch - 3ms/step\n",
      "Epoch 22/100\n",
      "118/118 - 0s - loss: 0.4940 - sparse_categorical_accuracy: 0.8711 - val_loss: 0.5700 - val_sparse_categorical_accuracy: 0.8364 - 405ms/epoch - 3ms/step\n",
      "Epoch 23/100\n",
      "118/118 - 0s - loss: 0.4872 - sparse_categorical_accuracy: 0.8716 - val_loss: 0.5597 - val_sparse_categorical_accuracy: 0.8418 - 403ms/epoch - 3ms/step\n",
      "Epoch 24/100\n",
      "118/118 - 0s - loss: 0.4786 - sparse_categorical_accuracy: 0.8722 - val_loss: 0.5574 - val_sparse_categorical_accuracy: 0.8333 - 419ms/epoch - 4ms/step\n",
      "Epoch 25/100\n",
      "118/118 - 0s - loss: 0.4713 - sparse_categorical_accuracy: 0.8721 - val_loss: 0.5523 - val_sparse_categorical_accuracy: 0.8381 - 405ms/epoch - 3ms/step\n",
      "Epoch 26/100\n",
      "118/118 - 0s - loss: 0.4657 - sparse_categorical_accuracy: 0.8726 - val_loss: 0.5455 - val_sparse_categorical_accuracy: 0.8377 - 405ms/epoch - 3ms/step\n",
      "Epoch 27/100\n",
      "118/118 - 0s - loss: 0.4589 - sparse_categorical_accuracy: 0.8725 - val_loss: 0.5460 - val_sparse_categorical_accuracy: 0.8367 - 399ms/epoch - 3ms/step\n",
      "Epoch 28/100\n",
      "118/118 - 0s - loss: 0.4559 - sparse_categorical_accuracy: 0.8731 - val_loss: 0.5363 - val_sparse_categorical_accuracy: 0.8386 - 384ms/epoch - 3ms/step\n",
      "Epoch 29/100\n",
      "118/118 - 0s - loss: 0.4494 - sparse_categorical_accuracy: 0.8745 - val_loss: 0.5345 - val_sparse_categorical_accuracy: 0.8400 - 414ms/epoch - 4ms/step\n",
      "Epoch 30/100\n",
      "118/118 - 0s - loss: 0.4442 - sparse_categorical_accuracy: 0.8746 - val_loss: 0.5387 - val_sparse_categorical_accuracy: 0.8339 - 398ms/epoch - 3ms/step\n",
      "Epoch 31/100\n",
      "118/118 - 0s - loss: 0.4407 - sparse_categorical_accuracy: 0.8744 - val_loss: 0.5262 - val_sparse_categorical_accuracy: 0.8378 - 412ms/epoch - 3ms/step\n",
      "Epoch 32/100\n",
      "118/118 - 0s - loss: 0.4356 - sparse_categorical_accuracy: 0.8744 - val_loss: 0.5229 - val_sparse_categorical_accuracy: 0.8404 - 414ms/epoch - 4ms/step\n",
      "Epoch 33/100\n",
      "118/118 - 0s - loss: 0.4305 - sparse_categorical_accuracy: 0.8763 - val_loss: 0.5309 - val_sparse_categorical_accuracy: 0.8347 - 391ms/epoch - 3ms/step\n",
      "Epoch 34/100\n",
      "118/118 - 0s - loss: 0.4312 - sparse_categorical_accuracy: 0.8744 - val_loss: 0.5185 - val_sparse_categorical_accuracy: 0.8397 - 392ms/epoch - 3ms/step\n",
      "Epoch 35/100\n",
      "118/118 - 0s - loss: 0.4276 - sparse_categorical_accuracy: 0.8740 - val_loss: 0.5212 - val_sparse_categorical_accuracy: 0.8389 - 388ms/epoch - 3ms/step\n",
      "Epoch 36/100\n",
      "118/118 - 0s - loss: 0.4268 - sparse_categorical_accuracy: 0.8743 - val_loss: 0.5159 - val_sparse_categorical_accuracy: 0.8385 - 420ms/epoch - 4ms/step\n",
      "Epoch 37/100\n",
      "118/118 - 0s - loss: 0.4187 - sparse_categorical_accuracy: 0.8761 - val_loss: 0.5116 - val_sparse_categorical_accuracy: 0.8399 - 403ms/epoch - 3ms/step\n",
      "Epoch 38/100\n",
      "118/118 - 0s - loss: 0.4169 - sparse_categorical_accuracy: 0.8764 - val_loss: 0.5211 - val_sparse_categorical_accuracy: 0.8351 - 395ms/epoch - 3ms/step\n",
      "Epoch 39/100\n",
      "118/118 - 0s - loss: 0.4183 - sparse_categorical_accuracy: 0.8749 - val_loss: 0.5175 - val_sparse_categorical_accuracy: 0.8361 - 403ms/epoch - 3ms/step\n",
      "Epoch 40/100\n",
      "118/118 - 0s - loss: 0.4168 - sparse_categorical_accuracy: 0.8742 - val_loss: 0.5116 - val_sparse_categorical_accuracy: 0.8400 - 384ms/epoch - 3ms/step\n",
      "Epoch 41/100\n",
      "118/118 - 0s - loss: 0.4157 - sparse_categorical_accuracy: 0.8755 - val_loss: 0.5132 - val_sparse_categorical_accuracy: 0.8375 - 409ms/epoch - 3ms/step\n",
      "Epoch 42/100\n",
      "118/118 - 0s - loss: 0.4101 - sparse_categorical_accuracy: 0.8753 - val_loss: 0.5165 - val_sparse_categorical_accuracy: 0.8384 - 404ms/epoch - 3ms/step\n",
      "Epoch 43/100\n",
      "118/118 - 0s - loss: 0.4091 - sparse_categorical_accuracy: 0.8759 - val_loss: 0.5106 - val_sparse_categorical_accuracy: 0.8355 - 402ms/epoch - 3ms/step\n",
      "Epoch 44/100\n",
      "118/118 - 0s - loss: 0.4098 - sparse_categorical_accuracy: 0.8736 - val_loss: 0.5083 - val_sparse_categorical_accuracy: 0.8386 - 405ms/epoch - 3ms/step\n",
      "Epoch 45/100\n",
      "118/118 - 0s - loss: 0.4043 - sparse_categorical_accuracy: 0.8744 - val_loss: 0.5080 - val_sparse_categorical_accuracy: 0.8397 - 426ms/epoch - 4ms/step\n",
      "Epoch 46/100\n",
      "118/118 - 0s - loss: 0.4049 - sparse_categorical_accuracy: 0.8756 - val_loss: 0.5104 - val_sparse_categorical_accuracy: 0.8373 - 419ms/epoch - 4ms/step\n",
      "Epoch 47/100\n",
      "118/118 - 0s - loss: 0.4001 - sparse_categorical_accuracy: 0.8762 - val_loss: 0.5040 - val_sparse_categorical_accuracy: 0.8384 - 392ms/epoch - 3ms/step\n",
      "Epoch 48/100\n",
      "118/118 - 0s - loss: 0.4014 - sparse_categorical_accuracy: 0.8757 - val_loss: 0.5092 - val_sparse_categorical_accuracy: 0.8342 - 385ms/epoch - 3ms/step\n",
      "Epoch 49/100\n",
      "118/118 - 0s - loss: 0.3999 - sparse_categorical_accuracy: 0.8765 - val_loss: 0.4990 - val_sparse_categorical_accuracy: 0.8419 - 397ms/epoch - 3ms/step\n",
      "Epoch 50/100\n",
      "118/118 - 0s - loss: 0.3999 - sparse_categorical_accuracy: 0.8755 - val_loss: 0.5117 - val_sparse_categorical_accuracy: 0.8362 - 386ms/epoch - 3ms/step\n",
      "Epoch 51/100\n",
      "118/118 - 0s - loss: 0.3982 - sparse_categorical_accuracy: 0.8776 - val_loss: 0.5137 - val_sparse_categorical_accuracy: 0.8374 - 412ms/epoch - 3ms/step\n",
      "Epoch 52/100\n",
      "118/118 - 0s - loss: 0.3988 - sparse_categorical_accuracy: 0.8760 - val_loss: 0.5004 - val_sparse_categorical_accuracy: 0.8392 - 395ms/epoch - 3ms/step\n",
      "Epoch 53/100\n",
      "118/118 - 0s - loss: 0.3948 - sparse_categorical_accuracy: 0.8767 - val_loss: 0.4945 - val_sparse_categorical_accuracy: 0.8402 - 415ms/epoch - 4ms/step\n",
      "Epoch 54/100\n",
      "118/118 - 0s - loss: 0.3931 - sparse_categorical_accuracy: 0.8769 - val_loss: 0.4984 - val_sparse_categorical_accuracy: 0.8396 - 422ms/epoch - 4ms/step\n",
      "Epoch 55/100\n",
      "118/118 - 0s - loss: 0.3900 - sparse_categorical_accuracy: 0.8776 - val_loss: 0.5118 - val_sparse_categorical_accuracy: 0.8364 - 414ms/epoch - 4ms/step\n",
      "Epoch 56/100\n",
      "118/118 - 0s - loss: 0.4000 - sparse_categorical_accuracy: 0.8748 - val_loss: 0.4994 - val_sparse_categorical_accuracy: 0.8372 - 397ms/epoch - 3ms/step\n",
      "Epoch 57/100\n",
      "118/118 - 0s - loss: 0.3927 - sparse_categorical_accuracy: 0.8784 - val_loss: 0.4979 - val_sparse_categorical_accuracy: 0.8395 - 387ms/epoch - 3ms/step\n",
      "Epoch 58/100\n",
      "118/118 - 0s - loss: 0.3894 - sparse_categorical_accuracy: 0.8774 - val_loss: 0.4970 - val_sparse_categorical_accuracy: 0.8421 - 393ms/epoch - 3ms/step\n",
      "Epoch 59/100\n",
      "118/118 - 0s - loss: 0.3916 - sparse_categorical_accuracy: 0.8752 - val_loss: 0.5133 - val_sparse_categorical_accuracy: 0.8314 - 400ms/epoch - 3ms/step\n",
      "Epoch 60/100\n",
      "118/118 - 0s - loss: 0.3932 - sparse_categorical_accuracy: 0.8748 - val_loss: 0.5022 - val_sparse_categorical_accuracy: 0.8376 - 411ms/epoch - 3ms/step\n",
      "Epoch 61/100\n",
      "118/118 - 0s - loss: 0.3903 - sparse_categorical_accuracy: 0.8772 - val_loss: 0.5047 - val_sparse_categorical_accuracy: 0.8371 - 418ms/epoch - 4ms/step\n",
      "Epoch 62/100\n",
      "118/118 - 0s - loss: 0.3920 - sparse_categorical_accuracy: 0.8755 - val_loss: 0.4982 - val_sparse_categorical_accuracy: 0.8391 - 384ms/epoch - 3ms/step\n",
      "Epoch 63/100\n",
      "118/118 - 0s - loss: 0.3916 - sparse_categorical_accuracy: 0.8764 - val_loss: 0.4932 - val_sparse_categorical_accuracy: 0.8386 - 406ms/epoch - 3ms/step\n",
      "Epoch 64/100\n",
      "118/118 - 0s - loss: 0.3887 - sparse_categorical_accuracy: 0.8769 - val_loss: 0.5021 - val_sparse_categorical_accuracy: 0.8358 - 390ms/epoch - 3ms/step\n",
      "Epoch 65/100\n",
      "118/118 - 0s - loss: 0.3859 - sparse_categorical_accuracy: 0.8770 - val_loss: 0.4911 - val_sparse_categorical_accuracy: 0.8380 - 407ms/epoch - 3ms/step\n",
      "Epoch 66/100\n",
      "118/118 - 0s - loss: 0.3818 - sparse_categorical_accuracy: 0.8784 - val_loss: 0.4951 - val_sparse_categorical_accuracy: 0.8391 - 395ms/epoch - 3ms/step\n",
      "Epoch 67/100\n",
      "118/118 - 0s - loss: 0.3806 - sparse_categorical_accuracy: 0.8785 - val_loss: 0.4917 - val_sparse_categorical_accuracy: 0.8401 - 388ms/epoch - 3ms/step\n",
      "Epoch 68/100\n",
      "118/118 - 0s - loss: 0.3805 - sparse_categorical_accuracy: 0.8769 - val_loss: 0.4890 - val_sparse_categorical_accuracy: 0.8407 - 395ms/epoch - 3ms/step\n",
      "Epoch 69/100\n",
      "118/118 - 0s - loss: 0.3775 - sparse_categorical_accuracy: 0.8790 - val_loss: 0.4932 - val_sparse_categorical_accuracy: 0.8422 - 417ms/epoch - 4ms/step\n",
      "Epoch 70/100\n",
      "118/118 - 0s - loss: 0.3812 - sparse_categorical_accuracy: 0.8771 - val_loss: 0.4920 - val_sparse_categorical_accuracy: 0.8395 - 404ms/epoch - 3ms/step\n",
      "Epoch 71/100\n",
      "118/118 - 0s - loss: 0.3864 - sparse_categorical_accuracy: 0.8750 - val_loss: 0.5137 - val_sparse_categorical_accuracy: 0.8327 - 396ms/epoch - 3ms/step\n",
      "Epoch 72/100\n",
      "118/118 - 0s - loss: 0.3840 - sparse_categorical_accuracy: 0.8765 - val_loss: 0.4982 - val_sparse_categorical_accuracy: 0.8370 - 407ms/epoch - 3ms/step\n",
      "Epoch 73/100\n",
      "118/118 - 0s - loss: 0.3844 - sparse_categorical_accuracy: 0.8760 - val_loss: 0.4968 - val_sparse_categorical_accuracy: 0.8395 - 390ms/epoch - 3ms/step\n",
      "Epoch 74/100\n",
      "118/118 - 0s - loss: 0.3775 - sparse_categorical_accuracy: 0.8773 - val_loss: 0.4892 - val_sparse_categorical_accuracy: 0.8412 - 434ms/epoch - 4ms/step\n",
      "Epoch 75/100\n",
      "118/118 - 0s - loss: 0.3727 - sparse_categorical_accuracy: 0.8802 - val_loss: 0.4853 - val_sparse_categorical_accuracy: 0.8404 - 406ms/epoch - 3ms/step\n",
      "Epoch 76/100\n",
      "118/118 - 0s - loss: 0.3770 - sparse_categorical_accuracy: 0.8773 - val_loss: 0.4945 - val_sparse_categorical_accuracy: 0.8376 - 411ms/epoch - 3ms/step\n",
      "Epoch 77/100\n",
      "118/118 - 0s - loss: 0.3835 - sparse_categorical_accuracy: 0.8748 - val_loss: 0.4925 - val_sparse_categorical_accuracy: 0.8370 - 416ms/epoch - 4ms/step\n",
      "Epoch 78/100\n",
      "118/118 - 0s - loss: 0.3803 - sparse_categorical_accuracy: 0.8779 - val_loss: 0.4941 - val_sparse_categorical_accuracy: 0.8333 - 391ms/epoch - 3ms/step\n",
      "Epoch 79/100\n",
      "118/118 - 0s - loss: 0.3765 - sparse_categorical_accuracy: 0.8783 - val_loss: 0.4970 - val_sparse_categorical_accuracy: 0.8378 - 399ms/epoch - 3ms/step\n",
      "Epoch 80/100\n",
      "118/118 - 0s - loss: 0.3813 - sparse_categorical_accuracy: 0.8767 - val_loss: 0.5185 - val_sparse_categorical_accuracy: 0.8263 - 391ms/epoch - 3ms/step\n",
      "Epoch 81/100\n",
      "118/118 - 0s - loss: 0.3818 - sparse_categorical_accuracy: 0.8752 - val_loss: 0.5004 - val_sparse_categorical_accuracy: 0.8366 - 401ms/epoch - 3ms/step\n",
      "Epoch 82/100\n",
      "118/118 - 0s - loss: 0.3797 - sparse_categorical_accuracy: 0.8765 - val_loss: 0.4882 - val_sparse_categorical_accuracy: 0.8392 - 388ms/epoch - 3ms/step\n",
      "Epoch 83/100\n",
      "118/118 - 0s - loss: 0.3798 - sparse_categorical_accuracy: 0.8762 - val_loss: 0.4886 - val_sparse_categorical_accuracy: 0.8390 - 392ms/epoch - 3ms/step\n",
      "Epoch 84/100\n",
      "118/118 - 0s - loss: 0.3767 - sparse_categorical_accuracy: 0.8773 - val_loss: 0.4874 - val_sparse_categorical_accuracy: 0.8397 - 406ms/epoch - 3ms/step\n",
      "Epoch 85/100\n",
      "118/118 - 0s - loss: 0.3750 - sparse_categorical_accuracy: 0.8779 - val_loss: 0.4975 - val_sparse_categorical_accuracy: 0.8374 - 402ms/epoch - 3ms/step\n",
      "Epoch 86/100\n",
      "118/118 - 0s - loss: 0.3778 - sparse_categorical_accuracy: 0.8765 - val_loss: 0.4857 - val_sparse_categorical_accuracy: 0.8375 - 391ms/epoch - 3ms/step\n",
      "Epoch 87/100\n",
      "118/118 - 0s - loss: 0.3778 - sparse_categorical_accuracy: 0.8759 - val_loss: 0.4965 - val_sparse_categorical_accuracy: 0.8367 - 408ms/epoch - 3ms/step\n",
      "Epoch 88/100\n",
      "118/118 - 0s - loss: 0.3796 - sparse_categorical_accuracy: 0.8759 - val_loss: 0.4878 - val_sparse_categorical_accuracy: 0.8412 - 403ms/epoch - 3ms/step\n",
      "Epoch 89/100\n",
      "118/118 - 0s - loss: 0.3779 - sparse_categorical_accuracy: 0.8762 - val_loss: 0.4987 - val_sparse_categorical_accuracy: 0.8343 - 409ms/epoch - 3ms/step\n",
      "Epoch 90/100\n",
      "118/118 - 0s - loss: 0.3783 - sparse_categorical_accuracy: 0.8760 - val_loss: 0.4851 - val_sparse_categorical_accuracy: 0.8410 - 411ms/epoch - 3ms/step\n",
      "Epoch 91/100\n",
      "118/118 - 0s - loss: 0.3678 - sparse_categorical_accuracy: 0.8795 - val_loss: 0.4858 - val_sparse_categorical_accuracy: 0.8403 - 430ms/epoch - 4ms/step\n",
      "Epoch 92/100\n",
      "118/118 - 0s - loss: 0.3748 - sparse_categorical_accuracy: 0.8776 - val_loss: 0.4878 - val_sparse_categorical_accuracy: 0.8375 - 422ms/epoch - 4ms/step\n",
      "Epoch 93/100\n",
      "118/118 - 0s - loss: 0.3697 - sparse_categorical_accuracy: 0.8795 - val_loss: 0.4958 - val_sparse_categorical_accuracy: 0.8375 - 394ms/epoch - 3ms/step\n",
      "Epoch 94/100\n",
      "118/118 - 0s - loss: 0.3748 - sparse_categorical_accuracy: 0.8769 - val_loss: 0.4891 - val_sparse_categorical_accuracy: 0.8392 - 394ms/epoch - 3ms/step\n",
      "Epoch 95/100\n",
      "118/118 - 0s - loss: 0.3725 - sparse_categorical_accuracy: 0.8774 - val_loss: 0.4936 - val_sparse_categorical_accuracy: 0.8368 - 403ms/epoch - 3ms/step\n",
      "Epoch 96/100\n",
      "118/118 - 0s - loss: 0.3735 - sparse_categorical_accuracy: 0.8771 - val_loss: 0.4994 - val_sparse_categorical_accuracy: 0.8354 - 418ms/epoch - 4ms/step\n",
      "Epoch 97/100\n",
      "118/118 - 0s - loss: 0.3716 - sparse_categorical_accuracy: 0.8774 - val_loss: 0.4884 - val_sparse_categorical_accuracy: 0.8395 - 396ms/epoch - 3ms/step\n",
      "Epoch 98/100\n",
      "118/118 - 0s - loss: 0.3723 - sparse_categorical_accuracy: 0.8773 - val_loss: 0.4912 - val_sparse_categorical_accuracy: 0.8359 - 408ms/epoch - 3ms/step\n",
      "Epoch 99/100\n",
      "118/118 - 0s - loss: 0.3741 - sparse_categorical_accuracy: 0.8767 - val_loss: 0.4947 - val_sparse_categorical_accuracy: 0.8343 - 398ms/epoch - 3ms/step\n",
      "Epoch 100/100\n",
      "118/118 - 0s - loss: 0.3734 - sparse_categorical_accuracy: 0.8766 - val_loss: 0.4911 - val_sparse_categorical_accuracy: 0.8378 - 383ms/epoch - 3ms/step\n"
     ]
    }
   ],
   "source": [
    "# train first, second, and third\n",
    "third_model = keras.Sequential()\n",
    "third_model.add(keras.Input(shape=(784,)))\n",
    "third_model.add(first)\n",
    "third_model.add(second)\n",
    "third_model.add(third)\n",
    "third_model.add(keras.layers.Dense(10, activation='softmax'))\n",
    "\n",
    "# unfreeze first and second\n",
    "first.trainable  = True\n",
    "second.trainable = True\n",
    "\n",
    "third_model.compile(optimizer='sgd', \n",
    "              loss='sparse_categorical_crossentropy', \n",
    "              metrics=['sparse_categorical_accuracy'])\n",
    "\n",
    "history = third_model.fit(X_train, y_train, batch_size,\n",
    "                          validation_data=(X_test, y_test),\n",
    "                          epochs=100, verbose=2)"
   ]
  },
  {
   "cell_type": "code",
   "execution_count": 16,
   "id": "HD0MljlBLVPn",
   "metadata": {
    "executionInfo": {
     "elapsed": 55,
     "status": "ok",
     "timestamp": 1640496336372,
     "user": {
      "displayName": "nguyen khoa",
      "photoUrl": "https://lh3.googleusercontent.com/a/default-user=s64",
      "userId": "18293071775377392514"
     },
     "user_tz": -420
    },
    "id": "HD0MljlBLVPn"
   },
   "outputs": [],
   "source": []
  },
  {
   "cell_type": "code",
   "execution_count": 17,
   "id": "QeeOXyzGLVfP",
   "metadata": {
    "colab": {
     "base_uri": "https://localhost:8080/",
     "height": 296
    },
    "executionInfo": {
     "elapsed": 52,
     "status": "ok",
     "timestamp": 1640496336376,
     "user": {
      "displayName": "nguyen khoa",
      "photoUrl": "https://lh3.googleusercontent.com/a/default-user=s64",
      "userId": "18293071775377392514"
     },
     "user_tz": -420
    },
    "id": "QeeOXyzGLVfP",
    "outputId": "a755ebd3-f5e4-45b2-a47a-3c375ccae181"
   },
   "outputs": [
    {
     "data": {
      "text/plain": [
       "<matplotlib.legend.Legend at 0x7fb6c0397210>"
      ]
     },
     "execution_count": 17,
     "metadata": {},
     "output_type": "execute_result"
    },
    {
     "data": {
      "image/png": "[encoded data removed]",
      "text/plain": [
       "<Figure size 432x288 with 1 Axes>"
      ]
     },
     "metadata": {
      "needs_background": "light"
     },
     "output_type": "display_data"
    }
   ],
   "source": [
    "import matplotlib.pyplot as plt\n",
    "\n",
    "plt.plot(history.history['loss'], label='loss')\n",
    "plt.plot(history.history['val_loss'], label='val_loss')\n",
    "plt.xlabel('iteration')\n",
    "plt.ylabel('Loss')\n",
    "plt.legend()"
   ]
  },
  {
   "cell_type": "code",
   "execution_count": 17,
   "id": "tWVWG6bVLVfS",
   "metadata": {
    "executionInfo": {
     "elapsed": 43,
     "status": "ok",
     "timestamp": 1640496336380,
     "user": {
      "displayName": "nguyen khoa",
      "photoUrl": "https://lh3.googleusercontent.com/a/default-user=s64",
      "userId": "18293071775377392514"
     },
     "user_tz": -420
    },
    "id": "tWVWG6bVLVfS"
   },
   "outputs": [],
   "source": []
  },
  {
   "cell_type": "code",
   "execution_count": 18,
   "id": "URKj17ikLVfT",
   "metadata": {
    "colab": {
     "base_uri": "https://localhost:8080/",
     "height": 298
    },
    "executionInfo": {
     "elapsed": 520,
     "status": "ok",
     "timestamp": 1640496336861,
     "user": {
      "displayName": "nguyen khoa",
      "photoUrl": "https://lh3.googleusercontent.com/a/default-user=s64",
      "userId": "18293071775377392514"
     },
     "user_tz": -420
    },
    "id": "URKj17ikLVfT",
    "outputId": "eeb7cb55-2089-449a-9477-6b27583856c1"
   },
   "outputs": [
    {
     "data": {
      "text/plain": [
       "<matplotlib.legend.Legend at 0x7fb6c04cb850>"
      ]
     },
     "execution_count": 18,
     "metadata": {},
     "output_type": "execute_result"
    },
    {
     "data": {
      "image/png": "[encoded data removed]",
      "text/plain": [
       "<Figure size 432x288 with 1 Axes>"
      ]
     },
     "metadata": {
      "needs_background": "light"
     },
     "output_type": "display_data"
    }
   ],
   "source": [
    "import matplotlib.pyplot as plt\n",
    "\n",
    "plt.plot(history.history['sparse_categorical_accuracy'], label='train_accuracy')\n",
    "plt.plot(history.history['val_sparse_categorical_accuracy'], label='val_accuracy')\n",
    "plt.xlabel('iteration')\n",
    "plt.ylabel('Accuracy')\n",
    "plt.legend()"
   ]
  },
  {
   "cell_type": "code",
   "execution_count": 18,
   "id": "27cc22bf",
   "metadata": {
    "executionInfo": {
     "elapsed": 33,
     "status": "ok",
     "timestamp": 1640496336865,
     "user": {
      "displayName": "nguyen khoa",
      "photoUrl": "https://lh3.googleusercontent.com/a/default-user=s64",
      "userId": "18293071775377392514"
     },
     "user_tz": -420
    },
    "id": "27cc22bf"
   },
   "outputs": [],
   "source": []
  },
  {
   "cell_type": "code",
   "execution_count": 19,
   "id": "16c07e2a",
   "metadata": {
    "colab": {
     "base_uri": "https://localhost:8080/"
    },
    "executionInfo": {
     "elapsed": 38478,
     "status": "ok",
     "timestamp": 1640496375315,
     "user": {
      "displayName": "nguyen khoa",
      "photoUrl": "https://lh3.googleusercontent.com/a/default-user=s64",
      "userId": "18293071775377392514"
     },
     "user_tz": -420
    },
    "id": "16c07e2a",
    "outputId": "ce966415-4968-4d0b-effd-e386352c29d0"
   },
   "outputs": [
    {
     "name": "stdout",
     "output_type": "stream",
     "text": [
      "Epoch 1/100\n",
      "118/118 - 1s - loss: 2.2330 - sparse_categorical_accuracy: 0.3293 - val_loss: 2.1564 - val_sparse_categorical_accuracy: 0.5713 - 1s/epoch - 9ms/step\n",
      "Epoch 2/100\n",
      "118/118 - 0s - loss: 2.0853 - sparse_categorical_accuracy: 0.6766 - val_loss: 2.0195 - val_sparse_categorical_accuracy: 0.7282 - 406ms/epoch - 3ms/step\n",
      "Epoch 3/100\n",
      "118/118 - 0s - loss: 1.9481 - sparse_categorical_accuracy: 0.7873 - val_loss: 1.8863 - val_sparse_categorical_accuracy: 0.7672 - 387ms/epoch - 3ms/step\n",
      "Epoch 4/100\n",
      "118/118 - 0s - loss: 1.8141 - sparse_categorical_accuracy: 0.8272 - val_loss: 1.7566 - val_sparse_categorical_accuracy: 0.7861 - 375ms/epoch - 3ms/step\n",
      "Epoch 5/100\n",
      "118/118 - 0s - loss: 1.6842 - sparse_categorical_accuracy: 0.8429 - val_loss: 1.6325 - val_sparse_categorical_accuracy: 0.8159 - 394ms/epoch - 3ms/step\n",
      "Epoch 6/100\n",
      "118/118 - 0s - loss: 1.5610 - sparse_categorical_accuracy: 0.8572 - val_loss: 1.5161 - val_sparse_categorical_accuracy: 0.8203 - 362ms/epoch - 3ms/step\n",
      "Epoch 7/100\n",
      "118/118 - 0s - loss: 1.4461 - sparse_categorical_accuracy: 0.8627 - val_loss: 1.4092 - val_sparse_categorical_accuracy: 0.8263 - 400ms/epoch - 3ms/step\n",
      "Epoch 8/100\n",
      "118/118 - 0s - loss: 1.3411 - sparse_categorical_accuracy: 0.8674 - val_loss: 1.3122 - val_sparse_categorical_accuracy: 0.8284 - 363ms/epoch - 3ms/step\n",
      "Epoch 9/100\n",
      "118/118 - 0s - loss: 1.2459 - sparse_categorical_accuracy: 0.8679 - val_loss: 1.2251 - val_sparse_categorical_accuracy: 0.8334 - 376ms/epoch - 3ms/step\n",
      "Epoch 10/100\n",
      "118/118 - 0s - loss: 1.1604 - sparse_categorical_accuracy: 0.8705 - val_loss: 1.1473 - val_sparse_categorical_accuracy: 0.8347 - 398ms/epoch - 3ms/step\n",
      "Epoch 11/100\n",
      "118/118 - 0s - loss: 1.0838 - sparse_categorical_accuracy: 0.8718 - val_loss: 1.0782 - val_sparse_categorical_accuracy: 0.8372 - 361ms/epoch - 3ms/step\n",
      "Epoch 12/100\n",
      "118/118 - 0s - loss: 1.0156 - sparse_categorical_accuracy: 0.8732 - val_loss: 1.0169 - val_sparse_categorical_accuracy: 0.8362 - 368ms/epoch - 3ms/step\n",
      "Epoch 13/100\n",
      "118/118 - 0s - loss: 0.9548 - sparse_categorical_accuracy: 0.8735 - val_loss: 0.9625 - val_sparse_categorical_accuracy: 0.8369 - 378ms/epoch - 3ms/step\n",
      "Epoch 14/100\n",
      "118/118 - 0s - loss: 0.9006 - sparse_categorical_accuracy: 0.8740 - val_loss: 0.9144 - val_sparse_categorical_accuracy: 0.8377 - 385ms/epoch - 3ms/step\n",
      "Epoch 15/100\n",
      "118/118 - 0s - loss: 0.8524 - sparse_categorical_accuracy: 0.8753 - val_loss: 0.8719 - val_sparse_categorical_accuracy: 0.8371 - 370ms/epoch - 3ms/step\n",
      "Epoch 16/100\n",
      "118/118 - 0s - loss: 0.8096 - sparse_categorical_accuracy: 0.8752 - val_loss: 0.8342 - val_sparse_categorical_accuracy: 0.8385 - 369ms/epoch - 3ms/step\n",
      "Epoch 17/100\n",
      "118/118 - 0s - loss: 0.7714 - sparse_categorical_accuracy: 0.8756 - val_loss: 0.8009 - val_sparse_categorical_accuracy: 0.8385 - 374ms/epoch - 3ms/step\n",
      "Epoch 18/100\n",
      "118/118 - 0s - loss: 0.7374 - sparse_categorical_accuracy: 0.8762 - val_loss: 0.7714 - val_sparse_categorical_accuracy: 0.8381 - 390ms/epoch - 3ms/step\n",
      "Epoch 19/100\n",
      "118/118 - 0s - loss: 0.7070 - sparse_categorical_accuracy: 0.8763 - val_loss: 0.7451 - val_sparse_categorical_accuracy: 0.8392 - 373ms/epoch - 3ms/step\n",
      "Epoch 20/100\n",
      "118/118 - 0s - loss: 0.6798 - sparse_categorical_accuracy: 0.8767 - val_loss: 0.7219 - val_sparse_categorical_accuracy: 0.8378 - 379ms/epoch - 3ms/step\n",
      "Epoch 21/100\n",
      "118/118 - 0s - loss: 0.6555 - sparse_categorical_accuracy: 0.8770 - val_loss: 0.7010 - val_sparse_categorical_accuracy: 0.8384 - 402ms/epoch - 3ms/step\n",
      "Epoch 22/100\n",
      "118/118 - 0s - loss: 0.6336 - sparse_categorical_accuracy: 0.8773 - val_loss: 0.6825 - val_sparse_categorical_accuracy: 0.8383 - 380ms/epoch - 3ms/step\n",
      "Epoch 23/100\n",
      "118/118 - 0s - loss: 0.6139 - sparse_categorical_accuracy: 0.8778 - val_loss: 0.6659 - val_sparse_categorical_accuracy: 0.8383 - 384ms/epoch - 3ms/step\n",
      "Epoch 24/100\n",
      "118/118 - 0s - loss: 0.5961 - sparse_categorical_accuracy: 0.8779 - val_loss: 0.6510 - val_sparse_categorical_accuracy: 0.8384 - 362ms/epoch - 3ms/step\n",
      "Epoch 25/100\n",
      "118/118 - 0s - loss: 0.5800 - sparse_categorical_accuracy: 0.8784 - val_loss: 0.6376 - val_sparse_categorical_accuracy: 0.8389 - 387ms/epoch - 3ms/step\n",
      "Epoch 26/100\n",
      "118/118 - 0s - loss: 0.5654 - sparse_categorical_accuracy: 0.8784 - val_loss: 0.6256 - val_sparse_categorical_accuracy: 0.8382 - 375ms/epoch - 3ms/step\n",
      "Epoch 27/100\n",
      "118/118 - 0s - loss: 0.5521 - sparse_categorical_accuracy: 0.8785 - val_loss: 0.6146 - val_sparse_categorical_accuracy: 0.8385 - 372ms/epoch - 3ms/step\n",
      "Epoch 28/100\n",
      "118/118 - 0s - loss: 0.5400 - sparse_categorical_accuracy: 0.8783 - val_loss: 0.6049 - val_sparse_categorical_accuracy: 0.8386 - 356ms/epoch - 3ms/step\n",
      "Epoch 29/100\n",
      "118/118 - 0s - loss: 0.5289 - sparse_categorical_accuracy: 0.8787 - val_loss: 0.5959 - val_sparse_categorical_accuracy: 0.8385 - 388ms/epoch - 3ms/step\n",
      "Epoch 30/100\n",
      "118/118 - 0s - loss: 0.5188 - sparse_categorical_accuracy: 0.8785 - val_loss: 0.5878 - val_sparse_categorical_accuracy: 0.8385 - 377ms/epoch - 3ms/step\n",
      "Epoch 31/100\n",
      "118/118 - 0s - loss: 0.5095 - sparse_categorical_accuracy: 0.8789 - val_loss: 0.5806 - val_sparse_categorical_accuracy: 0.8396 - 374ms/epoch - 3ms/step\n",
      "Epoch 32/100\n",
      "118/118 - 0s - loss: 0.5010 - sparse_categorical_accuracy: 0.8788 - val_loss: 0.5738 - val_sparse_categorical_accuracy: 0.8389 - 358ms/epoch - 3ms/step\n",
      "Epoch 33/100\n",
      "118/118 - 0s - loss: 0.4931 - sparse_categorical_accuracy: 0.8785 - val_loss: 0.5678 - val_sparse_categorical_accuracy: 0.8390 - 365ms/epoch - 3ms/step\n",
      "Epoch 34/100\n",
      "118/118 - 0s - loss: 0.4859 - sparse_categorical_accuracy: 0.8791 - val_loss: 0.5622 - val_sparse_categorical_accuracy: 0.8388 - 389ms/epoch - 3ms/step\n",
      "Epoch 35/100\n",
      "118/118 - 0s - loss: 0.4792 - sparse_categorical_accuracy: 0.8790 - val_loss: 0.5572 - val_sparse_categorical_accuracy: 0.8396 - 378ms/epoch - 3ms/step\n",
      "Epoch 36/100\n",
      "118/118 - 0s - loss: 0.4730 - sparse_categorical_accuracy: 0.8787 - val_loss: 0.5524 - val_sparse_categorical_accuracy: 0.8389 - 359ms/epoch - 3ms/step\n",
      "Epoch 37/100\n",
      "118/118 - 0s - loss: 0.4672 - sparse_categorical_accuracy: 0.8789 - val_loss: 0.5482 - val_sparse_categorical_accuracy: 0.8392 - 369ms/epoch - 3ms/step\n",
      "Epoch 38/100\n",
      "118/118 - 0s - loss: 0.4619 - sparse_categorical_accuracy: 0.8789 - val_loss: 0.5442 - val_sparse_categorical_accuracy: 0.8382 - 381ms/epoch - 3ms/step\n",
      "Epoch 39/100\n",
      "118/118 - 0s - loss: 0.4569 - sparse_categorical_accuracy: 0.8790 - val_loss: 0.5406 - val_sparse_categorical_accuracy: 0.8385 - 384ms/epoch - 3ms/step\n",
      "Epoch 40/100\n",
      "118/118 - 0s - loss: 0.4523 - sparse_categorical_accuracy: 0.8791 - val_loss: 0.5372 - val_sparse_categorical_accuracy: 0.8389 - 374ms/epoch - 3ms/step\n",
      "Epoch 41/100\n",
      "118/118 - 0s - loss: 0.4480 - sparse_categorical_accuracy: 0.8792 - val_loss: 0.5342 - val_sparse_categorical_accuracy: 0.8387 - 355ms/epoch - 3ms/step\n",
      "Epoch 42/100\n",
      "118/118 - 0s - loss: 0.4439 - sparse_categorical_accuracy: 0.8791 - val_loss: 0.5313 - val_sparse_categorical_accuracy: 0.8394 - 382ms/epoch - 3ms/step\n",
      "Epoch 43/100\n",
      "118/118 - 0s - loss: 0.4402 - sparse_categorical_accuracy: 0.8792 - val_loss: 0.5287 - val_sparse_categorical_accuracy: 0.8395 - 383ms/epoch - 3ms/step\n",
      "Epoch 44/100\n",
      "118/118 - 0s - loss: 0.4367 - sparse_categorical_accuracy: 0.8792 - val_loss: 0.5263 - val_sparse_categorical_accuracy: 0.8391 - 357ms/epoch - 3ms/step\n",
      "Epoch 45/100\n",
      "118/118 - 0s - loss: 0.4333 - sparse_categorical_accuracy: 0.8793 - val_loss: 0.5241 - val_sparse_categorical_accuracy: 0.8395 - 393ms/epoch - 3ms/step\n",
      "Epoch 46/100\n",
      "118/118 - 0s - loss: 0.4302 - sparse_categorical_accuracy: 0.8794 - val_loss: 0.5221 - val_sparse_categorical_accuracy: 0.8395 - 360ms/epoch - 3ms/step\n",
      "Epoch 47/100\n",
      "118/118 - 0s - loss: 0.4273 - sparse_categorical_accuracy: 0.8793 - val_loss: 0.5201 - val_sparse_categorical_accuracy: 0.8392 - 367ms/epoch - 3ms/step\n",
      "Epoch 48/100\n",
      "118/118 - 0s - loss: 0.4246 - sparse_categorical_accuracy: 0.8793 - val_loss: 0.5183 - val_sparse_categorical_accuracy: 0.8396 - 387ms/epoch - 3ms/step\n",
      "Epoch 49/100\n",
      "118/118 - 0s - loss: 0.4220 - sparse_categorical_accuracy: 0.8793 - val_loss: 0.5167 - val_sparse_categorical_accuracy: 0.8394 - 385ms/epoch - 3ms/step\n",
      "Epoch 50/100\n",
      "118/118 - 0s - loss: 0.4196 - sparse_categorical_accuracy: 0.8792 - val_loss: 0.5151 - val_sparse_categorical_accuracy: 0.8392 - 380ms/epoch - 3ms/step\n",
      "Epoch 51/100\n",
      "118/118 - 0s - loss: 0.4173 - sparse_categorical_accuracy: 0.8793 - val_loss: 0.5137 - val_sparse_categorical_accuracy: 0.8394 - 372ms/epoch - 3ms/step\n",
      "Epoch 52/100\n",
      "118/118 - 0s - loss: 0.4151 - sparse_categorical_accuracy: 0.8793 - val_loss: 0.5124 - val_sparse_categorical_accuracy: 0.8395 - 363ms/epoch - 3ms/step\n",
      "Epoch 53/100\n",
      "118/118 - 0s - loss: 0.4130 - sparse_categorical_accuracy: 0.8796 - val_loss: 0.5111 - val_sparse_categorical_accuracy: 0.8396 - 387ms/epoch - 3ms/step\n",
      "Epoch 54/100\n",
      "118/118 - 0s - loss: 0.4111 - sparse_categorical_accuracy: 0.8793 - val_loss: 0.5100 - val_sparse_categorical_accuracy: 0.8396 - 359ms/epoch - 3ms/step\n",
      "Epoch 55/100\n",
      "118/118 - 0s - loss: 0.4093 - sparse_categorical_accuracy: 0.8795 - val_loss: 0.5089 - val_sparse_categorical_accuracy: 0.8392 - 386ms/epoch - 3ms/step\n",
      "Epoch 56/100\n",
      "118/118 - 0s - loss: 0.4075 - sparse_categorical_accuracy: 0.8794 - val_loss: 0.5080 - val_sparse_categorical_accuracy: 0.8393 - 390ms/epoch - 3ms/step\n",
      "Epoch 57/100\n",
      "118/118 - 0s - loss: 0.4059 - sparse_categorical_accuracy: 0.8794 - val_loss: 0.5070 - val_sparse_categorical_accuracy: 0.8392 - 371ms/epoch - 3ms/step\n",
      "Epoch 58/100\n",
      "118/118 - 0s - loss: 0.4043 - sparse_categorical_accuracy: 0.8794 - val_loss: 0.5062 - val_sparse_categorical_accuracy: 0.8392 - 368ms/epoch - 3ms/step\n",
      "Epoch 59/100\n",
      "118/118 - 0s - loss: 0.4028 - sparse_categorical_accuracy: 0.8797 - val_loss: 0.5054 - val_sparse_categorical_accuracy: 0.8392 - 367ms/epoch - 3ms/step\n",
      "Epoch 60/100\n",
      "118/118 - 0s - loss: 0.4014 - sparse_categorical_accuracy: 0.8796 - val_loss: 0.5046 - val_sparse_categorical_accuracy: 0.8395 - 356ms/epoch - 3ms/step\n",
      "Epoch 61/100\n",
      "118/118 - 0s - loss: 0.4001 - sparse_categorical_accuracy: 0.8796 - val_loss: 0.5039 - val_sparse_categorical_accuracy: 0.8391 - 368ms/epoch - 3ms/step\n",
      "Epoch 62/100\n",
      "118/118 - 0s - loss: 0.3988 - sparse_categorical_accuracy: 0.8795 - val_loss: 0.5033 - val_sparse_categorical_accuracy: 0.8394 - 369ms/epoch - 3ms/step\n",
      "Epoch 63/100\n",
      "118/118 - 0s - loss: 0.3976 - sparse_categorical_accuracy: 0.8797 - val_loss: 0.5027 - val_sparse_categorical_accuracy: 0.8393 - 374ms/epoch - 3ms/step\n",
      "Epoch 64/100\n",
      "118/118 - 0s - loss: 0.3964 - sparse_categorical_accuracy: 0.8798 - val_loss: 0.5020 - val_sparse_categorical_accuracy: 0.8395 - 374ms/epoch - 3ms/step\n",
      "Epoch 65/100\n",
      "118/118 - 0s - loss: 0.3953 - sparse_categorical_accuracy: 0.8795 - val_loss: 0.5016 - val_sparse_categorical_accuracy: 0.8391 - 362ms/epoch - 3ms/step\n",
      "Epoch 66/100\n",
      "118/118 - 0s - loss: 0.3942 - sparse_categorical_accuracy: 0.8797 - val_loss: 0.5011 - val_sparse_categorical_accuracy: 0.8392 - 362ms/epoch - 3ms/step\n",
      "Epoch 67/100\n",
      "118/118 - 0s - loss: 0.3932 - sparse_categorical_accuracy: 0.8797 - val_loss: 0.5006 - val_sparse_categorical_accuracy: 0.8392 - 361ms/epoch - 3ms/step\n",
      "Epoch 68/100\n",
      "118/118 - 0s - loss: 0.3922 - sparse_categorical_accuracy: 0.8801 - val_loss: 0.5002 - val_sparse_categorical_accuracy: 0.8398 - 372ms/epoch - 3ms/step\n",
      "Epoch 69/100\n",
      "118/118 - 0s - loss: 0.3913 - sparse_categorical_accuracy: 0.8796 - val_loss: 0.4998 - val_sparse_categorical_accuracy: 0.8395 - 374ms/epoch - 3ms/step\n",
      "Epoch 70/100\n",
      "118/118 - 0s - loss: 0.3904 - sparse_categorical_accuracy: 0.8799 - val_loss: 0.4994 - val_sparse_categorical_accuracy: 0.8391 - 377ms/epoch - 3ms/step\n",
      "Epoch 71/100\n",
      "118/118 - 0s - loss: 0.3896 - sparse_categorical_accuracy: 0.8796 - val_loss: 0.4991 - val_sparse_categorical_accuracy: 0.8393 - 372ms/epoch - 3ms/step\n",
      "Epoch 72/100\n",
      "118/118 - 0s - loss: 0.3888 - sparse_categorical_accuracy: 0.8798 - val_loss: 0.4987 - val_sparse_categorical_accuracy: 0.8391 - 374ms/epoch - 3ms/step\n",
      "Epoch 73/100\n",
      "118/118 - 0s - loss: 0.3880 - sparse_categorical_accuracy: 0.8798 - val_loss: 0.4984 - val_sparse_categorical_accuracy: 0.8399 - 375ms/epoch - 3ms/step\n",
      "Epoch 74/100\n",
      "118/118 - 0s - loss: 0.3873 - sparse_categorical_accuracy: 0.8799 - val_loss: 0.4981 - val_sparse_categorical_accuracy: 0.8393 - 379ms/epoch - 3ms/step\n",
      "Epoch 75/100\n",
      "118/118 - 0s - loss: 0.3865 - sparse_categorical_accuracy: 0.8799 - val_loss: 0.4978 - val_sparse_categorical_accuracy: 0.8395 - 365ms/epoch - 3ms/step\n",
      "Epoch 76/100\n",
      "118/118 - 0s - loss: 0.3859 - sparse_categorical_accuracy: 0.8799 - val_loss: 0.4976 - val_sparse_categorical_accuracy: 0.8390 - 402ms/epoch - 3ms/step\n",
      "Epoch 77/100\n",
      "118/118 - 0s - loss: 0.3852 - sparse_categorical_accuracy: 0.8798 - val_loss: 0.4974 - val_sparse_categorical_accuracy: 0.8392 - 381ms/epoch - 3ms/step\n",
      "Epoch 78/100\n",
      "118/118 - 0s - loss: 0.3846 - sparse_categorical_accuracy: 0.8799 - val_loss: 0.4972 - val_sparse_categorical_accuracy: 0.8391 - 357ms/epoch - 3ms/step\n",
      "Epoch 79/100\n",
      "118/118 - 0s - loss: 0.3839 - sparse_categorical_accuracy: 0.8797 - val_loss: 0.4970 - val_sparse_categorical_accuracy: 0.8395 - 377ms/epoch - 3ms/step\n",
      "Epoch 80/100\n",
      "118/118 - 0s - loss: 0.3834 - sparse_categorical_accuracy: 0.8798 - val_loss: 0.4967 - val_sparse_categorical_accuracy: 0.8394 - 387ms/epoch - 3ms/step\n",
      "Epoch 81/100\n",
      "118/118 - 0s - loss: 0.3828 - sparse_categorical_accuracy: 0.8799 - val_loss: 0.4966 - val_sparse_categorical_accuracy: 0.8394 - 369ms/epoch - 3ms/step\n",
      "Epoch 82/100\n",
      "118/118 - 0s - loss: 0.3823 - sparse_categorical_accuracy: 0.8800 - val_loss: 0.4964 - val_sparse_categorical_accuracy: 0.8392 - 372ms/epoch - 3ms/step\n",
      "Epoch 83/100\n",
      "118/118 - 0s - loss: 0.3817 - sparse_categorical_accuracy: 0.8799 - val_loss: 0.4963 - val_sparse_categorical_accuracy: 0.8391 - 376ms/epoch - 3ms/step\n",
      "Epoch 84/100\n",
      "118/118 - 0s - loss: 0.3812 - sparse_categorical_accuracy: 0.8799 - val_loss: 0.4961 - val_sparse_categorical_accuracy: 0.8392 - 385ms/epoch - 3ms/step\n",
      "Epoch 85/100\n",
      "118/118 - 0s - loss: 0.3807 - sparse_categorical_accuracy: 0.8799 - val_loss: 0.4960 - val_sparse_categorical_accuracy: 0.8392 - 389ms/epoch - 3ms/step\n",
      "Epoch 86/100\n",
      "118/118 - 0s - loss: 0.3802 - sparse_categorical_accuracy: 0.8797 - val_loss: 0.4959 - val_sparse_categorical_accuracy: 0.8395 - 361ms/epoch - 3ms/step\n",
      "Epoch 87/100\n",
      "118/118 - 0s - loss: 0.3798 - sparse_categorical_accuracy: 0.8798 - val_loss: 0.4957 - val_sparse_categorical_accuracy: 0.8399 - 378ms/epoch - 3ms/step\n",
      "Epoch 88/100\n",
      "118/118 - 0s - loss: 0.3794 - sparse_categorical_accuracy: 0.8800 - val_loss: 0.4956 - val_sparse_categorical_accuracy: 0.8398 - 385ms/epoch - 3ms/step\n",
      "Epoch 89/100\n",
      "118/118 - 0s - loss: 0.3790 - sparse_categorical_accuracy: 0.8798 - val_loss: 0.4956 - val_sparse_categorical_accuracy: 0.8394 - 371ms/epoch - 3ms/step\n",
      "Epoch 90/100\n",
      "118/118 - 0s - loss: 0.3785 - sparse_categorical_accuracy: 0.8801 - val_loss: 0.4954 - val_sparse_categorical_accuracy: 0.8395 - 378ms/epoch - 3ms/step\n",
      "Epoch 91/100\n",
      "118/118 - 0s - loss: 0.3781 - sparse_categorical_accuracy: 0.8799 - val_loss: 0.4953 - val_sparse_categorical_accuracy: 0.8392 - 374ms/epoch - 3ms/step\n",
      "Epoch 92/100\n",
      "118/118 - 0s - loss: 0.3778 - sparse_categorical_accuracy: 0.8799 - val_loss: 0.4953 - val_sparse_categorical_accuracy: 0.8391 - 371ms/epoch - 3ms/step\n",
      "Epoch 93/100\n",
      "118/118 - 0s - loss: 0.3774 - sparse_categorical_accuracy: 0.8800 - val_loss: 0.4952 - val_sparse_categorical_accuracy: 0.8397 - 382ms/epoch - 3ms/step\n",
      "Epoch 94/100\n",
      "118/118 - 0s - loss: 0.3770 - sparse_categorical_accuracy: 0.8799 - val_loss: 0.4951 - val_sparse_categorical_accuracy: 0.8394 - 370ms/epoch - 3ms/step\n",
      "Epoch 95/100\n",
      "118/118 - 0s - loss: 0.3767 - sparse_categorical_accuracy: 0.8799 - val_loss: 0.4951 - val_sparse_categorical_accuracy: 0.8391 - 371ms/epoch - 3ms/step\n",
      "Epoch 96/100\n",
      "118/118 - 0s - loss: 0.3763 - sparse_categorical_accuracy: 0.8800 - val_loss: 0.4950 - val_sparse_categorical_accuracy: 0.8396 - 389ms/epoch - 3ms/step\n",
      "Epoch 97/100\n",
      "118/118 - 0s - loss: 0.3760 - sparse_categorical_accuracy: 0.8798 - val_loss: 0.4950 - val_sparse_categorical_accuracy: 0.8399 - 376ms/epoch - 3ms/step\n",
      "Epoch 98/100\n",
      "118/118 - 0s - loss: 0.3757 - sparse_categorical_accuracy: 0.8799 - val_loss: 0.4950 - val_sparse_categorical_accuracy: 0.8395 - 367ms/epoch - 3ms/step\n",
      "Epoch 99/100\n",
      "118/118 - 0s - loss: 0.3754 - sparse_categorical_accuracy: 0.8799 - val_loss: 0.4949 - val_sparse_categorical_accuracy: 0.8395 - 367ms/epoch - 3ms/step\n",
      "Epoch 100/100\n",
      "118/118 - 0s - loss: 0.3751 - sparse_categorical_accuracy: 0.8799 - val_loss: 0.4948 - val_sparse_categorical_accuracy: 0.8392 - 362ms/epoch - 3ms/step\n"
     ]
    }
   ],
   "source": [
    "# fix first, second and third, and train fourth\n",
    "fourth_model = keras.Sequential()\n",
    "fourth_model.add(keras.Input(shape=(784,)))\n",
    "fourth_model.add(first)\n",
    "fourth_model.add(second)\n",
    "fourth_model.add(third)\n",
    "fourth_model.add(fourth)\n",
    "fourth_model.add(keras.layers.Dense(10, activation='softmax'))\n",
    "\n",
    "# freeze the first network\n",
    "first.trainable  = False\n",
    "second.trainable = False\n",
    "third.trainable  = False\n",
    "\n",
    "fourth_model.compile(optimizer='sgd', \n",
    "              loss='sparse_categorical_crossentropy', \n",
    "              metrics=['sparse_categorical_accuracy'])\n",
    "\n",
    "history = fourth_model.fit(X_train, y_train, batch_size,\n",
    "                          validation_data=(X_test, y_test),\n",
    "                          epochs=100, verbose=2)"
   ]
  },
  {
   "cell_type": "code",
   "execution_count": 19,
   "id": "TGcRSptrLYAa",
   "metadata": {
    "executionInfo": {
     "elapsed": 23,
     "status": "ok",
     "timestamp": 1640496375320,
     "user": {
      "displayName": "nguyen khoa",
      "photoUrl": "https://lh3.googleusercontent.com/a/default-user=s64",
      "userId": "18293071775377392514"
     },
     "user_tz": -420
    },
    "id": "TGcRSptrLYAa"
   },
   "outputs": [],
   "source": []
  },
  {
   "cell_type": "code",
   "execution_count": 20,
   "id": "wq1CBjg2LYVi",
   "metadata": {
    "colab": {
     "base_uri": "https://localhost:8080/",
     "height": 296
    },
    "executionInfo": {
     "elapsed": 946,
     "status": "ok",
     "timestamp": 1640496376248,
     "user": {
      "displayName": "nguyen khoa",
      "photoUrl": "https://lh3.googleusercontent.com/a/default-user=s64",
      "userId": "18293071775377392514"
     },
     "user_tz": -420
    },
    "id": "wq1CBjg2LYVi",
    "outputId": "31f7218c-0294-4243-f3a4-748dbb9a4d4f"
   },
   "outputs": [
    {
     "data": {
      "text/plain": [
       "<matplotlib.legend.Legend at 0x7fb6b871ead0>"
      ]
     },
     "execution_count": 20,
     "metadata": {},
     "output_type": "execute_result"
    },
    {
     "data": {
      "image/png": "[encoded data removed]",
      "text/plain": [
       "<Figure size 432x288 with 1 Axes>"
      ]
     },
     "metadata": {
      "needs_background": "light"
     },
     "output_type": "display_data"
    }
   ],
   "source": [
    "import matplotlib.pyplot as plt\n",
    "\n",
    "plt.plot(history.history['loss'], label='loss')\n",
    "plt.plot(history.history['val_loss'], label='val_loss')\n",
    "plt.xlabel('iteration')\n",
    "plt.ylabel('Loss')\n",
    "plt.legend()"
   ]
  },
  {
   "cell_type": "code",
   "execution_count": 20,
   "id": "76GFFjk0LYVn",
   "metadata": {
    "executionInfo": {
     "elapsed": 41,
     "status": "ok",
     "timestamp": 1640496376251,
     "user": {
      "displayName": "nguyen khoa",
      "photoUrl": "https://lh3.googleusercontent.com/a/default-user=s64",
      "userId": "18293071775377392514"
     },
     "user_tz": -420
    },
    "id": "76GFFjk0LYVn"
   },
   "outputs": [],
   "source": []
  },
  {
   "cell_type": "code",
   "execution_count": 21,
   "id": "jVBQFFWwLYVq",
   "metadata": {
    "colab": {
     "base_uri": "https://localhost:8080/",
     "height": 298
    },
    "executionInfo": {
     "elapsed": 41,
     "status": "ok",
     "timestamp": 1640496376254,
     "user": {
      "displayName": "nguyen khoa",
      "photoUrl": "https://lh3.googleusercontent.com/a/default-user=s64",
      "userId": "18293071775377392514"
     },
     "user_tz": -420
    },
    "id": "jVBQFFWwLYVq",
    "outputId": "59c0245e-689c-4640-d20d-e5e07d0215be"
   },
   "outputs": [
    {
     "data": {
      "text/plain": [
       "<matplotlib.legend.Legend at 0x7fb6c0080050>"
      ]
     },
     "execution_count": 21,
     "metadata": {},
     "output_type": "execute_result"
    },
    {
     "data": {
      "image/png": "[encoded data removed]",
      "text/plain": [
       "<Figure size 432x288 with 1 Axes>"
      ]
     },
     "metadata": {
      "needs_background": "light"
     },
     "output_type": "display_data"
    }
   ],
   "source": [
    "import matplotlib.pyplot as plt\n",
    "\n",
    "plt.plot(history.history['sparse_categorical_accuracy'], label='train_accuracy')\n",
    "plt.plot(history.history['val_sparse_categorical_accuracy'], label='val_accuracy')\n",
    "plt.xlabel('iteration')\n",
    "plt.ylabel('Accuracy')\n",
    "plt.legend()"
   ]
  },
  {
   "cell_type": "code",
   "execution_count": 21,
   "id": "fa1b86ec",
   "metadata": {
    "executionInfo": {
     "elapsed": 29,
     "status": "ok",
     "timestamp": 1640496376256,
     "user": {
      "displayName": "nguyen khoa",
      "photoUrl": "https://lh3.googleusercontent.com/a/default-user=s64",
      "userId": "18293071775377392514"
     },
     "user_tz": -420
    },
    "id": "fa1b86ec"
   },
   "outputs": [],
   "source": []
  },
  {
   "cell_type": "code",
   "execution_count": 22,
   "id": "1f0f8cea",
   "metadata": {
    "colab": {
     "base_uri": "https://localhost:8080/"
    },
    "executionInfo": {
     "elapsed": 142616,
     "status": "ok",
     "timestamp": 1640496518845,
     "user": {
      "displayName": "nguyen khoa",
      "photoUrl": "https://lh3.googleusercontent.com/a/default-user=s64",
      "userId": "18293071775377392514"
     },
     "user_tz": -420
    },
    "id": "1f0f8cea",
    "outputId": "c9548da2-1b61-45c1-d06c-45af424db6bb"
   },
   "outputs": [
    {
     "name": "stdout",
     "output_type": "stream",
     "text": [
      "Epoch 1/300\n",
      "118/118 - 1s - loss: 2.0311 - sparse_categorical_accuracy: 0.3909 - val_loss: 1.7173 - val_sparse_categorical_accuracy: 0.6067 - 1s/epoch - 9ms/step\n",
      "Epoch 2/300\n",
      "118/118 - 0s - loss: 1.5031 - sparse_categorical_accuracy: 0.7503 - val_loss: 1.3506 - val_sparse_categorical_accuracy: 0.8173 - 412ms/epoch - 3ms/step\n",
      "Epoch 3/300\n",
      "118/118 - 0s - loss: 1.2057 - sparse_categorical_accuracy: 0.8614 - val_loss: 1.1275 - val_sparse_categorical_accuracy: 0.8284 - 423ms/epoch - 4ms/step\n",
      "Epoch 4/300\n",
      "118/118 - 0s - loss: 1.0156 - sparse_categorical_accuracy: 0.8738 - val_loss: 0.9831 - val_sparse_categorical_accuracy: 0.8384 - 424ms/epoch - 4ms/step\n",
      "Epoch 5/300\n",
      "118/118 - 0s - loss: 0.8868 - sparse_categorical_accuracy: 0.8788 - val_loss: 0.8821 - val_sparse_categorical_accuracy: 0.8406 - 433ms/epoch - 4ms/step\n",
      "Epoch 6/300\n",
      "118/118 - 0s - loss: 0.7938 - sparse_categorical_accuracy: 0.8813 - val_loss: 0.8089 - val_sparse_categorical_accuracy: 0.8366 - 418ms/epoch - 4ms/step\n",
      "Epoch 7/300\n",
      "118/118 - 0s - loss: 0.7237 - sparse_categorical_accuracy: 0.8820 - val_loss: 0.7524 - val_sparse_categorical_accuracy: 0.8404 - 400ms/epoch - 3ms/step\n",
      "Epoch 8/300\n",
      "118/118 - 0s - loss: 0.6687 - sparse_categorical_accuracy: 0.8844 - val_loss: 0.7086 - val_sparse_categorical_accuracy: 0.8427 - 410ms/epoch - 3ms/step\n",
      "Epoch 9/300\n",
      "118/118 - 0s - loss: 0.6256 - sparse_categorical_accuracy: 0.8851 - val_loss: 0.6758 - val_sparse_categorical_accuracy: 0.8442 - 411ms/epoch - 3ms/step\n",
      "Epoch 10/300\n",
      "118/118 - 0s - loss: 0.5895 - sparse_categorical_accuracy: 0.8861 - val_loss: 0.6485 - val_sparse_categorical_accuracy: 0.8416 - 406ms/epoch - 3ms/step\n",
      "Epoch 11/300\n",
      "118/118 - 0s - loss: 0.5612 - sparse_categorical_accuracy: 0.8863 - val_loss: 0.6268 - val_sparse_categorical_accuracy: 0.8394 - 429ms/epoch - 4ms/step\n",
      "Epoch 12/300\n",
      "118/118 - 0s - loss: 0.5366 - sparse_categorical_accuracy: 0.8866 - val_loss: 0.6066 - val_sparse_categorical_accuracy: 0.8433 - 405ms/epoch - 3ms/step\n",
      "Epoch 13/300\n",
      "118/118 - 0s - loss: 0.5154 - sparse_categorical_accuracy: 0.8874 - val_loss: 0.5923 - val_sparse_categorical_accuracy: 0.8420 - 399ms/epoch - 3ms/step\n",
      "Epoch 14/300\n",
      "118/118 - 0s - loss: 0.4973 - sparse_categorical_accuracy: 0.8875 - val_loss: 0.5763 - val_sparse_categorical_accuracy: 0.8459 - 403ms/epoch - 3ms/step\n",
      "Epoch 15/300\n",
      "118/118 - 0s - loss: 0.4822 - sparse_categorical_accuracy: 0.8901 - val_loss: 0.5698 - val_sparse_categorical_accuracy: 0.8421 - 411ms/epoch - 3ms/step\n",
      "Epoch 16/300\n",
      "118/118 - 0s - loss: 0.4704 - sparse_categorical_accuracy: 0.8878 - val_loss: 0.5590 - val_sparse_categorical_accuracy: 0.8433 - 417ms/epoch - 4ms/step\n",
      "Epoch 17/300\n",
      "118/118 - 0s - loss: 0.4578 - sparse_categorical_accuracy: 0.8885 - val_loss: 0.5434 - val_sparse_categorical_accuracy: 0.8478 - 415ms/epoch - 4ms/step\n",
      "Epoch 18/300\n",
      "118/118 - 0s - loss: 0.4474 - sparse_categorical_accuracy: 0.8885 - val_loss: 0.5465 - val_sparse_categorical_accuracy: 0.8421 - 396ms/epoch - 3ms/step\n",
      "Epoch 19/300\n",
      "118/118 - 0s - loss: 0.4390 - sparse_categorical_accuracy: 0.8888 - val_loss: 0.5400 - val_sparse_categorical_accuracy: 0.8406 - 396ms/epoch - 3ms/step\n",
      "Epoch 20/300\n",
      "118/118 - 0s - loss: 0.4336 - sparse_categorical_accuracy: 0.8870 - val_loss: 0.5420 - val_sparse_categorical_accuracy: 0.8421 - 413ms/epoch - 3ms/step\n",
      "Epoch 21/300\n",
      "118/118 - 0s - loss: 0.4245 - sparse_categorical_accuracy: 0.8899 - val_loss: 0.5265 - val_sparse_categorical_accuracy: 0.8441 - 405ms/epoch - 3ms/step\n",
      "Epoch 22/300\n",
      "118/118 - 0s - loss: 0.4184 - sparse_categorical_accuracy: 0.8890 - val_loss: 0.5189 - val_sparse_categorical_accuracy: 0.8440 - 415ms/epoch - 4ms/step\n",
      "Epoch 23/300\n",
      "118/118 - 0s - loss: 0.4099 - sparse_categorical_accuracy: 0.8907 - val_loss: 0.5257 - val_sparse_categorical_accuracy: 0.8420 - 408ms/epoch - 3ms/step\n",
      "Epoch 24/300\n",
      "118/118 - 0s - loss: 0.4121 - sparse_categorical_accuracy: 0.8874 - val_loss: 0.5115 - val_sparse_categorical_accuracy: 0.8455 - 395ms/epoch - 3ms/step\n",
      "Epoch 25/300\n",
      "118/118 - 0s - loss: 0.4042 - sparse_categorical_accuracy: 0.8877 - val_loss: 0.5094 - val_sparse_categorical_accuracy: 0.8450 - 443ms/epoch - 4ms/step\n",
      "Epoch 26/300\n",
      "118/118 - 0s - loss: 0.3998 - sparse_categorical_accuracy: 0.8889 - val_loss: 0.5057 - val_sparse_categorical_accuracy: 0.8456 - 412ms/epoch - 3ms/step\n",
      "Epoch 27/300\n",
      "118/118 - 0s - loss: 0.3922 - sparse_categorical_accuracy: 0.8905 - val_loss: 0.5036 - val_sparse_categorical_accuracy: 0.8456 - 413ms/epoch - 4ms/step\n",
      "Epoch 28/300\n",
      "118/118 - 0s - loss: 0.3883 - sparse_categorical_accuracy: 0.8906 - val_loss: 0.4967 - val_sparse_categorical_accuracy: 0.8488 - 410ms/epoch - 3ms/step\n",
      "Epoch 29/300\n",
      "118/118 - 0s - loss: 0.3871 - sparse_categorical_accuracy: 0.8873 - val_loss: 0.5000 - val_sparse_categorical_accuracy: 0.8439 - 416ms/epoch - 4ms/step\n",
      "Epoch 30/300\n",
      "118/118 - 0s - loss: 0.3869 - sparse_categorical_accuracy: 0.8884 - val_loss: 0.4985 - val_sparse_categorical_accuracy: 0.8451 - 399ms/epoch - 3ms/step\n",
      "Epoch 31/300\n",
      "118/118 - 0s - loss: 0.3832 - sparse_categorical_accuracy: 0.8899 - val_loss: 0.4929 - val_sparse_categorical_accuracy: 0.8467 - 399ms/epoch - 3ms/step\n",
      "Epoch 32/300\n",
      "118/118 - 0s - loss: 0.3840 - sparse_categorical_accuracy: 0.8871 - val_loss: 0.4975 - val_sparse_categorical_accuracy: 0.8449 - 427ms/epoch - 4ms/step\n",
      "Epoch 33/300\n",
      "118/118 - 0s - loss: 0.3865 - sparse_categorical_accuracy: 0.8855 - val_loss: 0.5236 - val_sparse_categorical_accuracy: 0.8308 - 408ms/epoch - 3ms/step\n",
      "Epoch 34/300\n",
      "118/118 - 0s - loss: 0.3824 - sparse_categorical_accuracy: 0.8865 - val_loss: 0.5031 - val_sparse_categorical_accuracy: 0.8422 - 398ms/epoch - 3ms/step\n",
      "Epoch 35/300\n",
      "118/118 - 0s - loss: 0.3797 - sparse_categorical_accuracy: 0.8861 - val_loss: 0.5090 - val_sparse_categorical_accuracy: 0.8358 - 430ms/epoch - 4ms/step\n",
      "Epoch 36/300\n",
      "118/118 - 0s - loss: 0.3813 - sparse_categorical_accuracy: 0.8842 - val_loss: 0.4952 - val_sparse_categorical_accuracy: 0.8433 - 418ms/epoch - 4ms/step\n",
      "Epoch 37/300\n",
      "118/118 - 0s - loss: 0.3741 - sparse_categorical_accuracy: 0.8871 - val_loss: 0.5057 - val_sparse_categorical_accuracy: 0.8423 - 417ms/epoch - 4ms/step\n",
      "Epoch 38/300\n",
      "118/118 - 0s - loss: 0.3722 - sparse_categorical_accuracy: 0.8878 - val_loss: 0.5053 - val_sparse_categorical_accuracy: 0.8415 - 399ms/epoch - 3ms/step\n",
      "Epoch 39/300\n",
      "118/118 - 0s - loss: 0.3725 - sparse_categorical_accuracy: 0.8864 - val_loss: 0.4987 - val_sparse_categorical_accuracy: 0.8460 - 418ms/epoch - 4ms/step\n",
      "Epoch 40/300\n",
      "118/118 - 0s - loss: 0.3692 - sparse_categorical_accuracy: 0.8876 - val_loss: 0.4905 - val_sparse_categorical_accuracy: 0.8449 - 398ms/epoch - 3ms/step\n",
      "Epoch 41/300\n",
      "118/118 - 0s - loss: 0.3650 - sparse_categorical_accuracy: 0.8884 - val_loss: 0.4832 - val_sparse_categorical_accuracy: 0.8468 - 392ms/epoch - 3ms/step\n",
      "Epoch 42/300\n",
      "118/118 - 0s - loss: 0.3607 - sparse_categorical_accuracy: 0.8902 - val_loss: 0.4907 - val_sparse_categorical_accuracy: 0.8441 - 421ms/epoch - 4ms/step\n",
      "Epoch 43/300\n",
      "118/118 - 0s - loss: 0.3667 - sparse_categorical_accuracy: 0.8878 - val_loss: 0.4949 - val_sparse_categorical_accuracy: 0.8420 - 415ms/epoch - 4ms/step\n",
      "Epoch 44/300\n",
      "118/118 - 0s - loss: 0.3662 - sparse_categorical_accuracy: 0.8870 - val_loss: 0.4968 - val_sparse_categorical_accuracy: 0.8409 - 416ms/epoch - 4ms/step\n",
      "Epoch 45/300\n",
      "118/118 - 0s - loss: 0.3736 - sparse_categorical_accuracy: 0.8835 - val_loss: 0.5020 - val_sparse_categorical_accuracy: 0.8363 - 407ms/epoch - 3ms/step\n",
      "Epoch 46/300\n",
      "118/118 - 0s - loss: 0.3653 - sparse_categorical_accuracy: 0.8863 - val_loss: 0.4987 - val_sparse_categorical_accuracy: 0.8427 - 401ms/epoch - 3ms/step\n",
      "Epoch 47/300\n",
      "118/118 - 0s - loss: 0.3670 - sparse_categorical_accuracy: 0.8850 - val_loss: 0.4983 - val_sparse_categorical_accuracy: 0.8409 - 420ms/epoch - 4ms/step\n",
      "Epoch 48/300\n",
      "118/118 - 0s - loss: 0.3672 - sparse_categorical_accuracy: 0.8839 - val_loss: 0.5055 - val_sparse_categorical_accuracy: 0.8359 - 413ms/epoch - 3ms/step\n",
      "Epoch 49/300\n",
      "118/118 - 0s - loss: 0.3666 - sparse_categorical_accuracy: 0.8856 - val_loss: 0.5050 - val_sparse_categorical_accuracy: 0.8388 - 407ms/epoch - 3ms/step\n",
      "Epoch 50/300\n",
      "118/118 - 0s - loss: 0.3686 - sparse_categorical_accuracy: 0.8845 - val_loss: 0.4929 - val_sparse_categorical_accuracy: 0.8418 - 440ms/epoch - 4ms/step\n",
      "Epoch 51/300\n",
      "118/118 - 0s - loss: 0.3634 - sparse_categorical_accuracy: 0.8865 - val_loss: 0.5023 - val_sparse_categorical_accuracy: 0.8403 - 412ms/epoch - 3ms/step\n",
      "Epoch 52/300\n",
      "118/118 - 0s - loss: 0.3678 - sparse_categorical_accuracy: 0.8827 - val_loss: 0.4834 - val_sparse_categorical_accuracy: 0.8434 - 429ms/epoch - 4ms/step\n",
      "Epoch 53/300\n",
      "118/118 - 0s - loss: 0.3686 - sparse_categorical_accuracy: 0.8833 - val_loss: 0.4923 - val_sparse_categorical_accuracy: 0.8419 - 414ms/epoch - 4ms/step\n",
      "Epoch 54/300\n",
      "118/118 - 0s - loss: 0.3666 - sparse_categorical_accuracy: 0.8829 - val_loss: 0.4959 - val_sparse_categorical_accuracy: 0.8396 - 417ms/epoch - 4ms/step\n",
      "Epoch 55/300\n",
      "118/118 - 0s - loss: 0.3640 - sparse_categorical_accuracy: 0.8844 - val_loss: 0.5061 - val_sparse_categorical_accuracy: 0.8338 - 409ms/epoch - 3ms/step\n",
      "Epoch 56/300\n",
      "118/118 - 0s - loss: 0.3626 - sparse_categorical_accuracy: 0.8848 - val_loss: 0.4922 - val_sparse_categorical_accuracy: 0.8412 - 436ms/epoch - 4ms/step\n",
      "Epoch 57/300\n",
      "118/118 - 0s - loss: 0.3679 - sparse_categorical_accuracy: 0.8823 - val_loss: 0.5019 - val_sparse_categorical_accuracy: 0.8362 - 428ms/epoch - 4ms/step\n",
      "Epoch 58/300\n",
      "118/118 - 0s - loss: 0.3695 - sparse_categorical_accuracy: 0.8798 - val_loss: 0.5032 - val_sparse_categorical_accuracy: 0.8332 - 431ms/epoch - 4ms/step\n",
      "Epoch 59/300\n",
      "118/118 - 0s - loss: 0.3729 - sparse_categorical_accuracy: 0.8786 - val_loss: 0.4945 - val_sparse_categorical_accuracy: 0.8392 - 438ms/epoch - 4ms/step\n",
      "Epoch 60/300\n",
      "118/118 - 0s - loss: 0.3663 - sparse_categorical_accuracy: 0.8816 - val_loss: 0.4909 - val_sparse_categorical_accuracy: 0.8403 - 425ms/epoch - 4ms/step\n",
      "Epoch 61/300\n",
      "118/118 - 0s - loss: 0.3643 - sparse_categorical_accuracy: 0.8828 - val_loss: 0.4878 - val_sparse_categorical_accuracy: 0.8397 - 411ms/epoch - 3ms/step\n",
      "Epoch 62/300\n",
      "118/118 - 0s - loss: 0.3618 - sparse_categorical_accuracy: 0.8831 - val_loss: 0.5006 - val_sparse_categorical_accuracy: 0.8377 - 402ms/epoch - 3ms/step\n",
      "Epoch 63/300\n",
      "118/118 - 0s - loss: 0.3662 - sparse_categorical_accuracy: 0.8812 - val_loss: 0.4944 - val_sparse_categorical_accuracy: 0.8408 - 412ms/epoch - 3ms/step\n",
      "Epoch 64/300\n",
      "118/118 - 0s - loss: 0.3731 - sparse_categorical_accuracy: 0.8776 - val_loss: 0.4988 - val_sparse_categorical_accuracy: 0.8387 - 412ms/epoch - 3ms/step\n",
      "Epoch 65/300\n",
      "118/118 - 0s - loss: 0.3627 - sparse_categorical_accuracy: 0.8821 - val_loss: 0.4947 - val_sparse_categorical_accuracy: 0.8368 - 405ms/epoch - 3ms/step\n",
      "Epoch 66/300\n",
      "118/118 - 0s - loss: 0.3603 - sparse_categorical_accuracy: 0.8817 - val_loss: 0.5126 - val_sparse_categorical_accuracy: 0.8338 - 407ms/epoch - 3ms/step\n",
      "Epoch 67/300\n",
      "118/118 - 0s - loss: 0.3778 - sparse_categorical_accuracy: 0.8767 - val_loss: 0.4884 - val_sparse_categorical_accuracy: 0.8427 - 418ms/epoch - 4ms/step\n",
      "Epoch 68/300\n",
      "118/118 - 0s - loss: 0.3716 - sparse_categorical_accuracy: 0.8788 - val_loss: 0.5007 - val_sparse_categorical_accuracy: 0.8347 - 398ms/epoch - 3ms/step\n",
      "Epoch 69/300\n",
      "118/118 - 0s - loss: 0.3616 - sparse_categorical_accuracy: 0.8816 - val_loss: 0.5383 - val_sparse_categorical_accuracy: 0.8235 - 410ms/epoch - 3ms/step\n",
      "Epoch 70/300\n",
      "118/118 - 0s - loss: 0.3738 - sparse_categorical_accuracy: 0.8779 - val_loss: 0.5022 - val_sparse_categorical_accuracy: 0.8348 - 408ms/epoch - 3ms/step\n",
      "Epoch 71/300\n",
      "118/118 - 0s - loss: 0.3767 - sparse_categorical_accuracy: 0.8762 - val_loss: 0.5015 - val_sparse_categorical_accuracy: 0.8390 - 428ms/epoch - 4ms/step\n",
      "Epoch 72/300\n",
      "118/118 - 0s - loss: 0.3722 - sparse_categorical_accuracy: 0.8768 - val_loss: 0.5002 - val_sparse_categorical_accuracy: 0.8409 - 420ms/epoch - 4ms/step\n",
      "Epoch 73/300\n",
      "118/118 - 0s - loss: 0.3685 - sparse_categorical_accuracy: 0.8807 - val_loss: 0.4897 - val_sparse_categorical_accuracy: 0.8429 - 403ms/epoch - 3ms/step\n",
      "Epoch 74/300\n",
      "118/118 - 0s - loss: 0.3714 - sparse_categorical_accuracy: 0.8785 - val_loss: 0.5082 - val_sparse_categorical_accuracy: 0.8377 - 410ms/epoch - 3ms/step\n",
      "Epoch 75/300\n",
      "118/118 - 0s - loss: 0.3802 - sparse_categorical_accuracy: 0.8750 - val_loss: 0.5333 - val_sparse_categorical_accuracy: 0.8277 - 404ms/epoch - 3ms/step\n",
      "Epoch 76/300\n",
      "118/118 - 0s - loss: 0.3819 - sparse_categorical_accuracy: 0.8737 - val_loss: 0.5005 - val_sparse_categorical_accuracy: 0.8338 - 405ms/epoch - 3ms/step\n",
      "Epoch 77/300\n",
      "118/118 - 0s - loss: 0.3702 - sparse_categorical_accuracy: 0.8774 - val_loss: 0.5092 - val_sparse_categorical_accuracy: 0.8371 - 412ms/epoch - 3ms/step\n",
      "Epoch 78/300\n",
      "118/118 - 0s - loss: 0.3724 - sparse_categorical_accuracy: 0.8773 - val_loss: 0.4992 - val_sparse_categorical_accuracy: 0.8391 - 415ms/epoch - 4ms/step\n",
      "Epoch 79/300\n",
      "118/118 - 0s - loss: 0.3710 - sparse_categorical_accuracy: 0.8778 - val_loss: 0.5436 - val_sparse_categorical_accuracy: 0.8228 - 407ms/epoch - 3ms/step\n",
      "Epoch 80/300\n",
      "118/118 - 0s - loss: 0.3763 - sparse_categorical_accuracy: 0.8755 - val_loss: 0.5100 - val_sparse_categorical_accuracy: 0.8314 - 420ms/epoch - 4ms/step\n",
      "Epoch 81/300\n",
      "118/118 - 0s - loss: 0.3784 - sparse_categorical_accuracy: 0.8753 - val_loss: 0.5090 - val_sparse_categorical_accuracy: 0.8334 - 431ms/epoch - 4ms/step\n",
      "Epoch 82/300\n",
      "118/118 - 0s - loss: 0.3829 - sparse_categorical_accuracy: 0.8745 - val_loss: 0.5020 - val_sparse_categorical_accuracy: 0.8367 - 399ms/epoch - 3ms/step\n",
      "Epoch 83/300\n",
      "118/118 - 0s - loss: 0.3729 - sparse_categorical_accuracy: 0.8763 - val_loss: 0.4915 - val_sparse_categorical_accuracy: 0.8415 - 425ms/epoch - 4ms/step\n",
      "Epoch 84/300\n",
      "118/118 - 0s - loss: 0.3719 - sparse_categorical_accuracy: 0.8767 - val_loss: 0.5185 - val_sparse_categorical_accuracy: 0.8283 - 409ms/epoch - 3ms/step\n",
      "Epoch 85/300\n",
      "118/118 - 0s - loss: 0.3767 - sparse_categorical_accuracy: 0.8740 - val_loss: 0.5262 - val_sparse_categorical_accuracy: 0.8255 - 439ms/epoch - 4ms/step\n",
      "Epoch 86/300\n",
      "118/118 - 0s - loss: 0.3662 - sparse_categorical_accuracy: 0.8784 - val_loss: 0.4997 - val_sparse_categorical_accuracy: 0.8353 - 422ms/epoch - 4ms/step\n",
      "Epoch 87/300\n",
      "118/118 - 0s - loss: 0.3660 - sparse_categorical_accuracy: 0.8774 - val_loss: 0.4982 - val_sparse_categorical_accuracy: 0.8389 - 402ms/epoch - 3ms/step\n",
      "Epoch 88/300\n",
      "118/118 - 0s - loss: 0.3628 - sparse_categorical_accuracy: 0.8803 - val_loss: 0.4829 - val_sparse_categorical_accuracy: 0.8441 - 421ms/epoch - 4ms/step\n",
      "Epoch 89/300\n",
      "118/118 - 0s - loss: 0.3626 - sparse_categorical_accuracy: 0.8798 - val_loss: 0.4852 - val_sparse_categorical_accuracy: 0.8444 - 408ms/epoch - 3ms/step\n",
      "Epoch 90/300\n",
      "118/118 - 0s - loss: 0.3692 - sparse_categorical_accuracy: 0.8781 - val_loss: 0.4918 - val_sparse_categorical_accuracy: 0.8427 - 433ms/epoch - 4ms/step\n",
      "Epoch 91/300\n",
      "118/118 - 0s - loss: 0.3669 - sparse_categorical_accuracy: 0.8776 - val_loss: 0.4847 - val_sparse_categorical_accuracy: 0.8401 - 402ms/epoch - 3ms/step\n",
      "Epoch 92/300\n",
      "118/118 - 0s - loss: 0.3682 - sparse_categorical_accuracy: 0.8784 - val_loss: 0.4888 - val_sparse_categorical_accuracy: 0.8398 - 405ms/epoch - 3ms/step\n",
      "Epoch 93/300\n",
      "118/118 - 0s - loss: 0.3615 - sparse_categorical_accuracy: 0.8794 - val_loss: 0.4813 - val_sparse_categorical_accuracy: 0.8409 - 415ms/epoch - 4ms/step\n",
      "Epoch 94/300\n",
      "118/118 - 0s - loss: 0.3558 - sparse_categorical_accuracy: 0.8832 - val_loss: 0.4752 - val_sparse_categorical_accuracy: 0.8470 - 393ms/epoch - 3ms/step\n",
      "Epoch 95/300\n",
      "118/118 - 0s - loss: 0.3548 - sparse_categorical_accuracy: 0.8837 - val_loss: 0.5034 - val_sparse_categorical_accuracy: 0.8357 - 401ms/epoch - 3ms/step\n",
      "Epoch 96/300\n",
      "118/118 - 0s - loss: 0.3635 - sparse_categorical_accuracy: 0.8782 - val_loss: 0.4974 - val_sparse_categorical_accuracy: 0.8349 - 416ms/epoch - 4ms/step\n",
      "Epoch 97/300\n",
      "118/118 - 0s - loss: 0.3620 - sparse_categorical_accuracy: 0.8805 - val_loss: 0.4948 - val_sparse_categorical_accuracy: 0.8386 - 434ms/epoch - 4ms/step\n",
      "Epoch 98/300\n",
      "118/118 - 0s - loss: 0.3656 - sparse_categorical_accuracy: 0.8777 - val_loss: 0.4965 - val_sparse_categorical_accuracy: 0.8379 - 436ms/epoch - 4ms/step\n",
      "Epoch 99/300\n",
      "118/118 - 0s - loss: 0.3622 - sparse_categorical_accuracy: 0.8780 - val_loss: 0.4987 - val_sparse_categorical_accuracy: 0.8361 - 432ms/epoch - 4ms/step\n",
      "Epoch 100/300\n",
      "118/118 - 0s - loss: 0.3672 - sparse_categorical_accuracy: 0.8767 - val_loss: 0.5159 - val_sparse_categorical_accuracy: 0.8277 - 447ms/epoch - 4ms/step\n",
      "Epoch 101/300\n",
      "118/118 - 0s - loss: 0.3742 - sparse_categorical_accuracy: 0.8740 - val_loss: 0.4964 - val_sparse_categorical_accuracy: 0.8359 - 417ms/epoch - 4ms/step\n",
      "Epoch 102/300\n",
      "118/118 - 0s - loss: 0.3744 - sparse_categorical_accuracy: 0.8722 - val_loss: 0.5071 - val_sparse_categorical_accuracy: 0.8252 - 411ms/epoch - 3ms/step\n",
      "Epoch 103/300\n",
      "118/118 - 0s - loss: 0.3830 - sparse_categorical_accuracy: 0.8709 - val_loss: 0.5135 - val_sparse_categorical_accuracy: 0.8291 - 421ms/epoch - 4ms/step\n",
      "Epoch 104/300\n",
      "118/118 - 0s - loss: 0.3763 - sparse_categorical_accuracy: 0.8745 - val_loss: 0.5019 - val_sparse_categorical_accuracy: 0.8363 - 416ms/epoch - 4ms/step\n",
      "Epoch 105/300\n",
      "118/118 - 0s - loss: 0.3801 - sparse_categorical_accuracy: 0.8714 - val_loss: 0.4947 - val_sparse_categorical_accuracy: 0.8373 - 417ms/epoch - 4ms/step\n",
      "Epoch 106/300\n",
      "118/118 - 0s - loss: 0.3827 - sparse_categorical_accuracy: 0.8709 - val_loss: 0.5191 - val_sparse_categorical_accuracy: 0.8301 - 418ms/epoch - 4ms/step\n",
      "Epoch 107/300\n",
      "118/118 - 0s - loss: 0.3659 - sparse_categorical_accuracy: 0.8777 - val_loss: 0.4937 - val_sparse_categorical_accuracy: 0.8410 - 410ms/epoch - 3ms/step\n",
      "Epoch 108/300\n",
      "118/118 - 0s - loss: 0.3672 - sparse_categorical_accuracy: 0.8779 - val_loss: 0.5146 - val_sparse_categorical_accuracy: 0.8330 - 427ms/epoch - 4ms/step\n",
      "Epoch 109/300\n",
      "118/118 - 0s - loss: 0.3744 - sparse_categorical_accuracy: 0.8756 - val_loss: 0.4954 - val_sparse_categorical_accuracy: 0.8380 - 428ms/epoch - 4ms/step\n",
      "Epoch 110/300\n",
      "118/118 - 0s - loss: 0.3848 - sparse_categorical_accuracy: 0.8702 - val_loss: 0.5451 - val_sparse_categorical_accuracy: 0.8240 - 402ms/epoch - 3ms/step\n",
      "Epoch 111/300\n",
      "118/118 - 0s - loss: 0.3802 - sparse_categorical_accuracy: 0.8721 - val_loss: 0.5002 - val_sparse_categorical_accuracy: 0.8332 - 394ms/epoch - 3ms/step\n",
      "Epoch 112/300\n",
      "118/118 - 0s - loss: 0.3748 - sparse_categorical_accuracy: 0.8745 - val_loss: 0.5394 - val_sparse_categorical_accuracy: 0.8146 - 405ms/epoch - 3ms/step\n",
      "Epoch 113/300\n",
      "118/118 - 0s - loss: 0.3826 - sparse_categorical_accuracy: 0.8719 - val_loss: 0.5250 - val_sparse_categorical_accuracy: 0.8265 - 419ms/epoch - 4ms/step\n",
      "Epoch 114/300\n",
      "118/118 - 0s - loss: 0.3765 - sparse_categorical_accuracy: 0.8744 - val_loss: 0.5115 - val_sparse_categorical_accuracy: 0.8313 - 397ms/epoch - 3ms/step\n",
      "Epoch 115/300\n",
      "118/118 - 0s - loss: 0.3759 - sparse_categorical_accuracy: 0.8724 - val_loss: 0.4966 - val_sparse_categorical_accuracy: 0.8389 - 434ms/epoch - 4ms/step\n",
      "Epoch 116/300\n",
      "118/118 - 0s - loss: 0.3768 - sparse_categorical_accuracy: 0.8722 - val_loss: 0.5291 - val_sparse_categorical_accuracy: 0.8200 - 417ms/epoch - 4ms/step\n",
      "Epoch 117/300\n",
      "118/118 - 0s - loss: 0.3786 - sparse_categorical_accuracy: 0.8716 - val_loss: 0.5203 - val_sparse_categorical_accuracy: 0.8274 - 417ms/epoch - 4ms/step\n",
      "Epoch 118/300\n",
      "118/118 - 0s - loss: 0.3847 - sparse_categorical_accuracy: 0.8705 - val_loss: 0.5200 - val_sparse_categorical_accuracy: 0.8307 - 408ms/epoch - 3ms/step\n",
      "Epoch 119/300\n",
      "118/118 - 0s - loss: 0.3704 - sparse_categorical_accuracy: 0.8763 - val_loss: 0.4839 - val_sparse_categorical_accuracy: 0.8412 - 414ms/epoch - 4ms/step\n",
      "Epoch 120/300\n",
      "118/118 - 0s - loss: 0.3690 - sparse_categorical_accuracy: 0.8763 - val_loss: 0.5050 - val_sparse_categorical_accuracy: 0.8312 - 416ms/epoch - 4ms/step\n",
      "Epoch 121/300\n",
      "118/118 - 0s - loss: 0.3644 - sparse_categorical_accuracy: 0.8771 - val_loss: 0.5059 - val_sparse_categorical_accuracy: 0.8347 - 422ms/epoch - 4ms/step\n",
      "Epoch 122/300\n",
      "118/118 - 0s - loss: 0.3674 - sparse_categorical_accuracy: 0.8766 - val_loss: 0.5215 - val_sparse_categorical_accuracy: 0.8264 - 426ms/epoch - 4ms/step\n",
      "Epoch 123/300\n",
      "118/118 - 0s - loss: 0.3723 - sparse_categorical_accuracy: 0.8755 - val_loss: 0.5179 - val_sparse_categorical_accuracy: 0.8316 - 401ms/epoch - 3ms/step\n",
      "Epoch 124/300\n",
      "118/118 - 0s - loss: 0.3718 - sparse_categorical_accuracy: 0.8747 - val_loss: 0.4940 - val_sparse_categorical_accuracy: 0.8370 - 442ms/epoch - 4ms/step\n",
      "Epoch 125/300\n",
      "118/118 - 0s - loss: 0.3713 - sparse_categorical_accuracy: 0.8757 - val_loss: 0.5012 - val_sparse_categorical_accuracy: 0.8362 - 410ms/epoch - 3ms/step\n",
      "Epoch 126/300\n",
      "118/118 - 0s - loss: 0.3752 - sparse_categorical_accuracy: 0.8737 - val_loss: 0.4869 - val_sparse_categorical_accuracy: 0.8416 - 415ms/epoch - 4ms/step\n",
      "Epoch 127/300\n",
      "118/118 - 0s - loss: 0.3636 - sparse_categorical_accuracy: 0.8780 - val_loss: 0.4903 - val_sparse_categorical_accuracy: 0.8391 - 417ms/epoch - 4ms/step\n",
      "Epoch 128/300\n",
      "118/118 - 0s - loss: 0.3823 - sparse_categorical_accuracy: 0.8691 - val_loss: 0.5342 - val_sparse_categorical_accuracy: 0.8237 - 408ms/epoch - 3ms/step\n",
      "Epoch 129/300\n",
      "118/118 - 0s - loss: 0.3917 - sparse_categorical_accuracy: 0.8661 - val_loss: 0.5087 - val_sparse_categorical_accuracy: 0.8310 - 409ms/epoch - 3ms/step\n",
      "Epoch 130/300\n",
      "118/118 - 0s - loss: 0.3730 - sparse_categorical_accuracy: 0.8754 - val_loss: 0.4980 - val_sparse_categorical_accuracy: 0.8331 - 397ms/epoch - 3ms/step\n",
      "Epoch 131/300\n",
      "118/118 - 0s - loss: 0.3621 - sparse_categorical_accuracy: 0.8784 - val_loss: 0.4821 - val_sparse_categorical_accuracy: 0.8383 - 402ms/epoch - 3ms/step\n",
      "Epoch 132/300\n",
      "118/118 - 0s - loss: 0.3637 - sparse_categorical_accuracy: 0.8774 - val_loss: 0.5320 - val_sparse_categorical_accuracy: 0.8246 - 403ms/epoch - 3ms/step\n",
      "Epoch 133/300\n",
      "118/118 - 0s - loss: 0.3832 - sparse_categorical_accuracy: 0.8701 - val_loss: 0.4930 - val_sparse_categorical_accuracy: 0.8369 - 391ms/epoch - 3ms/step\n",
      "Epoch 134/300\n",
      "118/118 - 0s - loss: 0.3746 - sparse_categorical_accuracy: 0.8734 - val_loss: 0.4865 - val_sparse_categorical_accuracy: 0.8379 - 406ms/epoch - 3ms/step\n",
      "Epoch 135/300\n",
      "118/118 - 0s - loss: 0.3634 - sparse_categorical_accuracy: 0.8778 - val_loss: 0.4787 - val_sparse_categorical_accuracy: 0.8436 - 396ms/epoch - 3ms/step\n",
      "Epoch 136/300\n",
      "118/118 - 0s - loss: 0.3633 - sparse_categorical_accuracy: 0.8782 - val_loss: 0.4906 - val_sparse_categorical_accuracy: 0.8382 - 422ms/epoch - 4ms/step\n",
      "Epoch 137/300\n",
      "118/118 - 1s - loss: 0.3746 - sparse_categorical_accuracy: 0.8749 - val_loss: 0.5297 - val_sparse_categorical_accuracy: 0.8299 - 752ms/epoch - 6ms/step\n",
      "Epoch 138/300\n",
      "118/118 - 1s - loss: 0.3724 - sparse_categorical_accuracy: 0.8762 - val_loss: 0.5224 - val_sparse_categorical_accuracy: 0.8237 - 816ms/epoch - 7ms/step\n",
      "Epoch 139/300\n",
      "118/118 - 1s - loss: 0.3755 - sparse_categorical_accuracy: 0.8741 - val_loss: 0.4969 - val_sparse_categorical_accuracy: 0.8368 - 778ms/epoch - 7ms/step\n",
      "Epoch 140/300\n",
      "118/118 - 1s - loss: 0.3783 - sparse_categorical_accuracy: 0.8710 - val_loss: 0.5261 - val_sparse_categorical_accuracy: 0.8238 - 811ms/epoch - 7ms/step\n",
      "Epoch 141/300\n",
      "118/118 - 1s - loss: 0.3769 - sparse_categorical_accuracy: 0.8726 - val_loss: 0.4836 - val_sparse_categorical_accuracy: 0.8419 - 757ms/epoch - 6ms/step\n",
      "Epoch 142/300\n",
      "118/118 - 1s - loss: 0.3751 - sparse_categorical_accuracy: 0.8728 - val_loss: 0.5092 - val_sparse_categorical_accuracy: 0.8355 - 729ms/epoch - 6ms/step\n",
      "Epoch 143/300\n",
      "118/118 - 1s - loss: 0.3828 - sparse_categorical_accuracy: 0.8695 - val_loss: 0.5053 - val_sparse_categorical_accuracy: 0.8321 - 828ms/epoch - 7ms/step\n",
      "Epoch 144/300\n",
      "118/118 - 1s - loss: 0.3745 - sparse_categorical_accuracy: 0.8736 - val_loss: 0.5059 - val_sparse_categorical_accuracy: 0.8371 - 683ms/epoch - 6ms/step\n",
      "Epoch 145/300\n",
      "118/118 - 1s - loss: 0.3732 - sparse_categorical_accuracy: 0.8740 - val_loss: 0.5075 - val_sparse_categorical_accuracy: 0.8315 - 756ms/epoch - 6ms/step\n",
      "Epoch 146/300\n",
      "118/118 - 1s - loss: 0.3777 - sparse_categorical_accuracy: 0.8715 - val_loss: 0.4949 - val_sparse_categorical_accuracy: 0.8333 - 766ms/epoch - 6ms/step\n",
      "Epoch 147/300\n",
      "118/118 - 1s - loss: 0.3706 - sparse_categorical_accuracy: 0.8745 - val_loss: 0.4951 - val_sparse_categorical_accuracy: 0.8395 - 814ms/epoch - 7ms/step\n",
      "Epoch 148/300\n",
      "118/118 - 1s - loss: 0.3674 - sparse_categorical_accuracy: 0.8771 - val_loss: 0.5295 - val_sparse_categorical_accuracy: 0.8199 - 728ms/epoch - 6ms/step\n",
      "Epoch 149/300\n",
      "118/118 - 1s - loss: 0.3885 - sparse_categorical_accuracy: 0.8674 - val_loss: 0.4948 - val_sparse_categorical_accuracy: 0.8323 - 808ms/epoch - 7ms/step\n",
      "Epoch 150/300\n",
      "118/118 - 1s - loss: 0.3694 - sparse_categorical_accuracy: 0.8743 - val_loss: 0.5045 - val_sparse_categorical_accuracy: 0.8358 - 916ms/epoch - 8ms/step\n",
      "Epoch 151/300\n",
      "118/118 - 1s - loss: 0.3722 - sparse_categorical_accuracy: 0.8739 - val_loss: 0.4960 - val_sparse_categorical_accuracy: 0.8277 - 771ms/epoch - 7ms/step\n",
      "Epoch 152/300\n",
      "118/118 - 1s - loss: 0.3776 - sparse_categorical_accuracy: 0.8703 - val_loss: 0.5010 - val_sparse_categorical_accuracy: 0.8354 - 690ms/epoch - 6ms/step\n",
      "Epoch 153/300\n",
      "118/118 - 1s - loss: 0.3847 - sparse_categorical_accuracy: 0.8702 - val_loss: 0.6169 - val_sparse_categorical_accuracy: 0.7849 - 663ms/epoch - 6ms/step\n",
      "Epoch 154/300\n",
      "118/118 - 1s - loss: 0.3796 - sparse_categorical_accuracy: 0.8696 - val_loss: 0.4907 - val_sparse_categorical_accuracy: 0.8401 - 692ms/epoch - 6ms/step\n",
      "Epoch 155/300\n",
      "118/118 - 1s - loss: 0.3789 - sparse_categorical_accuracy: 0.8706 - val_loss: 0.5347 - val_sparse_categorical_accuracy: 0.8215 - 774ms/epoch - 7ms/step\n",
      "Epoch 156/300\n",
      "118/118 - 1s - loss: 0.3813 - sparse_categorical_accuracy: 0.8697 - val_loss: 0.5023 - val_sparse_categorical_accuracy: 0.8347 - 602ms/epoch - 5ms/step\n",
      "Epoch 157/300\n",
      "118/118 - 1s - loss: 0.3766 - sparse_categorical_accuracy: 0.8714 - val_loss: 0.5133 - val_sparse_categorical_accuracy: 0.8290 - 746ms/epoch - 6ms/step\n",
      "Epoch 158/300\n",
      "118/118 - 1s - loss: 0.3775 - sparse_categorical_accuracy: 0.8705 - val_loss: 0.5632 - val_sparse_categorical_accuracy: 0.7976 - 738ms/epoch - 6ms/step\n",
      "Epoch 159/300\n",
      "118/118 - 1s - loss: 0.3909 - sparse_categorical_accuracy: 0.8684 - val_loss: 0.5139 - val_sparse_categorical_accuracy: 0.8320 - 736ms/epoch - 6ms/step\n",
      "Epoch 160/300\n",
      "118/118 - 1s - loss: 0.3823 - sparse_categorical_accuracy: 0.8704 - val_loss: 0.5255 - val_sparse_categorical_accuracy: 0.8229 - 754ms/epoch - 6ms/step\n",
      "Epoch 161/300\n",
      "118/118 - 1s - loss: 0.3877 - sparse_categorical_accuracy: 0.8679 - val_loss: 0.5261 - val_sparse_categorical_accuracy: 0.8263 - 723ms/epoch - 6ms/step\n",
      "Epoch 162/300\n",
      "118/118 - 1s - loss: 0.3949 - sparse_categorical_accuracy: 0.8656 - val_loss: 0.5599 - val_sparse_categorical_accuracy: 0.8160 - 647ms/epoch - 5ms/step\n",
      "Epoch 163/300\n",
      "118/118 - 1s - loss: 0.3970 - sparse_categorical_accuracy: 0.8661 - val_loss: 0.5352 - val_sparse_categorical_accuracy: 0.8180 - 642ms/epoch - 5ms/step\n",
      "Epoch 164/300\n",
      "118/118 - 1s - loss: 0.3958 - sparse_categorical_accuracy: 0.8651 - val_loss: 0.5144 - val_sparse_categorical_accuracy: 0.8295 - 680ms/epoch - 6ms/step\n",
      "Epoch 165/300\n",
      "118/118 - 1s - loss: 0.3947 - sparse_categorical_accuracy: 0.8630 - val_loss: 0.5157 - val_sparse_categorical_accuracy: 0.8280 - 634ms/epoch - 5ms/step\n",
      "Epoch 166/300\n",
      "118/118 - 1s - loss: 0.3913 - sparse_categorical_accuracy: 0.8652 - val_loss: 0.5151 - val_sparse_categorical_accuracy: 0.8310 - 737ms/epoch - 6ms/step\n",
      "Epoch 167/300\n",
      "118/118 - 1s - loss: 0.3832 - sparse_categorical_accuracy: 0.8690 - val_loss: 0.5016 - val_sparse_categorical_accuracy: 0.8297 - 812ms/epoch - 7ms/step\n",
      "Epoch 168/300\n",
      "118/118 - 1s - loss: 0.3825 - sparse_categorical_accuracy: 0.8694 - val_loss: 0.5099 - val_sparse_categorical_accuracy: 0.8351 - 774ms/epoch - 7ms/step\n",
      "Epoch 169/300\n",
      "118/118 - 1s - loss: 0.3819 - sparse_categorical_accuracy: 0.8677 - val_loss: 0.5049 - val_sparse_categorical_accuracy: 0.8315 - 753ms/epoch - 6ms/step\n",
      "Epoch 170/300\n",
      "118/118 - 1s - loss: 0.3851 - sparse_categorical_accuracy: 0.8680 - val_loss: 0.4969 - val_sparse_categorical_accuracy: 0.8381 - 727ms/epoch - 6ms/step\n",
      "Epoch 171/300\n",
      "118/118 - 1s - loss: 0.3722 - sparse_categorical_accuracy: 0.8737 - val_loss: 0.4981 - val_sparse_categorical_accuracy: 0.8371 - 686ms/epoch - 6ms/step\n",
      "Epoch 172/300\n",
      "118/118 - 1s - loss: 0.3905 - sparse_categorical_accuracy: 0.8662 - val_loss: 0.4974 - val_sparse_categorical_accuracy: 0.8379 - 584ms/epoch - 5ms/step\n",
      "Epoch 173/300\n",
      "118/118 - 0s - loss: 0.3873 - sparse_categorical_accuracy: 0.8674 - val_loss: 0.5221 - val_sparse_categorical_accuracy: 0.8278 - 417ms/epoch - 4ms/step\n",
      "Epoch 174/300\n",
      "118/118 - 0s - loss: 0.3805 - sparse_categorical_accuracy: 0.8691 - val_loss: 0.5764 - val_sparse_categorical_accuracy: 0.7963 - 411ms/epoch - 3ms/step\n",
      "Epoch 175/300\n",
      "118/118 - 0s - loss: 0.3971 - sparse_categorical_accuracy: 0.8629 - val_loss: 0.5100 - val_sparse_categorical_accuracy: 0.8297 - 418ms/epoch - 4ms/step\n",
      "Epoch 176/300\n",
      "118/118 - 0s - loss: 0.3820 - sparse_categorical_accuracy: 0.8707 - val_loss: 0.4997 - val_sparse_categorical_accuracy: 0.8362 - 407ms/epoch - 3ms/step\n",
      "Epoch 177/300\n",
      "118/118 - 0s - loss: 0.3753 - sparse_categorical_accuracy: 0.8727 - val_loss: 0.5161 - val_sparse_categorical_accuracy: 0.8313 - 410ms/epoch - 3ms/step\n",
      "Epoch 178/300\n",
      "118/118 - 0s - loss: 0.3847 - sparse_categorical_accuracy: 0.8688 - val_loss: 0.5181 - val_sparse_categorical_accuracy: 0.8291 - 418ms/epoch - 4ms/step\n",
      "Epoch 179/300\n",
      "118/118 - 0s - loss: 0.3842 - sparse_categorical_accuracy: 0.8689 - val_loss: 0.5024 - val_sparse_categorical_accuracy: 0.8347 - 396ms/epoch - 3ms/step\n",
      "Epoch 180/300\n",
      "118/118 - 0s - loss: 0.3755 - sparse_categorical_accuracy: 0.8723 - val_loss: 0.5048 - val_sparse_categorical_accuracy: 0.8326 - 436ms/epoch - 4ms/step\n",
      "Epoch 181/300\n",
      "118/118 - 0s - loss: 0.3677 - sparse_categorical_accuracy: 0.8740 - val_loss: 0.4944 - val_sparse_categorical_accuracy: 0.8371 - 404ms/epoch - 3ms/step\n",
      "Epoch 182/300\n",
      "118/118 - 0s - loss: 0.3753 - sparse_categorical_accuracy: 0.8717 - val_loss: 0.5056 - val_sparse_categorical_accuracy: 0.8336 - 432ms/epoch - 4ms/step\n",
      "Epoch 183/300\n",
      "118/118 - 0s - loss: 0.3691 - sparse_categorical_accuracy: 0.8741 - val_loss: 0.5034 - val_sparse_categorical_accuracy: 0.8334 - 399ms/epoch - 3ms/step\n",
      "Epoch 184/300\n",
      "118/118 - 0s - loss: 0.3723 - sparse_categorical_accuracy: 0.8726 - val_loss: 0.4893 - val_sparse_categorical_accuracy: 0.8392 - 426ms/epoch - 4ms/step\n",
      "Epoch 185/300\n",
      "118/118 - 0s - loss: 0.3622 - sparse_categorical_accuracy: 0.8762 - val_loss: 0.5185 - val_sparse_categorical_accuracy: 0.8255 - 419ms/epoch - 4ms/step\n",
      "Epoch 186/300\n",
      "118/118 - 0s - loss: 0.3853 - sparse_categorical_accuracy: 0.8683 - val_loss: 0.5106 - val_sparse_categorical_accuracy: 0.8324 - 399ms/epoch - 3ms/step\n",
      "Epoch 187/300\n",
      "118/118 - 0s - loss: 0.3796 - sparse_categorical_accuracy: 0.8708 - val_loss: 0.5109 - val_sparse_categorical_accuracy: 0.8273 - 405ms/epoch - 3ms/step\n",
      "Epoch 188/300\n",
      "118/118 - 0s - loss: 0.3778 - sparse_categorical_accuracy: 0.8704 - val_loss: 0.4947 - val_sparse_categorical_accuracy: 0.8382 - 390ms/epoch - 3ms/step\n",
      "Epoch 189/300\n",
      "118/118 - 0s - loss: 0.3759 - sparse_categorical_accuracy: 0.8727 - val_loss: 0.5090 - val_sparse_categorical_accuracy: 0.8327 - 434ms/epoch - 4ms/step\n",
      "Epoch 190/300\n",
      "118/118 - 0s - loss: 0.3815 - sparse_categorical_accuracy: 0.8693 - val_loss: 0.5296 - val_sparse_categorical_accuracy: 0.8268 - 403ms/epoch - 3ms/step\n",
      "Epoch 191/300\n",
      "118/118 - 0s - loss: 0.3784 - sparse_categorical_accuracy: 0.8713 - val_loss: 0.5141 - val_sparse_categorical_accuracy: 0.8304 - 417ms/epoch - 4ms/step\n",
      "Epoch 192/300\n",
      "118/118 - 0s - loss: 0.3820 - sparse_categorical_accuracy: 0.8691 - val_loss: 0.5479 - val_sparse_categorical_accuracy: 0.8248 - 422ms/epoch - 4ms/step\n",
      "Epoch 193/300\n",
      "118/118 - 0s - loss: 0.3819 - sparse_categorical_accuracy: 0.8698 - val_loss: 0.4956 - val_sparse_categorical_accuracy: 0.8338 - 411ms/epoch - 3ms/step\n",
      "Epoch 194/300\n",
      "118/118 - 0s - loss: 0.3745 - sparse_categorical_accuracy: 0.8712 - val_loss: 0.5312 - val_sparse_categorical_accuracy: 0.8195 - 434ms/epoch - 4ms/step\n",
      "Epoch 195/300\n",
      "118/118 - 0s - loss: 0.3728 - sparse_categorical_accuracy: 0.8729 - val_loss: 0.5066 - val_sparse_categorical_accuracy: 0.8295 - 404ms/epoch - 3ms/step\n",
      "Epoch 196/300\n",
      "118/118 - 0s - loss: 0.3782 - sparse_categorical_accuracy: 0.8704 - val_loss: 0.5122 - val_sparse_categorical_accuracy: 0.8322 - 433ms/epoch - 4ms/step\n",
      "Epoch 197/300\n",
      "118/118 - 0s - loss: 0.3844 - sparse_categorical_accuracy: 0.8686 - val_loss: 0.5279 - val_sparse_categorical_accuracy: 0.8243 - 413ms/epoch - 3ms/step\n",
      "Epoch 198/300\n",
      "118/118 - 0s - loss: 0.3886 - sparse_categorical_accuracy: 0.8660 - val_loss: 0.5289 - val_sparse_categorical_accuracy: 0.8257 - 417ms/epoch - 4ms/step\n",
      "Epoch 199/300\n",
      "118/118 - 0s - loss: 0.3835 - sparse_categorical_accuracy: 0.8684 - val_loss: 0.5102 - val_sparse_categorical_accuracy: 0.8290 - 413ms/epoch - 4ms/step\n",
      "Epoch 200/300\n",
      "118/118 - 0s - loss: 0.3755 - sparse_categorical_accuracy: 0.8719 - val_loss: 0.4999 - val_sparse_categorical_accuracy: 0.8312 - 400ms/epoch - 3ms/step\n",
      "Epoch 201/300\n",
      "118/118 - 0s - loss: 0.3679 - sparse_categorical_accuracy: 0.8748 - val_loss: 0.4836 - val_sparse_categorical_accuracy: 0.8423 - 407ms/epoch - 3ms/step\n",
      "Epoch 202/300\n",
      "118/118 - 0s - loss: 0.3630 - sparse_categorical_accuracy: 0.8755 - val_loss: 0.4841 - val_sparse_categorical_accuracy: 0.8388 - 409ms/epoch - 3ms/step\n",
      "Epoch 203/300\n",
      "118/118 - 0s - loss: 0.3673 - sparse_categorical_accuracy: 0.8734 - val_loss: 0.5130 - val_sparse_categorical_accuracy: 0.8309 - 414ms/epoch - 4ms/step\n",
      "Epoch 204/300\n",
      "118/118 - 0s - loss: 0.3698 - sparse_categorical_accuracy: 0.8744 - val_loss: 0.5125 - val_sparse_categorical_accuracy: 0.8356 - 413ms/epoch - 3ms/step\n",
      "Epoch 205/300\n",
      "118/118 - 0s - loss: 0.3687 - sparse_categorical_accuracy: 0.8727 - val_loss: 0.4968 - val_sparse_categorical_accuracy: 0.8328 - 398ms/epoch - 3ms/step\n",
      "Epoch 206/300\n",
      "118/118 - 0s - loss: 0.3670 - sparse_categorical_accuracy: 0.8728 - val_loss: 0.4881 - val_sparse_categorical_accuracy: 0.8387 - 413ms/epoch - 3ms/step\n",
      "Epoch 207/300\n",
      "118/118 - 0s - loss: 0.3725 - sparse_categorical_accuracy: 0.8719 - val_loss: 0.5030 - val_sparse_categorical_accuracy: 0.8327 - 402ms/epoch - 3ms/step\n",
      "Epoch 208/300\n",
      "118/118 - 0s - loss: 0.3625 - sparse_categorical_accuracy: 0.8763 - val_loss: 0.4920 - val_sparse_categorical_accuracy: 0.8384 - 417ms/epoch - 4ms/step\n",
      "Epoch 209/300\n",
      "118/118 - 0s - loss: 0.3676 - sparse_categorical_accuracy: 0.8742 - val_loss: 0.4872 - val_sparse_categorical_accuracy: 0.8393 - 420ms/epoch - 4ms/step\n",
      "Epoch 210/300\n",
      "118/118 - 0s - loss: 0.3627 - sparse_categorical_accuracy: 0.8761 - val_loss: 0.4839 - val_sparse_categorical_accuracy: 0.8387 - 398ms/epoch - 3ms/step\n",
      "Epoch 211/300\n",
      "118/118 - 0s - loss: 0.3577 - sparse_categorical_accuracy: 0.8784 - val_loss: 0.4983 - val_sparse_categorical_accuracy: 0.8342 - 422ms/epoch - 4ms/step\n",
      "Epoch 212/300\n",
      "118/118 - 0s - loss: 0.3678 - sparse_categorical_accuracy: 0.8735 - val_loss: 0.5059 - val_sparse_categorical_accuracy: 0.8374 - 417ms/epoch - 4ms/step\n",
      "Epoch 213/300\n",
      "118/118 - 0s - loss: 0.3644 - sparse_categorical_accuracy: 0.8749 - val_loss: 0.5118 - val_sparse_categorical_accuracy: 0.8345 - 409ms/epoch - 3ms/step\n",
      "Epoch 214/300\n",
      "118/118 - 0s - loss: 0.3692 - sparse_categorical_accuracy: 0.8735 - val_loss: 0.4907 - val_sparse_categorical_accuracy: 0.8359 - 433ms/epoch - 4ms/step\n",
      "Epoch 215/300\n",
      "118/118 - 0s - loss: 0.3685 - sparse_categorical_accuracy: 0.8726 - val_loss: 0.5185 - val_sparse_categorical_accuracy: 0.8290 - 396ms/epoch - 3ms/step\n",
      "Epoch 216/300\n",
      "118/118 - 0s - loss: 0.3666 - sparse_categorical_accuracy: 0.8731 - val_loss: 0.4902 - val_sparse_categorical_accuracy: 0.8396 - 434ms/epoch - 4ms/step\n",
      "Epoch 217/300\n",
      "118/118 - 0s - loss: 0.3708 - sparse_categorical_accuracy: 0.8725 - val_loss: 0.4787 - val_sparse_categorical_accuracy: 0.8393 - 396ms/epoch - 3ms/step\n",
      "Epoch 218/300\n",
      "118/118 - 0s - loss: 0.3627 - sparse_categorical_accuracy: 0.8753 - val_loss: 0.5191 - val_sparse_categorical_accuracy: 0.8270 - 417ms/epoch - 4ms/step\n",
      "Epoch 219/300\n",
      "118/118 - 0s - loss: 0.3701 - sparse_categorical_accuracy: 0.8730 - val_loss: 0.4949 - val_sparse_categorical_accuracy: 0.8352 - 396ms/epoch - 3ms/step\n",
      "Epoch 220/300\n",
      "118/118 - 0s - loss: 0.3601 - sparse_categorical_accuracy: 0.8786 - val_loss: 0.5081 - val_sparse_categorical_accuracy: 0.8307 - 411ms/epoch - 3ms/step\n",
      "Epoch 221/300\n",
      "118/118 - 0s - loss: 0.3699 - sparse_categorical_accuracy: 0.8724 - val_loss: 0.5037 - val_sparse_categorical_accuracy: 0.8361 - 425ms/epoch - 4ms/step\n",
      "Epoch 222/300\n",
      "118/118 - 0s - loss: 0.3626 - sparse_categorical_accuracy: 0.8750 - val_loss: 0.4887 - val_sparse_categorical_accuracy: 0.8402 - 395ms/epoch - 3ms/step\n",
      "Epoch 223/300\n",
      "118/118 - 0s - loss: 0.3585 - sparse_categorical_accuracy: 0.8761 - val_loss: 0.4981 - val_sparse_categorical_accuracy: 0.8382 - 406ms/epoch - 3ms/step\n",
      "Epoch 224/300\n",
      "118/118 - 0s - loss: 0.3649 - sparse_categorical_accuracy: 0.8748 - val_loss: 0.5100 - val_sparse_categorical_accuracy: 0.8312 - 396ms/epoch - 3ms/step\n",
      "Epoch 225/300\n",
      "118/118 - 0s - loss: 0.3619 - sparse_categorical_accuracy: 0.8767 - val_loss: 0.4899 - val_sparse_categorical_accuracy: 0.8365 - 394ms/epoch - 3ms/step\n",
      "Epoch 226/300\n",
      "118/118 - 0s - loss: 0.3600 - sparse_categorical_accuracy: 0.8771 - val_loss: 0.5144 - val_sparse_categorical_accuracy: 0.8307 - 426ms/epoch - 4ms/step\n",
      "Epoch 227/300\n",
      "118/118 - 0s - loss: 0.3650 - sparse_categorical_accuracy: 0.8750 - val_loss: 0.5144 - val_sparse_categorical_accuracy: 0.8304 - 404ms/epoch - 3ms/step\n",
      "Epoch 228/300\n",
      "118/118 - 0s - loss: 0.3719 - sparse_categorical_accuracy: 0.8718 - val_loss: 0.4972 - val_sparse_categorical_accuracy: 0.8380 - 417ms/epoch - 4ms/step\n",
      "Epoch 229/300\n",
      "118/118 - 0s - loss: 0.3657 - sparse_categorical_accuracy: 0.8737 - val_loss: 0.4950 - val_sparse_categorical_accuracy: 0.8368 - 408ms/epoch - 3ms/step\n",
      "Epoch 230/300\n",
      "118/118 - 0s - loss: 0.3549 - sparse_categorical_accuracy: 0.8787 - val_loss: 0.4759 - val_sparse_categorical_accuracy: 0.8447 - 425ms/epoch - 4ms/step\n",
      "Epoch 231/300\n",
      "118/118 - 0s - loss: 0.3527 - sparse_categorical_accuracy: 0.8806 - val_loss: 0.4960 - val_sparse_categorical_accuracy: 0.8389 - 423ms/epoch - 4ms/step\n",
      "Epoch 232/300\n",
      "118/118 - 0s - loss: 0.3581 - sparse_categorical_accuracy: 0.8764 - val_loss: 0.5131 - val_sparse_categorical_accuracy: 0.8218 - 422ms/epoch - 4ms/step\n",
      "Epoch 233/300\n",
      "118/118 - 0s - loss: 0.3643 - sparse_categorical_accuracy: 0.8738 - val_loss: 0.4978 - val_sparse_categorical_accuracy: 0.8341 - 428ms/epoch - 4ms/step\n",
      "Epoch 234/300\n",
      "118/118 - 0s - loss: 0.3596 - sparse_categorical_accuracy: 0.8778 - val_loss: 0.4952 - val_sparse_categorical_accuracy: 0.8366 - 423ms/epoch - 4ms/step\n",
      "Epoch 235/300\n",
      "118/118 - 0s - loss: 0.3535 - sparse_categorical_accuracy: 0.8790 - val_loss: 0.4962 - val_sparse_categorical_accuracy: 0.8398 - 418ms/epoch - 4ms/step\n",
      "Epoch 236/300\n",
      "118/118 - 0s - loss: 0.3567 - sparse_categorical_accuracy: 0.8784 - val_loss: 0.4999 - val_sparse_categorical_accuracy: 0.8383 - 410ms/epoch - 3ms/step\n",
      "Epoch 237/300\n",
      "118/118 - 0s - loss: 0.3522 - sparse_categorical_accuracy: 0.8785 - val_loss: 0.4818 - val_sparse_categorical_accuracy: 0.8395 - 399ms/epoch - 3ms/step\n",
      "Epoch 238/300\n",
      "118/118 - 0s - loss: 0.3515 - sparse_categorical_accuracy: 0.8789 - val_loss: 0.4941 - val_sparse_categorical_accuracy: 0.8393 - 405ms/epoch - 3ms/step\n",
      "Epoch 239/300\n",
      "118/118 - 0s - loss: 0.3519 - sparse_categorical_accuracy: 0.8800 - val_loss: 0.4903 - val_sparse_categorical_accuracy: 0.8431 - 406ms/epoch - 3ms/step\n",
      "Epoch 240/300\n",
      "118/118 - 0s - loss: 0.3573 - sparse_categorical_accuracy: 0.8773 - val_loss: 0.4883 - val_sparse_categorical_accuracy: 0.8416 - 422ms/epoch - 4ms/step\n",
      "Epoch 241/300\n",
      "118/118 - 0s - loss: 0.3599 - sparse_categorical_accuracy: 0.8752 - val_loss: 0.5097 - val_sparse_categorical_accuracy: 0.8326 - 405ms/epoch - 3ms/step\n",
      "Epoch 242/300\n",
      "118/118 - 0s - loss: 0.3582 - sparse_categorical_accuracy: 0.8763 - val_loss: 0.5247 - val_sparse_categorical_accuracy: 0.8312 - 430ms/epoch - 4ms/step\n",
      "Epoch 243/300\n",
      "118/118 - 0s - loss: 0.3702 - sparse_categorical_accuracy: 0.8716 - val_loss: 0.5222 - val_sparse_categorical_accuracy: 0.8239 - 425ms/epoch - 4ms/step\n",
      "Epoch 244/300\n",
      "118/118 - 0s - loss: 0.3612 - sparse_categorical_accuracy: 0.8748 - val_loss: 0.4914 - val_sparse_categorical_accuracy: 0.8398 - 420ms/epoch - 4ms/step\n",
      "Epoch 245/300\n",
      "118/118 - 0s - loss: 0.3548 - sparse_categorical_accuracy: 0.8782 - val_loss: 0.5066 - val_sparse_categorical_accuracy: 0.8361 - 427ms/epoch - 4ms/step\n",
      "Epoch 246/300\n",
      "118/118 - 0s - loss: 0.3616 - sparse_categorical_accuracy: 0.8759 - val_loss: 0.4874 - val_sparse_categorical_accuracy: 0.8419 - 434ms/epoch - 4ms/step\n",
      "Epoch 247/300\n",
      "118/118 - 0s - loss: 0.3584 - sparse_categorical_accuracy: 0.8768 - val_loss: 0.4993 - val_sparse_categorical_accuracy: 0.8385 - 394ms/epoch - 3ms/step\n",
      "Epoch 248/300\n",
      "118/118 - 0s - loss: 0.3618 - sparse_categorical_accuracy: 0.8770 - val_loss: 0.5129 - val_sparse_categorical_accuracy: 0.8279 - 422ms/epoch - 4ms/step\n",
      "Epoch 249/300\n",
      "118/118 - 0s - loss: 0.3576 - sparse_categorical_accuracy: 0.8777 - val_loss: 0.4940 - val_sparse_categorical_accuracy: 0.8372 - 401ms/epoch - 3ms/step\n",
      "Epoch 250/300\n",
      "118/118 - 0s - loss: 0.3554 - sparse_categorical_accuracy: 0.8796 - val_loss: 0.4833 - val_sparse_categorical_accuracy: 0.8419 - 403ms/epoch - 3ms/step\n",
      "Epoch 251/300\n",
      "118/118 - 0s - loss: 0.3603 - sparse_categorical_accuracy: 0.8766 - val_loss: 0.5113 - val_sparse_categorical_accuracy: 0.8293 - 416ms/epoch - 4ms/step\n",
      "Epoch 252/300\n",
      "118/118 - 0s - loss: 0.3659 - sparse_categorical_accuracy: 0.8736 - val_loss: 0.4913 - val_sparse_categorical_accuracy: 0.8362 - 412ms/epoch - 3ms/step\n",
      "Epoch 253/300\n",
      "118/118 - 0s - loss: 0.3579 - sparse_categorical_accuracy: 0.8772 - val_loss: 0.4913 - val_sparse_categorical_accuracy: 0.8414 - 402ms/epoch - 3ms/step\n",
      "Epoch 254/300\n",
      "118/118 - 0s - loss: 0.3609 - sparse_categorical_accuracy: 0.8749 - val_loss: 0.4834 - val_sparse_categorical_accuracy: 0.8453 - 428ms/epoch - 4ms/step\n",
      "Epoch 255/300\n",
      "118/118 - 0s - loss: 0.3599 - sparse_categorical_accuracy: 0.8767 - val_loss: 0.4980 - val_sparse_categorical_accuracy: 0.8338 - 417ms/epoch - 4ms/step\n",
      "Epoch 256/300\n",
      "118/118 - 0s - loss: 0.3562 - sparse_categorical_accuracy: 0.8781 - val_loss: 0.4754 - val_sparse_categorical_accuracy: 0.8427 - 402ms/epoch - 3ms/step\n",
      "Epoch 257/300\n",
      "118/118 - 0s - loss: 0.3508 - sparse_categorical_accuracy: 0.8792 - val_loss: 0.5273 - val_sparse_categorical_accuracy: 0.8230 - 407ms/epoch - 3ms/step\n",
      "Epoch 258/300\n",
      "118/118 - 0s - loss: 0.3621 - sparse_categorical_accuracy: 0.8762 - val_loss: 0.5272 - val_sparse_categorical_accuracy: 0.8219 - 398ms/epoch - 3ms/step\n",
      "Epoch 259/300\n",
      "118/118 - 0s - loss: 0.3533 - sparse_categorical_accuracy: 0.8799 - val_loss: 0.5110 - val_sparse_categorical_accuracy: 0.8350 - 420ms/epoch - 4ms/step\n",
      "Epoch 260/300\n",
      "118/118 - 0s - loss: 0.3522 - sparse_categorical_accuracy: 0.8799 - val_loss: 0.5138 - val_sparse_categorical_accuracy: 0.8291 - 422ms/epoch - 4ms/step\n",
      "Epoch 261/300\n",
      "118/118 - 0s - loss: 0.3585 - sparse_categorical_accuracy: 0.8762 - val_loss: 0.5057 - val_sparse_categorical_accuracy: 0.8332 - 415ms/epoch - 4ms/step\n",
      "Epoch 262/300\n",
      "118/118 - 0s - loss: 0.3539 - sparse_categorical_accuracy: 0.8782 - val_loss: 0.5201 - val_sparse_categorical_accuracy: 0.8309 - 412ms/epoch - 3ms/step\n",
      "Epoch 263/300\n",
      "118/118 - 0s - loss: 0.3641 - sparse_categorical_accuracy: 0.8743 - val_loss: 0.5010 - val_sparse_categorical_accuracy: 0.8365 - 408ms/epoch - 3ms/step\n",
      "Epoch 264/300\n",
      "118/118 - 0s - loss: 0.3499 - sparse_categorical_accuracy: 0.8804 - val_loss: 0.4984 - val_sparse_categorical_accuracy: 0.8341 - 414ms/epoch - 4ms/step\n",
      "Epoch 265/300\n",
      "118/118 - 0s - loss: 0.3495 - sparse_categorical_accuracy: 0.8807 - val_loss: 0.4933 - val_sparse_categorical_accuracy: 0.8389 - 420ms/epoch - 4ms/step\n",
      "Epoch 266/300\n",
      "118/118 - 0s - loss: 0.3596 - sparse_categorical_accuracy: 0.8758 - val_loss: 0.5013 - val_sparse_categorical_accuracy: 0.8396 - 404ms/epoch - 3ms/step\n",
      "Epoch 267/300\n",
      "118/118 - 0s - loss: 0.3605 - sparse_categorical_accuracy: 0.8753 - val_loss: 0.4910 - val_sparse_categorical_accuracy: 0.8384 - 429ms/epoch - 4ms/step\n",
      "Epoch 268/300\n",
      "118/118 - 0s - loss: 0.3492 - sparse_categorical_accuracy: 0.8797 - val_loss: 0.5000 - val_sparse_categorical_accuracy: 0.8341 - 409ms/epoch - 3ms/step\n",
      "Epoch 269/300\n",
      "118/118 - 0s - loss: 0.3524 - sparse_categorical_accuracy: 0.8770 - val_loss: 0.4825 - val_sparse_categorical_accuracy: 0.8411 - 405ms/epoch - 3ms/step\n",
      "Epoch 270/300\n",
      "118/118 - 0s - loss: 0.3463 - sparse_categorical_accuracy: 0.8812 - val_loss: 0.5015 - val_sparse_categorical_accuracy: 0.8357 - 406ms/epoch - 3ms/step\n",
      "Epoch 271/300\n",
      "118/118 - 0s - loss: 0.3488 - sparse_categorical_accuracy: 0.8805 - val_loss: 0.5213 - val_sparse_categorical_accuracy: 0.8310 - 431ms/epoch - 4ms/step\n",
      "Epoch 272/300\n",
      "118/118 - 0s - loss: 0.3605 - sparse_categorical_accuracy: 0.8756 - val_loss: 0.4846 - val_sparse_categorical_accuracy: 0.8434 - 410ms/epoch - 3ms/step\n",
      "Epoch 273/300\n",
      "118/118 - 0s - loss: 0.3460 - sparse_categorical_accuracy: 0.8795 - val_loss: 0.5212 - val_sparse_categorical_accuracy: 0.8243 - 401ms/epoch - 3ms/step\n",
      "Epoch 274/300\n",
      "118/118 - 0s - loss: 0.3495 - sparse_categorical_accuracy: 0.8810 - val_loss: 0.5175 - val_sparse_categorical_accuracy: 0.8268 - 400ms/epoch - 3ms/step\n",
      "Epoch 275/300\n",
      "118/118 - 0s - loss: 0.3429 - sparse_categorical_accuracy: 0.8832 - val_loss: 0.5032 - val_sparse_categorical_accuracy: 0.8400 - 412ms/epoch - 3ms/step\n",
      "Epoch 276/300\n",
      "118/118 - 0s - loss: 0.3452 - sparse_categorical_accuracy: 0.8820 - val_loss: 0.5041 - val_sparse_categorical_accuracy: 0.8322 - 419ms/epoch - 4ms/step\n",
      "Epoch 277/300\n",
      "118/118 - 0s - loss: 0.3564 - sparse_categorical_accuracy: 0.8777 - val_loss: 0.5524 - val_sparse_categorical_accuracy: 0.8197 - 429ms/epoch - 4ms/step\n",
      "Epoch 278/300\n",
      "118/118 - 0s - loss: 0.3575 - sparse_categorical_accuracy: 0.8765 - val_loss: 0.4838 - val_sparse_categorical_accuracy: 0.8406 - 416ms/epoch - 4ms/step\n",
      "Epoch 279/300\n",
      "118/118 - 0s - loss: 0.3453 - sparse_categorical_accuracy: 0.8809 - val_loss: 0.5148 - val_sparse_categorical_accuracy: 0.8215 - 432ms/epoch - 4ms/step\n",
      "Epoch 280/300\n",
      "118/118 - 0s - loss: 0.3564 - sparse_categorical_accuracy: 0.8772 - val_loss: 0.5002 - val_sparse_categorical_accuracy: 0.8331 - 401ms/epoch - 3ms/step\n",
      "Epoch 281/300\n",
      "118/118 - 0s - loss: 0.3552 - sparse_categorical_accuracy: 0.8771 - val_loss: 0.5018 - val_sparse_categorical_accuracy: 0.8381 - 402ms/epoch - 3ms/step\n",
      "Epoch 282/300\n",
      "118/118 - 0s - loss: 0.3542 - sparse_categorical_accuracy: 0.8783 - val_loss: 0.6502 - val_sparse_categorical_accuracy: 0.7882 - 431ms/epoch - 4ms/step\n",
      "Epoch 283/300\n",
      "118/118 - 0s - loss: 0.3688 - sparse_categorical_accuracy: 0.8736 - val_loss: 0.5179 - val_sparse_categorical_accuracy: 0.8291 - 418ms/epoch - 4ms/step\n",
      "Epoch 284/300\n",
      "118/118 - 0s - loss: 0.3557 - sparse_categorical_accuracy: 0.8779 - val_loss: 0.4946 - val_sparse_categorical_accuracy: 0.8361 - 407ms/epoch - 3ms/step\n",
      "Epoch 285/300\n",
      "118/118 - 0s - loss: 0.3567 - sparse_categorical_accuracy: 0.8765 - val_loss: 0.4989 - val_sparse_categorical_accuracy: 0.8361 - 404ms/epoch - 3ms/step\n",
      "Epoch 286/300\n",
      "118/118 - 0s - loss: 0.3600 - sparse_categorical_accuracy: 0.8741 - val_loss: 0.5005 - val_sparse_categorical_accuracy: 0.8370 - 398ms/epoch - 3ms/step\n",
      "Epoch 287/300\n",
      "118/118 - 0s - loss: 0.3610 - sparse_categorical_accuracy: 0.8767 - val_loss: 0.5107 - val_sparse_categorical_accuracy: 0.8303 - 420ms/epoch - 4ms/step\n",
      "Epoch 288/300\n",
      "118/118 - 0s - loss: 0.3557 - sparse_categorical_accuracy: 0.8777 - val_loss: 0.4880 - val_sparse_categorical_accuracy: 0.8432 - 398ms/epoch - 3ms/step\n",
      "Epoch 289/300\n",
      "118/118 - 0s - loss: 0.3608 - sparse_categorical_accuracy: 0.8750 - val_loss: 0.4908 - val_sparse_categorical_accuracy: 0.8433 - 432ms/epoch - 4ms/step\n",
      "Epoch 290/300\n",
      "118/118 - 0s - loss: 0.3511 - sparse_categorical_accuracy: 0.8792 - val_loss: 0.5227 - val_sparse_categorical_accuracy: 0.8295 - 430ms/epoch - 4ms/step\n",
      "Epoch 291/300\n",
      "118/118 - 0s - loss: 0.3541 - sparse_categorical_accuracy: 0.8779 - val_loss: 0.5111 - val_sparse_categorical_accuracy: 0.8345 - 428ms/epoch - 4ms/step\n",
      "Epoch 292/300\n",
      "118/118 - 0s - loss: 0.3654 - sparse_categorical_accuracy: 0.8736 - val_loss: 0.5143 - val_sparse_categorical_accuracy: 0.8364 - 424ms/epoch - 4ms/step\n",
      "Epoch 293/300\n",
      "118/118 - 0s - loss: 0.3529 - sparse_categorical_accuracy: 0.8793 - val_loss: 0.4847 - val_sparse_categorical_accuracy: 0.8446 - 412ms/epoch - 3ms/step\n",
      "Epoch 294/300\n",
      "118/118 - 0s - loss: 0.3541 - sparse_categorical_accuracy: 0.8773 - val_loss: 0.5248 - val_sparse_categorical_accuracy: 0.8260 - 417ms/epoch - 4ms/step\n",
      "Epoch 295/300\n",
      "118/118 - 0s - loss: 0.3554 - sparse_categorical_accuracy: 0.8784 - val_loss: 0.4946 - val_sparse_categorical_accuracy: 0.8377 - 412ms/epoch - 3ms/step\n",
      "Epoch 296/300\n",
      "118/118 - 0s - loss: 0.3544 - sparse_categorical_accuracy: 0.8778 - val_loss: 0.4863 - val_sparse_categorical_accuracy: 0.8448 - 438ms/epoch - 4ms/step\n",
      "Epoch 297/300\n",
      "118/118 - 0s - loss: 0.3488 - sparse_categorical_accuracy: 0.8808 - val_loss: 0.4885 - val_sparse_categorical_accuracy: 0.8447 - 420ms/epoch - 4ms/step\n",
      "Epoch 298/300\n",
      "118/118 - 0s - loss: 0.3483 - sparse_categorical_accuracy: 0.8802 - val_loss: 0.4973 - val_sparse_categorical_accuracy: 0.8404 - 400ms/epoch - 3ms/step\n",
      "Epoch 299/300\n",
      "118/118 - 0s - loss: 0.3515 - sparse_categorical_accuracy: 0.8794 - val_loss: 0.5226 - val_sparse_categorical_accuracy: 0.8252 - 412ms/epoch - 3ms/step\n",
      "Epoch 300/300\n",
      "118/118 - 0s - loss: 0.3504 - sparse_categorical_accuracy: 0.8789 - val_loss: 0.4905 - val_sparse_categorical_accuracy: 0.8391 - 421ms/epoch - 4ms/step\n"
     ]
    }
   ],
   "source": [
    "# irst, second, third, and fourth\n",
    "fourth_model = keras.Sequential()\n",
    "fourth_model.add(keras.Input(shape=(784,)))\n",
    "fourth_model.add(first)\n",
    "fourth_model.add(second)\n",
    "fourth_model.add(third)\n",
    "fourth_model.add(fourth)\n",
    "fourth_model.add(keras.layers.Dense(10, activation='softmax'))\n",
    "\n",
    "# unfreeze the first network\n",
    "first.trainable  = True\n",
    "second.trainable = True\n",
    "third.trainable  = True\n",
    "\n",
    "fourth_model.compile(optimizer='sgd', \n",
    "              loss='sparse_categorical_crossentropy', \n",
    "              metrics=['sparse_categorical_accuracy'])\n",
    "\n",
    "history = fourth_model.fit(X_train, y_train, batch_size,\n",
    "                          validation_data=(X_test, y_test),\n",
    "                          epochs=300, verbose=2)"
   ]
  },
  {
   "cell_type": "code",
   "execution_count": 22,
   "id": "RlpO5sCeLbVU",
   "metadata": {
    "executionInfo": {
     "elapsed": 48,
     "status": "ok",
     "timestamp": 1640496518853,
     "user": {
      "displayName": "nguyen khoa",
      "photoUrl": "https://lh3.googleusercontent.com/a/default-user=s64",
      "userId": "18293071775377392514"
     },
     "user_tz": -420
    },
    "id": "RlpO5sCeLbVU"
   },
   "outputs": [],
   "source": []
  },
  {
   "cell_type": "code",
   "execution_count": 22,
   "id": "rNOs-wOJLbQQ",
   "metadata": {
    "executionInfo": {
     "elapsed": 46,
     "status": "ok",
     "timestamp": 1640496518855,
     "user": {
      "displayName": "nguyen khoa",
      "photoUrl": "https://lh3.googleusercontent.com/a/default-user=s64",
      "userId": "18293071775377392514"
     },
     "user_tz": -420
    },
    "id": "rNOs-wOJLbQQ"
   },
   "outputs": [],
   "source": []
  },
  {
   "cell_type": "code",
   "execution_count": 22,
   "id": "Z0_JXlglLbKu",
   "metadata": {
    "executionInfo": {
     "elapsed": 43,
     "status": "ok",
     "timestamp": 1640496518858,
     "user": {
      "displayName": "nguyen khoa",
      "photoUrl": "https://lh3.googleusercontent.com/a/default-user=s64",
      "userId": "18293071775377392514"
     },
     "user_tz": -420
    },
    "id": "Z0_JXlglLbKu"
   },
   "outputs": [],
   "source": []
  },
  {
   "cell_type": "code",
   "execution_count": 22,
   "id": "a8c1d8c1",
   "metadata": {
    "executionInfo": {
     "elapsed": 43,
     "status": "ok",
     "timestamp": 1640496518861,
     "user": {
      "displayName": "nguyen khoa",
      "photoUrl": "https://lh3.googleusercontent.com/a/default-user=s64",
      "userId": "18293071775377392514"
     },
     "user_tz": -420
    },
    "id": "a8c1d8c1"
   },
   "outputs": [],
   "source": []
  },
  {
   "cell_type": "code",
   "execution_count": 23,
   "id": "1a6d5541",
   "metadata": {
    "colab": {
     "base_uri": "https://localhost:8080/",
     "height": 296
    },
    "executionInfo": {
     "elapsed": 42,
     "status": "ok",
     "timestamp": 1640496518863,
     "user": {
      "displayName": "nguyen khoa",
      "photoUrl": "https://lh3.googleusercontent.com/a/default-user=s64",
      "userId": "18293071775377392514"
     },
     "user_tz": -420
    },
    "id": "1a6d5541",
    "outputId": "1822a221-2d79-4fbc-b1e8-c6ddbdbc0903"
   },
   "outputs": [
    {
     "data": {
      "text/plain": [
       "<matplotlib.legend.Legend at 0x7fb6b844e6d0>"
      ]
     },
     "execution_count": 23,
     "metadata": {},
     "output_type": "execute_result"
    },
    {
     "data": {
      "image/png": "[encoded data removed]",
      "text/plain": [
       "<Figure size 432x288 with 1 Axes>"
      ]
     },
     "metadata": {
      "needs_background": "light"
     },
     "output_type": "display_data"
    }
   ],
   "source": [
    "import matplotlib.pyplot as plt\n",
    "\n",
    "plt.plot(history.history['loss'], label='loss')\n",
    "plt.plot(history.history['val_loss'], label='val_loss')\n",
    "plt.xlabel('iteration')\n",
    "plt.ylabel('Loss')\n",
    "plt.legend()"
   ]
  },
  {
   "cell_type": "code",
   "execution_count": 23,
   "id": "1e570b52",
   "metadata": {
    "executionInfo": {
     "elapsed": 35,
     "status": "ok",
     "timestamp": 1640496518866,
     "user": {
      "displayName": "nguyen khoa",
      "photoUrl": "https://lh3.googleusercontent.com/a/default-user=s64",
      "userId": "18293071775377392514"
     },
     "user_tz": -420
    },
    "id": "1e570b52"
   },
   "outputs": [],
   "source": []
  },
  {
   "cell_type": "code",
   "execution_count": 24,
   "id": "bf862fd5",
   "metadata": {
    "colab": {
     "base_uri": "https://localhost:8080/",
     "height": 296
    },
    "executionInfo": {
     "elapsed": 943,
     "status": "ok",
     "timestamp": 1640496519776,
     "user": {
      "displayName": "nguyen khoa",
      "photoUrl": "https://lh3.googleusercontent.com/a/default-user=s64",
      "userId": "18293071775377392514"
     },
     "user_tz": -420
    },
    "id": "bf862fd5",
    "outputId": "7c56c1f8-7194-4d33-d46c-f061bf966182"
   },
   "outputs": [
    {
     "data": {
      "text/plain": [
       "<matplotlib.legend.Legend at 0x7fb6b84dc410>"
      ]
     },
     "execution_count": 24,
     "metadata": {},
     "output_type": "execute_result"
    },
    {
     "data": {
      "image/png": "[encoded data removed]",
      "text/plain": [
       "<Figure size 432x288 with 1 Axes>"
      ]
     },
     "metadata": {
      "needs_background": "light"
     },
     "output_type": "display_data"
    }
   ],
   "source": [
    "import matplotlib.pyplot as plt\n",
    "\n",
    "plt.plot(history.history['sparse_categorical_accuracy'], label='train_accuracy')\n",
    "plt.plot(history.history['val_sparse_categorical_accuracy'], label='val_accuracy')\n",
    "plt.xlabel('iteration')\n",
    "plt.ylabel('Accuracy')\n",
    "plt.legend()"
   ]
  },
  {
   "cell_type": "code",
   "execution_count": 24,
   "id": "317043ed",
   "metadata": {
    "executionInfo": {
     "elapsed": 40,
     "status": "ok",
     "timestamp": 1640496519779,
     "user": {
      "displayName": "nguyen khoa",
      "photoUrl": "https://lh3.googleusercontent.com/a/default-user=s64",
      "userId": "18293071775377392514"
     },
     "user_tz": -420
    },
    "id": "317043ed"
   },
   "outputs": [],
   "source": []
  }
 ],
 "metadata": {
  "accelerator": "GPU",
  "colab": {
   "collapsed_sections": [],
   "name": "7.Solution6_TrainSomeLayers.ipynb",
   "provenance": []
  },
  "kernelspec": {
   "display_name": "Python 3.10.3 64-bit",
   "language": "python",
   "name": "python3"
  },
  "language_info": {
   "codemirror_mode": {
    "name": "ipython",
    "version": 3
   },
   "file_extension": ".py",
   "mimetype": "text/x-python",
   "name": "python",
   "nbconvert_exporter": "python",
   "pygments_lexer": "ipython3",
   "version": "3.10.3"
  },
  "vscode": {
   "interpreter": {
    "hash": "34bf4f232a0bc14e62be942f1d9c52e9582dc34f446ffe6f098ef90dc3cd9607"
   }
  }
 },
 "nbformat": 4,
 "nbformat_minor": 5
}
