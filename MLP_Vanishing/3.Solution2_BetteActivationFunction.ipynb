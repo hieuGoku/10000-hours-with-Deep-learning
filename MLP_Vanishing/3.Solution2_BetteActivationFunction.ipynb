{
 "cells": [
  {
   "cell_type": "code",
   "execution_count": 1,
   "id": "e175eeac",
   "metadata": {
    "colab": {
     "base_uri": "https://localhost:8080/"
    },
    "executionInfo": {
     "elapsed": 840,
     "status": "ok",
     "timestamp": 1640491056082,
     "user": {
      "displayName": "nguyen khoa",
      "photoUrl": "https://lh3.googleusercontent.com/a/default-user=s64",
      "userId": "18293071775377392514"
     },
     "user_tz": -420
    },
    "id": "e175eeac",
    "outputId": "1c2a992e-2f09-4d70-95b3-0e066cfd774a"
   },
   "outputs": [
    {
     "name": "stdout",
     "output_type": "stream",
     "text": [
      "(60000, 28, 28)\n",
      "(60000,)\n",
      "(10000, 28, 28)\n",
      "(10000,)\n"
     ]
    }
   ],
   "source": [
    "# fashion_mnist\n",
    "import tensorflow as tf\n",
    "import tensorflow.keras as keras\n",
    "import numpy as np\n",
    "\n",
    "(X_train, y_train), (X_test, y_test) = keras.datasets.fashion_mnist.load_data()\n",
    "print(X_train.shape)\n",
    "print(y_train.shape)\n",
    "print(X_test.shape)\n",
    "print(y_test.shape)"
   ]
  },
  {
   "cell_type": "code",
   "execution_count": null,
   "id": "f068e1ea",
   "metadata": {
    "executionInfo": {
     "elapsed": 11,
     "status": "ok",
     "timestamp": 1640491056085,
     "user": {
      "displayName": "nguyen khoa",
      "photoUrl": "https://lh3.googleusercontent.com/a/default-user=s64",
      "userId": "18293071775377392514"
     },
     "user_tz": -420
    },
    "id": "f068e1ea"
   },
   "outputs": [],
   "source": []
  },
  {
   "cell_type": "code",
   "execution_count": 2,
   "id": "8aabf29a",
   "metadata": {
    "colab": {
     "base_uri": "https://localhost:8080/"
    },
    "executionInfo": {
     "elapsed": 6,
     "status": "ok",
     "timestamp": 1640491056592,
     "user": {
      "displayName": "nguyen khoa",
      "photoUrl": "https://lh3.googleusercontent.com/a/default-user=s64",
      "userId": "18293071775377392514"
     },
     "user_tz": -420
    },
    "id": "8aabf29a",
    "outputId": "86b6fbfe-7435-412d-a63d-5a2ce92c7e37"
   },
   "outputs": [
    {
     "name": "stdout",
     "output_type": "stream",
     "text": [
      "(60000, 784)\n",
      "(60000,)\n",
      "(10000, 784)\n",
      "(10000,)\n"
     ]
    }
   ],
   "source": [
    "X_train = X_train.reshape(60000, -1)\n",
    "X_test  = X_test.reshape(10000, -1)\n",
    "\n",
    "print(X_train.shape)\n",
    "print(y_train.shape)\n",
    "print(X_test.shape)\n",
    "print(y_test.shape)"
   ]
  },
  {
   "cell_type": "code",
   "execution_count": 3,
   "id": "c3167cdb",
   "metadata": {
    "executionInfo": {
     "elapsed": 13,
     "status": "ok",
     "timestamp": 1640491057048,
     "user": {
      "displayName": "nguyen khoa",
      "photoUrl": "https://lh3.googleusercontent.com/a/default-user=s64",
      "userId": "18293071775377392514"
     },
     "user_tz": -420
    },
    "id": "c3167cdb"
   },
   "outputs": [],
   "source": [
    "# X_train = (X_train/127.5) - 1\n",
    "# X_test = (X_test/127.5) - 1"
   ]
  },
  {
   "cell_type": "code",
   "execution_count": 4,
   "id": "VnOXPEfY6XtS",
   "metadata": {
    "colab": {
     "base_uri": "https://localhost:8080/"
    },
    "executionInfo": {
     "elapsed": 83038,
     "status": "ok",
     "timestamp": 1640491615206,
     "user": {
      "displayName": "nguyen khoa",
      "photoUrl": "https://lh3.googleusercontent.com/a/default-user=s64",
      "userId": "18293071775377392514"
     },
     "user_tz": -420
    },
    "id": "VnOXPEfY6XtS",
    "outputId": "2a93a157-4710-4c96-d469-65654927fd65"
   },
   "outputs": [
    {
     "name": "stdout",
     "output_type": "stream",
     "text": [
      "Epoch 1/150\n",
      "118/118 - 4s - loss: 1.0923 - sparse_categorical_accuracy: 0.6141 - val_loss: 0.9805 - val_sparse_categorical_accuracy: 0.6186 - 4s/epoch - 31ms/step\n",
      "Epoch 2/150\n",
      "118/118 - 1s - loss: 0.6514 - sparse_categorical_accuracy: 0.7620 - val_loss: 0.6320 - val_sparse_categorical_accuracy: 0.7622 - 695ms/epoch - 6ms/step\n",
      "Epoch 3/150\n",
      "118/118 - 1s - loss: 0.5621 - sparse_categorical_accuracy: 0.7953 - val_loss: 0.5750 - val_sparse_categorical_accuracy: 0.7787 - 681ms/epoch - 6ms/step\n",
      "Epoch 4/150\n",
      "118/118 - 1s - loss: 0.5083 - sparse_categorical_accuracy: 0.8166 - val_loss: 0.5848 - val_sparse_categorical_accuracy: 0.7694 - 632ms/epoch - 5ms/step\n",
      "Epoch 5/150\n",
      "118/118 - 1s - loss: 0.4740 - sparse_categorical_accuracy: 0.8285 - val_loss: 0.5499 - val_sparse_categorical_accuracy: 0.7978 - 639ms/epoch - 5ms/step\n",
      "Epoch 6/150\n",
      "118/118 - 1s - loss: 0.4512 - sparse_categorical_accuracy: 0.8366 - val_loss: 0.5603 - val_sparse_categorical_accuracy: 0.7869 - 702ms/epoch - 6ms/step\n",
      "Epoch 7/150\n",
      "118/118 - 1s - loss: 0.4323 - sparse_categorical_accuracy: 0.8428 - val_loss: 0.5545 - val_sparse_categorical_accuracy: 0.7944 - 703ms/epoch - 6ms/step\n",
      "Epoch 8/150\n",
      "118/118 - 1s - loss: 0.4150 - sparse_categorical_accuracy: 0.8492 - val_loss: 0.5323 - val_sparse_categorical_accuracy: 0.8167 - 733ms/epoch - 6ms/step\n",
      "Epoch 9/150\n",
      "118/118 - 1s - loss: 0.4038 - sparse_categorical_accuracy: 0.8534 - val_loss: 0.5798 - val_sparse_categorical_accuracy: 0.7941 - 643ms/epoch - 5ms/step\n",
      "Epoch 10/150\n",
      "118/118 - 1s - loss: 0.3968 - sparse_categorical_accuracy: 0.8568 - val_loss: 0.4988 - val_sparse_categorical_accuracy: 0.8145 - 654ms/epoch - 6ms/step\n",
      "Epoch 11/150\n",
      "118/118 - 1s - loss: 0.3822 - sparse_categorical_accuracy: 0.8608 - val_loss: 0.5802 - val_sparse_categorical_accuracy: 0.7870 - 614ms/epoch - 5ms/step\n",
      "Epoch 12/150\n",
      "118/118 - 1s - loss: 0.3783 - sparse_categorical_accuracy: 0.8625 - val_loss: 0.4623 - val_sparse_categorical_accuracy: 0.8361 - 617ms/epoch - 5ms/step\n",
      "Epoch 13/150\n",
      "118/118 - 1s - loss: 0.3653 - sparse_categorical_accuracy: 0.8662 - val_loss: 0.4594 - val_sparse_categorical_accuracy: 0.8377 - 608ms/epoch - 5ms/step\n",
      "Epoch 14/150\n",
      "118/118 - 1s - loss: 0.3572 - sparse_categorical_accuracy: 0.8690 - val_loss: 0.5255 - val_sparse_categorical_accuracy: 0.8094 - 637ms/epoch - 5ms/step\n",
      "Epoch 15/150\n",
      "118/118 - 1s - loss: 0.3536 - sparse_categorical_accuracy: 0.8698 - val_loss: 0.5307 - val_sparse_categorical_accuracy: 0.8046 - 679ms/epoch - 6ms/step\n",
      "Epoch 16/150\n",
      "118/118 - 1s - loss: 0.3474 - sparse_categorical_accuracy: 0.8727 - val_loss: 0.4666 - val_sparse_categorical_accuracy: 0.8242 - 651ms/epoch - 6ms/step\n",
      "Epoch 17/150\n",
      "118/118 - 1s - loss: 0.3430 - sparse_categorical_accuracy: 0.8737 - val_loss: 0.4237 - val_sparse_categorical_accuracy: 0.8471 - 627ms/epoch - 5ms/step\n",
      "Epoch 18/150\n",
      "118/118 - 1s - loss: 0.3354 - sparse_categorical_accuracy: 0.8763 - val_loss: 0.5269 - val_sparse_categorical_accuracy: 0.7982 - 650ms/epoch - 6ms/step\n",
      "Epoch 19/150\n",
      "118/118 - 1s - loss: 0.3328 - sparse_categorical_accuracy: 0.8780 - val_loss: 0.4279 - val_sparse_categorical_accuracy: 0.8484 - 632ms/epoch - 5ms/step\n",
      "Epoch 20/150\n",
      "118/118 - 1s - loss: 0.3268 - sparse_categorical_accuracy: 0.8803 - val_loss: 0.4887 - val_sparse_categorical_accuracy: 0.8196 - 639ms/epoch - 5ms/step\n",
      "Epoch 21/150\n",
      "118/118 - 1s - loss: 0.3238 - sparse_categorical_accuracy: 0.8804 - val_loss: 0.4519 - val_sparse_categorical_accuracy: 0.8405 - 638ms/epoch - 5ms/step\n",
      "Epoch 22/150\n",
      "118/118 - 1s - loss: 0.3179 - sparse_categorical_accuracy: 0.8824 - val_loss: 0.4116 - val_sparse_categorical_accuracy: 0.8484 - 646ms/epoch - 5ms/step\n",
      "Epoch 23/150\n",
      "118/118 - 1s - loss: 0.3130 - sparse_categorical_accuracy: 0.8844 - val_loss: 0.4380 - val_sparse_categorical_accuracy: 0.8448 - 671ms/epoch - 6ms/step\n",
      "Epoch 24/150\n",
      "118/118 - 1s - loss: 0.3117 - sparse_categorical_accuracy: 0.8853 - val_loss: 0.4859 - val_sparse_categorical_accuracy: 0.8177 - 672ms/epoch - 6ms/step\n",
      "Epoch 25/150\n",
      "118/118 - 1s - loss: 0.3075 - sparse_categorical_accuracy: 0.8862 - val_loss: 0.4416 - val_sparse_categorical_accuracy: 0.8465 - 586ms/epoch - 5ms/step\n",
      "Epoch 26/150\n",
      "118/118 - 1s - loss: 0.3006 - sparse_categorical_accuracy: 0.8885 - val_loss: 0.5823 - val_sparse_categorical_accuracy: 0.8069 - 604ms/epoch - 5ms/step\n",
      "Epoch 27/150\n",
      "118/118 - 1s - loss: 0.3085 - sparse_categorical_accuracy: 0.8871 - val_loss: 0.4266 - val_sparse_categorical_accuracy: 0.8481 - 647ms/epoch - 5ms/step\n",
      "Epoch 28/150\n",
      "118/118 - 1s - loss: 0.2941 - sparse_categorical_accuracy: 0.8917 - val_loss: 0.5871 - val_sparse_categorical_accuracy: 0.8055 - 637ms/epoch - 5ms/step\n",
      "Epoch 29/150\n",
      "118/118 - 1s - loss: 0.2896 - sparse_categorical_accuracy: 0.8929 - val_loss: 0.4532 - val_sparse_categorical_accuracy: 0.8394 - 646ms/epoch - 5ms/step\n",
      "Epoch 30/150\n",
      "118/118 - 1s - loss: 0.2910 - sparse_categorical_accuracy: 0.8935 - val_loss: 0.3924 - val_sparse_categorical_accuracy: 0.8601 - 620ms/epoch - 5ms/step\n",
      "Epoch 31/150\n",
      "118/118 - 1s - loss: 0.2899 - sparse_categorical_accuracy: 0.8928 - val_loss: 0.3918 - val_sparse_categorical_accuracy: 0.8588 - 594ms/epoch - 5ms/step\n",
      "Epoch 32/150\n",
      "118/118 - 1s - loss: 0.2803 - sparse_categorical_accuracy: 0.8966 - val_loss: 0.3990 - val_sparse_categorical_accuracy: 0.8614 - 575ms/epoch - 5ms/step\n",
      "Epoch 33/150\n",
      "118/118 - 1s - loss: 0.2806 - sparse_categorical_accuracy: 0.8957 - val_loss: 0.5307 - val_sparse_categorical_accuracy: 0.8211 - 633ms/epoch - 5ms/step\n",
      "Epoch 34/150\n",
      "118/118 - 1s - loss: 0.2776 - sparse_categorical_accuracy: 0.8977 - val_loss: 0.3871 - val_sparse_categorical_accuracy: 0.8597 - 568ms/epoch - 5ms/step\n",
      "Epoch 35/150\n",
      "118/118 - 1s - loss: 0.2705 - sparse_categorical_accuracy: 0.8998 - val_loss: 0.4041 - val_sparse_categorical_accuracy: 0.8548 - 580ms/epoch - 5ms/step\n",
      "Epoch 36/150\n",
      "118/118 - 1s - loss: 0.2751 - sparse_categorical_accuracy: 0.8974 - val_loss: 0.4910 - val_sparse_categorical_accuracy: 0.8290 - 553ms/epoch - 5ms/step\n",
      "Epoch 37/150\n",
      "118/118 - 1s - loss: 0.2685 - sparse_categorical_accuracy: 0.9003 - val_loss: 0.4294 - val_sparse_categorical_accuracy: 0.8460 - 607ms/epoch - 5ms/step\n",
      "Epoch 38/150\n",
      "118/118 - 1s - loss: 0.2678 - sparse_categorical_accuracy: 0.9002 - val_loss: 0.4291 - val_sparse_categorical_accuracy: 0.8511 - 593ms/epoch - 5ms/step\n",
      "Epoch 39/150\n",
      "118/118 - 1s - loss: 0.2603 - sparse_categorical_accuracy: 0.9033 - val_loss: 0.3722 - val_sparse_categorical_accuracy: 0.8686 - 569ms/epoch - 5ms/step\n",
      "Epoch 40/150\n",
      "118/118 - 1s - loss: 0.2600 - sparse_categorical_accuracy: 0.9037 - val_loss: 0.5218 - val_sparse_categorical_accuracy: 0.8086 - 583ms/epoch - 5ms/step\n",
      "Epoch 41/150\n",
      "118/118 - 1s - loss: 0.2598 - sparse_categorical_accuracy: 0.9033 - val_loss: 0.4084 - val_sparse_categorical_accuracy: 0.8529 - 581ms/epoch - 5ms/step\n",
      "Epoch 42/150\n",
      "118/118 - 1s - loss: 0.2584 - sparse_categorical_accuracy: 0.9042 - val_loss: 0.5143 - val_sparse_categorical_accuracy: 0.8320 - 579ms/epoch - 5ms/step\n",
      "Epoch 43/150\n",
      "118/118 - 1s - loss: 0.2577 - sparse_categorical_accuracy: 0.9046 - val_loss: 0.4680 - val_sparse_categorical_accuracy: 0.8475 - 607ms/epoch - 5ms/step\n",
      "Epoch 44/150\n",
      "118/118 - 1s - loss: 0.2518 - sparse_categorical_accuracy: 0.9080 - val_loss: 0.4190 - val_sparse_categorical_accuracy: 0.8598 - 582ms/epoch - 5ms/step\n",
      "Epoch 45/150\n",
      "118/118 - 1s - loss: 0.2471 - sparse_categorical_accuracy: 0.9090 - val_loss: 0.4589 - val_sparse_categorical_accuracy: 0.8503 - 565ms/epoch - 5ms/step\n",
      "Epoch 46/150\n",
      "118/118 - 1s - loss: 0.2478 - sparse_categorical_accuracy: 0.9084 - val_loss: 0.4001 - val_sparse_categorical_accuracy: 0.8632 - 670ms/epoch - 6ms/step\n",
      "Epoch 47/150\n",
      "118/118 - 1s - loss: 0.2497 - sparse_categorical_accuracy: 0.9078 - val_loss: 0.4377 - val_sparse_categorical_accuracy: 0.8458 - 681ms/epoch - 6ms/step\n",
      "Epoch 48/150\n",
      "118/118 - 1s - loss: 0.2428 - sparse_categorical_accuracy: 0.9111 - val_loss: 0.4023 - val_sparse_categorical_accuracy: 0.8600 - 625ms/epoch - 5ms/step\n",
      "Epoch 49/150\n",
      "118/118 - 1s - loss: 0.2378 - sparse_categorical_accuracy: 0.9123 - val_loss: 0.4555 - val_sparse_categorical_accuracy: 0.8424 - 654ms/epoch - 6ms/step\n",
      "Epoch 50/150\n",
      "118/118 - 1s - loss: 0.2369 - sparse_categorical_accuracy: 0.9125 - val_loss: 0.3818 - val_sparse_categorical_accuracy: 0.8674 - 675ms/epoch - 6ms/step\n",
      "Epoch 51/150\n",
      "118/118 - 1s - loss: 0.2351 - sparse_categorical_accuracy: 0.9139 - val_loss: 0.5244 - val_sparse_categorical_accuracy: 0.8344 - 663ms/epoch - 6ms/step\n",
      "Epoch 52/150\n",
      "118/118 - 1s - loss: 0.2378 - sparse_categorical_accuracy: 0.9126 - val_loss: 0.4073 - val_sparse_categorical_accuracy: 0.8646 - 709ms/epoch - 6ms/step\n",
      "Epoch 53/150\n"
     ]
    },
    {
     "ename": "KeyboardInterrupt",
     "evalue": "",
     "output_type": "error",
     "traceback": [
      "\u001b[1;31m---------------------------------------------------------------------------\u001b[0m",
      "\u001b[1;31mKeyboardInterrupt\u001b[0m                         Traceback (most recent call last)",
      "\u001b[1;32m<ipython-input-4-85c86e6d54cb>\u001b[0m in \u001b[0;36m<module>\u001b[1;34m\u001b[0m\n\u001b[0;32m     35\u001b[0m \u001b[1;31m# training\u001b[0m\u001b[1;33m\u001b[0m\u001b[1;33m\u001b[0m\u001b[1;33m\u001b[0m\u001b[0m\n\u001b[0;32m     36\u001b[0m \u001b[0mbatch_size\u001b[0m \u001b[1;33m=\u001b[0m \u001b[1;36m512\u001b[0m\u001b[1;33m\u001b[0m\u001b[1;33m\u001b[0m\u001b[0m\n\u001b[1;32m---> 37\u001b[1;33m history = model.fit(X_train, y_train, batch_size,\n\u001b[0m\u001b[0;32m     38\u001b[0m                     \u001b[0mvalidation_data\u001b[0m\u001b[1;33m=\u001b[0m\u001b[1;33m(\u001b[0m\u001b[0mX_test\u001b[0m\u001b[1;33m,\u001b[0m \u001b[0my_test\u001b[0m\u001b[1;33m)\u001b[0m\u001b[1;33m,\u001b[0m\u001b[1;33m\u001b[0m\u001b[1;33m\u001b[0m\u001b[0m\n\u001b[0;32m     39\u001b[0m                     epochs=150, verbose=2)\n",
      "\u001b[1;32m~\\AppData\\Local\\Programs\\Python\\Python39\\lib\\site-packages\\keras\\utils\\traceback_utils.py\u001b[0m in \u001b[0;36merror_handler\u001b[1;34m(*args, **kwargs)\u001b[0m\n\u001b[0;32m     62\u001b[0m     \u001b[0mfiltered_tb\u001b[0m \u001b[1;33m=\u001b[0m \u001b[1;32mNone\u001b[0m\u001b[1;33m\u001b[0m\u001b[1;33m\u001b[0m\u001b[0m\n\u001b[0;32m     63\u001b[0m     \u001b[1;32mtry\u001b[0m\u001b[1;33m:\u001b[0m\u001b[1;33m\u001b[0m\u001b[1;33m\u001b[0m\u001b[0m\n\u001b[1;32m---> 64\u001b[1;33m       \u001b[1;32mreturn\u001b[0m \u001b[0mfn\u001b[0m\u001b[1;33m(\u001b[0m\u001b[1;33m*\u001b[0m\u001b[0margs\u001b[0m\u001b[1;33m,\u001b[0m \u001b[1;33m**\u001b[0m\u001b[0mkwargs\u001b[0m\u001b[1;33m)\u001b[0m\u001b[1;33m\u001b[0m\u001b[1;33m\u001b[0m\u001b[0m\n\u001b[0m\u001b[0;32m     65\u001b[0m     \u001b[1;32mexcept\u001b[0m \u001b[0mException\u001b[0m \u001b[1;32mas\u001b[0m \u001b[0me\u001b[0m\u001b[1;33m:\u001b[0m  \u001b[1;31m# pylint: disable=broad-except\u001b[0m\u001b[1;33m\u001b[0m\u001b[1;33m\u001b[0m\u001b[0m\n\u001b[0;32m     66\u001b[0m       \u001b[0mfiltered_tb\u001b[0m \u001b[1;33m=\u001b[0m \u001b[0m_process_traceback_frames\u001b[0m\u001b[1;33m(\u001b[0m\u001b[0me\u001b[0m\u001b[1;33m.\u001b[0m\u001b[0m__traceback__\u001b[0m\u001b[1;33m)\u001b[0m\u001b[1;33m\u001b[0m\u001b[1;33m\u001b[0m\u001b[0m\n",
      "\u001b[1;32m~\\AppData\\Local\\Programs\\Python\\Python39\\lib\\site-packages\\keras\\engine\\training.py\u001b[0m in \u001b[0;36mfit\u001b[1;34m(self, x, y, batch_size, epochs, verbose, callbacks, validation_split, validation_data, shuffle, class_weight, sample_weight, initial_epoch, steps_per_epoch, validation_steps, validation_batch_size, validation_freq, max_queue_size, workers, use_multiprocessing)\u001b[0m\n\u001b[0;32m   1214\u001b[0m                 _r=1):\n\u001b[0;32m   1215\u001b[0m               \u001b[0mcallbacks\u001b[0m\u001b[1;33m.\u001b[0m\u001b[0mon_train_batch_begin\u001b[0m\u001b[1;33m(\u001b[0m\u001b[0mstep\u001b[0m\u001b[1;33m)\u001b[0m\u001b[1;33m\u001b[0m\u001b[1;33m\u001b[0m\u001b[0m\n\u001b[1;32m-> 1216\u001b[1;33m               \u001b[0mtmp_logs\u001b[0m \u001b[1;33m=\u001b[0m \u001b[0mself\u001b[0m\u001b[1;33m.\u001b[0m\u001b[0mtrain_function\u001b[0m\u001b[1;33m(\u001b[0m\u001b[0miterator\u001b[0m\u001b[1;33m)\u001b[0m\u001b[1;33m\u001b[0m\u001b[1;33m\u001b[0m\u001b[0m\n\u001b[0m\u001b[0;32m   1217\u001b[0m               \u001b[1;32mif\u001b[0m \u001b[0mdata_handler\u001b[0m\u001b[1;33m.\u001b[0m\u001b[0mshould_sync\u001b[0m\u001b[1;33m:\u001b[0m\u001b[1;33m\u001b[0m\u001b[1;33m\u001b[0m\u001b[0m\n\u001b[0;32m   1218\u001b[0m                 \u001b[0mcontext\u001b[0m\u001b[1;33m.\u001b[0m\u001b[0masync_wait\u001b[0m\u001b[1;33m(\u001b[0m\u001b[1;33m)\u001b[0m\u001b[1;33m\u001b[0m\u001b[1;33m\u001b[0m\u001b[0m\n",
      "\u001b[1;32m~\\AppData\\Local\\Programs\\Python\\Python39\\lib\\site-packages\\tensorflow\\python\\util\\traceback_utils.py\u001b[0m in \u001b[0;36merror_handler\u001b[1;34m(*args, **kwargs)\u001b[0m\n\u001b[0;32m    148\u001b[0m     \u001b[0mfiltered_tb\u001b[0m \u001b[1;33m=\u001b[0m \u001b[1;32mNone\u001b[0m\u001b[1;33m\u001b[0m\u001b[1;33m\u001b[0m\u001b[0m\n\u001b[0;32m    149\u001b[0m     \u001b[1;32mtry\u001b[0m\u001b[1;33m:\u001b[0m\u001b[1;33m\u001b[0m\u001b[1;33m\u001b[0m\u001b[0m\n\u001b[1;32m--> 150\u001b[1;33m       \u001b[1;32mreturn\u001b[0m \u001b[0mfn\u001b[0m\u001b[1;33m(\u001b[0m\u001b[1;33m*\u001b[0m\u001b[0margs\u001b[0m\u001b[1;33m,\u001b[0m \u001b[1;33m**\u001b[0m\u001b[0mkwargs\u001b[0m\u001b[1;33m)\u001b[0m\u001b[1;33m\u001b[0m\u001b[1;33m\u001b[0m\u001b[0m\n\u001b[0m\u001b[0;32m    151\u001b[0m     \u001b[1;32mexcept\u001b[0m \u001b[0mException\u001b[0m \u001b[1;32mas\u001b[0m \u001b[0me\u001b[0m\u001b[1;33m:\u001b[0m\u001b[1;33m\u001b[0m\u001b[1;33m\u001b[0m\u001b[0m\n\u001b[0;32m    152\u001b[0m       \u001b[0mfiltered_tb\u001b[0m \u001b[1;33m=\u001b[0m \u001b[0m_process_traceback_frames\u001b[0m\u001b[1;33m(\u001b[0m\u001b[0me\u001b[0m\u001b[1;33m.\u001b[0m\u001b[0m__traceback__\u001b[0m\u001b[1;33m)\u001b[0m\u001b[1;33m\u001b[0m\u001b[1;33m\u001b[0m\u001b[0m\n",
      "\u001b[1;32m~\\AppData\\Local\\Programs\\Python\\Python39\\lib\\site-packages\\tensorflow\\python\\eager\\def_function.py\u001b[0m in \u001b[0;36m__call__\u001b[1;34m(self, *args, **kwds)\u001b[0m\n\u001b[0;32m    908\u001b[0m \u001b[1;33m\u001b[0m\u001b[0m\n\u001b[0;32m    909\u001b[0m       \u001b[1;32mwith\u001b[0m \u001b[0mOptionalXlaContext\u001b[0m\u001b[1;33m(\u001b[0m\u001b[0mself\u001b[0m\u001b[1;33m.\u001b[0m\u001b[0m_jit_compile\u001b[0m\u001b[1;33m)\u001b[0m\u001b[1;33m:\u001b[0m\u001b[1;33m\u001b[0m\u001b[1;33m\u001b[0m\u001b[0m\n\u001b[1;32m--> 910\u001b[1;33m         \u001b[0mresult\u001b[0m \u001b[1;33m=\u001b[0m \u001b[0mself\u001b[0m\u001b[1;33m.\u001b[0m\u001b[0m_call\u001b[0m\u001b[1;33m(\u001b[0m\u001b[1;33m*\u001b[0m\u001b[0margs\u001b[0m\u001b[1;33m,\u001b[0m \u001b[1;33m**\u001b[0m\u001b[0mkwds\u001b[0m\u001b[1;33m)\u001b[0m\u001b[1;33m\u001b[0m\u001b[1;33m\u001b[0m\u001b[0m\n\u001b[0m\u001b[0;32m    911\u001b[0m \u001b[1;33m\u001b[0m\u001b[0m\n\u001b[0;32m    912\u001b[0m       \u001b[0mnew_tracing_count\u001b[0m \u001b[1;33m=\u001b[0m \u001b[0mself\u001b[0m\u001b[1;33m.\u001b[0m\u001b[0mexperimental_get_tracing_count\u001b[0m\u001b[1;33m(\u001b[0m\u001b[1;33m)\u001b[0m\u001b[1;33m\u001b[0m\u001b[1;33m\u001b[0m\u001b[0m\n",
      "\u001b[1;32m~\\AppData\\Local\\Programs\\Python\\Python39\\lib\\site-packages\\tensorflow\\python\\eager\\def_function.py\u001b[0m in \u001b[0;36m_call\u001b[1;34m(self, *args, **kwds)\u001b[0m\n\u001b[0;32m    940\u001b[0m       \u001b[1;31m# In this case we have created variables on the first call, so we run the\u001b[0m\u001b[1;33m\u001b[0m\u001b[1;33m\u001b[0m\u001b[1;33m\u001b[0m\u001b[0m\n\u001b[0;32m    941\u001b[0m       \u001b[1;31m# defunned version which is guaranteed to never create variables.\u001b[0m\u001b[1;33m\u001b[0m\u001b[1;33m\u001b[0m\u001b[1;33m\u001b[0m\u001b[0m\n\u001b[1;32m--> 942\u001b[1;33m       \u001b[1;32mreturn\u001b[0m \u001b[0mself\u001b[0m\u001b[1;33m.\u001b[0m\u001b[0m_stateless_fn\u001b[0m\u001b[1;33m(\u001b[0m\u001b[1;33m*\u001b[0m\u001b[0margs\u001b[0m\u001b[1;33m,\u001b[0m \u001b[1;33m**\u001b[0m\u001b[0mkwds\u001b[0m\u001b[1;33m)\u001b[0m  \u001b[1;31m# pylint: disable=not-callable\u001b[0m\u001b[1;33m\u001b[0m\u001b[1;33m\u001b[0m\u001b[0m\n\u001b[0m\u001b[0;32m    943\u001b[0m     \u001b[1;32melif\u001b[0m \u001b[0mself\u001b[0m\u001b[1;33m.\u001b[0m\u001b[0m_stateful_fn\u001b[0m \u001b[1;32mis\u001b[0m \u001b[1;32mnot\u001b[0m \u001b[1;32mNone\u001b[0m\u001b[1;33m:\u001b[0m\u001b[1;33m\u001b[0m\u001b[1;33m\u001b[0m\u001b[0m\n\u001b[0;32m    944\u001b[0m       \u001b[1;31m# Release the lock early so that multiple threads can perform the call\u001b[0m\u001b[1;33m\u001b[0m\u001b[1;33m\u001b[0m\u001b[1;33m\u001b[0m\u001b[0m\n",
      "\u001b[1;32m~\\AppData\\Local\\Programs\\Python\\Python39\\lib\\site-packages\\tensorflow\\python\\eager\\function.py\u001b[0m in \u001b[0;36m__call__\u001b[1;34m(self, *args, **kwargs)\u001b[0m\n\u001b[0;32m   3128\u001b[0m       (graph_function,\n\u001b[0;32m   3129\u001b[0m        filtered_flat_args) = self._maybe_define_function(args, kwargs)\n\u001b[1;32m-> 3130\u001b[1;33m     return graph_function._call_flat(\n\u001b[0m\u001b[0;32m   3131\u001b[0m         filtered_flat_args, captured_inputs=graph_function.captured_inputs)  # pylint: disable=protected-access\n\u001b[0;32m   3132\u001b[0m \u001b[1;33m\u001b[0m\u001b[0m\n",
      "\u001b[1;32m~\\AppData\\Local\\Programs\\Python\\Python39\\lib\\site-packages\\tensorflow\\python\\eager\\function.py\u001b[0m in \u001b[0;36m_call_flat\u001b[1;34m(self, args, captured_inputs, cancellation_manager)\u001b[0m\n\u001b[0;32m   1957\u001b[0m         and executing_eagerly):\n\u001b[0;32m   1958\u001b[0m       \u001b[1;31m# No tape is watching; skip to running the function.\u001b[0m\u001b[1;33m\u001b[0m\u001b[1;33m\u001b[0m\u001b[1;33m\u001b[0m\u001b[0m\n\u001b[1;32m-> 1959\u001b[1;33m       return self._build_call_outputs(self._inference_function.call(\n\u001b[0m\u001b[0;32m   1960\u001b[0m           ctx, args, cancellation_manager=cancellation_manager))\n\u001b[0;32m   1961\u001b[0m     forward_backward = self._select_forward_and_backward_functions(\n",
      "\u001b[1;32m~\\AppData\\Local\\Programs\\Python\\Python39\\lib\\site-packages\\tensorflow\\python\\eager\\function.py\u001b[0m in \u001b[0;36mcall\u001b[1;34m(self, ctx, args, cancellation_manager)\u001b[0m\n\u001b[0;32m    596\u001b[0m       \u001b[1;32mwith\u001b[0m \u001b[0m_InterpolateFunctionError\u001b[0m\u001b[1;33m(\u001b[0m\u001b[0mself\u001b[0m\u001b[1;33m)\u001b[0m\u001b[1;33m:\u001b[0m\u001b[1;33m\u001b[0m\u001b[1;33m\u001b[0m\u001b[0m\n\u001b[0;32m    597\u001b[0m         \u001b[1;32mif\u001b[0m \u001b[0mcancellation_manager\u001b[0m \u001b[1;32mis\u001b[0m \u001b[1;32mNone\u001b[0m\u001b[1;33m:\u001b[0m\u001b[1;33m\u001b[0m\u001b[1;33m\u001b[0m\u001b[0m\n\u001b[1;32m--> 598\u001b[1;33m           outputs = execute.execute(\n\u001b[0m\u001b[0;32m    599\u001b[0m               \u001b[0mstr\u001b[0m\u001b[1;33m(\u001b[0m\u001b[0mself\u001b[0m\u001b[1;33m.\u001b[0m\u001b[0msignature\u001b[0m\u001b[1;33m.\u001b[0m\u001b[0mname\u001b[0m\u001b[1;33m)\u001b[0m\u001b[1;33m,\u001b[0m\u001b[1;33m\u001b[0m\u001b[1;33m\u001b[0m\u001b[0m\n\u001b[0;32m    600\u001b[0m               \u001b[0mnum_outputs\u001b[0m\u001b[1;33m=\u001b[0m\u001b[0mself\u001b[0m\u001b[1;33m.\u001b[0m\u001b[0m_num_outputs\u001b[0m\u001b[1;33m,\u001b[0m\u001b[1;33m\u001b[0m\u001b[1;33m\u001b[0m\u001b[0m\n",
      "\u001b[1;32m~\\AppData\\Local\\Programs\\Python\\Python39\\lib\\site-packages\\tensorflow\\python\\eager\\execute.py\u001b[0m in \u001b[0;36mquick_execute\u001b[1;34m(op_name, num_outputs, inputs, attrs, ctx, name)\u001b[0m\n\u001b[0;32m     56\u001b[0m   \u001b[1;32mtry\u001b[0m\u001b[1;33m:\u001b[0m\u001b[1;33m\u001b[0m\u001b[1;33m\u001b[0m\u001b[0m\n\u001b[0;32m     57\u001b[0m     \u001b[0mctx\u001b[0m\u001b[1;33m.\u001b[0m\u001b[0mensure_initialized\u001b[0m\u001b[1;33m(\u001b[0m\u001b[1;33m)\u001b[0m\u001b[1;33m\u001b[0m\u001b[1;33m\u001b[0m\u001b[0m\n\u001b[1;32m---> 58\u001b[1;33m     tensors = pywrap_tfe.TFE_Py_Execute(ctx._handle, device_name, op_name,\n\u001b[0m\u001b[0;32m     59\u001b[0m                                         inputs, attrs, num_outputs)\n\u001b[0;32m     60\u001b[0m   \u001b[1;32mexcept\u001b[0m \u001b[0mcore\u001b[0m\u001b[1;33m.\u001b[0m\u001b[0m_NotOkStatusException\u001b[0m \u001b[1;32mas\u001b[0m \u001b[0me\u001b[0m\u001b[1;33m:\u001b[0m\u001b[1;33m\u001b[0m\u001b[1;33m\u001b[0m\u001b[0m\n",
      "\u001b[1;31mKeyboardInterrupt\u001b[0m: "
     ]
    }
   ],
   "source": [
    "# solution 2: BetteActivationFunction\n",
    "\n",
    "import tensorflow as tf\n",
    "import tensorflow.keras as keras\n",
    "\n",
    "# set seed\n",
    "tf.random.set_seed(1234)\n",
    "initializer = tf.keras.initializers.RandomNormal()\n",
    "\n",
    "# create model\n",
    "model = keras.Sequential()\n",
    "model.add(keras.Input(shape=(784,)))\n",
    "model.add(keras.layers.Dense(128, activation='relu',\n",
    "                             kernel_initializer=initializer))\n",
    "model.add(keras.layers.Dense(128, activation='relu',\n",
    "                             kernel_initializer=initializer))\n",
    "model.add(keras.layers.Dense(128, activation='relu',\n",
    "                             kernel_initializer=initializer))\n",
    "model.add(keras.layers.Dense(128, activation='relu',\n",
    "                             kernel_initializer=initializer))\n",
    "model.add(keras.layers.Dense(128, activation='relu',\n",
    "                             kernel_initializer=initializer))\n",
    "model.add(keras.layers.Dense(128, activation='relu',\n",
    "                             kernel_initializer=initializer))\n",
    "model.add(keras.layers.Dense(128, activation='relu',\n",
    "                             kernel_initializer=initializer))\n",
    "model.add(keras.layers.Dense(10, activation='softmax'))\n",
    "\n",
    "\n",
    "# optimizer and loss\n",
    "model.compile(optimizer='sgd', \n",
    "              loss='sparse_categorical_crossentropy', \n",
    "              metrics=['sparse_categorical_accuracy'])\n",
    "\n",
    "# training\n",
    "batch_size = 512\n",
    "history = model.fit(X_train, y_train, batch_size,\n",
    "                    validation_data=(X_test, y_test),\n",
    "                    epochs=150, verbose=2)"
   ]
  },
  {
   "cell_type": "code",
   "execution_count": null,
   "id": "KcFzrFXD6XtX",
   "metadata": {
    "executionInfo": {
     "elapsed": 5,
     "status": "ok",
     "timestamp": 1640491510316,
     "user": {
      "displayName": "nguyen khoa",
      "photoUrl": "https://lh3.googleusercontent.com/a/default-user=s64",
      "userId": "18293071775377392514"
     },
     "user_tz": -420
    },
    "id": "KcFzrFXD6XtX"
   },
   "outputs": [],
   "source": []
  },
  {
   "cell_type": "code",
   "execution_count": null,
   "id": "P7yzFL0q6XtY",
   "metadata": {
    "colab": {
     "base_uri": "https://localhost:8080/",
     "height": 296
    },
    "executionInfo": {
     "elapsed": 570,
     "status": "ok",
     "timestamp": 1640491619286,
     "user": {
      "displayName": "nguyen khoa",
      "photoUrl": "https://lh3.googleusercontent.com/a/default-user=s64",
      "userId": "18293071775377392514"
     },
     "user_tz": -420
    },
    "id": "P7yzFL0q6XtY",
    "outputId": "b482d66a-89c8-40e6-f376-a8a941484e57"
   },
   "outputs": [
    {
     "data": {
      "text/plain": [
       "<matplotlib.legend.Legend at 0x7f764e792510>"
      ]
     },
     "execution_count": 20,
     "metadata": {},
     "output_type": "execute_result"
    },
    {
     "data": {
      "image/png": "[encoded data removed]",
      "text/plain": [
       "<Figure size 432x288 with 1 Axes>"
      ]
     },
     "metadata": {
      "needs_background": "light"
     },
     "output_type": "display_data"
    }
   ],
   "source": [
    "import matplotlib.pyplot as plt\n",
    "\n",
    "plt.plot(history.history['loss'], label='loss')\n",
    "plt.plot(history.history['val_loss'], label='val_loss')\n",
    "plt.xlabel('iteration')\n",
    "plt.ylabel('Loss')\n",
    "plt.legend()"
   ]
  },
  {
   "cell_type": "code",
   "execution_count": null,
   "id": "EN-uP39u6Xtb",
   "metadata": {
    "executionInfo": {
     "elapsed": 6,
     "status": "ok",
     "timestamp": 1640491619844,
     "user": {
      "displayName": "nguyen khoa",
      "photoUrl": "https://lh3.googleusercontent.com/a/default-user=s64",
      "userId": "18293071775377392514"
     },
     "user_tz": -420
    },
    "id": "EN-uP39u6Xtb"
   },
   "outputs": [],
   "source": []
  },
  {
   "cell_type": "code",
   "execution_count": null,
   "id": "nIpmjpBL6Xtd",
   "metadata": {
    "colab": {
     "base_uri": "https://localhost:8080/",
     "height": 296
    },
    "executionInfo": {
     "elapsed": 781,
     "status": "ok",
     "timestamp": 1640491621169,
     "user": {
      "displayName": "nguyen khoa",
      "photoUrl": "https://lh3.googleusercontent.com/a/default-user=s64",
      "userId": "18293071775377392514"
     },
     "user_tz": -420
    },
    "id": "nIpmjpBL6Xtd",
    "outputId": "d7ce1b99-cbe5-4bbd-faca-f92825df4566"
   },
   "outputs": [
    {
     "data": {
      "text/plain": [
       "<matplotlib.legend.Legend at 0x7f7648da77d0>"
      ]
     },
     "execution_count": 21,
     "metadata": {},
     "output_type": "execute_result"
    },
    {
     "data": {
      "image/png": "[encoded data removed]",
      "text/plain": [
       "<Figure size 432x288 with 1 Axes>"
      ]
     },
     "metadata": {
      "needs_background": "light"
     },
     "output_type": "display_data"
    }
   ],
   "source": [
    "import matplotlib.pyplot as plt\n",
    "\n",
    "plt.plot(history.history['sparse_categorical_accuracy'], label='train_accuracy')\n",
    "plt.plot(history.history['val_sparse_categorical_accuracy'], label='val_accuracy')\n",
    "plt.xlabel('iteration')\n",
    "plt.ylabel('Accuracy')\n",
    "plt.legend()"
   ]
  },
  {
   "cell_type": "code",
   "execution_count": null,
   "id": "916ab79c",
   "metadata": {
    "executionInfo": {
     "elapsed": 12,
     "status": "ok",
     "timestamp": 1640491057519,
     "user": {
      "displayName": "nguyen khoa",
      "photoUrl": "https://lh3.googleusercontent.com/a/default-user=s64",
      "userId": "18293071775377392514"
     },
     "user_tz": -420
    },
    "id": "916ab79c"
   },
   "outputs": [],
   "source": []
  },
  {
   "cell_type": "code",
   "execution_count": null,
   "id": "57sl4k6A6Y8l",
   "metadata": {
    "id": "57sl4k6A6Y8l"
   },
   "outputs": [],
   "source": []
  },
  {
   "cell_type": "code",
   "execution_count": null,
   "id": "d6df3583",
   "metadata": {
    "colab": {
     "base_uri": "https://localhost:8080/"
    },
    "executionInfo": {
     "elapsed": 83576,
     "status": "ok",
     "timestamp": 1640491176867,
     "user": {
      "displayName": "nguyen khoa",
      "photoUrl": "https://lh3.googleusercontent.com/a/default-user=s64",
      "userId": "18293071775377392514"
     },
     "user_tz": -420
    },
    "id": "d6df3583",
    "outputId": "1e78c252-6094-42b2-bc30-aeb376b77804"
   },
   "outputs": [
    {
     "name": "stdout",
     "output_type": "stream",
     "text": [
      "Epoch 1/150\n",
      "118/118 - 2s - loss: 1.2545 - sparse_categorical_accuracy: 0.5757 - val_loss: 0.8973 - val_sparse_categorical_accuracy: 0.6566 - 2s/epoch - 17ms/step\n",
      "Epoch 2/150\n",
      "118/118 - 0s - loss: 0.7317 - sparse_categorical_accuracy: 0.7359 - val_loss: 0.7191 - val_sparse_categorical_accuracy: 0.7344 - 427ms/epoch - 4ms/step\n",
      "Epoch 3/150\n",
      "118/118 - 0s - loss: 0.6290 - sparse_categorical_accuracy: 0.7737 - val_loss: 0.6071 - val_sparse_categorical_accuracy: 0.7834 - 436ms/epoch - 4ms/step\n",
      "Epoch 4/150\n",
      "118/118 - 0s - loss: 0.5715 - sparse_categorical_accuracy: 0.7947 - val_loss: 0.6978 - val_sparse_categorical_accuracy: 0.7313 - 443ms/epoch - 4ms/step\n",
      "Epoch 5/150\n",
      "118/118 - 0s - loss: 0.5370 - sparse_categorical_accuracy: 0.8067 - val_loss: 0.5765 - val_sparse_categorical_accuracy: 0.7910 - 441ms/epoch - 4ms/step\n",
      "Epoch 6/150\n",
      "118/118 - 0s - loss: 0.5086 - sparse_categorical_accuracy: 0.8182 - val_loss: 0.5548 - val_sparse_categorical_accuracy: 0.7996 - 429ms/epoch - 4ms/step\n",
      "Epoch 7/150\n",
      "118/118 - 0s - loss: 0.4873 - sparse_categorical_accuracy: 0.8262 - val_loss: 0.6035 - val_sparse_categorical_accuracy: 0.7745 - 427ms/epoch - 4ms/step\n",
      "Epoch 8/150\n",
      "118/118 - 0s - loss: 0.4699 - sparse_categorical_accuracy: 0.8334 - val_loss: 0.5881 - val_sparse_categorical_accuracy: 0.7976 - 409ms/epoch - 3ms/step\n",
      "Epoch 9/150\n",
      "118/118 - 0s - loss: 0.4585 - sparse_categorical_accuracy: 0.8360 - val_loss: 0.6597 - val_sparse_categorical_accuracy: 0.7670 - 437ms/epoch - 4ms/step\n",
      "Epoch 10/150\n",
      "118/118 - 0s - loss: 0.4491 - sparse_categorical_accuracy: 0.8397 - val_loss: 0.5698 - val_sparse_categorical_accuracy: 0.7850 - 426ms/epoch - 4ms/step\n",
      "Epoch 11/150\n",
      "118/118 - 0s - loss: 0.4344 - sparse_categorical_accuracy: 0.8450 - val_loss: 0.5788 - val_sparse_categorical_accuracy: 0.7928 - 441ms/epoch - 4ms/step\n",
      "Epoch 12/150\n",
      "118/118 - 0s - loss: 0.4266 - sparse_categorical_accuracy: 0.8475 - val_loss: 0.5204 - val_sparse_categorical_accuracy: 0.8141 - 426ms/epoch - 4ms/step\n",
      "Epoch 13/150\n",
      "118/118 - 0s - loss: 0.4152 - sparse_categorical_accuracy: 0.8506 - val_loss: 0.4698 - val_sparse_categorical_accuracy: 0.8351 - 447ms/epoch - 4ms/step\n",
      "Epoch 14/150\n",
      "118/118 - 0s - loss: 0.4048 - sparse_categorical_accuracy: 0.8535 - val_loss: 0.5251 - val_sparse_categorical_accuracy: 0.8114 - 432ms/epoch - 4ms/step\n",
      "Epoch 15/150\n",
      "118/118 - 0s - loss: 0.4015 - sparse_categorical_accuracy: 0.8554 - val_loss: 0.5359 - val_sparse_categorical_accuracy: 0.8013 - 432ms/epoch - 4ms/step\n",
      "Epoch 16/150\n",
      "118/118 - 0s - loss: 0.3947 - sparse_categorical_accuracy: 0.8574 - val_loss: 0.5085 - val_sparse_categorical_accuracy: 0.8071 - 443ms/epoch - 4ms/step\n",
      "Epoch 17/150\n",
      "118/118 - 0s - loss: 0.3899 - sparse_categorical_accuracy: 0.8591 - val_loss: 0.4437 - val_sparse_categorical_accuracy: 0.8386 - 435ms/epoch - 4ms/step\n",
      "Epoch 18/150\n",
      "118/118 - 0s - loss: 0.3804 - sparse_categorical_accuracy: 0.8627 - val_loss: 0.5274 - val_sparse_categorical_accuracy: 0.7979 - 440ms/epoch - 4ms/step\n",
      "Epoch 19/150\n",
      "118/118 - 0s - loss: 0.3788 - sparse_categorical_accuracy: 0.8634 - val_loss: 0.4617 - val_sparse_categorical_accuracy: 0.8324 - 424ms/epoch - 4ms/step\n",
      "Epoch 20/150\n",
      "118/118 - 0s - loss: 0.3730 - sparse_categorical_accuracy: 0.8653 - val_loss: 0.4969 - val_sparse_categorical_accuracy: 0.8201 - 416ms/epoch - 4ms/step\n",
      "Epoch 21/150\n",
      "118/118 - 0s - loss: 0.3685 - sparse_categorical_accuracy: 0.8665 - val_loss: 0.4743 - val_sparse_categorical_accuracy: 0.8282 - 431ms/epoch - 4ms/step\n",
      "Epoch 22/150\n",
      "118/118 - 0s - loss: 0.3646 - sparse_categorical_accuracy: 0.8682 - val_loss: 0.4351 - val_sparse_categorical_accuracy: 0.8410 - 433ms/epoch - 4ms/step\n",
      "Epoch 23/150\n",
      "118/118 - 0s - loss: 0.3574 - sparse_categorical_accuracy: 0.8709 - val_loss: 0.4567 - val_sparse_categorical_accuracy: 0.8374 - 442ms/epoch - 4ms/step\n",
      "Epoch 24/150\n",
      "118/118 - 0s - loss: 0.3574 - sparse_categorical_accuracy: 0.8707 - val_loss: 0.4486 - val_sparse_categorical_accuracy: 0.8363 - 438ms/epoch - 4ms/step\n",
      "Epoch 25/150\n",
      "118/118 - 0s - loss: 0.3529 - sparse_categorical_accuracy: 0.8713 - val_loss: 0.4602 - val_sparse_categorical_accuracy: 0.8383 - 428ms/epoch - 4ms/step\n",
      "Epoch 26/150\n",
      "118/118 - 0s - loss: 0.3464 - sparse_categorical_accuracy: 0.8752 - val_loss: 0.5496 - val_sparse_categorical_accuracy: 0.8030 - 414ms/epoch - 4ms/step\n",
      "Epoch 27/150\n",
      "118/118 - 0s - loss: 0.3491 - sparse_categorical_accuracy: 0.8728 - val_loss: 0.4277 - val_sparse_categorical_accuracy: 0.8421 - 440ms/epoch - 4ms/step\n",
      "Epoch 28/150\n",
      "118/118 - 0s - loss: 0.3397 - sparse_categorical_accuracy: 0.8762 - val_loss: 0.5771 - val_sparse_categorical_accuracy: 0.7985 - 427ms/epoch - 4ms/step\n",
      "Epoch 29/150\n",
      "118/118 - 0s - loss: 0.3364 - sparse_categorical_accuracy: 0.8772 - val_loss: 0.4494 - val_sparse_categorical_accuracy: 0.8383 - 420ms/epoch - 4ms/step\n",
      "Epoch 30/150\n",
      "118/118 - 0s - loss: 0.3368 - sparse_categorical_accuracy: 0.8777 - val_loss: 0.4241 - val_sparse_categorical_accuracy: 0.8455 - 439ms/epoch - 4ms/step\n",
      "Epoch 31/150\n",
      "118/118 - 0s - loss: 0.3337 - sparse_categorical_accuracy: 0.8785 - val_loss: 0.4305 - val_sparse_categorical_accuracy: 0.8419 - 425ms/epoch - 4ms/step\n",
      "Epoch 32/150\n",
      "118/118 - 1s - loss: 0.3292 - sparse_categorical_accuracy: 0.8791 - val_loss: 0.4111 - val_sparse_categorical_accuracy: 0.8543 - 602ms/epoch - 5ms/step\n",
      "Epoch 33/150\n",
      "118/118 - 1s - loss: 0.3269 - sparse_categorical_accuracy: 0.8809 - val_loss: 0.4838 - val_sparse_categorical_accuracy: 0.8280 - 607ms/epoch - 5ms/step\n",
      "Epoch 34/150\n",
      "118/118 - 1s - loss: 0.3236 - sparse_categorical_accuracy: 0.8822 - val_loss: 0.3955 - val_sparse_categorical_accuracy: 0.8560 - 616ms/epoch - 5ms/step\n",
      "Epoch 35/150\n",
      "118/118 - 1s - loss: 0.3187 - sparse_categorical_accuracy: 0.8840 - val_loss: 0.3958 - val_sparse_categorical_accuracy: 0.8608 - 501ms/epoch - 4ms/step\n",
      "Epoch 36/150\n",
      "118/118 - 1s - loss: 0.3200 - sparse_categorical_accuracy: 0.8829 - val_loss: 0.4438 - val_sparse_categorical_accuracy: 0.8428 - 512ms/epoch - 4ms/step\n",
      "Epoch 37/150\n",
      "118/118 - 1s - loss: 0.3137 - sparse_categorical_accuracy: 0.8847 - val_loss: 0.4578 - val_sparse_categorical_accuracy: 0.8346 - 526ms/epoch - 4ms/step\n",
      "Epoch 38/150\n",
      "118/118 - 1s - loss: 0.3150 - sparse_categorical_accuracy: 0.8860 - val_loss: 0.4425 - val_sparse_categorical_accuracy: 0.8432 - 756ms/epoch - 6ms/step\n",
      "Epoch 39/150\n",
      "118/118 - 1s - loss: 0.3082 - sparse_categorical_accuracy: 0.8878 - val_loss: 0.3898 - val_sparse_categorical_accuracy: 0.8591 - 645ms/epoch - 5ms/step\n",
      "Epoch 40/150\n",
      "118/118 - 0s - loss: 0.3079 - sparse_categorical_accuracy: 0.8872 - val_loss: 0.5111 - val_sparse_categorical_accuracy: 0.8117 - 492ms/epoch - 4ms/step\n",
      "Epoch 41/150\n",
      "118/118 - 1s - loss: 0.3080 - sparse_categorical_accuracy: 0.8870 - val_loss: 0.4132 - val_sparse_categorical_accuracy: 0.8499 - 530ms/epoch - 4ms/step\n",
      "Epoch 42/150\n",
      "118/118 - 1s - loss: 0.3058 - sparse_categorical_accuracy: 0.8877 - val_loss: 0.4090 - val_sparse_categorical_accuracy: 0.8525 - 611ms/epoch - 5ms/step\n",
      "Epoch 43/150\n",
      "118/118 - 1s - loss: 0.3036 - sparse_categorical_accuracy: 0.8883 - val_loss: 0.4554 - val_sparse_categorical_accuracy: 0.8439 - 616ms/epoch - 5ms/step\n",
      "Epoch 44/150\n",
      "118/118 - 1s - loss: 0.2997 - sparse_categorical_accuracy: 0.8905 - val_loss: 0.4047 - val_sparse_categorical_accuracy: 0.8595 - 724ms/epoch - 6ms/step\n",
      "Epoch 45/150\n",
      "118/118 - 1s - loss: 0.2958 - sparse_categorical_accuracy: 0.8917 - val_loss: 0.4303 - val_sparse_categorical_accuracy: 0.8477 - 707ms/epoch - 6ms/step\n",
      "Epoch 46/150\n",
      "118/118 - 1s - loss: 0.2950 - sparse_categorical_accuracy: 0.8921 - val_loss: 0.4493 - val_sparse_categorical_accuracy: 0.8444 - 632ms/epoch - 5ms/step\n",
      "Epoch 47/150\n",
      "118/118 - 1s - loss: 0.2949 - sparse_categorical_accuracy: 0.8922 - val_loss: 0.4088 - val_sparse_categorical_accuracy: 0.8558 - 681ms/epoch - 6ms/step\n",
      "Epoch 48/150\n",
      "118/118 - 1s - loss: 0.2943 - sparse_categorical_accuracy: 0.8917 - val_loss: 0.3898 - val_sparse_categorical_accuracy: 0.8612 - 653ms/epoch - 6ms/step\n",
      "Epoch 49/150\n",
      "118/118 - 1s - loss: 0.2859 - sparse_categorical_accuracy: 0.8954 - val_loss: 0.4342 - val_sparse_categorical_accuracy: 0.8452 - 700ms/epoch - 6ms/step\n",
      "Epoch 50/150\n",
      "118/118 - 1s - loss: 0.2875 - sparse_categorical_accuracy: 0.8948 - val_loss: 0.3858 - val_sparse_categorical_accuracy: 0.8610 - 885ms/epoch - 7ms/step\n",
      "Epoch 51/150\n",
      "118/118 - 1s - loss: 0.2856 - sparse_categorical_accuracy: 0.8959 - val_loss: 0.4623 - val_sparse_categorical_accuracy: 0.8455 - 816ms/epoch - 7ms/step\n",
      "Epoch 52/150\n",
      "118/118 - 1s - loss: 0.2842 - sparse_categorical_accuracy: 0.8959 - val_loss: 0.4124 - val_sparse_categorical_accuracy: 0.8565 - 611ms/epoch - 5ms/step\n",
      "Epoch 53/150\n",
      "118/118 - 0s - loss: 0.2820 - sparse_categorical_accuracy: 0.8971 - val_loss: 0.3846 - val_sparse_categorical_accuracy: 0.8630 - 418ms/epoch - 4ms/step\n",
      "Epoch 54/150\n",
      "118/118 - 0s - loss: 0.2791 - sparse_categorical_accuracy: 0.8986 - val_loss: 0.4241 - val_sparse_categorical_accuracy: 0.8506 - 426ms/epoch - 4ms/step\n",
      "Epoch 55/150\n",
      "118/118 - 0s - loss: 0.2790 - sparse_categorical_accuracy: 0.8974 - val_loss: 0.4316 - val_sparse_categorical_accuracy: 0.8481 - 438ms/epoch - 4ms/step\n",
      "Epoch 56/150\n",
      "118/118 - 0s - loss: 0.2777 - sparse_categorical_accuracy: 0.8982 - val_loss: 0.4070 - val_sparse_categorical_accuracy: 0.8547 - 430ms/epoch - 4ms/step\n",
      "Epoch 57/150\n",
      "118/118 - 0s - loss: 0.2737 - sparse_categorical_accuracy: 0.9010 - val_loss: 0.3756 - val_sparse_categorical_accuracy: 0.8686 - 422ms/epoch - 4ms/step\n",
      "Epoch 58/150\n",
      "118/118 - 0s - loss: 0.2755 - sparse_categorical_accuracy: 0.8984 - val_loss: 0.4446 - val_sparse_categorical_accuracy: 0.8353 - 422ms/epoch - 4ms/step\n",
      "Epoch 59/150\n",
      "118/118 - 0s - loss: 0.2730 - sparse_categorical_accuracy: 0.9002 - val_loss: 0.4417 - val_sparse_categorical_accuracy: 0.8429 - 433ms/epoch - 4ms/step\n",
      "Epoch 60/150\n",
      "118/118 - 0s - loss: 0.2712 - sparse_categorical_accuracy: 0.9005 - val_loss: 0.4159 - val_sparse_categorical_accuracy: 0.8534 - 446ms/epoch - 4ms/step\n",
      "Epoch 61/150\n",
      "118/118 - 0s - loss: 0.2706 - sparse_categorical_accuracy: 0.8998 - val_loss: 0.4232 - val_sparse_categorical_accuracy: 0.8504 - 399ms/epoch - 3ms/step\n",
      "Epoch 62/150\n",
      "118/118 - 0s - loss: 0.2679 - sparse_categorical_accuracy: 0.9024 - val_loss: 0.4177 - val_sparse_categorical_accuracy: 0.8540 - 440ms/epoch - 4ms/step\n",
      "Epoch 63/150\n",
      "118/118 - 0s - loss: 0.2674 - sparse_categorical_accuracy: 0.9011 - val_loss: 0.3809 - val_sparse_categorical_accuracy: 0.8669 - 433ms/epoch - 4ms/step\n",
      "Epoch 64/150\n",
      "118/118 - 0s - loss: 0.2640 - sparse_categorical_accuracy: 0.9039 - val_loss: 0.3857 - val_sparse_categorical_accuracy: 0.8653 - 443ms/epoch - 4ms/step\n",
      "Epoch 65/150\n",
      "118/118 - 0s - loss: 0.2642 - sparse_categorical_accuracy: 0.9029 - val_loss: 0.3988 - val_sparse_categorical_accuracy: 0.8552 - 411ms/epoch - 3ms/step\n",
      "Epoch 66/150\n",
      "118/118 - 0s - loss: 0.2633 - sparse_categorical_accuracy: 0.9032 - val_loss: 0.3796 - val_sparse_categorical_accuracy: 0.8672 - 425ms/epoch - 4ms/step\n",
      "Epoch 67/150\n",
      "118/118 - 0s - loss: 0.2572 - sparse_categorical_accuracy: 0.9056 - val_loss: 0.5039 - val_sparse_categorical_accuracy: 0.8306 - 431ms/epoch - 4ms/step\n",
      "Epoch 68/150\n",
      "118/118 - 0s - loss: 0.2600 - sparse_categorical_accuracy: 0.9048 - val_loss: 0.3786 - val_sparse_categorical_accuracy: 0.8675 - 432ms/epoch - 4ms/step\n",
      "Epoch 69/150\n",
      "118/118 - 0s - loss: 0.2556 - sparse_categorical_accuracy: 0.9065 - val_loss: 0.4496 - val_sparse_categorical_accuracy: 0.8438 - 438ms/epoch - 4ms/step\n",
      "Epoch 70/150\n",
      "118/118 - 0s - loss: 0.2576 - sparse_categorical_accuracy: 0.9052 - val_loss: 0.4138 - val_sparse_categorical_accuracy: 0.8550 - 409ms/epoch - 3ms/step\n",
      "Epoch 71/150\n",
      "118/118 - 0s - loss: 0.2544 - sparse_categorical_accuracy: 0.9060 - val_loss: 0.3651 - val_sparse_categorical_accuracy: 0.8738 - 428ms/epoch - 4ms/step\n",
      "Epoch 72/150\n",
      "118/118 - 0s - loss: 0.2521 - sparse_categorical_accuracy: 0.9079 - val_loss: 0.4131 - val_sparse_categorical_accuracy: 0.8621 - 404ms/epoch - 3ms/step\n",
      "Epoch 73/150\n",
      "118/118 - 1s - loss: 0.2514 - sparse_categorical_accuracy: 0.9076 - val_loss: 0.4442 - val_sparse_categorical_accuracy: 0.8431 - 713ms/epoch - 6ms/step\n",
      "Epoch 74/150\n",
      "118/118 - 1s - loss: 0.2483 - sparse_categorical_accuracy: 0.9094 - val_loss: 0.3864 - val_sparse_categorical_accuracy: 0.8645 - 660ms/epoch - 6ms/step\n",
      "Epoch 75/150\n",
      "118/118 - 1s - loss: 0.2462 - sparse_categorical_accuracy: 0.9099 - val_loss: 0.4020 - val_sparse_categorical_accuracy: 0.8639 - 652ms/epoch - 6ms/step\n",
      "Epoch 76/150\n",
      "118/118 - 1s - loss: 0.2466 - sparse_categorical_accuracy: 0.9085 - val_loss: 0.4574 - val_sparse_categorical_accuracy: 0.8338 - 757ms/epoch - 6ms/step\n",
      "Epoch 77/150\n",
      "118/118 - 0s - loss: 0.2475 - sparse_categorical_accuracy: 0.9086 - val_loss: 0.4196 - val_sparse_categorical_accuracy: 0.8545 - 432ms/epoch - 4ms/step\n",
      "Epoch 78/150\n",
      "118/118 - 1s - loss: 0.2434 - sparse_categorical_accuracy: 0.9110 - val_loss: 0.4133 - val_sparse_categorical_accuracy: 0.8563 - 887ms/epoch - 8ms/step\n",
      "Epoch 79/150\n",
      "118/118 - 0s - loss: 0.2428 - sparse_categorical_accuracy: 0.9109 - val_loss: 0.4250 - val_sparse_categorical_accuracy: 0.8502 - 462ms/epoch - 4ms/step\n",
      "Epoch 80/150\n",
      "118/118 - 0s - loss: 0.2446 - sparse_categorical_accuracy: 0.9114 - val_loss: 0.3988 - val_sparse_categorical_accuracy: 0.8631 - 429ms/epoch - 4ms/step\n",
      "Epoch 81/150\n",
      "118/118 - 0s - loss: 0.2422 - sparse_categorical_accuracy: 0.9113 - val_loss: 0.3760 - val_sparse_categorical_accuracy: 0.8709 - 409ms/epoch - 3ms/step\n",
      "Epoch 82/150\n",
      "118/118 - 0s - loss: 0.2410 - sparse_categorical_accuracy: 0.9112 - val_loss: 0.4268 - val_sparse_categorical_accuracy: 0.8463 - 412ms/epoch - 3ms/step\n",
      "Epoch 83/150\n",
      "118/118 - 0s - loss: 0.2366 - sparse_categorical_accuracy: 0.9123 - val_loss: 0.4042 - val_sparse_categorical_accuracy: 0.8611 - 429ms/epoch - 4ms/step\n",
      "Epoch 84/150\n",
      "118/118 - 0s - loss: 0.2361 - sparse_categorical_accuracy: 0.9127 - val_loss: 0.3756 - val_sparse_categorical_accuracy: 0.8707 - 416ms/epoch - 4ms/step\n",
      "Epoch 85/150\n",
      "118/118 - 0s - loss: 0.2332 - sparse_categorical_accuracy: 0.9147 - val_loss: 0.3995 - val_sparse_categorical_accuracy: 0.8628 - 424ms/epoch - 4ms/step\n",
      "Epoch 86/150\n",
      "118/118 - 0s - loss: 0.2358 - sparse_categorical_accuracy: 0.9132 - val_loss: 0.4355 - val_sparse_categorical_accuracy: 0.8508 - 401ms/epoch - 3ms/step\n",
      "Epoch 87/150\n",
      "118/118 - 0s - loss: 0.2339 - sparse_categorical_accuracy: 0.9137 - val_loss: 0.4172 - val_sparse_categorical_accuracy: 0.8625 - 428ms/epoch - 4ms/step\n",
      "Epoch 88/150\n",
      "118/118 - 0s - loss: 0.2321 - sparse_categorical_accuracy: 0.9148 - val_loss: 0.3689 - val_sparse_categorical_accuracy: 0.8736 - 413ms/epoch - 3ms/step\n",
      "Epoch 89/150\n",
      "118/118 - 0s - loss: 0.2312 - sparse_categorical_accuracy: 0.9155 - val_loss: 0.4613 - val_sparse_categorical_accuracy: 0.8461 - 435ms/epoch - 4ms/step\n",
      "Epoch 90/150\n",
      "118/118 - 0s - loss: 0.2317 - sparse_categorical_accuracy: 0.9150 - val_loss: 0.3850 - val_sparse_categorical_accuracy: 0.8660 - 440ms/epoch - 4ms/step\n",
      "Epoch 91/150\n",
      "118/118 - 0s - loss: 0.2259 - sparse_categorical_accuracy: 0.9166 - val_loss: 0.4805 - val_sparse_categorical_accuracy: 0.8417 - 438ms/epoch - 4ms/step\n",
      "Epoch 92/150\n",
      "118/118 - 0s - loss: 0.2257 - sparse_categorical_accuracy: 0.9172 - val_loss: 0.4176 - val_sparse_categorical_accuracy: 0.8610 - 432ms/epoch - 4ms/step\n",
      "Epoch 93/150\n",
      "118/118 - 0s - loss: 0.2280 - sparse_categorical_accuracy: 0.9171 - val_loss: 0.3660 - val_sparse_categorical_accuracy: 0.8745 - 439ms/epoch - 4ms/step\n",
      "Epoch 94/150\n",
      "118/118 - 0s - loss: 0.2213 - sparse_categorical_accuracy: 0.9185 - val_loss: 0.4131 - val_sparse_categorical_accuracy: 0.8593 - 453ms/epoch - 4ms/step\n",
      "Epoch 95/150\n",
      "118/118 - 0s - loss: 0.2266 - sparse_categorical_accuracy: 0.9170 - val_loss: 0.4900 - val_sparse_categorical_accuracy: 0.8340 - 416ms/epoch - 4ms/step\n",
      "Epoch 96/150\n",
      "118/118 - 0s - loss: 0.2215 - sparse_categorical_accuracy: 0.9188 - val_loss: 0.4794 - val_sparse_categorical_accuracy: 0.8234 - 440ms/epoch - 4ms/step\n",
      "Epoch 97/150\n",
      "118/118 - 0s - loss: 0.2206 - sparse_categorical_accuracy: 0.9188 - val_loss: 0.3757 - val_sparse_categorical_accuracy: 0.8756 - 412ms/epoch - 3ms/step\n",
      "Epoch 98/150\n",
      "118/118 - 0s - loss: 0.2190 - sparse_categorical_accuracy: 0.9195 - val_loss: 0.3855 - val_sparse_categorical_accuracy: 0.8683 - 426ms/epoch - 4ms/step\n",
      "Epoch 99/150\n",
      "118/118 - 0s - loss: 0.2189 - sparse_categorical_accuracy: 0.9191 - val_loss: 0.3793 - val_sparse_categorical_accuracy: 0.8714 - 434ms/epoch - 4ms/step\n",
      "Epoch 100/150\n",
      "118/118 - 0s - loss: 0.2168 - sparse_categorical_accuracy: 0.9205 - val_loss: 0.3917 - val_sparse_categorical_accuracy: 0.8646 - 432ms/epoch - 4ms/step\n",
      "Epoch 101/150\n",
      "118/118 - 0s - loss: 0.2156 - sparse_categorical_accuracy: 0.9209 - val_loss: 0.5238 - val_sparse_categorical_accuracy: 0.8121 - 431ms/epoch - 4ms/step\n",
      "Epoch 102/150\n",
      "118/118 - 0s - loss: 0.2135 - sparse_categorical_accuracy: 0.9217 - val_loss: 0.3983 - val_sparse_categorical_accuracy: 0.8693 - 428ms/epoch - 4ms/step\n",
      "Epoch 103/150\n",
      "118/118 - 0s - loss: 0.2146 - sparse_categorical_accuracy: 0.9222 - val_loss: 0.4482 - val_sparse_categorical_accuracy: 0.8537 - 453ms/epoch - 4ms/step\n",
      "Epoch 104/150\n",
      "118/118 - 0s - loss: 0.2138 - sparse_categorical_accuracy: 0.9215 - val_loss: 0.3897 - val_sparse_categorical_accuracy: 0.8668 - 427ms/epoch - 4ms/step\n",
      "Epoch 105/150\n",
      "118/118 - 0s - loss: 0.2118 - sparse_categorical_accuracy: 0.9216 - val_loss: 0.3917 - val_sparse_categorical_accuracy: 0.8638 - 426ms/epoch - 4ms/step\n",
      "Epoch 106/150\n",
      "118/118 - 0s - loss: 0.2123 - sparse_categorical_accuracy: 0.9215 - val_loss: 0.3805 - val_sparse_categorical_accuracy: 0.8744 - 416ms/epoch - 4ms/step\n",
      "Epoch 107/150\n",
      "118/118 - 0s - loss: 0.2073 - sparse_categorical_accuracy: 0.9232 - val_loss: 0.3854 - val_sparse_categorical_accuracy: 0.8719 - 417ms/epoch - 4ms/step\n",
      "Epoch 108/150\n",
      "118/118 - 0s - loss: 0.2093 - sparse_categorical_accuracy: 0.9235 - val_loss: 0.3932 - val_sparse_categorical_accuracy: 0.8631 - 418ms/epoch - 4ms/step\n",
      "Epoch 109/150\n",
      "118/118 - 0s - loss: 0.2061 - sparse_categorical_accuracy: 0.9251 - val_loss: 0.4829 - val_sparse_categorical_accuracy: 0.8451 - 441ms/epoch - 4ms/step\n",
      "Epoch 110/150\n",
      "118/118 - 0s - loss: 0.2109 - sparse_categorical_accuracy: 0.9215 - val_loss: 0.3769 - val_sparse_categorical_accuracy: 0.8749 - 443ms/epoch - 4ms/step\n",
      "Epoch 111/150\n",
      "118/118 - 0s - loss: 0.2057 - sparse_categorical_accuracy: 0.9251 - val_loss: 0.3797 - val_sparse_categorical_accuracy: 0.8748 - 421ms/epoch - 4ms/step\n",
      "Epoch 112/150\n",
      "118/118 - 0s - loss: 0.2042 - sparse_categorical_accuracy: 0.9250 - val_loss: 0.4104 - val_sparse_categorical_accuracy: 0.8662 - 434ms/epoch - 4ms/step\n",
      "Epoch 113/150\n",
      "118/118 - 0s - loss: 0.2015 - sparse_categorical_accuracy: 0.9269 - val_loss: 0.5434 - val_sparse_categorical_accuracy: 0.8259 - 410ms/epoch - 3ms/step\n",
      "Epoch 114/150\n",
      "118/118 - 0s - loss: 0.2038 - sparse_categorical_accuracy: 0.9248 - val_loss: 0.3848 - val_sparse_categorical_accuracy: 0.8742 - 439ms/epoch - 4ms/step\n",
      "Epoch 115/150\n",
      "118/118 - 0s - loss: 0.2008 - sparse_categorical_accuracy: 0.9256 - val_loss: 0.3886 - val_sparse_categorical_accuracy: 0.8720 - 447ms/epoch - 4ms/step\n",
      "Epoch 116/150\n",
      "118/118 - 0s - loss: 0.1993 - sparse_categorical_accuracy: 0.9263 - val_loss: 0.4571 - val_sparse_categorical_accuracy: 0.8508 - 419ms/epoch - 4ms/step\n",
      "Epoch 117/150\n",
      "118/118 - 0s - loss: 0.2001 - sparse_categorical_accuracy: 0.9263 - val_loss: 0.3998 - val_sparse_categorical_accuracy: 0.8647 - 420ms/epoch - 4ms/step\n",
      "Epoch 118/150\n",
      "118/118 - 0s - loss: 0.1985 - sparse_categorical_accuracy: 0.9274 - val_loss: 0.3807 - val_sparse_categorical_accuracy: 0.8780 - 412ms/epoch - 3ms/step\n",
      "Epoch 119/150\n",
      "118/118 - 0s - loss: 0.1973 - sparse_categorical_accuracy: 0.9272 - val_loss: 0.4667 - val_sparse_categorical_accuracy: 0.8434 - 417ms/epoch - 4ms/step\n",
      "Epoch 120/150\n",
      "118/118 - 0s - loss: 0.1948 - sparse_categorical_accuracy: 0.9288 - val_loss: 0.3883 - val_sparse_categorical_accuracy: 0.8729 - 439ms/epoch - 4ms/step\n",
      "Epoch 121/150\n",
      "118/118 - 0s - loss: 0.1955 - sparse_categorical_accuracy: 0.9275 - val_loss: 0.4097 - val_sparse_categorical_accuracy: 0.8705 - 438ms/epoch - 4ms/step\n",
      "Epoch 122/150\n",
      "118/118 - 0s - loss: 0.1919 - sparse_categorical_accuracy: 0.9297 - val_loss: 0.4218 - val_sparse_categorical_accuracy: 0.8654 - 431ms/epoch - 4ms/step\n",
      "Epoch 123/150\n",
      "118/118 - 0s - loss: 0.1928 - sparse_categorical_accuracy: 0.9293 - val_loss: 0.4245 - val_sparse_categorical_accuracy: 0.8640 - 418ms/epoch - 4ms/step\n",
      "Epoch 124/150\n",
      "118/118 - 0s - loss: 0.1881 - sparse_categorical_accuracy: 0.9309 - val_loss: 0.4512 - val_sparse_categorical_accuracy: 0.8554 - 434ms/epoch - 4ms/step\n",
      "Epoch 125/150\n",
      "118/118 - 0s - loss: 0.1902 - sparse_categorical_accuracy: 0.9305 - val_loss: 0.4434 - val_sparse_categorical_accuracy: 0.8591 - 428ms/epoch - 4ms/step\n",
      "Epoch 126/150\n",
      "118/118 - 0s - loss: 0.1894 - sparse_categorical_accuracy: 0.9306 - val_loss: 0.5124 - val_sparse_categorical_accuracy: 0.8415 - 420ms/epoch - 4ms/step\n",
      "Epoch 127/150\n",
      "118/118 - 0s - loss: 0.2249 - sparse_categorical_accuracy: 0.9225 - val_loss: 0.3842 - val_sparse_categorical_accuracy: 0.8706 - 426ms/epoch - 4ms/step\n",
      "Epoch 128/150\n",
      "118/118 - 0s - loss: 0.1907 - sparse_categorical_accuracy: 0.9305 - val_loss: 0.4043 - val_sparse_categorical_accuracy: 0.8647 - 423ms/epoch - 4ms/step\n",
      "Epoch 129/150\n",
      "118/118 - 0s - loss: 0.1861 - sparse_categorical_accuracy: 0.9317 - val_loss: 0.4802 - val_sparse_categorical_accuracy: 0.8444 - 427ms/epoch - 4ms/step\n",
      "Epoch 130/150\n",
      "118/118 - 0s - loss: 0.1879 - sparse_categorical_accuracy: 0.9322 - val_loss: 0.3989 - val_sparse_categorical_accuracy: 0.8689 - 427ms/epoch - 4ms/step\n",
      "Epoch 131/150\n",
      "118/118 - 0s - loss: 0.1847 - sparse_categorical_accuracy: 0.9318 - val_loss: 0.5202 - val_sparse_categorical_accuracy: 0.8401 - 428ms/epoch - 4ms/step\n",
      "Epoch 132/150\n",
      "118/118 - 0s - loss: 0.1857 - sparse_categorical_accuracy: 0.9323 - val_loss: 0.5787 - val_sparse_categorical_accuracy: 0.8146 - 442ms/epoch - 4ms/step\n",
      "Epoch 133/150\n",
      "118/118 - 0s - loss: 0.1816 - sparse_categorical_accuracy: 0.9340 - val_loss: 0.4227 - val_sparse_categorical_accuracy: 0.8647 - 415ms/epoch - 4ms/step\n",
      "Epoch 134/150\n",
      "118/118 - 0s - loss: 0.1788 - sparse_categorical_accuracy: 0.9353 - val_loss: 0.3986 - val_sparse_categorical_accuracy: 0.8748 - 427ms/epoch - 4ms/step\n",
      "Epoch 135/150\n",
      "118/118 - 0s - loss: 0.1832 - sparse_categorical_accuracy: 0.9329 - val_loss: 0.5829 - val_sparse_categorical_accuracy: 0.8201 - 423ms/epoch - 4ms/step\n",
      "Epoch 136/150\n",
      "118/118 - 0s - loss: 0.1814 - sparse_categorical_accuracy: 0.9342 - val_loss: 0.4479 - val_sparse_categorical_accuracy: 0.8590 - 431ms/epoch - 4ms/step\n",
      "Epoch 137/150\n",
      "118/118 - 0s - loss: 0.1795 - sparse_categorical_accuracy: 0.9341 - val_loss: 0.4180 - val_sparse_categorical_accuracy: 0.8663 - 422ms/epoch - 4ms/step\n",
      "Epoch 138/150\n",
      "118/118 - 0s - loss: 0.1817 - sparse_categorical_accuracy: 0.9337 - val_loss: 0.4985 - val_sparse_categorical_accuracy: 0.8459 - 443ms/epoch - 4ms/step\n",
      "Epoch 139/150\n",
      "118/118 - 0s - loss: 0.1802 - sparse_categorical_accuracy: 0.9342 - val_loss: 0.4712 - val_sparse_categorical_accuracy: 0.8545 - 414ms/epoch - 4ms/step\n",
      "Epoch 140/150\n",
      "118/118 - 0s - loss: 0.1748 - sparse_categorical_accuracy: 0.9363 - val_loss: 0.4106 - val_sparse_categorical_accuracy: 0.8708 - 440ms/epoch - 4ms/step\n",
      "Epoch 141/150\n",
      "118/118 - 0s - loss: 0.1756 - sparse_categorical_accuracy: 0.9353 - val_loss: 0.4262 - val_sparse_categorical_accuracy: 0.8657 - 446ms/epoch - 4ms/step\n",
      "Epoch 142/150\n",
      "118/118 - 0s - loss: 0.1794 - sparse_categorical_accuracy: 0.9344 - val_loss: 0.5078 - val_sparse_categorical_accuracy: 0.8429 - 413ms/epoch - 3ms/step\n",
      "Epoch 143/150\n",
      "118/118 - 0s - loss: 0.1781 - sparse_categorical_accuracy: 0.9353 - val_loss: 0.4230 - val_sparse_categorical_accuracy: 0.8673 - 419ms/epoch - 4ms/step\n",
      "Epoch 144/150\n",
      "118/118 - 0s - loss: 0.1730 - sparse_categorical_accuracy: 0.9363 - val_loss: 0.4044 - val_sparse_categorical_accuracy: 0.8706 - 423ms/epoch - 4ms/step\n",
      "Epoch 145/150\n",
      "118/118 - 0s - loss: 0.1683 - sparse_categorical_accuracy: 0.9389 - val_loss: 0.5169 - val_sparse_categorical_accuracy: 0.8290 - 433ms/epoch - 4ms/step\n",
      "Epoch 146/150\n",
      "118/118 - 0s - loss: 0.1734 - sparse_categorical_accuracy: 0.9363 - val_loss: 0.4096 - val_sparse_categorical_accuracy: 0.8723 - 416ms/epoch - 4ms/step\n",
      "Epoch 147/150\n",
      "118/118 - 0s - loss: 0.1685 - sparse_categorical_accuracy: 0.9380 - val_loss: 0.4074 - val_sparse_categorical_accuracy: 0.8736 - 426ms/epoch - 4ms/step\n",
      "Epoch 148/150\n",
      "118/118 - 0s - loss: 0.1672 - sparse_categorical_accuracy: 0.9396 - val_loss: 0.4404 - val_sparse_categorical_accuracy: 0.8650 - 442ms/epoch - 4ms/step\n",
      "Epoch 149/150\n",
      "118/118 - 0s - loss: 0.1673 - sparse_categorical_accuracy: 0.9389 - val_loss: 0.4119 - val_sparse_categorical_accuracy: 0.8691 - 410ms/epoch - 3ms/step\n",
      "Epoch 150/150\n",
      "118/118 - 0s - loss: 0.1626 - sparse_categorical_accuracy: 0.9410 - val_loss: 0.4835 - val_sparse_categorical_accuracy: 0.8535 - 427ms/epoch - 4ms/step\n"
     ]
    }
   ],
   "source": [
    "# solution 2: BetteActivationFunction reduce LR\n",
    "\n",
    "import tensorflow as tf\n",
    "import tensorflow.keras as keras\n",
    "\n",
    "# set seed\n",
    "tf.random.set_seed(1234)\n",
    "initializer = tf.keras.initializers.RandomNormal()\n",
    "\n",
    "# create model\n",
    "model = keras.Sequential()\n",
    "model.add(keras.Input(shape=(784,)))\n",
    "model.add(keras.layers.Dense(128, activation='relu',\n",
    "                             kernel_initializer=initializer))\n",
    "model.add(keras.layers.Dense(128, activation='relu',\n",
    "                             kernel_initializer=initializer))\n",
    "model.add(keras.layers.Dense(128, activation='relu',\n",
    "                             kernel_initializer=initializer))\n",
    "model.add(keras.layers.Dense(128, activation='relu',\n",
    "                             kernel_initializer=initializer))\n",
    "model.add(keras.layers.Dense(128, activation='relu',\n",
    "                             kernel_initializer=initializer))\n",
    "model.add(keras.layers.Dense(128, activation='relu',\n",
    "                             kernel_initializer=initializer))\n",
    "model.add(keras.layers.Dense(128, activation='relu',\n",
    "                             kernel_initializer=initializer))\n",
    "model.add(keras.layers.Dense(10, activation='softmax'))\n",
    "\n",
    "\n",
    "# optimizer and loss\n",
    "model.compile(optimizer=tf.keras.optimizers.SGD(0.005), \n",
    "              loss='sparse_categorical_crossentropy', \n",
    "              metrics=['sparse_categorical_accuracy'])\n",
    "\n",
    "# training\n",
    "batch_size = 512\n",
    "history = model.fit(X_train, y_train, batch_size,\n",
    "                    validation_data=(X_test, y_test),\n",
    "                    epochs=150, verbose=2)"
   ]
  },
  {
   "cell_type": "code",
   "execution_count": null,
   "id": "4da831e7",
   "metadata": {
    "executionInfo": {
     "elapsed": 22,
     "status": "ok",
     "timestamp": 1640491012789,
     "user": {
      "displayName": "nguyen khoa",
      "photoUrl": "https://lh3.googleusercontent.com/a/default-user=s64",
      "userId": "18293071775377392514"
     },
     "user_tz": -420
    },
    "id": "4da831e7"
   },
   "outputs": [],
   "source": []
  },
  {
   "cell_type": "code",
   "execution_count": null,
   "id": "248dd07e",
   "metadata": {
    "colab": {
     "base_uri": "https://localhost:8080/",
     "height": 296
    },
    "executionInfo": {
     "elapsed": 26,
     "status": "ok",
     "timestamp": 1640491176870,
     "user": {
      "displayName": "nguyen khoa",
      "photoUrl": "https://lh3.googleusercontent.com/a/default-user=s64",
      "userId": "18293071775377392514"
     },
     "user_tz": -420
    },
    "id": "248dd07e",
    "outputId": "55b1701f-35c6-433d-f2aa-a53672aa03d9"
   },
   "outputs": [
    {
     "data": {
      "text/plain": [
       "<matplotlib.legend.Legend at 0x7f76487a3f50>"
      ]
     },
     "execution_count": 14,
     "metadata": {},
     "output_type": "execute_result"
    },
    {
     "data": {
      "image/png": "[encoded data removed]",
      "text/plain": [
       "<Figure size 432x288 with 1 Axes>"
      ]
     },
     "metadata": {
      "needs_background": "light"
     },
     "output_type": "display_data"
    }
   ],
   "source": [
    "import matplotlib.pyplot as plt\n",
    "\n",
    "plt.plot(history.history['loss'], label='loss')\n",
    "plt.plot(history.history['val_loss'], label='val_loss')\n",
    "plt.xlabel('iteration')\n",
    "plt.ylabel('Loss')\n",
    "plt.legend()"
   ]
  },
  {
   "cell_type": "code",
   "execution_count": null,
   "id": "8e35d7eb",
   "metadata": {
    "executionInfo": {
     "elapsed": 709,
     "status": "ok",
     "timestamp": 1640491177565,
     "user": {
      "displayName": "nguyen khoa",
      "photoUrl": "https://lh3.googleusercontent.com/a/default-user=s64",
      "userId": "18293071775377392514"
     },
     "user_tz": -420
    },
    "id": "8e35d7eb"
   },
   "outputs": [],
   "source": []
  },
  {
   "cell_type": "code",
   "execution_count": null,
   "id": "4b997d5b",
   "metadata": {
    "colab": {
     "base_uri": "https://localhost:8080/",
     "height": 296
    },
    "executionInfo": {
     "elapsed": 22,
     "status": "ok",
     "timestamp": 1640491177570,
     "user": {
      "displayName": "nguyen khoa",
      "photoUrl": "https://lh3.googleusercontent.com/a/default-user=s64",
      "userId": "18293071775377392514"
     },
     "user_tz": -420
    },
    "id": "4b997d5b",
    "outputId": "faa4e2cb-f9dc-416d-ab7e-6eb98a5f0d32"
   },
   "outputs": [
    {
     "data": {
      "text/plain": [
       "<matplotlib.legend.Legend at 0x7f7648e14f10>"
      ]
     },
     "execution_count": 15,
     "metadata": {},
     "output_type": "execute_result"
    },
    {
     "data": {
      "image/png": "[encoded data removed]",
      "text/plain": [
       "<Figure size 432x288 with 1 Axes>"
      ]
     },
     "metadata": {
      "needs_background": "light"
     },
     "output_type": "display_data"
    }
   ],
   "source": [
    "import matplotlib.pyplot as plt\n",
    "\n",
    "plt.plot(history.history['sparse_categorical_accuracy'], label='train_accuracy')\n",
    "plt.plot(history.history['val_sparse_categorical_accuracy'], label='val_accuracy')\n",
    "plt.xlabel('iteration')\n",
    "plt.ylabel('Accuracy')\n",
    "plt.legend()"
   ]
  },
  {
   "cell_type": "code",
   "execution_count": null,
   "id": "8623181e",
   "metadata": {
    "id": "8623181e"
   },
   "outputs": [],
   "source": []
  },
  {
   "cell_type": "code",
   "execution_count": null,
   "id": "c84dafda",
   "metadata": {
    "id": "c84dafda"
   },
   "outputs": [],
   "source": []
  }
 ],
 "metadata": {
  "accelerator": "GPU",
  "colab": {
   "collapsed_sections": [],
   "name": "3.Solution2_BetteActivationFunction.ipynb",
   "provenance": []
  },
  "kernelspec": {
   "display_name": "Python 3",
   "language": "python",
   "name": "python3"
  },
  "language_info": {
   "codemirror_mode": {
    "name": "ipython",
    "version": 3
   },
   "file_extension": ".py",
   "mimetype": "text/x-python",
   "name": "python",
   "nbconvert_exporter": "python",
   "pygments_lexer": "ipython3",
   "version": "3.9.1"
  }
 },
 "nbformat": 4,
 "nbformat_minor": 5
}
