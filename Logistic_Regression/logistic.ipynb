{
 "cells": [
  {
   "cell_type": "code",
   "execution_count": 64,
   "metadata": {},
   "outputs": [],
   "source": [
    "import numpy as np\n",
    "import matplotlib.pyplot as plt\n",
    "from numpy import genfromtxt"
   ]
  },
  {
   "cell_type": "code",
   "execution_count": 65,
   "metadata": {},
   "outputs": [
    {
     "name": "stdout",
     "output_type": "stream",
     "text": [
      "X_b (100, 5)\n",
      "y (100,)\n",
      "m 100\n"
     ]
    }
   ],
   "source": [
    "iris = np.genfromtxt('iris_full.csv', dtype=None, delimiter=',', skip_header=1) \n",
    "X = iris[:, :4]\n",
    "y = iris[:, 4]\n",
    "\n",
    "maxi = np.max(X)\n",
    "mini = np.min(X)\n",
    "avg = np.mean(X)\n",
    "X = (X-avg) / (maxi-mini)\n",
    "\n",
    "intercept = np.ones((X.shape[0], 1))\n",
    "X_b = np.concatenate((intercept, X), axis=1)\n",
    "m = X.shape[0]\n",
    "\n",
    "print('X_b', X_b.shape)\n",
    "print('y', y.shape)\n",
    "print('m', m)"
   ]
  },
  {
   "cell_type": "code",
   "execution_count": 66,
   "metadata": {},
   "outputs": [
    {
     "name": "stdout",
     "output_type": "stream",
     "text": [
      "[[ 1.          0.29666667  0.06478261 -0.23956522 -0.41347826]\n",
      " [ 1.          0.26768116 -0.00768116 -0.23956522 -0.41347826]\n",
      " [ 1.          0.23869565  0.02130435 -0.25405797 -0.41347826]\n",
      " [ 1.          0.2242029   0.00681159 -0.22507246 -0.41347826]\n",
      " [ 1.          0.28217391  0.07927536 -0.23956522 -0.41347826]]\n",
      "[0. 0. 0. 0. 0.]\n"
     ]
    }
   ],
   "source": [
    "print(X_b[:5])\n",
    "print(y[:5])"
   ]
  },
  {
   "cell_type": "code",
   "execution_count": 67,
   "metadata": {},
   "outputs": [],
   "source": [
    "#activation\n",
    "\n",
    "def sigmoid_function(z):\n",
    "    return 1 / (1 + np.exp(-z))\n",
    "\n",
    "def sigmoid_prim(y_hat):\n",
    "    return y_hat * (1 - y_hat)\n",
    "\n",
    "def tanh_function(z):\n",
    "    return (np.exp(z) - np.exp(-z)) / (np.exp(z) + np.exp(-z))\n",
    "\n",
    "def tanh_prim(y_hat):\n",
    "    return 1 - y_hat**2"
   ]
  },
  {
   "cell_type": "code",
   "execution_count": 68,
   "metadata": {},
   "outputs": [],
   "source": [
    "#loss\n",
    "\n",
    "def mse(y_hat, y):\n",
    "    return (y_hat - y)**2\n",
    "\n",
    "def mse_prim(y_hat, y):\n",
    "    return y_hat - y\n",
    "\n",
    "# def abs_loss(y_hat, y):\n",
    "#     return np.abs(y_hat, y)\n",
    "\n",
    "# def abs_loss_prim(y_hat, y):\n",
    "#     return \n",
    "\n",
    "def bnc_loss_sigmoid(y_hat, y):\n",
    "    return (-y * np.log(y_hat) - (1 - y) * np.log(1 - y_hat)).mean()\n",
    "\n",
    "def bnc_loss_tanh(y_hat, y):\n",
    "    h_scale = (y_hat + 1)/2\n",
    "    return (-y * np.log(h_scale) - (1 - y) * np.log(1 - h_scale)).mean()\n",
    "\n",
    "def bnc_prim(y_hat, y):\n",
    "    return (y_hat - y) / (y_hat * (1 - y_hat))\n"
   ]
  },
  {
   "cell_type": "code",
   "execution_count": 69,
   "metadata": {},
   "outputs": [],
   "source": [
    "#training\n",
    "\n",
    "lr = 0.1\n",
    "epochs = 100\n",
    "batch_size = m\n",
    "\n",
    "theta = np.array([0.1, 0.5, 0.1, 0.5, -0.1])\n",
    "\n",
    "losses = []\n",
    "accs = []\n",
    "\n",
    "for epoch in range(epochs):\n",
    "    shuff_ind = np.random.permutation(m)\n",
    "    X_b_shuff = X_b[shuff_ind]\n",
    "    y_shuff = y[shuff_ind]\n",
    "\n",
    "    for i in range(0, m, batch_size):\n",
    "        xi = X_b_shuff[i:i+batch_size]\n",
    "        yi = y_shuff[i:i+batch_size]\n",
    "\n",
    "        z = np.dot(xi, theta)\n",
    "        y_hat = sigmoid_function(z)\n",
    "\n",
    "        loss = bnc_loss_sigmoid(y_hat, yi)\n",
    "\n",
    "        gradient = np.dot(xi.T, (bnc_prim(y_hat, yi) * sigmoid_prim(y_hat))) / yi.size\n",
    "\n",
    "        theta -= lr*gradient\n",
    "\n",
    "        losses.append(loss)\n",
    "\n",
    "        #accuracy\n",
    "        preds = sigmoid_function(np.dot(xi, theta)).round()\n",
    "        # preds = tanh_function(np.dot(xi, theta)).round() / 2 + 0.5\n",
    "        acc = (preds == yi).mean()\n",
    "        accs.append(acc)"
   ]
  },
  {
   "cell_type": "code",
   "execution_count": 70,
   "metadata": {},
   "outputs": [
    {
     "data": {
      "image/png": "[encoded data removed]",
      "text/plain": [
       "<Figure size 432x288 with 1 Axes>"
      ]
     },
     "metadata": {
      "needs_background": "light"
     },
     "output_type": "display_data"
    }
   ],
   "source": [
    "plt.plot(losses)\n",
    "plt.show()"
   ]
  },
  {
   "cell_type": "code",
   "execution_count": 71,
   "metadata": {},
   "outputs": [
    {
     "data": {
      "image/png": "[encoded data removed]",
      "text/plain": [
       "<Figure size 432x288 with 1 Axes>"
      ]
     },
     "metadata": {
      "needs_background": "light"
     },
     "output_type": "display_data"
    }
   ],
   "source": [
    "plt.plot(accs)\n",
    "plt.show()"
   ]
  },
  {
   "cell_type": "code",
   "execution_count": 72,
   "metadata": {},
   "outputs": [
    {
     "name": "stdout",
     "output_type": "stream",
     "text": [
      "[0. 0. 0. 0. 1. 0. 1. 0. 0. 1. 0. 0. 0. 0. 0. 0. 0. 1. 1. 0. 0. 0. 0. 1.\n",
      " 1. 1. 1. 0. 1. 0. 0. 1. 1. 1. 1. 1. 0. 1. 1. 1. 1. 0. 0. 1. 1. 0. 1. 0.\n",
      " 0. 1. 0. 0. 0. 1. 1. 1. 1. 1. 1. 1. 1. 1. 1. 1. 1. 0. 1. 0. 0. 1. 1. 1.\n",
      " 1. 1. 0. 0. 0. 1. 0. 1. 0. 1. 1. 0. 1. 0. 0. 0. 1. 0. 0. 1. 1. 0. 0. 0.\n",
      " 0. 1. 0. 0.]\n",
      "[0. 0. 0. 0. 1. 0. 1. 0. 0. 1. 0. 0. 0. 0. 0. 0. 0. 1. 1. 0. 0. 0. 0. 1.\n",
      " 1. 1. 1. 0. 1. 0. 0. 1. 1. 1. 1. 1. 0. 1. 1. 1. 1. 0. 0. 1. 1. 0. 1. 0.\n",
      " 0. 1. 0. 0. 0. 1. 1. 1. 1. 1. 1. 1. 1. 1. 1. 1. 1. 0. 1. 0. 0. 1. 1. 1.\n",
      " 1. 1. 0. 0. 0. 1. 0. 1. 0. 1. 1. 0. 1. 0. 0. 0. 1. 0. 0. 1. 1. 0. 0. 0.\n",
      " 0. 1. 0. 0.]\n"
     ]
    }
   ],
   "source": [
    "preds = sigmoid_function(np.dot(xi, theta)).round()\n",
    "print(preds)\n",
    "print(yi)"
   ]
  }
 ],
 "metadata": {
  "kernelspec": {
   "display_name": "Python 3",
   "language": "python",
   "name": "python3"
  },
  "language_info": {
   "codemirror_mode": {
    "name": "ipython",
    "version": 3
   },
   "file_extension": ".py",
   "mimetype": "text/x-python",
   "name": "python",
   "nbconvert_exporter": "python",
   "pygments_lexer": "ipython3",
   "version": "3.10.3"
  },
  "orig_nbformat": 4,
  "vscode": {
   "interpreter": {
    "hash": "34bf4f232a0bc14e62be942f1d9c52e9582dc34f446ffe6f098ef90dc3cd9607"
   }
  }
 },
 "nbformat": 4,
 "nbformat_minor": 2
}
