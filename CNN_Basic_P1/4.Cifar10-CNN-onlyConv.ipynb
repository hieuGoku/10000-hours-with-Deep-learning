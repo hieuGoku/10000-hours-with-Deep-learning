{
 "cells": [
  {
   "cell_type": "markdown",
   "metadata": {},
   "source": [
    "## Using CNN"
   ]
  },
  {
   "cell_type": "code",
   "execution_count": 1,
   "metadata": {},
   "outputs": [
    {
     "name": "stdout",
     "output_type": "stream",
     "text": [
      "(50000, 32, 32, 3)\n",
      "(10000, 32, 32, 3)\n"
     ]
    }
   ],
   "source": [
    "import tensorflow as tf\n",
    "from tensorflow import keras\n",
    "\n",
    "\n",
    "cifar10 = keras.datasets.cifar10\n",
    "(train_images, train_labels), (test_images, test_labels) = cifar10.load_data()\n",
    "\n",
    "train_images = train_images / 255.0\n",
    "test_images  = test_images / 255.0\n",
    "\n",
    "train_images = tf.reshape(train_images, (50000, 32, 32, 3))\n",
    "test_images  = tf.reshape(test_images, (10000, 32, 32, 3))\n",
    "\n",
    "print(train_images.shape)\n",
    "print(test_images.shape)"
   ]
  },
  {
   "cell_type": "code",
   "execution_count": 2,
   "metadata": {},
   "outputs": [
    {
     "data": {
      "text/plain": [
       "tensorflow.python.framework.ops.EagerTensor"
      ]
     },
     "execution_count": 2,
     "metadata": {},
     "output_type": "execute_result"
    }
   ],
   "source": [
    "type(train_images)"
   ]
  },
  {
   "cell_type": "code",
   "execution_count": 2,
   "metadata": {},
   "outputs": [
    {
     "name": "stdout",
     "output_type": "stream",
     "text": [
      "Model: \"sequential\"\n",
      "_________________________________________________________________\n",
      " Layer (type)                Output Shape              Param #   \n",
      "=================================================================\n",
      " conv2d (Conv2D)             (None, 26, 26, 1)         148       \n",
      "                                                                 \n",
      " conv2d_1 (Conv2D)           (None, 20, 20, 2)         100       \n",
      "                                                                 \n",
      " conv2d_2 (Conv2D)           (None, 14, 14, 3)         297       \n",
      "                                                                 \n",
      " conv2d_3 (Conv2D)           (None, 8, 8, 4)           592       \n",
      "                                                                 \n",
      "=================================================================\n",
      "Total params: 1,137\n",
      "Trainable params: 1,137\n",
      "Non-trainable params: 0\n",
      "_________________________________________________________________\n"
     ]
    }
   ],
   "source": [
    "# model\n",
    "model = keras.models.Sequential()\n",
    "\n",
    "# input is with the shape of (32, 32, 3)\n",
    "model.add(tf.keras.Input(shape=(32, 32, 3)))\n",
    "\n",
    "# Convolve with 1 (7x7) kernel \n",
    "# Output: (26x26x1)\n",
    "model.add(keras.layers.Conv2D(1, (7, 7), activation='relu'))\n",
    "\n",
    "# Convolve with 2 (7x7) kernel \n",
    "# Output: (20x20x2)\n",
    "model.add(keras.layers.Conv2D(2, (7, 7), activation='relu'))\n",
    "\n",
    "# Convolve with 3 (7x7) kernel \n",
    "# Output: (14x14x3)\n",
    "model.add(keras.layers.Conv2D(3, (7, 7), activation='relu'))\n",
    "\n",
    "# Convolve with 4 (7x7) kernel \n",
    "# Output: (7x7x4)\n",
    "model.add(keras.layers.Conv2D(4, (7, 7), activation='relu'))\n",
    "\n",
    "model.summary()"
   ]
  },
  {
   "cell_type": "code",
   "execution_count": null,
   "metadata": {},
   "outputs": [],
   "source": []
  },
  {
   "cell_type": "code",
   "execution_count": null,
   "metadata": {},
   "outputs": [],
   "source": []
  },
  {
   "cell_type": "code",
   "execution_count": 3,
   "metadata": {},
   "outputs": [
    {
     "name": "stdout",
     "output_type": "stream",
     "text": [
      "Model: \"sequential_1\"\n",
      "_________________________________________________________________\n",
      " Layer (type)                Output Shape              Param #   \n",
      "=================================================================\n",
      " conv2d_4 (Conv2D)           (None, 26, 26, 1)         148       \n",
      "                                                                 \n",
      " conv2d_5 (Conv2D)           (None, 20, 20, 2)         100       \n",
      "                                                                 \n",
      " conv2d_6 (Conv2D)           (None, 14, 14, 3)         297       \n",
      "                                                                 \n",
      " conv2d_7 (Conv2D)           (None, 8, 8, 4)           592       \n",
      "                                                                 \n",
      " flatten (Flatten)           (None, 256)               0         \n",
      "                                                                 \n",
      " dense (Dense)               (None, 10)                2570      \n",
      "                                                                 \n",
      "=================================================================\n",
      "Total params: 3,707\n",
      "Trainable params: 3,707\n",
      "Non-trainable params: 0\n",
      "_________________________________________________________________\n"
     ]
    }
   ],
   "source": [
    "# model\n",
    "model = keras.models.Sequential()\n",
    "\n",
    "# input is with the shape of (32, 32, 3)\n",
    "model.add(tf.keras.Input(shape=(32, 32, 3)))\n",
    "\n",
    "# Convolve with 1 (7x7) kernel \n",
    "# Output: (26x26x1)\n",
    "model.add(keras.layers.Conv2D(1, (7, 7), activation='relu'))\n",
    "\n",
    "# Convolve with 2 (7x7) kernel \n",
    "# Output: (20x20x2)\n",
    "model.add(keras.layers.Conv2D(2, (7, 7), activation='relu'))\n",
    "\n",
    "# Convolve with 3 (7x7) kernel \n",
    "# Output: (14x14x3)\n",
    "model.add(keras.layers.Conv2D(3, (7, 7), activation='relu'))\n",
    "\n",
    "# Convolve with 4 (7x7) kernel \n",
    "# Output: (7x7x4)\n",
    "model.add(keras.layers.Conv2D(4, (7, 7), activation='relu'))\n",
    "\n",
    "# flatten\n",
    "model.add(keras.layers.Flatten())\n",
    "model.add(keras.layers.Dense(10, activation='softmax'))\n",
    "\n",
    "model.summary()"
   ]
  },
  {
   "cell_type": "code",
   "execution_count": 4,
   "metadata": {},
   "outputs": [
    {
     "name": "stdout",
     "output_type": "stream",
     "text": [
      "Epoch 1/10\n",
      "1563/1563 [==============================] - 24s 9ms/step - loss: 2.1569 - accuracy: 0.1598\n",
      "Epoch 2/10\n",
      "1563/1563 [==============================] - 15s 9ms/step - loss: 1.9054 - accuracy: 0.2748\n",
      "Epoch 3/10\n",
      "1563/1563 [==============================] - 16s 10ms/step - loss: 1.8619 - accuracy: 0.3040\n",
      "Epoch 4/10\n",
      "1563/1563 [==============================] - 16s 10ms/step - loss: 1.8444 - accuracy: 0.3141\n",
      "Epoch 5/10\n",
      "1563/1563 [==============================] - 13s 8ms/step - loss: 1.8236 - accuracy: 0.3252\n",
      "Epoch 6/10\n",
      "1563/1563 [==============================] - 13s 8ms/step - loss: 1.8144 - accuracy: 0.3287\n",
      "Epoch 7/10\n",
      "1563/1563 [==============================] - 13s 9ms/step - loss: 1.8001 - accuracy: 0.3357\n",
      "Epoch 8/10\n",
      "1563/1563 [==============================] - 10s 6ms/step - loss: 1.7957 - accuracy: 0.3389\n",
      "Epoch 9/10\n",
      "1563/1563 [==============================] - 14s 9ms/step - loss: 1.7846 - accuracy: 0.3415\n",
      "Epoch 10/10\n",
      "1563/1563 [==============================] - 12s 8ms/step - loss: 1.7802 - accuracy: 0.3449\n",
      "313/313 - 3s - loss: 1.7784 - accuracy: 0.3466 - 3s/epoch - 9ms/step\n",
      "\n",
      "Test accuracy: 0.3465999960899353\n"
     ]
    }
   ],
   "source": [
    "model.compile(optimizer='adam',\n",
    "              loss=tf.keras.losses.SparseCategoricalCrossentropy(),\n",
    "              metrics=['accuracy'])\n",
    "model.fit(train_images, train_labels, epochs=10)\n",
    "\n",
    "test_loss, test_acc = model.evaluate(test_images,  test_labels, verbose=2)\n",
    "print('\\nTest accuracy:', test_acc)"
   ]
  },
  {
   "cell_type": "code",
   "execution_count": null,
   "metadata": {},
   "outputs": [],
   "source": []
  },
  {
   "cell_type": "code",
   "execution_count": null,
   "metadata": {},
   "outputs": [],
   "source": []
  },
  {
   "cell_type": "markdown",
   "metadata": {},
   "source": [
    "## Typical numbers of filters"
   ]
  },
  {
   "cell_type": "code",
   "execution_count": null,
   "metadata": {},
   "outputs": [],
   "source": [
    "import tensorflow as tf\n",
    "from tensorflow import keras\n",
    "\n",
    "\n",
    "cifar10 = keras.datasets.cifar10\n",
    "(train_images, train_labels), (test_images, test_labels) = cifar10.load_data()\n",
    "\n",
    "train_images = train_images / 255.0\n",
    "test_images  = test_images / 255.0\n",
    "\n",
    "train_images = tf.reshape(train_images, (50000, 32, 32, 3))\n",
    "test_images  = tf.reshape(test_images, (10000, 32, 32, 3))\n",
    "\n",
    "print(train_images.shape)\n",
    "print(test_images.shape)\n",
    "\n",
    "\n",
    "# model\n",
    "model = keras.models.Sequential()\n",
    "\n",
    "# input is with the shape of (32, 32, 3)\n",
    "model.add(tf.keras.Input(shape=(32, 32, 3)))\n",
    "\n",
    "# Convolve with 1 (7x7) kernel \n",
    "# Output: (26x26x1)\n",
    "model.add(keras.layers.Conv2D(32, (7, 7), activation='relu'))\n",
    "\n",
    "# Convolve with 2 (7x7) kernel \n",
    "# Output: (20x20x2)\n",
    "model.add(keras.layers.Conv2D(64, (7, 7), activation='relu'))\n",
    "\n",
    "# Convolve with 3 (7x7) kernel \n",
    "# Output: (14x14x3)\n",
    "model.add(keras.layers.Conv2D(128, (7, 7), activation='relu'))\n",
    "\n",
    "# Convolve with 4 (7x7) kernel \n",
    "# Output: (7x7x4)\n",
    "model.add(keras.layers.Conv2D(256, (7, 7), activation='relu'))\n",
    "\n",
    "# flatten\n",
    "model.add(keras.layers.Flatten())\n",
    "model.add(keras.layers.Dense(128, activation='relu'))\n",
    "model.add(keras.layers.Dense(10, activation='softmax'))\n",
    "\n",
    "model.summary()\n",
    "\n",
    "model.compile(optimizer='adam',\n",
    "              loss=tf.keras.losses.SparseCategoricalCrossentropy(),\n",
    "              metrics=['accuracy'])\n",
    "history_data = model.fit(train_images, train_labels,\n",
    "                         validation_data=(test_images, test_labels), \n",
    "                         batch_size=512, epochs=100)"
   ]
  },
  {
   "cell_type": "code",
   "execution_count": null,
   "metadata": {},
   "outputs": [],
   "source": []
  },
  {
   "cell_type": "code",
   "execution_count": null,
   "metadata": {},
   "outputs": [],
   "source": [
    "import matplotlib.pyplot as plt\n",
    "\n",
    "plt.plot(history_data.history['loss'], label = \"train_loss\")\n",
    "plt.plot(history_data.history['val_loss'], label = \"val_loss\")\n",
    "plt.xlabel('iteration')\n",
    "plt.ylabel('Loss')\n",
    "plt.legend()"
   ]
  },
  {
   "cell_type": "code",
   "execution_count": null,
   "metadata": {},
   "outputs": [],
   "source": []
  },
  {
   "cell_type": "code",
   "execution_count": null,
   "metadata": {},
   "outputs": [],
   "source": [
    "import matplotlib.pyplot as plt\n",
    "\n",
    "plt.plot(history_data.history['accuracy'], label = \"train_accuracy\")\n",
    "plt.plot(history_data.history['val_accuracy'], label = \"val_accuracy\")\n",
    "plt.xlabel('iteration')\n",
    "plt.ylabel('Accuracy')\n",
    "plt.legend()"
   ]
  }
 ],
 "metadata": {
  "kernelspec": {
   "display_name": "Python 3 (ipykernel)",
   "language": "python",
   "name": "python3"
  },
  "language_info": {
   "codemirror_mode": {
    "name": "ipython",
    "version": 3
   },
   "file_extension": ".py",
   "mimetype": "text/x-python",
   "name": "python",
   "nbconvert_exporter": "python",
   "pygments_lexer": "ipython3",
   "version": "3.9.1"
  }
 },
 "nbformat": 4,
 "nbformat_minor": 2
}
